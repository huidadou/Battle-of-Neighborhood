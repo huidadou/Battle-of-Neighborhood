{
    "cells": [
        {
            "cell_type": "code",
            "execution_count": 1,
            "metadata": {},
            "outputs": [
                {
                    "name": "stdout",
                    "output_type": "stream",
                    "text": "Requirement already satisfied: folium in /opt/conda/envs/Python36/lib/python3.6/site-packages (0.11.0)\nRequirement already satisfied: jinja2>=2.9 in /opt/conda/envs/Python36/lib/python3.6/site-packages (from folium) (2.10)\nRequirement already satisfied: requests in /opt/conda/envs/Python36/lib/python3.6/site-packages (from folium) (2.21.0)\nRequirement already satisfied: numpy in /opt/conda/envs/Python36/lib/python3.6/site-packages (from folium) (1.15.4)\nRequirement already satisfied: branca>=0.3.0 in /opt/conda/envs/Python36/lib/python3.6/site-packages (from folium) (0.4.1)\nRequirement already satisfied: MarkupSafe>=0.23 in /opt/conda/envs/Python36/lib/python3.6/site-packages (from jinja2>=2.9->folium) (1.1.0)\nRequirement already satisfied: idna<2.9,>=2.5 in /opt/conda/envs/Python36/lib/python3.6/site-packages (from requests->folium) (2.8)\nRequirement already satisfied: urllib3<1.25,>=1.21.1 in /opt/conda/envs/Python36/lib/python3.6/site-packages (from requests->folium) (1.24.1)\nRequirement already satisfied: chardet<3.1.0,>=3.0.2 in /opt/conda/envs/Python36/lib/python3.6/site-packages (from requests->folium) (3.0.4)\nRequirement already satisfied: certifi>=2017.4.17 in /opt/conda/envs/Python36/lib/python3.6/site-packages (from requests->folium) (2020.4.5.1)\n"
                }
            ],
            "source": "# intalling folium\n!pip install folium"
        },
        {
            "cell_type": "code",
            "execution_count": 2,
            "metadata": {},
            "outputs": [
                {
                    "name": "stdout",
                    "output_type": "stream",
                    "text": "all libraries have been imported\n"
                }
            ],
            "source": "# import pandas, numpy, matplotlib, seaborn, folium, requests, json, BeautifulSoup\n\n# library for data analysis\nimport pandas as pd\npd.set_option('display.max_columns', None)\npd.set_option('display.max_rows', None)\n\n# library to handle data in a vectorized manner\nimport numpy as np\n\n\n# Matplotlib and associated plotting modules\nimport matplotlib.pyplot as plt\nimport matplotlib.cm as cm\nimport matplotlib.colors as colors\n\nimport seaborn as sns\nimport folium \nimport requests\nimport json\nfrom bs4 import BeautifulSoup\n\n# Nominatim converts an address into latitude and langitude values\nfrom geopy.geocoders import Nominatim\n\n# tranform JSON file into a pandas dataframe\nfrom pandas.io.json import json_normalize\n\n# import k-means from clustering stage\nfrom sklearn.cluster import KMeans\n\nprint(\"all libraries have been imported\");"
        },
        {
            "cell_type": "code",
            "execution_count": 3,
            "metadata": {},
            "outputs": [],
            "source": "#use request.get to send a GET request to the specified url\nurl = \"https://www.citypopulation.de/en/singapore/admin/\"\n\nr = requests.get(url)\n\n#use \nsgsubdiv_html = BeautifulSoup(r.content)"
        },
        {
            "cell_type": "code",
            "execution_count": 4,
            "metadata": {},
            "outputs": [],
            "source": "#store all the strings in the html page in variable \"soup\"\nsoup = BeautifulSoup(str(sgsubdiv_html))"
        },
        {
            "cell_type": "code",
            "execution_count": 5,
            "metadata": {},
            "outputs": [],
            "source": "#use find \"table\"\nsgsubdiv_tb = soup.find('table')"
        },
        {
            "cell_type": "code",
            "execution_count": 6,
            "metadata": {},
            "outputs": [],
            "source": "# extract the charaters from the table\ntable_str = str(sgsubdiv_tb.extract())"
        },
        {
            "cell_type": "code",
            "execution_count": 7,
            "metadata": {},
            "outputs": [],
            "source": "# read the table into panda dataframe\nsgsubdiv_df = pd.read_html(table_str)[0]"
        },
        {
            "cell_type": "code",
            "execution_count": 8,
            "metadata": {
                "scrolled": true
            },
            "outputs": [
                {
                    "data": {
                        "text/html": "<div>\n<style scoped>\n    .dataframe tbody tr th:only-of-type {\n        vertical-align: middle;\n    }\n\n    .dataframe tbody tr th {\n        vertical-align: top;\n    }\n\n    .dataframe thead th {\n        text-align: right;\n    }\n</style>\n<table border=\"1\" class=\"dataframe\">\n  <thead>\n    <tr style=\"text-align: right;\">\n      <th></th>\n      <th>Name</th>\n      <th>Status</th>\n      <th>PopulationCensus2000-06-30</th>\n      <th>PopulationCensus2010-06-30</th>\n      <th>PopulationEstimate2015-06-30</th>\n      <th>PopulationEstimate2019-06-30</th>\n      <th>Unnamed: 6</th>\n    </tr>\n  </thead>\n  <tbody>\n    <tr>\n      <th>0</th>\n      <td>Ang Mo Kio</td>\n      <td>Planning Area</td>\n      <td>180112</td>\n      <td>179297</td>\n      <td>174770</td>\n      <td>163950</td>\n      <td>\u2192</td>\n    </tr>\n    <tr>\n      <th>1</th>\n      <td>Ang Mo Kio Town Centre</td>\n      <td>Subzone</td>\n      <td>...</td>\n      <td>4982</td>\n      <td>5020</td>\n      <td>4820</td>\n      <td>\u2192</td>\n    </tr>\n    <tr>\n      <th>2</th>\n      <td>Cheng San</td>\n      <td>Subzone</td>\n      <td>31911</td>\n      <td>30503</td>\n      <td>29770</td>\n      <td>28190</td>\n      <td>\u2192</td>\n    </tr>\n    <tr>\n      <th>3</th>\n      <td>Chong Boon</td>\n      <td>Subzone</td>\n      <td>32859</td>\n      <td>29903</td>\n      <td>27900</td>\n      <td>26820</td>\n      <td>\u2192</td>\n    </tr>\n    <tr>\n      <th>4</th>\n      <td>Kebun Bahru</td>\n      <td>Subzone</td>\n      <td>26765</td>\n      <td>25854</td>\n      <td>23910</td>\n      <td>22970</td>\n      <td>\u2192</td>\n    </tr>\n  </tbody>\n</table>\n</div>",
                        "text/plain": "                     Name         Status PopulationCensus2000-06-30  \\\n0              Ang Mo Kio  Planning Area                     180112   \n1  Ang Mo Kio Town Centre        Subzone                        ...   \n2               Cheng San        Subzone                      31911   \n3              Chong Boon        Subzone                      32859   \n4             Kebun Bahru        Subzone                      26765   \n\n  PopulationCensus2010-06-30 PopulationEstimate2015-06-30  \\\n0                     179297                       174770   \n1                       4982                         5020   \n2                      30503                        29770   \n3                      29903                        27900   \n4                      25854                        23910   \n\n  PopulationEstimate2019-06-30 Unnamed: 6  \n0                       163950          \u2192  \n1                         4820          \u2192  \n2                        28190          \u2192  \n3                        26820          \u2192  \n4                        22970          \u2192  "
                    },
                    "execution_count": 8,
                    "metadata": {},
                    "output_type": "execute_result"
                }
            ],
            "source": "sgsubdiv_df.head()"
        },
        {
            "cell_type": "code",
            "execution_count": 9,
            "metadata": {},
            "outputs": [
                {
                    "data": {
                        "text/plain": "(379, 7)"
                    },
                    "execution_count": 9,
                    "metadata": {},
                    "output_type": "execute_result"
                }
            ],
            "source": "sgsubdiv_df.shape"
        },
        {
            "cell_type": "code",
            "execution_count": 10,
            "metadata": {},
            "outputs": [
                {
                    "data": {
                        "text/plain": "Index(['Name', 'Status', 'PopulationCensus2000-06-30',\n       'PopulationCensus2010-06-30', 'PopulationEstimate2015-06-30',\n       'PopulationEstimate2019-06-30', 'Unnamed: 6'],\n      dtype='object')"
                    },
                    "execution_count": 10,
                    "metadata": {},
                    "output_type": "execute_result"
                }
            ],
            "source": "sgsubdiv_df.columns"
        },
        {
            "cell_type": "code",
            "execution_count": 11,
            "metadata": {},
            "outputs": [
                {
                    "data": {
                        "text/html": "<div>\n<style scoped>\n    .dataframe tbody tr th:only-of-type {\n        vertical-align: middle;\n    }\n\n    .dataframe tbody tr th {\n        vertical-align: top;\n    }\n\n    .dataframe thead th {\n        text-align: right;\n    }\n</style>\n<table border=\"1\" class=\"dataframe\">\n  <thead>\n    <tr style=\"text-align: right;\">\n      <th></th>\n      <th>Name</th>\n      <th>Status</th>\n    </tr>\n  </thead>\n  <tbody>\n    <tr>\n      <th>0</th>\n      <td>Ang Mo Kio</td>\n      <td>Planning Area</td>\n    </tr>\n    <tr>\n      <th>1</th>\n      <td>Ang Mo Kio Town Centre</td>\n      <td>Subzone</td>\n    </tr>\n    <tr>\n      <th>2</th>\n      <td>Cheng San</td>\n      <td>Subzone</td>\n    </tr>\n    <tr>\n      <th>3</th>\n      <td>Chong Boon</td>\n      <td>Subzone</td>\n    </tr>\n    <tr>\n      <th>4</th>\n      <td>Kebun Bahru</td>\n      <td>Subzone</td>\n    </tr>\n  </tbody>\n</table>\n</div>",
                        "text/plain": "                     Name         Status\n0              Ang Mo Kio  Planning Area\n1  Ang Mo Kio Town Centre        Subzone\n2               Cheng San        Subzone\n3              Chong Boon        Subzone\n4             Kebun Bahru        Subzone"
                    },
                    "execution_count": 11,
                    "metadata": {},
                    "output_type": "execute_result"
                }
            ],
            "source": "sgsubdiv2_df = sgsubdiv_df.drop(['PopulationCensus2000-06-30', 'PopulationCensus2010-06-30', 'PopulationEstimate2015-06-30',\n       'PopulationEstimate2019-06-30', 'Unnamed: 6'], axis=1)\n\nsgsubdiv2_df.head()"
        },
        {
            "cell_type": "code",
            "execution_count": 12,
            "metadata": {},
            "outputs": [
                {
                    "data": {
                        "text/html": "<div>\n<style scoped>\n    .dataframe tbody tr th:only-of-type {\n        vertical-align: middle;\n    }\n\n    .dataframe tbody tr th {\n        vertical-align: top;\n    }\n\n    .dataframe thead th {\n        text-align: right;\n    }\n</style>\n<table border=\"1\" class=\"dataframe\">\n  <thead>\n    <tr style=\"text-align: right;\">\n      <th></th>\n      <th>Name</th>\n      <th>Status</th>\n    </tr>\n  </thead>\n  <tbody>\n    <tr>\n      <th>0</th>\n      <td>Ang Mo Kio</td>\n      <td>Planning Area</td>\n    </tr>\n    <tr>\n      <th>13</th>\n      <td>Bedok</td>\n      <td>Planning Area</td>\n    </tr>\n    <tr>\n      <th>22</th>\n      <td>Bishan</td>\n      <td>Planning Area</td>\n    </tr>\n    <tr>\n      <th>26</th>\n      <td>Boon Lay</td>\n      <td>Planning Area</td>\n    </tr>\n    <tr>\n      <th>31</th>\n      <td>Bukit Batok</td>\n      <td>Planning Area</td>\n    </tr>\n  </tbody>\n</table>\n</div>",
                        "text/plain": "           Name         Status\n0    Ang Mo Kio  Planning Area\n13        Bedok  Planning Area\n22       Bishan  Planning Area\n26     Boon Lay  Planning Area\n31  Bukit Batok  Planning Area"
                    },
                    "execution_count": 12,
                    "metadata": {},
                    "output_type": "execute_result"
                }
            ],
            "source": "Planarea_df = sgsubdiv2_df[sgsubdiv2_df.Status == 'Planning Area']\n\nPlanarea_df.head()"
        },
        {
            "cell_type": "code",
            "execution_count": 13,
            "metadata": {},
            "outputs": [
                {
                    "data": {
                        "text/plain": "(55, 2)"
                    },
                    "execution_count": 13,
                    "metadata": {},
                    "output_type": "execute_result"
                }
            ],
            "source": "\n\nPlanarea_df.shape"
        },
        {
            "cell_type": "code",
            "execution_count": 14,
            "metadata": {
                "scrolled": false
            },
            "outputs": [
                {
                    "data": {
                        "text/plain": "0                   Ang Mo Kio\n13                       Bedok\n22                      Bishan\n26                    Boon Lay\n31                 Bukit Batok\n41                 Bukit Merah\n59               Bukit Panjang\n67                 Bukit Timah\n76     Central Water Catchment\n78                      Changi\n82                  Changi Bay\n84               Choa Chu Kang\n91                    Clementi\n101              Downtown Core\n114                    Geylang\n120                    Hougang\n131                Jurong East\n142                Jurong West\n152                    Kallang\n162               Lim Chu Kang\n164                     Mandai\n168                Marina East\n170               Marina South\n172              Marine Parade\n178                     Museum\n182                     Newton\n189      North-Eastern Islands\n191                     Novena\n197                    Orchard\n201                     Outram\n206                  Pasir Ris\n215                 Paya Lebar\n221                    Pioneer\n227                    Punggol\n235                 Queenstown\n251               River Valley\n257                     Rochor\n268                    Seletar\n273                  Sembawang\n283                   Sengkang\n291                  Serangoon\n299                    Simpang\n304            Singapore River\n308           Southern Islands\n311               Straits View\n313               Sungei Kadut\n319                   Tampines\n325                    Tanglin\n330                     Tengah\n332                  Toa Payoh\n345                       Tuas\n352            Western Islands\n356    Western Water Catchment\n358                  Woodlands\n368                     Yishun\nName: Name, dtype: object"
                    },
                    "execution_count": 14,
                    "metadata": {},
                    "output_type": "execute_result"
                }
            ],
            "source": "Planarea_df['Name']"
        },
        {
            "cell_type": "code",
            "execution_count": 21,
            "metadata": {
                "scrolled": true
            },
            "outputs": [
                {
                    "data": {
                        "text/html": "<div>\n<style scoped>\n    .dataframe tbody tr th:only-of-type {\n        vertical-align: middle;\n    }\n\n    .dataframe tbody tr th {\n        vertical-align: top;\n    }\n\n    .dataframe thead th {\n        text-align: right;\n    }\n</style>\n<table border=\"1\" class=\"dataframe\">\n  <thead>\n    <tr style=\"text-align: right;\">\n      <th></th>\n      <th>Planning Area</th>\n      <th>Area (km2)</th>\n      <th>Population</th>\n      <th>Density (/km2)</th>\n      <th>Secondary Education</th>\n      <th>Density of Student Population(/km2)</th>\n      <th>Latitude</th>\n      <th>Longitude</th>\n    </tr>\n  </thead>\n  <tbody>\n    <tr>\n      <th>0</th>\n      <td>Pasir Ris</td>\n      <td>15.02</td>\n      <td>148020</td>\n      <td>9600</td>\n      <td>12200.0</td>\n      <td>812.250333</td>\n      <td>1.373031</td>\n      <td>103.949255</td>\n    </tr>\n    <tr>\n      <th>1</th>\n      <td>Tampines</td>\n      <td>20.89</td>\n      <td>256730</td>\n      <td>12400</td>\n      <td>18000.0</td>\n      <td>861.656295</td>\n      <td>1.354653</td>\n      <td>103.943571</td>\n    </tr>\n    <tr>\n      <th>2</th>\n      <td>Bedok</td>\n      <td>21.69</td>\n      <td>279380</td>\n      <td>13000</td>\n      <td>19200.0</td>\n      <td>885.200553</td>\n      <td>1.323976</td>\n      <td>103.930216</td>\n    </tr>\n    <tr>\n      <th>3</th>\n      <td>Bukit Batok</td>\n      <td>11.13</td>\n      <td>153740</td>\n      <td>14000</td>\n      <td>10400.0</td>\n      <td>934.411500</td>\n      <td>1.349057</td>\n      <td>103.749591</td>\n    </tr>\n    <tr>\n      <th>4</th>\n      <td>Hougang</td>\n      <td>13.93</td>\n      <td>226240</td>\n      <td>16000</td>\n      <td>16000.0</td>\n      <td>1148.600144</td>\n      <td>1.370682</td>\n      <td>103.892545</td>\n    </tr>\n    <tr>\n      <th>5</th>\n      <td>Bukit Panjang</td>\n      <td>8.99</td>\n      <td>139280</td>\n      <td>15000</td>\n      <td>10600.0</td>\n      <td>1179.087875</td>\n      <td>1.378629</td>\n      <td>103.762136</td>\n    </tr>\n    <tr>\n      <th>6</th>\n      <td>Jurong West</td>\n      <td>14.69</td>\n      <td>264860</td>\n      <td>18000</td>\n      <td>22000.0</td>\n      <td>1497.617427</td>\n      <td>1.339636</td>\n      <td>103.707339</td>\n    </tr>\n    <tr>\n      <th>7</th>\n      <td>Sengkang</td>\n      <td>10.59</td>\n      <td>244600</td>\n      <td>23000</td>\n      <td>16500.0</td>\n      <td>1558.073654</td>\n      <td>1.391654</td>\n      <td>103.895364</td>\n    </tr>\n    <tr>\n      <th>8</th>\n      <td>Woodlands</td>\n      <td>13.59</td>\n      <td>254730</td>\n      <td>18700</td>\n      <td>23600.0</td>\n      <td>1736.571008</td>\n      <td>1.436897</td>\n      <td>103.786216</td>\n    </tr>\n    <tr>\n      <th>9</th>\n      <td>Choa Chu Kang</td>\n      <td>6.11</td>\n      <td>190890</td>\n      <td>30000</td>\n      <td>15500.0</td>\n      <td>2536.824877</td>\n      <td>1.384749</td>\n      <td>103.744534</td>\n    </tr>\n  </tbody>\n</table>\n</div>",
                        "text/plain": "   Planning Area  Area (km2)  Population  Density (/km2)  Secondary Education  \\\n0      Pasir Ris       15.02      148020            9600              12200.0   \n1       Tampines       20.89      256730           12400              18000.0   \n2          Bedok       21.69      279380           13000              19200.0   \n3    Bukit Batok       11.13      153740           14000              10400.0   \n4        Hougang       13.93      226240           16000              16000.0   \n5  Bukit Panjang        8.99      139280           15000              10600.0   \n6    Jurong West       14.69      264860           18000              22000.0   \n7       Sengkang       10.59      244600           23000              16500.0   \n8      Woodlands       13.59      254730           18700              23600.0   \n9  Choa Chu Kang        6.11      190890           30000              15500.0   \n\n   Density of Student Population(/km2)  Latitude   Longitude  \n0                           812.250333  1.373031  103.949255  \n1                           861.656295  1.354653  103.943571  \n2                           885.200553  1.323976  103.930216  \n3                           934.411500  1.349057  103.749591  \n4                          1148.600144  1.370682  103.892545  \n5                          1179.087875  1.378629  103.762136  \n6                          1497.617427  1.339636  103.707339  \n7                          1558.073654  1.391654  103.895364  \n8                          1736.571008  1.436897  103.786216  \n9                          2536.824877  1.384749  103.744534  "
                    },
                    "execution_count": 21,
                    "metadata": {},
                    "output_type": "execute_result"
                }
            ],
            "source": "topplarea_df = pd.read_csv('Singapore Planning Area.csv')\ntopplarea_df"
        },
        {
            "cell_type": "code",
            "execution_count": 23,
            "metadata": {},
            "outputs": [
                {
                    "data": {
                        "text/html": "<div>\n<style scoped>\n    .dataframe tbody tr th:only-of-type {\n        vertical-align: middle;\n    }\n\n    .dataframe tbody tr th {\n        vertical-align: top;\n    }\n\n    .dataframe thead th {\n        text-align: right;\n    }\n</style>\n<table border=\"1\" class=\"dataframe\">\n  <thead>\n    <tr style=\"text-align: right;\">\n      <th></th>\n      <th>Planning Area</th>\n    </tr>\n  </thead>\n  <tbody>\n    <tr>\n      <th>0</th>\n      <td>Pasir Ris</td>\n    </tr>\n    <tr>\n      <th>1</th>\n      <td>Tampines</td>\n    </tr>\n    <tr>\n      <th>2</th>\n      <td>Bedok</td>\n    </tr>\n    <tr>\n      <th>3</th>\n      <td>Bukit Batok</td>\n    </tr>\n    <tr>\n      <th>4</th>\n      <td>Hougang</td>\n    </tr>\n    <tr>\n      <th>5</th>\n      <td>Bukit Panjang</td>\n    </tr>\n    <tr>\n      <th>6</th>\n      <td>Jurong West</td>\n    </tr>\n    <tr>\n      <th>7</th>\n      <td>Sengkang</td>\n    </tr>\n    <tr>\n      <th>8</th>\n      <td>Woodlands</td>\n    </tr>\n    <tr>\n      <th>9</th>\n      <td>Choa Chu Kang</td>\n    </tr>\n  </tbody>\n</table>\n</div>",
                        "text/plain": "   Planning Area\n0      Pasir Ris\n1       Tampines\n2          Bedok\n3    Bukit Batok\n4        Hougang\n5  Bukit Panjang\n6    Jurong West\n7       Sengkang\n8      Woodlands\n9  Choa Chu Kang"
                    },
                    "execution_count": 23,
                    "metadata": {},
                    "output_type": "execute_result"
                }
            ],
            "source": "topplarea2_df = topplarea_df[['Planning Area']]\ntopplarea2_df"
        },
        {
            "cell_type": "code",
            "execution_count": 24,
            "metadata": {},
            "outputs": [
                {
                    "name": "stderr",
                    "output_type": "stream",
                    "text": "/opt/conda/envs/Python36/lib/python3.6/site-packages/ipykernel/__main__.py:3: SettingWithCopyWarning: \nA value is trying to be set on a copy of a slice from a DataFrame.\nTry using .loc[row_indexer,col_indexer] = value instead\n\nSee the caveats in the documentation: http://pandas.pydata.org/pandas-docs/stable/indexing.html#indexing-view-versus-copy\n  app.launch_new_instance()\n/opt/conda/envs/Python36/lib/python3.6/site-packages/ipykernel/__main__.py:4: SettingWithCopyWarning: \nA value is trying to be set on a copy of a slice from a DataFrame.\nTry using .loc[row_indexer,col_indexer] = value instead\n\nSee the caveats in the documentation: http://pandas.pydata.org/pandas-docs/stable/indexing.html#indexing-view-versus-copy\n"
                },
                {
                    "data": {
                        "text/html": "<div>\n<style scoped>\n    .dataframe tbody tr th:only-of-type {\n        vertical-align: middle;\n    }\n\n    .dataframe tbody tr th {\n        vertical-align: top;\n    }\n\n    .dataframe thead th {\n        text-align: right;\n    }\n</style>\n<table border=\"1\" class=\"dataframe\">\n  <thead>\n    <tr style=\"text-align: right;\">\n      <th></th>\n      <th>Planning Area</th>\n      <th>x</th>\n      <th>y</th>\n    </tr>\n  </thead>\n  <tbody>\n    <tr>\n      <th>0</th>\n      <td>Pasir Ris</td>\n      <td>207</td>\n      <td>215</td>\n    </tr>\n    <tr>\n      <th>1</th>\n      <td>Tampines</td>\n      <td>320</td>\n      <td>325</td>\n    </tr>\n    <tr>\n      <th>2</th>\n      <td>Bedok</td>\n      <td>14</td>\n      <td>22</td>\n    </tr>\n    <tr>\n      <th>3</th>\n      <td>Bukit Batok</td>\n      <td>32</td>\n      <td>41</td>\n    </tr>\n    <tr>\n      <th>4</th>\n      <td>Hougang</td>\n      <td>121</td>\n      <td>131</td>\n    </tr>\n    <tr>\n      <th>5</th>\n      <td>Bukit Panjang</td>\n      <td>60</td>\n      <td>67</td>\n    </tr>\n    <tr>\n      <th>6</th>\n      <td>Jurong West</td>\n      <td>143</td>\n      <td>152</td>\n    </tr>\n    <tr>\n      <th>7</th>\n      <td>Sengkang</td>\n      <td>284</td>\n      <td>291</td>\n    </tr>\n    <tr>\n      <th>8</th>\n      <td>Woodlands</td>\n      <td>359</td>\n      <td>368</td>\n    </tr>\n    <tr>\n      <th>9</th>\n      <td>Choa Chu Kang</td>\n      <td>85</td>\n      <td>91</td>\n    </tr>\n  </tbody>\n</table>\n</div>",
                        "text/plain": "   Planning Area    x    y\n0      Pasir Ris  207  215\n1       Tampines  320  325\n2          Bedok   14   22\n3    Bukit Batok   32   41\n4        Hougang  121  131\n5  Bukit Panjang   60   67\n6    Jurong West  143  152\n7       Sengkang  284  291\n8      Woodlands  359  368\n9  Choa Chu Kang   85   91"
                    },
                    "execution_count": 24,
                    "metadata": {},
                    "output_type": "execute_result"
                }
            ],
            "source": "x = [207, 320, 14, 32, 121, 60, 143, 284, 359, 85]\ny = [215, 325, 22, 41, 131, 67, 152, 291, 368, 91]\ntopplarea2_df['x'] = x\ntopplarea2_df['y'] = y\n\ntopplarea2_df"
        },
        {
            "cell_type": "code",
            "execution_count": 25,
            "metadata": {},
            "outputs": [],
            "source": "def slicingTable(i):\n    \n    x = topplarea2_df.loc[i, 'x']\n    y = topplarea2_df.loc[i, 'y']\n    z = topplarea2_df.loc[i, 'Planning Area']\n   \n    sgsubdiv2_1=sgsubdiv2_df[x:y]\n    sgsubdiv2_1['Planning Area']=z\n    return sgsubdiv2_1\n\ndef table(m):\n    m_df = slicingTable(m)\n    return m_df"
        },
        {
            "cell_type": "code",
            "execution_count": 27,
            "metadata": {},
            "outputs": [
                {
                    "name": "stderr",
                    "output_type": "stream",
                    "text": "/opt/conda/envs/Python36/lib/python3.6/site-packages/ipykernel/__main__.py:8: SettingWithCopyWarning: \nA value is trying to be set on a copy of a slice from a DataFrame.\nTry using .loc[row_indexer,col_indexer] = value instead\n\nSee the caveats in the documentation: http://pandas.pydata.org/pandas-docs/stable/indexing.html#indexing-view-versus-copy\n"
                },
                {
                    "data": {
                        "text/html": "<div>\n<style scoped>\n    .dataframe tbody tr th:only-of-type {\n        vertical-align: middle;\n    }\n\n    .dataframe tbody tr th {\n        vertical-align: top;\n    }\n\n    .dataframe thead th {\n        text-align: right;\n    }\n</style>\n<table border=\"1\" class=\"dataframe\">\n  <thead>\n    <tr style=\"text-align: right;\">\n      <th></th>\n      <th>Name</th>\n      <th>Status</th>\n      <th>Planning Area</th>\n    </tr>\n  </thead>\n  <tbody>\n    <tr>\n      <th>207</th>\n      <td>Flora Drive</td>\n      <td>Subzone</td>\n      <td>Pasir Ris</td>\n    </tr>\n    <tr>\n      <th>208</th>\n      <td>Loyang East</td>\n      <td>Subzone</td>\n      <td>Pasir Ris</td>\n    </tr>\n    <tr>\n      <th>209</th>\n      <td>Loyang West</td>\n      <td>Subzone</td>\n      <td>Pasir Ris</td>\n    </tr>\n    <tr>\n      <th>210</th>\n      <td>Pasir Ris Central (Town)</td>\n      <td>Subzone</td>\n      <td>Pasir Ris</td>\n    </tr>\n    <tr>\n      <th>211</th>\n      <td>Pasir Ris Drive</td>\n      <td>Subzone</td>\n      <td>Pasir Ris</td>\n    </tr>\n  </tbody>\n</table>\n</div>",
                        "text/plain": "                         Name   Status Planning Area\n207               Flora Drive  Subzone     Pasir Ris\n208               Loyang East  Subzone     Pasir Ris\n209               Loyang West  Subzone     Pasir Ris\n210  Pasir Ris Central (Town)  Subzone     Pasir Ris\n211           Pasir Ris Drive  Subzone     Pasir Ris"
                    },
                    "execution_count": 27,
                    "metadata": {},
                    "output_type": "execute_result"
                }
            ],
            "source": "frame = [table(0), table(1), table(2), table(3), table(4), table(5), table(6), table(7), table(8), table(9)]\nmergedTable = pd.concat(frame)\n    \nmergedTable.head()"
        },
        {
            "cell_type": "code",
            "execution_count": 28,
            "metadata": {},
            "outputs": [
                {
                    "data": {
                        "text/plain": "(78, 3)"
                    },
                    "execution_count": 28,
                    "metadata": {},
                    "output_type": "execute_result"
                }
            ],
            "source": "mergedTable.shape"
        },
        {
            "cell_type": "code",
            "execution_count": 29,
            "metadata": {},
            "outputs": [
                {
                    "data": {
                        "text/html": "<div>\n<style scoped>\n    .dataframe tbody tr th:only-of-type {\n        vertical-align: middle;\n    }\n\n    .dataframe tbody tr th {\n        vertical-align: top;\n    }\n\n    .dataframe thead th {\n        text-align: right;\n    }\n</style>\n<table border=\"1\" class=\"dataframe\">\n  <thead>\n    <tr style=\"text-align: right;\">\n      <th></th>\n      <th>Name</th>\n      <th>Status_x</th>\n      <th>Planning Area</th>\n      <th>Status_y</th>\n      <th>PopulationCensus2000-06-30</th>\n      <th>PopulationCensus2010-06-30</th>\n      <th>PopulationEstimate2015-06-30</th>\n      <th>PopulationEstimate2019-06-30</th>\n      <th>Unnamed: 6</th>\n    </tr>\n  </thead>\n  <tbody>\n    <tr>\n      <th>0</th>\n      <td>Flora Drive</td>\n      <td>Subzone</td>\n      <td>Pasir Ris</td>\n      <td>Subzone</td>\n      <td>...</td>\n      <td>...</td>\n      <td>12950</td>\n      <td>14610</td>\n      <td>\u2192</td>\n    </tr>\n    <tr>\n      <th>1</th>\n      <td>Loyang East</td>\n      <td>Subzone</td>\n      <td>Pasir Ris</td>\n      <td>Subzone</td>\n      <td>...</td>\n      <td>...</td>\n      <td>2190</td>\n      <td>2160</td>\n      <td>\u2192</td>\n    </tr>\n    <tr>\n      <th>2</th>\n      <td>Loyang West</td>\n      <td>Subzone</td>\n      <td>Pasir Ris</td>\n      <td>Subzone</td>\n      <td>...</td>\n      <td>...</td>\n      <td>200</td>\n      <td>190</td>\n      <td>\u2192</td>\n    </tr>\n    <tr>\n      <th>3</th>\n      <td>Pasir Ris Central (Town)</td>\n      <td>Subzone</td>\n      <td>Pasir Ris</td>\n      <td>Subzone</td>\n      <td>20223</td>\n      <td>20808</td>\n      <td>25730</td>\n      <td>32190</td>\n      <td>\u2192</td>\n    </tr>\n    <tr>\n      <th>4</th>\n      <td>Pasir Ris Drive</td>\n      <td>Subzone</td>\n      <td>Pasir Ris</td>\n      <td>Subzone</td>\n      <td>58458</td>\n      <td>61489</td>\n      <td>59480</td>\n      <td>55260</td>\n      <td>\u2192</td>\n    </tr>\n  </tbody>\n</table>\n</div>",
                        "text/plain": "                       Name Status_x Planning Area Status_y  \\\n0               Flora Drive  Subzone     Pasir Ris  Subzone   \n1               Loyang East  Subzone     Pasir Ris  Subzone   \n2               Loyang West  Subzone     Pasir Ris  Subzone   \n3  Pasir Ris Central (Town)  Subzone     Pasir Ris  Subzone   \n4           Pasir Ris Drive  Subzone     Pasir Ris  Subzone   \n\n  PopulationCensus2000-06-30 PopulationCensus2010-06-30  \\\n0                        ...                        ...   \n1                        ...                        ...   \n2                        ...                        ...   \n3                      20223                      20808   \n4                      58458                      61489   \n\n  PopulationEstimate2015-06-30 PopulationEstimate2019-06-30 Unnamed: 6  \n0                        12950                        14610          \u2192  \n1                         2190                         2160          \u2192  \n2                          200                          190          \u2192  \n3                        25730                        32190          \u2192  \n4                        59480                        55260          \u2192  "
                    },
                    "execution_count": 29,
                    "metadata": {},
                    "output_type": "execute_result"
                }
            ],
            "source": "Sgsubz_df = pd.merge(mergedTable, sgsubdiv_df , on='Name')\nSgsubz_df.head()"
        },
        {
            "cell_type": "code",
            "execution_count": 30,
            "metadata": {},
            "outputs": [
                {
                    "data": {
                        "text/html": "<div>\n<style scoped>\n    .dataframe tbody tr th:only-of-type {\n        vertical-align: middle;\n    }\n\n    .dataframe tbody tr th {\n        vertical-align: top;\n    }\n\n    .dataframe thead th {\n        text-align: right;\n    }\n</style>\n<table border=\"1\" class=\"dataframe\">\n  <thead>\n    <tr style=\"text-align: right;\">\n      <th></th>\n      <th>Name</th>\n      <th>Planning Area</th>\n      <th>PopulationCensus2000-06-30</th>\n      <th>PopulationCensus2010-06-30</th>\n      <th>PopulationEstimate2015-06-30</th>\n      <th>PopulationEstimate2019-06-30</th>\n    </tr>\n  </thead>\n  <tbody>\n    <tr>\n      <th>0</th>\n      <td>Flora Drive</td>\n      <td>Pasir Ris</td>\n      <td>...</td>\n      <td>...</td>\n      <td>12950</td>\n      <td>14610</td>\n    </tr>\n    <tr>\n      <th>1</th>\n      <td>Loyang East</td>\n      <td>Pasir Ris</td>\n      <td>...</td>\n      <td>...</td>\n      <td>2190</td>\n      <td>2160</td>\n    </tr>\n    <tr>\n      <th>2</th>\n      <td>Loyang West</td>\n      <td>Pasir Ris</td>\n      <td>...</td>\n      <td>...</td>\n      <td>200</td>\n      <td>190</td>\n    </tr>\n    <tr>\n      <th>3</th>\n      <td>Pasir Ris Central (Town)</td>\n      <td>Pasir Ris</td>\n      <td>20223</td>\n      <td>20808</td>\n      <td>25730</td>\n      <td>32190</td>\n    </tr>\n    <tr>\n      <th>4</th>\n      <td>Pasir Ris Drive</td>\n      <td>Pasir Ris</td>\n      <td>58458</td>\n      <td>61489</td>\n      <td>59480</td>\n      <td>55260</td>\n    </tr>\n  </tbody>\n</table>\n</div>",
                        "text/plain": "                       Name Planning Area PopulationCensus2000-06-30  \\\n0               Flora Drive     Pasir Ris                        ...   \n1               Loyang East     Pasir Ris                        ...   \n2               Loyang West     Pasir Ris                        ...   \n3  Pasir Ris Central (Town)     Pasir Ris                      20223   \n4           Pasir Ris Drive     Pasir Ris                      58458   \n\n  PopulationCensus2010-06-30 PopulationEstimate2015-06-30  \\\n0                        ...                        12950   \n1                        ...                         2190   \n2                        ...                          200   \n3                      20808                        25730   \n4                      61489                        59480   \n\n  PopulationEstimate2019-06-30  \n0                        14610  \n1                         2160  \n2                          190  \n3                        32190  \n4                        55260  "
                    },
                    "execution_count": 30,
                    "metadata": {},
                    "output_type": "execute_result"
                }
            ],
            "source": "Sgsubz2_df = Sgsubz_df.drop(['Status_x', 'Status_y', 'Unnamed: 6'], axis=1)\nSgsubz2_df.head()"
        },
        {
            "cell_type": "code",
            "execution_count": 31,
            "metadata": {
                "scrolled": true
            },
            "outputs": [
                {
                    "data": {
                        "text/html": "<div>\n<style scoped>\n    .dataframe tbody tr th:only-of-type {\n        vertical-align: middle;\n    }\n\n    .dataframe tbody tr th {\n        vertical-align: top;\n    }\n\n    .dataframe thead th {\n        text-align: right;\n    }\n</style>\n<table border=\"1\" class=\"dataframe\">\n  <thead>\n    <tr style=\"text-align: right;\">\n      <th></th>\n      <th>Subzone</th>\n      <th>Planning Area</th>\n      <th>2000</th>\n      <th>2010</th>\n      <th>2015</th>\n      <th>2019</th>\n    </tr>\n  </thead>\n  <tbody>\n    <tr>\n      <th>0</th>\n      <td>Flora Drive</td>\n      <td>Pasir Ris</td>\n      <td>...</td>\n      <td>...</td>\n      <td>12950</td>\n      <td>14610</td>\n    </tr>\n    <tr>\n      <th>1</th>\n      <td>Loyang East</td>\n      <td>Pasir Ris</td>\n      <td>...</td>\n      <td>...</td>\n      <td>2190</td>\n      <td>2160</td>\n    </tr>\n    <tr>\n      <th>2</th>\n      <td>Loyang West</td>\n      <td>Pasir Ris</td>\n      <td>...</td>\n      <td>...</td>\n      <td>200</td>\n      <td>190</td>\n    </tr>\n    <tr>\n      <th>3</th>\n      <td>Pasir Ris Central (Town)</td>\n      <td>Pasir Ris</td>\n      <td>20223</td>\n      <td>20808</td>\n      <td>25730</td>\n      <td>32190</td>\n    </tr>\n    <tr>\n      <th>4</th>\n      <td>Pasir Ris Drive</td>\n      <td>Pasir Ris</td>\n      <td>58458</td>\n      <td>61489</td>\n      <td>59480</td>\n      <td>55260</td>\n    </tr>\n  </tbody>\n</table>\n</div>",
                        "text/plain": "                    Subzone Planning Area   2000   2010   2015   2019\n0               Flora Drive     Pasir Ris    ...    ...  12950  14610\n1               Loyang East     Pasir Ris    ...    ...   2190   2160\n2               Loyang West     Pasir Ris    ...    ...    200    190\n3  Pasir Ris Central (Town)     Pasir Ris  20223  20808  25730  32190\n4           Pasir Ris Drive     Pasir Ris  58458  61489  59480  55260"
                    },
                    "execution_count": 31,
                    "metadata": {},
                    "output_type": "execute_result"
                }
            ],
            "source": "Sgsubz3_df = Sgsubz2_df.rename(columns={'Name': 'Subzone', 'PopulationCensus2000-06-30': '2000', 'PopulationCensus2010-06-30': '2010', 'PopulationEstimate2015-06-30' : '2015', 'PopulationEstimate2019-06-30':'2019' })\nSgsubz3_df.head()"
        },
        {
            "cell_type": "code",
            "execution_count": 32,
            "metadata": {},
            "outputs": [
                {
                    "data": {
                        "text/plain": "(78, 6)"
                    },
                    "execution_count": 32,
                    "metadata": {},
                    "output_type": "execute_result"
                }
            ],
            "source": "Sgsubz3_df.shape"
        },
        {
            "cell_type": "code",
            "execution_count": 33,
            "metadata": {},
            "outputs": [],
            "source": "Sgsubz3_df.to_csv('Singapore Subzones in Planning Area With Top Density of Student Population.csv',index=False)"
        },
        {
            "cell_type": "code",
            "execution_count": null,
            "metadata": {},
            "outputs": [],
            "source": "\n\n\n\n"
        },
        {
            "cell_type": "markdown",
            "metadata": {},
            "source": "Visulisation starts here"
        },
        {
            "cell_type": "code",
            "execution_count": 34,
            "metadata": {
                "scrolled": true
            },
            "outputs": [
                {
                    "data": {
                        "text/plain": "Subzone          object\nPlanning Area    object\n2000             object\n2010             object\n2015             object\n2019             object\ndtype: object"
                    },
                    "execution_count": 34,
                    "metadata": {},
                    "output_type": "execute_result"
                }
            ],
            "source": "Sgsubz3_df.dtypes"
        },
        {
            "cell_type": "code",
            "execution_count": 35,
            "metadata": {},
            "outputs": [
                {
                    "name": "stderr",
                    "output_type": "stream",
                    "text": "/opt/conda/envs/Python36/lib/python3.6/site-packages/ipykernel/__main__.py:1: FutureWarning: convert_objects is deprecated.  To re-infer data dtypes for object columns, use DataFrame.infer_objects()\nFor all other conversions use the data-type specific converters pd.to_datetime, pd.to_timedelta and pd.to_numeric.\n  if __name__ == '__main__':\n"
                },
                {
                    "data": {
                        "text/plain": "Subzone           object\nPlanning Area     object\n2000             float64\n2010             float64\n2015             float64\n2019             float64\ndtype: object"
                    },
                    "execution_count": 35,
                    "metadata": {},
                    "output_type": "execute_result"
                }
            ],
            "source": "Sgsubz4_df = Sgsubz3_df.convert_objects(convert_numeric=True)\nSgsubz4_df.dtypes"
        },
        {
            "cell_type": "code",
            "execution_count": 36,
            "metadata": {
                "scrolled": true
            },
            "outputs": [
                {
                    "data": {
                        "text/html": "<div>\n<style scoped>\n    .dataframe tbody tr th:only-of-type {\n        vertical-align: middle;\n    }\n\n    .dataframe tbody tr th {\n        vertical-align: top;\n    }\n\n    .dataframe thead th {\n        text-align: right;\n    }\n</style>\n<table border=\"1\" class=\"dataframe\">\n  <thead>\n    <tr style=\"text-align: right;\">\n      <th></th>\n      <th>Subzone</th>\n      <th>Planning Area</th>\n      <th>2000</th>\n      <th>2010</th>\n      <th>2015</th>\n      <th>2019</th>\n    </tr>\n  </thead>\n  <tbody>\n    <tr>\n      <th>0</th>\n      <td>Flora Drive</td>\n      <td>Pasir Ris</td>\n      <td>...</td>\n      <td>...</td>\n      <td>12950</td>\n      <td>14610</td>\n    </tr>\n    <tr>\n      <th>1</th>\n      <td>Loyang East</td>\n      <td>Pasir Ris</td>\n      <td>...</td>\n      <td>...</td>\n      <td>2190</td>\n      <td>2160</td>\n    </tr>\n    <tr>\n      <th>2</th>\n      <td>Loyang West</td>\n      <td>Pasir Ris</td>\n      <td>...</td>\n      <td>...</td>\n      <td>200</td>\n      <td>190</td>\n    </tr>\n    <tr>\n      <th>3</th>\n      <td>Pasir Ris Central (Town)</td>\n      <td>Pasir Ris</td>\n      <td>20223</td>\n      <td>20808</td>\n      <td>25730</td>\n      <td>32190</td>\n    </tr>\n    <tr>\n      <th>4</th>\n      <td>Pasir Ris Drive</td>\n      <td>Pasir Ris</td>\n      <td>58458</td>\n      <td>61489</td>\n      <td>59480</td>\n      <td>55260</td>\n    </tr>\n  </tbody>\n</table>\n</div>",
                        "text/plain": "                    Subzone Planning Area   2000   2010   2015   2019\n0               Flora Drive     Pasir Ris    ...    ...  12950  14610\n1               Loyang East     Pasir Ris    ...    ...   2190   2160\n2               Loyang West     Pasir Ris    ...    ...    200    190\n3  Pasir Ris Central (Town)     Pasir Ris  20223  20808  25730  32190\n4           Pasir Ris Drive     Pasir Ris  58458  61489  59480  55260"
                    },
                    "execution_count": 36,
                    "metadata": {},
                    "output_type": "execute_result"
                }
            ],
            "source": "Sgsubz4_df['Total'] = Sgsubz4_df['2000'] + Sgsubz4_df['2010'] + Sgsubz4_df['2015'] + Sgsubz4_df['2019']\n\n# let's view the first five elements and see how the dataframe was changed\nSgsubz3_df.head()"
        },
        {
            "cell_type": "code",
            "execution_count": 42,
            "metadata": {},
            "outputs": [
                {
                    "data": {
                        "text/plain": "(78, 7)"
                    },
                    "execution_count": 42,
                    "metadata": {},
                    "output_type": "execute_result"
                }
            ],
            "source": "\nSgsubz4_df.shape"
        },
        {
            "cell_type": "code",
            "execution_count": 43,
            "metadata": {
                "scrolled": false
            },
            "outputs": [
                {
                    "data": {
                        "text/html": "<div>\n<style scoped>\n    .dataframe tbody tr th:only-of-type {\n        vertical-align: middle;\n    }\n\n    .dataframe tbody tr th {\n        vertical-align: top;\n    }\n\n    .dataframe thead th {\n        text-align: right;\n    }\n</style>\n<table border=\"1\" class=\"dataframe\">\n  <thead>\n    <tr style=\"text-align: right;\">\n      <th></th>\n      <th>Subzone</th>\n      <th>Planning Area</th>\n      <th>2000</th>\n      <th>2010</th>\n      <th>2015</th>\n      <th>2019</th>\n      <th>Total</th>\n    </tr>\n  </thead>\n  <tbody>\n    <tr>\n      <th>9</th>\n      <td>Tampines East</td>\n      <td>Tampines</td>\n      <td>137152.0</td>\n      <td>138807.0</td>\n      <td>138500.0</td>\n      <td>132840.0</td>\n      <td>547299.0</td>\n    </tr>\n    <tr>\n      <th>68</th>\n      <td>Woodlands East</td>\n      <td>Woodlands</td>\n      <td>64824.0</td>\n      <td>95401.0</td>\n      <td>95510.0</td>\n      <td>98510.0</td>\n      <td>354245.0</td>\n    </tr>\n    <tr>\n      <th>14</th>\n      <td>Bedok North</td>\n      <td>Bedok</td>\n      <td>87199.0</td>\n      <td>91139.0</td>\n      <td>85930.0</td>\n      <td>82530.0</td>\n      <td>346798.0</td>\n    </tr>\n    <tr>\n      <th>11</th>\n      <td>Tampines West</td>\n      <td>Tampines</td>\n      <td>75761.0</td>\n      <td>77956.0</td>\n      <td>78110.0</td>\n      <td>79670.0</td>\n      <td>311497.0</td>\n    </tr>\n    <tr>\n      <th>55</th>\n      <td>Yunnan</td>\n      <td>Jurong West</td>\n      <td>62600.0</td>\n      <td>73587.0</td>\n      <td>70890.0</td>\n      <td>68170.0</td>\n      <td>275247.0</td>\n    </tr>\n  </tbody>\n</table>\n</div>",
                        "text/plain": "           Subzone Planning Area      2000      2010      2015      2019  \\\n9    Tampines East      Tampines  137152.0  138807.0  138500.0  132840.0   \n68  Woodlands East     Woodlands   64824.0   95401.0   95510.0   98510.0   \n14     Bedok North         Bedok   87199.0   91139.0   85930.0   82530.0   \n11   Tampines West      Tampines   75761.0   77956.0   78110.0   79670.0   \n55          Yunnan   Jurong West   62600.0   73587.0   70890.0   68170.0   \n\n       Total  \n9   547299.0  \n68  354245.0  \n14  346798.0  \n11  311497.0  \n55  275247.0  "
                    },
                    "execution_count": 43,
                    "metadata": {},
                    "output_type": "execute_result"
                }
            ],
            "source": "Sgsubz4_df.sort_values(['Total'], ascending=False, axis=0, inplace=True)\nSgsubz4_df.head()"
        },
        {
            "cell_type": "code",
            "execution_count": 44,
            "metadata": {},
            "outputs": [
                {
                    "data": {
                        "text/html": "<div>\n<style scoped>\n    .dataframe tbody tr th:only-of-type {\n        vertical-align: middle;\n    }\n\n    .dataframe tbody tr th {\n        vertical-align: top;\n    }\n\n    .dataframe thead th {\n        text-align: right;\n    }\n</style>\n<table border=\"1\" class=\"dataframe\">\n  <thead>\n    <tr style=\"text-align: right;\">\n      <th></th>\n      <th>Planning Area</th>\n      <th>2000</th>\n      <th>2010</th>\n      <th>2015</th>\n      <th>2019</th>\n      <th>Total</th>\n    </tr>\n    <tr>\n      <th>Subzone</th>\n      <th></th>\n      <th></th>\n      <th></th>\n      <th></th>\n      <th></th>\n      <th></th>\n    </tr>\n  </thead>\n  <tbody>\n    <tr>\n      <th>Tampines East</th>\n      <td>Tampines</td>\n      <td>137152.0</td>\n      <td>138807.0</td>\n      <td>138500.0</td>\n      <td>132840.0</td>\n      <td>547299.0</td>\n    </tr>\n    <tr>\n      <th>Woodlands East</th>\n      <td>Woodlands</td>\n      <td>64824.0</td>\n      <td>95401.0</td>\n      <td>95510.0</td>\n      <td>98510.0</td>\n      <td>354245.0</td>\n    </tr>\n    <tr>\n      <th>Bedok North</th>\n      <td>Bedok</td>\n      <td>87199.0</td>\n      <td>91139.0</td>\n      <td>85930.0</td>\n      <td>82530.0</td>\n      <td>346798.0</td>\n    </tr>\n    <tr>\n      <th>Tampines West</th>\n      <td>Tampines</td>\n      <td>75761.0</td>\n      <td>77956.0</td>\n      <td>78110.0</td>\n      <td>79670.0</td>\n      <td>311497.0</td>\n    </tr>\n    <tr>\n      <th>Yunnan</th>\n      <td>Jurong West</td>\n      <td>62600.0</td>\n      <td>73587.0</td>\n      <td>70890.0</td>\n      <td>68170.0</td>\n      <td>275247.0</td>\n    </tr>\n  </tbody>\n</table>\n</div>",
                        "text/plain": "               Planning Area      2000      2010      2015      2019     Total\nSubzone                                                                       \nTampines East       Tampines  137152.0  138807.0  138500.0  132840.0  547299.0\nWoodlands East     Woodlands   64824.0   95401.0   95510.0   98510.0  354245.0\nBedok North            Bedok   87199.0   91139.0   85930.0   82530.0  346798.0\nTampines West       Tampines   75761.0   77956.0   78110.0   79670.0  311497.0\nYunnan           Jurong West   62600.0   73587.0   70890.0   68170.0  275247.0"
                    },
                    "execution_count": 44,
                    "metadata": {},
                    "output_type": "execute_result"
                }
            ],
            "source": "Sgsubz4_df = Sgsubz4_df.set_index(['Subzone'])\nSgsubz4_df.head()"
        },
        {
            "cell_type": "code",
            "execution_count": 45,
            "metadata": {
                "scrolled": true
            },
            "outputs": [
                {
                    "data": {
                        "text/html": "<div>\n<style scoped>\n    .dataframe tbody tr th:only-of-type {\n        vertical-align: middle;\n    }\n\n    .dataframe tbody tr th {\n        vertical-align: top;\n    }\n\n    .dataframe thead th {\n        text-align: right;\n    }\n</style>\n<table border=\"1\" class=\"dataframe\">\n  <thead>\n    <tr style=\"text-align: right;\">\n      <th>Subzone</th>\n      <th>Tampines East</th>\n      <th>Woodlands East</th>\n      <th>Bedok North</th>\n      <th>Tampines West</th>\n      <th>Yunnan</th>\n    </tr>\n  </thead>\n  <tbody>\n    <tr>\n      <th>2000</th>\n      <td>137152.0</td>\n      <td>64824.0</td>\n      <td>87199.0</td>\n      <td>75761.0</td>\n      <td>62600.0</td>\n    </tr>\n    <tr>\n      <th>2010</th>\n      <td>138807.0</td>\n      <td>95401.0</td>\n      <td>91139.0</td>\n      <td>77956.0</td>\n      <td>73587.0</td>\n    </tr>\n    <tr>\n      <th>2015</th>\n      <td>138500.0</td>\n      <td>95510.0</td>\n      <td>85930.0</td>\n      <td>78110.0</td>\n      <td>70890.0</td>\n    </tr>\n    <tr>\n      <th>2019</th>\n      <td>132840.0</td>\n      <td>98510.0</td>\n      <td>82530.0</td>\n      <td>79670.0</td>\n      <td>68170.0</td>\n    </tr>\n  </tbody>\n</table>\n</div>",
                        "text/plain": "Subzone  Tampines East  Woodlands East  Bedok North  Tampines West   Yunnan\n2000          137152.0         64824.0      87199.0        75761.0  62600.0\n2010          138807.0         95401.0      91139.0        77956.0  73587.0\n2015          138500.0         95510.0      85930.0        78110.0  70890.0\n2019          132840.0         98510.0      82530.0        79670.0  68170.0"
                    },
                    "execution_count": 45,
                    "metadata": {},
                    "output_type": "execute_result"
                }
            ],
            "source": "# get the top 5 entries\ndf_top5 = Sgsubz4_df.head()\n\nyears = ['2000','2010', '2015', '2019']\n\n# transpose the dataframe\ndf_top5 = df_top5[years].transpose() \n\ndf_top5.head()"
        },
        {
            "cell_type": "code",
            "execution_count": 46,
            "metadata": {},
            "outputs": [
                {
                    "data": {
                        "text/plain": "Subzone\nTampines East     float64\nWoodlands East    float64\nBedok North       float64\nTampines West     float64\nYunnan            float64\ndtype: object"
                    },
                    "execution_count": 46,
                    "metadata": {},
                    "output_type": "execute_result"
                }
            ],
            "source": "df_top5.dtypes"
        },
        {
            "cell_type": "markdown",
            "metadata": {},
            "source": "Visualisation"
        },
        {
            "cell_type": "code",
            "execution_count": 47,
            "metadata": {
                "scrolled": true
            },
            "outputs": [
                {
                    "name": "stdout",
                    "output_type": "stream",
                    "text": "Matplotlib version:  3.0.2\n"
                }
            ],
            "source": "# use the inline backend to generate the plots within the browser\n%matplotlib inline \n\nimport matplotlib as mpl\nimport matplotlib.pyplot as plt\n\nmpl.style.use('ggplot') # optional: for ggplot-like style\n\n# check for latest version of Matplotlib\nprint ('Matplotlib version: ', mpl.__version__) # >= 2.0.0"
        },
        {
            "cell_type": "code",
            "execution_count": 48,
            "metadata": {
                "scrolled": false
            },
            "outputs": [
                {
                    "data": {
                        "image/png": "[encoded data removed]",
                        "text/plain": "<Figure size 360x360 with 1 Axes>"
                    },
                    "metadata": {},
                    "output_type": "display_data"
                }
            ],
            "source": "df_top5.index = df_top5.index.map(int) # let's change the index values of df_top5 to type integer for plotting\ndf_top5.plot(kind='area', \n            alpha=0.25,\n             stacked=False,\n             figsize=(5, 5), # pass a tuple (x, y) size\n             )\n\nplt.title('Population Trend of Top 5 Subzones')\nplt.ylabel('Population')\nplt.xlabel('Years')\n\nplt.show()"
        },
        {
            "cell_type": "markdown",
            "metadata": {},
            "source": "# 1\naddress = 'Ang Mo Kio, SG'\n\ngeolocator = Nominatim(user_agent=\"sg_explorer\")\nlocation = geolocator.geocode(address)\nlatitude = location.latitude\nlongitude = location.longitude\nprint('The geographical coordinate of Ang Mo Kio are {}. {}.'.format(latitude, longitude))"
        }
    ],
    "metadata": {
        "kernelspec": {
            "display_name": "Python 3.6",
            "language": "python",
            "name": "python3"
        },
        "language_info": {
            "codemirror_mode": {
                "name": "ipython",
                "version": 3
            },
            "file_extension": ".py",
            "mimetype": "text/x-python",
            "name": "python",
            "nbconvert_exporter": "python",
            "pygments_lexer": "ipython3",
            "version": "3.6.9"
        }
    },
    "nbformat": 4,
    "nbformat_minor": 1
}