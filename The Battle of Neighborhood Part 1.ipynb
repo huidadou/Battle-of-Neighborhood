{
    "cells": [
        {
            "cell_type": "markdown",
            "metadata": {
                "collapsed": true
            },
            "source": "## The Battle of Neighborhood - Part I"
        },
        {
            "cell_type": "markdown",
            "metadata": {},
            "source": "### For this week, you will required to submit the following:"
        },
        {
            "cell_type": "markdown",
            "metadata": {},
            "source": "#### 1.  A description of the problem and a discussion of the background. (15 marks)"
        },
        {
            "cell_type": "markdown",
            "metadata": {},
            "source": "**The Problem:**\n\nA friend of mine wants to set up a private tuition center, which would target at students of age 12-18 years old, who are currently studying O-Levels/A-Levels or IGCSE/IB syllabus at local and international schools in Singapore. Recently, she asked me where the best location for her tuition center, providing that after her research, the factors affecting the suitability of a tuition center are:\n\n1) Population, esp. population of teenagers who are 12-18 years old:\n\nThe larger the population of students, the larger the market, as more teenagers would need private tuition services;\n\n2) Public transport networks e.g. metro/MRT/buses, etc:\n\nThe well-developed public transport network enables students who live further sway to come to tuition center conveniently;\n\n3) Number of Schools in the area:\n\nHigher concentration of schools means a large amount of students available.\n\nSince Singapore is generally well-connected, I argued that 2) is not that important as long as the tuition in the vicinity of a transportation node (MRT station/Bus Terminal). So I told her that I would focus factor 1) and 3), and the best location would be in an area where with the highest number of students (both residents and school attendees) per unit area."
        },
        {
            "cell_type": "markdown",
            "metadata": {},
            "source": "**The Background**\n\n**_a) The Country_**\n\nSingapore, or officially the Republic of Singapore, is a sovereign city-state and island country in maritime Southeast Asia. \n\nPlanning Areas, also known as DGP areas or DGP zones, are the main urban planning and census divisions of Singapore delineated by the Urban Redevelopment Authority. There are a total of 55 of these areas, organised into five regions. \n\nPlanning Areas are further subdivided into subzones for statistical purposes.\n\n**_b) The Education System_**\n\nThe Singaporean culture of Kiasuism spurs parents provide additional support for their children, for fear of their child \u201closing out\u201d to others. Therefore, parents invest a lot in their children's education, as a good university degree guarantees a higher-paying job. \n\nBesides formal education (local or international schools), 70% of parents also send their children for tuition and 6 in 10 secondary school students pay for private tuition (Straits Times, 2015). The number of tuition centres in Singapore has steadily grow from a list of 700 MOE-registered tuition agencies in 2012, to 800 in 2013 and 840 in 2014, and the tuition industry was worth 1.1 billion in 2018. \n\nMuch of the demand for tuition comes from those preparing for these exams. Peer pressure and competition between parents and students also serve to intensify the demand for tuition.\n"
        },
        {
            "cell_type": "markdown",
            "metadata": {},
            "source": "#### 2. A description of the data and how it will be used to solve the problem. (15 marks)"
        },
        {
            "attachments": {},
            "cell_type": "markdown",
            "metadata": {},
            "source": "**The Data:**\n\nThree sets of data would be used to solve the problem:\n\n**_a) The Planning area_**: \n\nhttps://en.wikipedia.org/wiki/Planning_Areas_of_Singapore\n\nThis page provides names and area of planning areas.\n\n**_b) The demographic information_** :\n\nGENERAL HOUSEHOLD SURVEY 2015\t\t\t\t\t\t\t\nTable 135  Resident Students Aged 5 Years and Over by Planning Area and Level of Education Attending\t\t\t\t\t\t\t\nhttps://data.gov.sg/dataset/resident-students-aged-5-years-and-over-by-planning-area-and-level-of-education-attending-2015?resource_id=43762b5d-334f-4161-a4eb-d72d6f598d60\n\n**_c) The Longitude and Latitude Information_** :\n\nManually prepared by using google map."
        },
        {
            "cell_type": "markdown",
            "metadata": {},
            "source": "**The Method:**\n\nI would extract the planning area from data set a) and combine with the demographic information from data set b) to calculate the density of population from 12-18 years old teenagers.\n\nThen I would combine planning areas with longitude and latitude information and use Foursquare API to get nearby venues and extract number of school in the planning area.\n\nFinally, I would use clustering to find out the region where there is the most dense number of schools, this information with the density of population would give me the ideal location for the tuition center. "
        },
        {
            "cell_type": "code",
            "execution_count": null,
            "metadata": {},
            "outputs": [],
            "source": ""
        }
    ],
    "metadata": {
        "kernelspec": {
            "display_name": "Python 3.6",
            "language": "python",
            "name": "python3"
        },
        "language_info": {
            "codemirror_mode": {
                "name": "ipython",
                "version": 3
            },
            "file_extension": ".py",
            "mimetype": "text/x-python",
            "name": "python",
            "nbconvert_exporter": "python",
            "pygments_lexer": "ipython3",
            "version": "3.6.9"
        }
    },
    "nbformat": 4,
    "nbformat_minor": 1
}