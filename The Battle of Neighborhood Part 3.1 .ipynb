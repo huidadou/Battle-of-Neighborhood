{
    "cells": [
        {
            "cell_type": "markdown",
            "metadata": {
                "collapsed": true
            },
            "source": "# The Battle of Neighborhood Part 1\n## Singapore's Planning Areas, Subzones, Schools and Population"
        },
        {
            "cell_type": "markdown",
            "metadata": {},
            "source": "## Part 1: Data Preparation 1: Planning Areas and Population"
        },
        {
            "cell_type": "code",
            "execution_count": 2,
            "metadata": {
                "scrolled": true
            },
            "outputs": [
                {
                    "name": "stdout",
                    "output_type": "stream",
                    "text": "Requirement already satisfied: folium in /opt/conda/envs/Python36/lib/python3.6/site-packages (0.11.0)\nRequirement already satisfied: jinja2>=2.9 in /opt/conda/envs/Python36/lib/python3.6/site-packages (from folium) (2.10)\nRequirement already satisfied: branca>=0.3.0 in /opt/conda/envs/Python36/lib/python3.6/site-packages (from folium) (0.4.1)\nRequirement already satisfied: requests in /opt/conda/envs/Python36/lib/python3.6/site-packages (from folium) (2.21.0)\nRequirement already satisfied: numpy in /opt/conda/envs/Python36/lib/python3.6/site-packages (from folium) (1.15.4)\nRequirement already satisfied: MarkupSafe>=0.23 in /opt/conda/envs/Python36/lib/python3.6/site-packages (from jinja2>=2.9->folium) (1.1.0)\nRequirement already satisfied: idna<2.9,>=2.5 in /opt/conda/envs/Python36/lib/python3.6/site-packages (from requests->folium) (2.8)\nRequirement already satisfied: urllib3<1.25,>=1.21.1 in /opt/conda/envs/Python36/lib/python3.6/site-packages (from requests->folium) (1.24.1)\nRequirement already satisfied: chardet<3.1.0,>=3.0.2 in /opt/conda/envs/Python36/lib/python3.6/site-packages (from requests->folium) (3.0.4)\nRequirement already satisfied: certifi>=2017.4.17 in /opt/conda/envs/Python36/lib/python3.6/site-packages (from requests->folium) (2020.4.5.1)\n"
                }
            ],
            "source": "# intalling folium\n!pip install folium"
        },
        {
            "cell_type": "code",
            "execution_count": 1,
            "metadata": {
                "scrolled": true
            },
            "outputs": [
                {
                    "name": "stdout",
                    "output_type": "stream",
                    "text": "all libraries have been imported\n"
                }
            ],
            "source": "import pandas as pd\npd.set_option('display.max_columns', None)\npd.set_option('display.max_rows', None)\n\nimport numpy as np\n\nimport requests\nimport json\nfrom bs4 import BeautifulSoup\n\nfrom pandas.io.json import json_normalize\nprint(\"all libraries have been imported\");"
        },
        {
            "cell_type": "markdown",
            "metadata": {},
            "source": " \n ---------------------------------------------------------------\n        \n        \n        \n        \n        "
        },
        {
            "cell_type": "markdown",
            "metadata": {},
            "source": "### 1.1 Dataset: Singapore's planning area"
        },
        {
            "cell_type": "markdown",
            "metadata": {},
            "source": "#### a. Data acquirement"
        },
        {
            "cell_type": "code",
            "execution_count": 4,
            "metadata": {},
            "outputs": [],
            "source": "# use request.get to send a GET request to the specified url\nurl = \"https://en.wikipedia.org/wiki/Planning_Areas_of_Singapore\"\n\nr = requests.get(url)\n\n# get content from website and store in a variable\nsingapore_html = BeautifulSoup(r.content)\n\n# store all the strings in the html page in variable \"soup\"\nsoup = BeautifulSoup(str(singapore_html))"
        },
        {
            "cell_type": "code",
            "execution_count": 7,
            "metadata": {
                "scrolled": true
            },
            "outputs": [
                {
                    "data": {
                        "text/html": "<div>\n<style scoped>\n    .dataframe tbody tr th:only-of-type {\n        vertical-align: middle;\n    }\n\n    .dataframe tbody tr th {\n        vertical-align: top;\n    }\n\n    .dataframe thead th {\n        text-align: right;\n    }\n</style>\n<table border=\"1\" class=\"dataframe\">\n  <thead>\n    <tr style=\"text-align: right;\">\n      <th></th>\n      <th>Name (English)</th>\n      <th>Malay</th>\n      <th>Chinese</th>\n      <th>Pinyin</th>\n      <th>Tamil</th>\n      <th>Region</th>\n      <th>Area (km2)</th>\n      <th>Population[7]</th>\n      <th>Density (/km2)</th>\n    </tr>\n  </thead>\n  <tbody>\n    <tr>\n      <th>0</th>\n      <td>Ang Mo Kio</td>\n      <td>NaN</td>\n      <td>\u5b8f\u8302\u6865</td>\n      <td>H\u00f3ng m\u00e0o qi\u00e1o</td>\n      <td>\u0b86\u0b99\u0bcd \u0bae\u0bcb \u0b95\u0bbf\u0baf\u0bcb</td>\n      <td>North-East</td>\n      <td>13.94</td>\n      <td>163950</td>\n      <td>13400</td>\n    </tr>\n    <tr>\n      <th>1</th>\n      <td>Bedok</td>\n      <td>*</td>\n      <td>\u52ff\u6d1b</td>\n      <td>W\u00f9 lu\u00f2</td>\n      <td>\u0baa\u0bbf\u0b9f\u0bcb\u0b95\u0bcd</td>\n      <td>East</td>\n      <td>21.69</td>\n      <td>279380</td>\n      <td>13000</td>\n    </tr>\n    <tr>\n      <th>2</th>\n      <td>Bishan</td>\n      <td>NaN</td>\n      <td>\u78a7\u5c71</td>\n      <td>B\u00ec sh\u0101n</td>\n      <td>\u0baa\u0bc0\u0bb7\u0bbe\u0ba9\u0bcd</td>\n      <td>Central</td>\n      <td>7.62</td>\n      <td>88010</td>\n      <td>12000</td>\n    </tr>\n    <tr>\n      <th>3</th>\n      <td>Boon Lay</td>\n      <td>NaN</td>\n      <td>\u6587\u793c</td>\n      <td>W\u00e9n l\u01d0</td>\n      <td>\u0baa\u0bc2\u0ba9\u0bcd \u0bb2\u0bc7</td>\n      <td>West</td>\n      <td>8.23</td>\n      <td>30</td>\n      <td>3.6</td>\n    </tr>\n    <tr>\n      <th>4</th>\n      <td>Bukit Batok</td>\n      <td>*</td>\n      <td>\u6b66\u5409\u5df4\u7763</td>\n      <td>W\u01d4j\u00ed b\u0101 d\u016b</td>\n      <td>\u0baa\u0bc1\u0b95\u0bcd\u0b95\u0bbf\u0b9f\u0bcd \u0baa\u0bbe\u0ba4\u0bcd\u0ba4\u0bcb\u0b95\u0bcd</td>\n      <td>West</td>\n      <td>11.13</td>\n      <td>153740</td>\n      <td>14000</td>\n    </tr>\n  </tbody>\n</table>\n</div>",
                        "text/plain": "  Name (English) Malay Chinese         Pinyin              Tamil      Region  \\\n0     Ang Mo Kio   NaN     \u5b8f\u8302\u6865  H\u00f3ng m\u00e0o qi\u00e1o        \u0b86\u0b99\u0bcd \u0bae\u0bcb \u0b95\u0bbf\u0baf\u0bcb  North-East   \n1          Bedok     *      \u52ff\u6d1b         W\u00f9 lu\u00f2             \u0baa\u0bbf\u0b9f\u0bcb\u0b95\u0bcd        East   \n2         Bishan   NaN      \u78a7\u5c71        B\u00ec sh\u0101n             \u0baa\u0bc0\u0bb7\u0bbe\u0ba9\u0bcd     Central   \n3       Boon Lay   NaN      \u6587\u793c         W\u00e9n l\u01d0            \u0baa\u0bc2\u0ba9\u0bcd \u0bb2\u0bc7        West   \n4    Bukit Batok     *    \u6b66\u5409\u5df4\u7763     W\u01d4j\u00ed b\u0101 d\u016b  \u0baa\u0bc1\u0b95\u0bcd\u0b95\u0bbf\u0b9f\u0bcd \u0baa\u0bbe\u0ba4\u0bcd\u0ba4\u0bcb\u0b95\u0bcd        West   \n\n   Area (km2) Population[7] Density (/km2)  \n0       13.94        163950          13400  \n1       21.69        279380          13000  \n2        7.62         88010          12000  \n3        8.23            30            3.6  \n4       11.13        153740          14000  "
                    },
                    "execution_count": 7,
                    "metadata": {},
                    "output_type": "execute_result"
                }
            ],
            "source": "# use find \"table\", the second table on the website\nplarea_tb = soup.find_all('table')[1]\n\n# extract the charaters from the table\ntable_str = str(plarea_tb.extract())\n\n# read the table into panda dataframe\nsingapore_df = pd.read_html(table_str)[0]\n\n# display the first five rows of table \nsingapore_df.head()"
        },
        {
            "cell_type": "code",
            "execution_count": 8,
            "metadata": {
                "scrolled": true
            },
            "outputs": [
                {
                    "data": {
                        "text/plain": "(55, 9)"
                    },
                    "execution_count": 8,
                    "metadata": {},
                    "output_type": "execute_result"
                }
            ],
            "source": "# get the number of rows and columns in the table\nsingapore_df.shape"
        },
        {
            "cell_type": "markdown",
            "metadata": {},
            "source": "#### b. Data Cleaning and Modification"
        },
        {
            "cell_type": "markdown",
            "metadata": {},
            "source": "**1) change names of columns:** "
        },
        {
            "cell_type": "code",
            "execution_count": 9,
            "metadata": {},
            "outputs": [
                {
                    "data": {
                        "text/plain": "Index(['Name (English)', 'Malay', 'Chinese', 'Pinyin', 'Tamil', 'Region',\n       'Area (km2)', 'Population[7]', 'Density (/km2)'],\n      dtype='object')"
                    },
                    "execution_count": 9,
                    "metadata": {},
                    "output_type": "execute_result"
                }
            ],
            "source": "# check the names of columns\nsingapore_df.columns"
        },
        {
            "cell_type": "code",
            "execution_count": 10,
            "metadata": {
                "scrolled": true
            },
            "outputs": [
                {
                    "data": {
                        "text/html": "<div>\n<style scoped>\n    .dataframe tbody tr th:only-of-type {\n        vertical-align: middle;\n    }\n\n    .dataframe tbody tr th {\n        vertical-align: top;\n    }\n\n    .dataframe thead th {\n        text-align: right;\n    }\n</style>\n<table border=\"1\" class=\"dataframe\">\n  <thead>\n    <tr style=\"text-align: right;\">\n      <th></th>\n      <th>Planning Area</th>\n      <th>Malay</th>\n      <th>Chinese</th>\n      <th>Pinyin</th>\n      <th>Tamil</th>\n      <th>Region</th>\n      <th>Area (km2)</th>\n      <th>Population</th>\n      <th>Density (/km2)</th>\n    </tr>\n  </thead>\n  <tbody>\n    <tr>\n      <th>0</th>\n      <td>Ang Mo Kio</td>\n      <td>NaN</td>\n      <td>\u5b8f\u8302\u6865</td>\n      <td>H\u00f3ng m\u00e0o qi\u00e1o</td>\n      <td>\u0b86\u0b99\u0bcd \u0bae\u0bcb \u0b95\u0bbf\u0baf\u0bcb</td>\n      <td>North-East</td>\n      <td>13.94</td>\n      <td>163950</td>\n      <td>13400</td>\n    </tr>\n    <tr>\n      <th>1</th>\n      <td>Bedok</td>\n      <td>*</td>\n      <td>\u52ff\u6d1b</td>\n      <td>W\u00f9 lu\u00f2</td>\n      <td>\u0baa\u0bbf\u0b9f\u0bcb\u0b95\u0bcd</td>\n      <td>East</td>\n      <td>21.69</td>\n      <td>279380</td>\n      <td>13000</td>\n    </tr>\n    <tr>\n      <th>2</th>\n      <td>Bishan</td>\n      <td>NaN</td>\n      <td>\u78a7\u5c71</td>\n      <td>B\u00ec sh\u0101n</td>\n      <td>\u0baa\u0bc0\u0bb7\u0bbe\u0ba9\u0bcd</td>\n      <td>Central</td>\n      <td>7.62</td>\n      <td>88010</td>\n      <td>12000</td>\n    </tr>\n    <tr>\n      <th>3</th>\n      <td>Boon Lay</td>\n      <td>NaN</td>\n      <td>\u6587\u793c</td>\n      <td>W\u00e9n l\u01d0</td>\n      <td>\u0baa\u0bc2\u0ba9\u0bcd \u0bb2\u0bc7</td>\n      <td>West</td>\n      <td>8.23</td>\n      <td>30</td>\n      <td>3.6</td>\n    </tr>\n    <tr>\n      <th>4</th>\n      <td>Bukit Batok</td>\n      <td>*</td>\n      <td>\u6b66\u5409\u5df4\u7763</td>\n      <td>W\u01d4j\u00ed b\u0101 d\u016b</td>\n      <td>\u0baa\u0bc1\u0b95\u0bcd\u0b95\u0bbf\u0b9f\u0bcd \u0baa\u0bbe\u0ba4\u0bcd\u0ba4\u0bcb\u0b95\u0bcd</td>\n      <td>West</td>\n      <td>11.13</td>\n      <td>153740</td>\n      <td>14000</td>\n    </tr>\n  </tbody>\n</table>\n</div>",
                        "text/plain": "  Planning Area Malay Chinese         Pinyin              Tamil      Region  \\\n0    Ang Mo Kio   NaN     \u5b8f\u8302\u6865  H\u00f3ng m\u00e0o qi\u00e1o        \u0b86\u0b99\u0bcd \u0bae\u0bcb \u0b95\u0bbf\u0baf\u0bcb  North-East   \n1         Bedok     *      \u52ff\u6d1b         W\u00f9 lu\u00f2             \u0baa\u0bbf\u0b9f\u0bcb\u0b95\u0bcd        East   \n2        Bishan   NaN      \u78a7\u5c71        B\u00ec sh\u0101n             \u0baa\u0bc0\u0bb7\u0bbe\u0ba9\u0bcd     Central   \n3      Boon Lay   NaN      \u6587\u793c         W\u00e9n l\u01d0            \u0baa\u0bc2\u0ba9\u0bcd \u0bb2\u0bc7        West   \n4   Bukit Batok     *    \u6b66\u5409\u5df4\u7763     W\u01d4j\u00ed b\u0101 d\u016b  \u0baa\u0bc1\u0b95\u0bcd\u0b95\u0bbf\u0b9f\u0bcd \u0baa\u0bbe\u0ba4\u0bcd\u0ba4\u0bcb\u0b95\u0bcd        West   \n\n   Area (km2) Population Density (/km2)  \n0       13.94     163950          13400  \n1       21.69     279380          13000  \n2        7.62      88010          12000  \n3        8.23         30            3.6  \n4       11.13     153740          14000  "
                    },
                    "execution_count": 10,
                    "metadata": {},
                    "output_type": "execute_result"
                }
            ],
            "source": "# rename the columns\nsg1_df = singapore_df.rename(columns={\"Name (English)\": \"Planning Area\"})\n\nsg2_df = sg1_df.rename(columns={\"Population[7]\": \"Population\"})\n\n# display the change\nsg2_df.head()"
        },
        {
            "cell_type": "markdown",
            "metadata": {},
            "source": "**2) remove planning areas without population**"
        },
        {
            "cell_type": "code",
            "execution_count": 11,
            "metadata": {},
            "outputs": [
                {
                    "data": {
                        "text/html": "<div>\n<style scoped>\n    .dataframe tbody tr th:only-of-type {\n        vertical-align: middle;\n    }\n\n    .dataframe tbody tr th {\n        vertical-align: top;\n    }\n\n    .dataframe thead th {\n        text-align: right;\n    }\n</style>\n<table border=\"1\" class=\"dataframe\">\n  <thead>\n    <tr style=\"text-align: right;\">\n      <th></th>\n      <th>Planning Area</th>\n      <th>Malay</th>\n      <th>Chinese</th>\n      <th>Pinyin</th>\n      <th>Tamil</th>\n      <th>Region</th>\n      <th>Area (km2)</th>\n      <th>Population</th>\n      <th>Density (/km2)</th>\n    </tr>\n  </thead>\n  <tbody>\n    <tr>\n      <th>0</th>\n      <td>Ang Mo Kio</td>\n      <td>NaN</td>\n      <td>\u5b8f\u8302\u6865</td>\n      <td>H\u00f3ng m\u00e0o qi\u00e1o</td>\n      <td>\u0b86\u0b99\u0bcd \u0bae\u0bcb \u0b95\u0bbf\u0baf\u0bcb</td>\n      <td>North-East</td>\n      <td>13.94</td>\n      <td>163950</td>\n      <td>13400</td>\n    </tr>\n    <tr>\n      <th>1</th>\n      <td>Bedok</td>\n      <td>*</td>\n      <td>\u52ff\u6d1b</td>\n      <td>W\u00f9 lu\u00f2</td>\n      <td>\u0baa\u0bbf\u0b9f\u0bcb\u0b95\u0bcd</td>\n      <td>East</td>\n      <td>21.69</td>\n      <td>279380</td>\n      <td>13000</td>\n    </tr>\n    <tr>\n      <th>2</th>\n      <td>Bishan</td>\n      <td>NaN</td>\n      <td>\u78a7\u5c71</td>\n      <td>B\u00ec sh\u0101n</td>\n      <td>\u0baa\u0bc0\u0bb7\u0bbe\u0ba9\u0bcd</td>\n      <td>Central</td>\n      <td>7.62</td>\n      <td>88010</td>\n      <td>12000</td>\n    </tr>\n    <tr>\n      <th>3</th>\n      <td>Boon Lay</td>\n      <td>NaN</td>\n      <td>\u6587\u793c</td>\n      <td>W\u00e9n l\u01d0</td>\n      <td>\u0baa\u0bc2\u0ba9\u0bcd \u0bb2\u0bc7</td>\n      <td>West</td>\n      <td>8.23</td>\n      <td>30</td>\n      <td>3.6</td>\n    </tr>\n    <tr>\n      <th>4</th>\n      <td>Bukit Batok</td>\n      <td>*</td>\n      <td>\u6b66\u5409\u5df4\u7763</td>\n      <td>W\u01d4j\u00ed b\u0101 d\u016b</td>\n      <td>\u0baa\u0bc1\u0b95\u0bcd\u0b95\u0bbf\u0b9f\u0bcd \u0baa\u0bbe\u0ba4\u0bcd\u0ba4\u0bcb\u0b95\u0bcd</td>\n      <td>West</td>\n      <td>11.13</td>\n      <td>153740</td>\n      <td>14000</td>\n    </tr>\n  </tbody>\n</table>\n</div>",
                        "text/plain": "  Planning Area Malay Chinese         Pinyin              Tamil      Region  \\\n0    Ang Mo Kio   NaN     \u5b8f\u8302\u6865  H\u00f3ng m\u00e0o qi\u00e1o        \u0b86\u0b99\u0bcd \u0bae\u0bcb \u0b95\u0bbf\u0baf\u0bcb  North-East   \n1         Bedok     *      \u52ff\u6d1b         W\u00f9 lu\u00f2             \u0baa\u0bbf\u0b9f\u0bcb\u0b95\u0bcd        East   \n2        Bishan   NaN      \u78a7\u5c71        B\u00ec sh\u0101n             \u0baa\u0bc0\u0bb7\u0bbe\u0ba9\u0bcd     Central   \n3      Boon Lay   NaN      \u6587\u793c         W\u00e9n l\u01d0            \u0baa\u0bc2\u0ba9\u0bcd \u0bb2\u0bc7        West   \n4   Bukit Batok     *    \u6b66\u5409\u5df4\u7763     W\u01d4j\u00ed b\u0101 d\u016b  \u0baa\u0bc1\u0b95\u0bcd\u0b95\u0bbf\u0b9f\u0bcd \u0baa\u0bbe\u0ba4\u0bcd\u0ba4\u0bcb\u0b95\u0bcd        West   \n\n   Area (km2) Population Density (/km2)  \n0       13.94     163950          13400  \n1       21.69     279380          13000  \n2        7.62      88010          12000  \n3        8.23         30            3.6  \n4       11.13     153740          14000  "
                    },
                    "execution_count": 11,
                    "metadata": {},
                    "output_type": "execute_result"
                }
            ],
            "source": "# store these rows in a variable\npopulation_na = sg2_df[sg2_df.Population == '*']\n\n# drop these rows\nsg2_df.drop(population_na.index, inplace=True)\n\n# display the first five rows of table \nsg2_df.head()"
        },
        {
            "cell_type": "code",
            "execution_count": 12,
            "metadata": {},
            "outputs": [
                {
                    "data": {
                        "text/plain": "(49, 9)"
                    },
                    "execution_count": 12,
                    "metadata": {},
                    "output_type": "execute_result"
                }
            ],
            "source": "# check the number of rows\nsg2_df.shape"
        },
        {
            "cell_type": "markdown",
            "metadata": {},
            "source": "**2) drop unwanted columns:**"
        },
        {
            "cell_type": "code",
            "execution_count": 13,
            "metadata": {
                "scrolled": true
            },
            "outputs": [
                {
                    "data": {
                        "text/html": "<div>\n<style scoped>\n    .dataframe tbody tr th:only-of-type {\n        vertical-align: middle;\n    }\n\n    .dataframe tbody tr th {\n        vertical-align: top;\n    }\n\n    .dataframe thead th {\n        text-align: right;\n    }\n</style>\n<table border=\"1\" class=\"dataframe\">\n  <thead>\n    <tr style=\"text-align: right;\">\n      <th></th>\n      <th>Planning Area</th>\n      <th>Area (km2)</th>\n    </tr>\n  </thead>\n  <tbody>\n    <tr>\n      <th>0</th>\n      <td>Ang Mo Kio</td>\n      <td>13.94</td>\n    </tr>\n    <tr>\n      <th>1</th>\n      <td>Bedok</td>\n      <td>21.69</td>\n    </tr>\n    <tr>\n      <th>2</th>\n      <td>Bishan</td>\n      <td>7.62</td>\n    </tr>\n    <tr>\n      <th>3</th>\n      <td>Boon Lay</td>\n      <td>8.23</td>\n    </tr>\n    <tr>\n      <th>4</th>\n      <td>Bukit Batok</td>\n      <td>11.13</td>\n    </tr>\n  </tbody>\n</table>\n</div>",
                        "text/plain": "  Planning Area  Area (km2)\n0    Ang Mo Kio       13.94\n1         Bedok       21.69\n2        Bishan        7.62\n3      Boon Lay        8.23\n4   Bukit Batok       11.13"
                    },
                    "execution_count": 13,
                    "metadata": {},
                    "output_type": "execute_result"
                }
            ],
            "source": "# drop useless columns\nsg_df = sg2_df.drop(['Malay', 'Chinese','Pinyin','Tamil','Region','Population','Density (/km2)'], axis=1)\n\n# display the first five rows of table \nsg_df.head()"
        },
        {
            "cell_type": "code",
            "execution_count": 14,
            "metadata": {},
            "outputs": [
                {
                    "data": {
                        "text/plain": "(49, 2)"
                    },
                    "execution_count": 14,
                    "metadata": {},
                    "output_type": "execute_result"
                }
            ],
            "source": "# get the number of rows and columns in the table\nsg_df.shape"
        },
        {
            "cell_type": "markdown",
            "metadata": {},
            "source": "Now we are done with Dataset 1: Singapore's Planning Area"
        },
        {
            "cell_type": "markdown",
            "metadata": {},
            "source": "**4\uff09save the Dataframe**"
        },
        {
            "cell_type": "code",
            "execution_count": 15,
            "metadata": {},
            "outputs": [],
            "source": "# save the dataframe as csv files for future use\nsg_df.to_csv('DF1_Singapore Planning Area.csv', index=False)"
        },
        {
            "cell_type": "markdown",
            "metadata": {},
            "source": " \n ---------------------------------------------------------------\n        \n        \n        \n        \n        "
        },
        {
            "cell_type": "markdown",
            "metadata": {},
            "source": "### 1.2 Dataset: Singapore's Student Population"
        },
        {
            "cell_type": "markdown",
            "metadata": {},
            "source": "#### a. Data acquirement"
        },
        {
            "cell_type": "code",
            "execution_count": 16,
            "metadata": {},
            "outputs": [],
            "source": "# The code was removed by Watson Studio for sharing."
        },
        {
            "cell_type": "code",
            "execution_count": 17,
            "metadata": {},
            "outputs": [
                {
                    "data": {
                        "text/html": "<div>\n<style scoped>\n    .dataframe tbody tr th:only-of-type {\n        vertical-align: middle;\n    }\n\n    .dataframe tbody tr th {\n        vertical-align: top;\n    }\n\n    .dataframe thead th {\n        text-align: right;\n    }\n</style>\n<table border=\"1\" class=\"dataframe\">\n  <thead>\n    <tr style=\"text-align: right;\">\n      <th></th>\n      <th>Planning Area</th>\n      <th>Total</th>\n      <th>Pre-Primary</th>\n      <th>Primary</th>\n      <th>Secondary</th>\n      <th>Post-Secondary (Non-Tertiary)</th>\n      <th>Polytechnic</th>\n      <th>Professional Qualification and Other Diploma</th>\n      <th>University</th>\n    </tr>\n  </thead>\n  <tbody>\n    <tr>\n      <th>0</th>\n      <td>Total</td>\n      <td>765.3</td>\n      <td>57.4</td>\n      <td>262.3</td>\n      <td>205.7</td>\n      <td>58.7</td>\n      <td>79.8</td>\n      <td>10.4</td>\n      <td>90.9</td>\n    </tr>\n    <tr>\n      <th>1</th>\n      <td>Ang Mo Kio</td>\n      <td>31.8</td>\n      <td>3.0</td>\n      <td>11.7</td>\n      <td>8.2</td>\n      <td>2.3</td>\n      <td>3</td>\n      <td>0.2</td>\n      <td>3.4</td>\n    </tr>\n    <tr>\n      <th>2</th>\n      <td>Bedok</td>\n      <td>54.4</td>\n      <td>3.2</td>\n      <td>18.4</td>\n      <td>15.0</td>\n      <td>4.2</td>\n      <td>5.5</td>\n      <td>0.7</td>\n      <td>7.5</td>\n    </tr>\n    <tr>\n      <th>3</th>\n      <td>Bishan</td>\n      <td>17.5</td>\n      <td>1.3</td>\n      <td>5.8</td>\n      <td>4.1</td>\n      <td>1.5</td>\n      <td>1.4</td>\n      <td>0.4</td>\n      <td>3.1</td>\n    </tr>\n    <tr>\n      <th>4</th>\n      <td>Bukit Batok</td>\n      <td>29.3</td>\n      <td>1.8</td>\n      <td>8.4</td>\n      <td>8.1</td>\n      <td>2.3</td>\n      <td>3.6</td>\n      <td>0.7</td>\n      <td>4.4</td>\n    </tr>\n  </tbody>\n</table>\n</div>",
                        "text/plain": "  Planning Area  Total  Pre-Primary  Primary  Secondary  \\\n0         Total  765.3         57.4    262.3      205.7   \n1    Ang Mo Kio   31.8          3.0     11.7        8.2   \n2         Bedok   54.4          3.2     18.4       15.0   \n3        Bishan   17.5          1.3      5.8        4.1   \n4   Bukit Batok   29.3          1.8      8.4        8.1   \n\n   Post-Secondary (Non-Tertiary) Polytechnic  \\\n0                           58.7        79.8   \n1                            2.3           3   \n2                            4.2         5.5   \n3                            1.5         1.4   \n4                            2.3         3.6   \n\n  Professional Qualification and Other Diploma  University  \n0                                         10.4        90.9  \n1                                          0.2         3.4  \n2                                          0.7         7.5  \n3                                          0.4         3.1  \n4                                          0.7         4.4  "
                    },
                    "execution_count": 17,
                    "metadata": {},
                    "output_type": "execute_result"
                }
            ],
            "source": "# store it in a dataframe\nsgedu_df = pd.read_csv(body)\n\n# check the dataframe\nsgedu_df.head()"
        },
        {
            "cell_type": "code",
            "execution_count": 18,
            "metadata": {},
            "outputs": [
                {
                    "data": {
                        "text/plain": "(30, 9)"
                    },
                    "execution_count": 18,
                    "metadata": {},
                    "output_type": "execute_result"
                }
            ],
            "source": "# get the shape of dataframe\nsgedu_df.shape"
        },
        {
            "cell_type": "markdown",
            "metadata": {},
            "source": "#### b. Data Cleaning and Modification"
        },
        {
            "cell_type": "markdown",
            "metadata": {},
            "source": "**1) remove unwanted columns**"
        },
        {
            "cell_type": "code",
            "execution_count": 19,
            "metadata": {},
            "outputs": [
                {
                    "data": {
                        "text/html": "<div>\n<style scoped>\n    .dataframe tbody tr th:only-of-type {\n        vertical-align: middle;\n    }\n\n    .dataframe tbody tr th {\n        vertical-align: top;\n    }\n\n    .dataframe thead th {\n        text-align: right;\n    }\n</style>\n<table border=\"1\" class=\"dataframe\">\n  <thead>\n    <tr style=\"text-align: right;\">\n      <th></th>\n      <th>Planning Area</th>\n      <th>Secondary</th>\n      <th>Post-Secondary (Non-Tertiary)</th>\n    </tr>\n  </thead>\n  <tbody>\n    <tr>\n      <th>0</th>\n      <td>Total</td>\n      <td>205.7</td>\n      <td>58.7</td>\n    </tr>\n    <tr>\n      <th>1</th>\n      <td>Ang Mo Kio</td>\n      <td>8.2</td>\n      <td>2.3</td>\n    </tr>\n    <tr>\n      <th>2</th>\n      <td>Bedok</td>\n      <td>15.0</td>\n      <td>4.2</td>\n    </tr>\n    <tr>\n      <th>3</th>\n      <td>Bishan</td>\n      <td>4.1</td>\n      <td>1.5</td>\n    </tr>\n    <tr>\n      <th>4</th>\n      <td>Bukit Batok</td>\n      <td>8.1</td>\n      <td>2.3</td>\n    </tr>\n  </tbody>\n</table>\n</div>",
                        "text/plain": "  Planning Area  Secondary  Post-Secondary (Non-Tertiary)\n0         Total      205.7                           58.7\n1    Ang Mo Kio        8.2                            2.3\n2         Bedok       15.0                            4.2\n3        Bishan        4.1                            1.5\n4   Bukit Batok        8.1                            2.3"
                    },
                    "execution_count": 19,
                    "metadata": {},
                    "output_type": "execute_result"
                }
            ],
            "source": "# drop columns\nsgedu1_df = sgedu_df.drop(['Total','Pre-Primary','Primary','Polytechnic','Professional Qualification and Other Diploma', 'University'],  axis=1)\n\n# check dataframe\nsgedu1_df.head()"
        },
        {
            "cell_type": "code",
            "execution_count": 20,
            "metadata": {},
            "outputs": [
                {
                    "data": {
                        "text/plain": "(30, 3)"
                    },
                    "execution_count": 20,
                    "metadata": {},
                    "output_type": "execute_result"
                }
            ],
            "source": "# check number of rows and columns\nsgedu1_df.shape"
        },
        {
            "cell_type": "markdown",
            "metadata": {},
            "source": "**1) add additional column**"
        },
        {
            "cell_type": "code",
            "execution_count": 21,
            "metadata": {},
            "outputs": [
                {
                    "data": {
                        "text/plain": "Index(['Planning Area', 'Secondary', 'Post-Secondary (Non-Tertiary)'], dtype='object')"
                    },
                    "execution_count": 21,
                    "metadata": {},
                    "output_type": "execute_result"
                }
            ],
            "source": "# get column names\nsgedu1_df.columns"
        },
        {
            "cell_type": "code",
            "execution_count": 22,
            "metadata": {},
            "outputs": [
                {
                    "data": {
                        "text/html": "<div>\n<style scoped>\n    .dataframe tbody tr th:only-of-type {\n        vertical-align: middle;\n    }\n\n    .dataframe tbody tr th {\n        vertical-align: top;\n    }\n\n    .dataframe thead th {\n        text-align: right;\n    }\n</style>\n<table border=\"1\" class=\"dataframe\">\n  <thead>\n    <tr style=\"text-align: right;\">\n      <th></th>\n      <th>Planning Area</th>\n      <th>Secondary</th>\n      <th>Post-Secondary (Non-Tertiary)</th>\n      <th>Secondary Education in thousands</th>\n    </tr>\n  </thead>\n  <tbody>\n    <tr>\n      <th>0</th>\n      <td>Total</td>\n      <td>205.7</td>\n      <td>58.7</td>\n      <td>264.4</td>\n    </tr>\n    <tr>\n      <th>1</th>\n      <td>Ang Mo Kio</td>\n      <td>8.2</td>\n      <td>2.3</td>\n      <td>10.5</td>\n    </tr>\n    <tr>\n      <th>2</th>\n      <td>Bedok</td>\n      <td>15.0</td>\n      <td>4.2</td>\n      <td>19.2</td>\n    </tr>\n    <tr>\n      <th>3</th>\n      <td>Bishan</td>\n      <td>4.1</td>\n      <td>1.5</td>\n      <td>5.6</td>\n    </tr>\n    <tr>\n      <th>4</th>\n      <td>Bukit Batok</td>\n      <td>8.1</td>\n      <td>2.3</td>\n      <td>10.4</td>\n    </tr>\n  </tbody>\n</table>\n</div>",
                        "text/plain": "  Planning Area  Secondary  Post-Secondary (Non-Tertiary)  \\\n0         Total      205.7                           58.7   \n1    Ang Mo Kio        8.2                            2.3   \n2         Bedok       15.0                            4.2   \n3        Bishan        4.1                            1.5   \n4   Bukit Batok        8.1                            2.3   \n\n   Secondary Education in thousands  \n0                             264.4  \n1                              10.5  \n2                              19.2  \n3                               5.6  \n4                              10.4  "
                    },
                    "execution_count": 22,
                    "metadata": {},
                    "output_type": "execute_result"
                }
            ],
            "source": "# addtional column which sums up population from secondary and post-secondary education\nsgedu1_df['Secondary Education in thousands'] = sgedu1_df.apply(lambda x: x['Secondary'] + x['Post-Secondary (Non-Tertiary)'], axis=1)\n\n# check the dataframe\nsgedu1_df.head()"
        },
        {
            "cell_type": "markdown",
            "metadata": {},
            "source": "\n**3) change column units**"
        },
        {
            "cell_type": "code",
            "execution_count": 23,
            "metadata": {},
            "outputs": [
                {
                    "data": {
                        "text/html": "<div>\n<style scoped>\n    .dataframe tbody tr th:only-of-type {\n        vertical-align: middle;\n    }\n\n    .dataframe tbody tr th {\n        vertical-align: top;\n    }\n\n    .dataframe thead th {\n        text-align: right;\n    }\n</style>\n<table border=\"1\" class=\"dataframe\">\n  <thead>\n    <tr style=\"text-align: right;\">\n      <th></th>\n      <th>Planning Area</th>\n      <th>Secondary</th>\n      <th>Post-Secondary (Non-Tertiary)</th>\n      <th>Secondary Education in thousands</th>\n      <th>Secondary Education</th>\n    </tr>\n  </thead>\n  <tbody>\n    <tr>\n      <th>0</th>\n      <td>Total</td>\n      <td>205.7</td>\n      <td>58.7</td>\n      <td>264.4</td>\n      <td>264400.0</td>\n    </tr>\n    <tr>\n      <th>1</th>\n      <td>Ang Mo Kio</td>\n      <td>8.2</td>\n      <td>2.3</td>\n      <td>10.5</td>\n      <td>10500.0</td>\n    </tr>\n    <tr>\n      <th>2</th>\n      <td>Bedok</td>\n      <td>15.0</td>\n      <td>4.2</td>\n      <td>19.2</td>\n      <td>19200.0</td>\n    </tr>\n    <tr>\n      <th>3</th>\n      <td>Bishan</td>\n      <td>4.1</td>\n      <td>1.5</td>\n      <td>5.6</td>\n      <td>5600.0</td>\n    </tr>\n    <tr>\n      <th>4</th>\n      <td>Bukit Batok</td>\n      <td>8.1</td>\n      <td>2.3</td>\n      <td>10.4</td>\n      <td>10400.0</td>\n    </tr>\n  </tbody>\n</table>\n</div>",
                        "text/plain": "  Planning Area  Secondary  Post-Secondary (Non-Tertiary)  \\\n0         Total      205.7                           58.7   \n1    Ang Mo Kio        8.2                            2.3   \n2         Bedok       15.0                            4.2   \n3        Bishan        4.1                            1.5   \n4   Bukit Batok        8.1                            2.3   \n\n   Secondary Education in thousands  Secondary Education  \n0                             264.4             264400.0  \n1                              10.5              10500.0  \n2                              19.2              19200.0  \n3                               5.6               5600.0  \n4                              10.4              10400.0  "
                    },
                    "execution_count": 23,
                    "metadata": {},
                    "output_type": "execute_result"
                }
            ],
            "source": "# change the units from thousands to one\nsgedu1_df[\"Secondary Education\"] = 1000*sgedu1_df[\"Secondary Education in thousands\"]\n\n#check the dataframe\nsgedu1_df.head()"
        },
        {
            "cell_type": "markdown",
            "metadata": {},
            "source": "**4) Remove unwanted columns again**"
        },
        {
            "cell_type": "code",
            "execution_count": 24,
            "metadata": {},
            "outputs": [
                {
                    "data": {
                        "text/html": "<div>\n<style scoped>\n    .dataframe tbody tr th:only-of-type {\n        vertical-align: middle;\n    }\n\n    .dataframe tbody tr th {\n        vertical-align: top;\n    }\n\n    .dataframe thead th {\n        text-align: right;\n    }\n</style>\n<table border=\"1\" class=\"dataframe\">\n  <thead>\n    <tr style=\"text-align: right;\">\n      <th></th>\n      <th>Planning Area</th>\n      <th>Secondary Education</th>\n    </tr>\n  </thead>\n  <tbody>\n    <tr>\n      <th>0</th>\n      <td>Total</td>\n      <td>264400.0</td>\n    </tr>\n    <tr>\n      <th>1</th>\n      <td>Ang Mo Kio</td>\n      <td>10500.0</td>\n    </tr>\n    <tr>\n      <th>2</th>\n      <td>Bedok</td>\n      <td>19200.0</td>\n    </tr>\n    <tr>\n      <th>3</th>\n      <td>Bishan</td>\n      <td>5600.0</td>\n    </tr>\n    <tr>\n      <th>4</th>\n      <td>Bukit Batok</td>\n      <td>10400.0</td>\n    </tr>\n  </tbody>\n</table>\n</div>",
                        "text/plain": "  Planning Area  Secondary Education\n0         Total             264400.0\n1    Ang Mo Kio              10500.0\n2         Bedok              19200.0\n3        Bishan               5600.0\n4   Bukit Batok              10400.0"
                    },
                    "execution_count": 24,
                    "metadata": {},
                    "output_type": "execute_result"
                }
            ],
            "source": "# drop unwanted columns\nsgedu2_df=sgedu1_df.drop(['Secondary','Post-Secondary (Non-Tertiary)','Secondary Education in thousands'], axis=1)\n\n# check the dataframe\nsgedu2_df.head()"
        },
        {
            "cell_type": "markdown",
            "metadata": {},
            "source": "now we are done processing the second dataset!"
        },
        {
            "cell_type": "markdown",
            "metadata": {},
            "source": "**5\uff09save the Dataframe**"
        },
        {
            "cell_type": "code",
            "execution_count": 25,
            "metadata": {},
            "outputs": [],
            "source": "# save the dataframe as csv files for future use\nsgedu2_df.to_csv('DF2_Singapore Student Population.csv', index=False)"
        },
        {
            "cell_type": "markdown",
            "metadata": {},
            "source": " \n ---------------------------------------------------------------\n        \n        \n        \n        \n        "
        },
        {
            "cell_type": "markdown",
            "metadata": {},
            "source": "### 1.3 Dataset: Singapore's Population change and Subzones"
        },
        {
            "cell_type": "markdown",
            "metadata": {},
            "source": "#### a. Data acquirement"
        },
        {
            "cell_type": "code",
            "execution_count": 26,
            "metadata": {},
            "outputs": [],
            "source": "# use request.get to send a GET request to the specified url\nurl = \"https://www.citypopulation.de/en/singapore/admin/\"\n\nr = requests.get(url)\n\n# get content from website and store in a variable\nsgsubdiv_html = BeautifulSoup(r.content)\n\n# store all the strings in the html page in variable \"soup\"\nsoup = BeautifulSoup(str(sgsubdiv_html))"
        },
        {
            "cell_type": "code",
            "execution_count": 27,
            "metadata": {
                "scrolled": false
            },
            "outputs": [
                {
                    "data": {
                        "text/html": "<div>\n<style scoped>\n    .dataframe tbody tr th:only-of-type {\n        vertical-align: middle;\n    }\n\n    .dataframe tbody tr th {\n        vertical-align: top;\n    }\n\n    .dataframe thead th {\n        text-align: right;\n    }\n</style>\n<table border=\"1\" class=\"dataframe\">\n  <thead>\n    <tr style=\"text-align: right;\">\n      <th></th>\n      <th>Name</th>\n      <th>Status</th>\n      <th>PopulationCensus2000-06-30</th>\n      <th>PopulationCensus2010-06-30</th>\n      <th>PopulationEstimate2015-06-30</th>\n      <th>PopulationEstimate2019-06-30</th>\n      <th>Unnamed: 6</th>\n    </tr>\n  </thead>\n  <tbody>\n    <tr>\n      <th>0</th>\n      <td>Ang Mo Kio</td>\n      <td>Planning Area</td>\n      <td>180112</td>\n      <td>179297</td>\n      <td>174770</td>\n      <td>163950</td>\n      <td>\u2192</td>\n    </tr>\n    <tr>\n      <th>1</th>\n      <td>Ang Mo Kio Town Centre</td>\n      <td>Subzone</td>\n      <td>...</td>\n      <td>4982</td>\n      <td>5020</td>\n      <td>4820</td>\n      <td>\u2192</td>\n    </tr>\n    <tr>\n      <th>2</th>\n      <td>Cheng San</td>\n      <td>Subzone</td>\n      <td>31911</td>\n      <td>30503</td>\n      <td>29770</td>\n      <td>28190</td>\n      <td>\u2192</td>\n    </tr>\n    <tr>\n      <th>3</th>\n      <td>Chong Boon</td>\n      <td>Subzone</td>\n      <td>32859</td>\n      <td>29903</td>\n      <td>27900</td>\n      <td>26820</td>\n      <td>\u2192</td>\n    </tr>\n    <tr>\n      <th>4</th>\n      <td>Kebun Bahru</td>\n      <td>Subzone</td>\n      <td>26765</td>\n      <td>25854</td>\n      <td>23910</td>\n      <td>22970</td>\n      <td>\u2192</td>\n    </tr>\n  </tbody>\n</table>\n</div>",
                        "text/plain": "                     Name         Status PopulationCensus2000-06-30  \\\n0              Ang Mo Kio  Planning Area                     180112   \n1  Ang Mo Kio Town Centre        Subzone                        ...   \n2               Cheng San        Subzone                      31911   \n3              Chong Boon        Subzone                      32859   \n4             Kebun Bahru        Subzone                      26765   \n\n  PopulationCensus2010-06-30 PopulationEstimate2015-06-30  \\\n0                     179297                       174770   \n1                       4982                         5020   \n2                      30503                        29770   \n3                      29903                        27900   \n4                      25854                        23910   \n\n  PopulationEstimate2019-06-30 Unnamed: 6  \n0                       163950          \u2192  \n1                         4820          \u2192  \n2                        28190          \u2192  \n3                        26820          \u2192  \n4                        22970          \u2192  "
                    },
                    "execution_count": 27,
                    "metadata": {},
                    "output_type": "execute_result"
                }
            ],
            "source": "# use find \"table\"\nplarea_tb = soup.find('table')\n\n# extract the charaters from the table\ntable_str = str(plarea_tb.extract())\n\n# read the table into panda dataframe\nsgsubdiv_df = pd.read_html(table_str)[0]\n\n# display the first five rows of table \nsgsubdiv_df.head()"
        },
        {
            "cell_type": "code",
            "execution_count": 28,
            "metadata": {},
            "outputs": [
                {
                    "data": {
                        "text/plain": "(379, 7)"
                    },
                    "execution_count": 28,
                    "metadata": {},
                    "output_type": "execute_result"
                }
            ],
            "source": "# get the number of rows and columns in the table\nsgsubdiv_df.shape"
        },
        {
            "cell_type": "markdown",
            "metadata": {},
            "source": "#### b. Data cleaning and modification"
        },
        {
            "cell_type": "markdown",
            "metadata": {},
            "source": "**2) remove unwanted columns**"
        },
        {
            "cell_type": "code",
            "execution_count": 29,
            "metadata": {},
            "outputs": [
                {
                    "data": {
                        "text/plain": "Index(['Name', 'Status', 'PopulationCensus2000-06-30',\n       'PopulationCensus2010-06-30', 'PopulationEstimate2015-06-30',\n       'PopulationEstimate2019-06-30', 'Unnamed: 6'],\n      dtype='object')"
                    },
                    "execution_count": 29,
                    "metadata": {},
                    "output_type": "execute_result"
                }
            ],
            "source": "# get the names of the columns\nsgsubdiv_df.columns"
        },
        {
            "cell_type": "code",
            "execution_count": 30,
            "metadata": {},
            "outputs": [
                {
                    "data": {
                        "text/html": "<div>\n<style scoped>\n    .dataframe tbody tr th:only-of-type {\n        vertical-align: middle;\n    }\n\n    .dataframe tbody tr th {\n        vertical-align: top;\n    }\n\n    .dataframe thead th {\n        text-align: right;\n    }\n</style>\n<table border=\"1\" class=\"dataframe\">\n  <thead>\n    <tr style=\"text-align: right;\">\n      <th></th>\n      <th>Name</th>\n      <th>Status</th>\n      <th>PopulationEstimate2015-06-30</th>\n    </tr>\n  </thead>\n  <tbody>\n    <tr>\n      <th>0</th>\n      <td>Ang Mo Kio</td>\n      <td>Planning Area</td>\n      <td>174770</td>\n    </tr>\n    <tr>\n      <th>1</th>\n      <td>Ang Mo Kio Town Centre</td>\n      <td>Subzone</td>\n      <td>5020</td>\n    </tr>\n    <tr>\n      <th>2</th>\n      <td>Cheng San</td>\n      <td>Subzone</td>\n      <td>29770</td>\n    </tr>\n    <tr>\n      <th>3</th>\n      <td>Chong Boon</td>\n      <td>Subzone</td>\n      <td>27900</td>\n    </tr>\n    <tr>\n      <th>4</th>\n      <td>Kebun Bahru</td>\n      <td>Subzone</td>\n      <td>23910</td>\n    </tr>\n  </tbody>\n</table>\n</div>",
                        "text/plain": "                     Name         Status PopulationEstimate2015-06-30\n0              Ang Mo Kio  Planning Area                       174770\n1  Ang Mo Kio Town Centre        Subzone                         5020\n2               Cheng San        Subzone                        29770\n3              Chong Boon        Subzone                        27900\n4             Kebun Bahru        Subzone                        23910"
                    },
                    "execution_count": 30,
                    "metadata": {},
                    "output_type": "execute_result"
                }
            ],
            "source": "# drop unwanted columns\nsgsubdiv2_df = sgsubdiv_df.drop(['PopulationCensus2000-06-30', 'PopulationCensus2010-06-30', \n       'PopulationEstimate2019-06-30', 'Unnamed: 6'], axis=1)\n\n# display\nsgsubdiv2_df.head()"
        },
        {
            "cell_type": "markdown",
            "metadata": {},
            "source": "**2) get the rows with planning areas**"
        },
        {
            "cell_type": "code",
            "execution_count": 31,
            "metadata": {
                "scrolled": true
            },
            "outputs": [
                {
                    "data": {
                        "text/html": "<div>\n<style scoped>\n    .dataframe tbody tr th:only-of-type {\n        vertical-align: middle;\n    }\n\n    .dataframe tbody tr th {\n        vertical-align: top;\n    }\n\n    .dataframe thead th {\n        text-align: right;\n    }\n</style>\n<table border=\"1\" class=\"dataframe\">\n  <thead>\n    <tr style=\"text-align: right;\">\n      <th></th>\n      <th>Name</th>\n      <th>Status</th>\n      <th>PopulationEstimate2015-06-30</th>\n    </tr>\n  </thead>\n  <tbody>\n    <tr>\n      <th>0</th>\n      <td>Ang Mo Kio</td>\n      <td>Planning Area</td>\n      <td>174770</td>\n    </tr>\n    <tr>\n      <th>13</th>\n      <td>Bedok</td>\n      <td>Planning Area</td>\n      <td>289750</td>\n    </tr>\n    <tr>\n      <th>22</th>\n      <td>Bishan</td>\n      <td>Planning Area</td>\n      <td>90700</td>\n    </tr>\n    <tr>\n      <th>26</th>\n      <td>Boon Lay</td>\n      <td>Planning Area</td>\n      <td>30</td>\n    </tr>\n    <tr>\n      <th>31</th>\n      <td>Bukit Batok</td>\n      <td>Planning Area</td>\n      <td>139270</td>\n    </tr>\n  </tbody>\n</table>\n</div>",
                        "text/plain": "           Name         Status PopulationEstimate2015-06-30\n0    Ang Mo Kio  Planning Area                       174770\n13        Bedok  Planning Area                       289750\n22       Bishan  Planning Area                        90700\n26     Boon Lay  Planning Area                           30\n31  Bukit Batok  Planning Area                       139270"
                    },
                    "execution_count": 31,
                    "metadata": {},
                    "output_type": "execute_result"
                }
            ],
            "source": "# get the rows\nPlanarea_df = sgsubdiv2_df[sgsubdiv2_df.Status == 'Planning Area']\n\n# display\nPlanarea_df.head()"
        },
        {
            "cell_type": "code",
            "execution_count": 32,
            "metadata": {
                "scrolled": true
            },
            "outputs": [
                {
                    "data": {
                        "text/plain": "(55, 3)"
                    },
                    "execution_count": 32,
                    "metadata": {},
                    "output_type": "execute_result"
                }
            ],
            "source": "# check the number of rows and columns\nPlanarea_df.shape"
        },
        {
            "cell_type": "markdown",
            "metadata": {},
            "source": "**3) remove unwanted columns and rows and change the name**"
        },
        {
            "cell_type": "code",
            "execution_count": 33,
            "metadata": {
                "scrolled": false
            },
            "outputs": [
                {
                    "data": {
                        "text/html": "<div>\n<style scoped>\n    .dataframe tbody tr th:only-of-type {\n        vertical-align: middle;\n    }\n\n    .dataframe tbody tr th {\n        vertical-align: top;\n    }\n\n    .dataframe thead th {\n        text-align: right;\n    }\n</style>\n<table border=\"1\" class=\"dataframe\">\n  <thead>\n    <tr style=\"text-align: right;\">\n      <th></th>\n      <th>Planning Area</th>\n      <th>Population</th>\n    </tr>\n  </thead>\n  <tbody>\n    <tr>\n      <th>0</th>\n      <td>Ang Mo Kio</td>\n      <td>174770</td>\n    </tr>\n    <tr>\n      <th>13</th>\n      <td>Bedok</td>\n      <td>289750</td>\n    </tr>\n    <tr>\n      <th>22</th>\n      <td>Bishan</td>\n      <td>90700</td>\n    </tr>\n    <tr>\n      <th>26</th>\n      <td>Boon Lay</td>\n      <td>30</td>\n    </tr>\n    <tr>\n      <th>31</th>\n      <td>Bukit Batok</td>\n      <td>139270</td>\n    </tr>\n  </tbody>\n</table>\n</div>",
                        "text/plain": "   Planning Area Population\n0     Ang Mo Kio     174770\n13         Bedok     289750\n22        Bishan      90700\n26      Boon Lay         30\n31   Bukit Batok     139270"
                    },
                    "execution_count": 33,
                    "metadata": {},
                    "output_type": "execute_result"
                }
            ],
            "source": "# drop column of STATUS\nPlanarea2_df = Planarea_df.drop(['Status'], axis=1)\n\n# change name\nPlanarea3_df = Planarea2_df.rename(columns={\"PopulationEstimate2015-06-30\": \"Population\", 'Name':'Planning Area'})\n\n# drop rows\n# store these rows in a variable\npopulation_na = Planarea3_df[Planarea3_df.Population == '...']\n\n# drop these rows\nPlanarea3_df.drop(population_na.index, inplace=True)\n\n\n# display\nPlanarea3_df.head()\n                                           "
        },
        {
            "cell_type": "code",
            "execution_count": 34,
            "metadata": {},
            "outputs": [
                {
                    "data": {
                        "text/plain": "(49, 2)"
                    },
                    "execution_count": 34,
                    "metadata": {},
                    "output_type": "execute_result"
                }
            ],
            "source": "Planarea3_df.shape"
        },
        {
            "cell_type": "code",
            "execution_count": 35,
            "metadata": {},
            "outputs": [
                {
                    "data": {
                        "text/plain": "Planning Area    object\nPopulation       object\ndtype: object"
                    },
                    "execution_count": 35,
                    "metadata": {},
                    "output_type": "execute_result"
                }
            ],
            "source": "Planarea3_df.dtypes"
        },
        {
            "cell_type": "code",
            "execution_count": 36,
            "metadata": {},
            "outputs": [
                {
                    "data": {
                        "text/html": "<div>\n<style scoped>\n    .dataframe tbody tr th:only-of-type {\n        vertical-align: middle;\n    }\n\n    .dataframe tbody tr th {\n        vertical-align: top;\n    }\n\n    .dataframe thead th {\n        text-align: right;\n    }\n</style>\n<table border=\"1\" class=\"dataframe\">\n  <thead>\n    <tr style=\"text-align: right;\">\n      <th></th>\n      <th>Planning Area</th>\n      <th>Population</th>\n    </tr>\n  </thead>\n  <tbody>\n    <tr>\n      <th>0</th>\n      <td>Ang Mo Kio</td>\n      <td>174770.0</td>\n    </tr>\n    <tr>\n      <th>13</th>\n      <td>Bedok</td>\n      <td>289750.0</td>\n    </tr>\n    <tr>\n      <th>22</th>\n      <td>Bishan</td>\n      <td>90700.0</td>\n    </tr>\n    <tr>\n      <th>26</th>\n      <td>Boon Lay</td>\n      <td>30.0</td>\n    </tr>\n    <tr>\n      <th>31</th>\n      <td>Bukit Batok</td>\n      <td>139270.0</td>\n    </tr>\n  </tbody>\n</table>\n</div>",
                        "text/plain": "   Planning Area  Population\n0     Ang Mo Kio    174770.0\n13         Bedok    289750.0\n22        Bishan     90700.0\n26      Boon Lay        30.0\n31   Bukit Batok    139270.0"
                    },
                    "execution_count": 36,
                    "metadata": {},
                    "output_type": "execute_result"
                }
            ],
            "source": "Planarea3_df['Population'] = pd.to_numeric(Planarea3_df[\"Population\"], downcast=\"float\")\n\nPlanarea3_df.head()"
        },
        {
            "cell_type": "markdown",
            "metadata": {},
            "source": "**4) save the dataframe**"
        },
        {
            "cell_type": "code",
            "execution_count": 37,
            "metadata": {},
            "outputs": [],
            "source": "# save to csv\nPlanarea3_df.to_csv('DF3_Singapore Planning Area 2015 Population.csv', index=False)"
        },
        {
            "cell_type": "markdown",
            "metadata": {},
            "source": " \n ---------------------------------------------------------------\n        \n        \n        \n        \n        "
        },
        {
            "cell_type": "markdown",
            "metadata": {},
            "source": "### 1.3 Combining Dataset: Singapore's Student Population Density"
        },
        {
            "cell_type": "markdown",
            "metadata": {},
            "source": "#### a. Dataframe Access"
        },
        {
            "cell_type": "code",
            "execution_count": 38,
            "metadata": {},
            "outputs": [
                {
                    "data": {
                        "text/html": "<div>\n<style scoped>\n    .dataframe tbody tr th:only-of-type {\n        vertical-align: middle;\n    }\n\n    .dataframe tbody tr th {\n        vertical-align: top;\n    }\n\n    .dataframe thead th {\n        text-align: right;\n    }\n</style>\n<table border=\"1\" class=\"dataframe\">\n  <thead>\n    <tr style=\"text-align: right;\">\n      <th></th>\n      <th>Planning Area</th>\n      <th>Area (km2)</th>\n    </tr>\n  </thead>\n  <tbody>\n    <tr>\n      <th>0</th>\n      <td>Ang Mo Kio</td>\n      <td>13.94</td>\n    </tr>\n    <tr>\n      <th>1</th>\n      <td>Bedok</td>\n      <td>21.69</td>\n    </tr>\n    <tr>\n      <th>2</th>\n      <td>Bishan</td>\n      <td>7.62</td>\n    </tr>\n    <tr>\n      <th>3</th>\n      <td>Boon Lay</td>\n      <td>8.23</td>\n    </tr>\n    <tr>\n      <th>4</th>\n      <td>Bukit Batok</td>\n      <td>11.13</td>\n    </tr>\n  </tbody>\n</table>\n</div>",
                        "text/plain": "  Planning Area  Area (km2)\n0    Ang Mo Kio       13.94\n1         Bedok       21.69\n2        Bishan        7.62\n3      Boon Lay        8.23\n4   Bukit Batok       11.13"
                    },
                    "execution_count": 38,
                    "metadata": {},
                    "output_type": "execute_result"
                }
            ],
            "source": "# get first dataframe\npl_df = pd.read_csv('DF1_Singapore Planning Area.csv')\n\n# display\npl_df.head()"
        },
        {
            "cell_type": "code",
            "execution_count": 39,
            "metadata": {
                "scrolled": true
            },
            "outputs": [
                {
                    "data": {
                        "text/html": "<div>\n<style scoped>\n    .dataframe tbody tr th:only-of-type {\n        vertical-align: middle;\n    }\n\n    .dataframe tbody tr th {\n        vertical-align: top;\n    }\n\n    .dataframe thead th {\n        text-align: right;\n    }\n</style>\n<table border=\"1\" class=\"dataframe\">\n  <thead>\n    <tr style=\"text-align: right;\">\n      <th></th>\n      <th>Planning Area</th>\n      <th>Secondary Education</th>\n    </tr>\n  </thead>\n  <tbody>\n    <tr>\n      <th>0</th>\n      <td>Total</td>\n      <td>264400.0</td>\n    </tr>\n    <tr>\n      <th>1</th>\n      <td>Ang Mo Kio</td>\n      <td>10500.0</td>\n    </tr>\n    <tr>\n      <th>2</th>\n      <td>Bedok</td>\n      <td>19200.0</td>\n    </tr>\n    <tr>\n      <th>3</th>\n      <td>Bishan</td>\n      <td>5600.0</td>\n    </tr>\n    <tr>\n      <th>4</th>\n      <td>Bukit Batok</td>\n      <td>10400.0</td>\n    </tr>\n  </tbody>\n</table>\n</div>",
                        "text/plain": "  Planning Area  Secondary Education\n0         Total             264400.0\n1    Ang Mo Kio              10500.0\n2         Bedok              19200.0\n3        Bishan               5600.0\n4   Bukit Batok              10400.0"
                    },
                    "execution_count": 39,
                    "metadata": {},
                    "output_type": "execute_result"
                }
            ],
            "source": "# get second dataframe\nedu_df = pd.read_csv('DF2_Singapore Student Population.csv')\n\n# display\nedu_df.head()"
        },
        {
            "cell_type": "code",
            "execution_count": 40,
            "metadata": {},
            "outputs": [
                {
                    "data": {
                        "text/html": "<div>\n<style scoped>\n    .dataframe tbody tr th:only-of-type {\n        vertical-align: middle;\n    }\n\n    .dataframe tbody tr th {\n        vertical-align: top;\n    }\n\n    .dataframe thead th {\n        text-align: right;\n    }\n</style>\n<table border=\"1\" class=\"dataframe\">\n  <thead>\n    <tr style=\"text-align: right;\">\n      <th></th>\n      <th>Planning Area</th>\n      <th>Population</th>\n    </tr>\n  </thead>\n  <tbody>\n    <tr>\n      <th>0</th>\n      <td>Ang Mo Kio</td>\n      <td>174770.0</td>\n    </tr>\n    <tr>\n      <th>1</th>\n      <td>Bedok</td>\n      <td>289750.0</td>\n    </tr>\n    <tr>\n      <th>2</th>\n      <td>Bishan</td>\n      <td>90700.0</td>\n    </tr>\n    <tr>\n      <th>3</th>\n      <td>Boon Lay</td>\n      <td>30.0</td>\n    </tr>\n    <tr>\n      <th>4</th>\n      <td>Bukit Batok</td>\n      <td>139270.0</td>\n    </tr>\n  </tbody>\n</table>\n</div>",
                        "text/plain": "  Planning Area  Population\n0    Ang Mo Kio    174770.0\n1         Bedok    289750.0\n2        Bishan     90700.0\n3      Boon Lay        30.0\n4   Bukit Batok    139270.0"
                    },
                    "execution_count": 40,
                    "metadata": {},
                    "output_type": "execute_result"
                }
            ],
            "source": "# get third dataframe\npop_df = pd.read_csv('DF3_Singapore Planning Area 2015 Population.csv')\n\n# display\npop_df.head()"
        },
        {
            "cell_type": "markdown",
            "metadata": {},
            "source": "#### b. Merge and Modification"
        },
        {
            "cell_type": "markdown",
            "metadata": {},
            "source": "**1) Merge the three Dataframes**"
        },
        {
            "cell_type": "code",
            "execution_count": 41,
            "metadata": {},
            "outputs": [
                {
                    "data": {
                        "text/html": "<div>\n<style scoped>\n    .dataframe tbody tr th:only-of-type {\n        vertical-align: middle;\n    }\n\n    .dataframe tbody tr th {\n        vertical-align: top;\n    }\n\n    .dataframe thead th {\n        text-align: right;\n    }\n</style>\n<table border=\"1\" class=\"dataframe\">\n  <thead>\n    <tr style=\"text-align: right;\">\n      <th></th>\n      <th>Planning Area</th>\n      <th>Area (km2)</th>\n      <th>Secondary Education</th>\n      <th>Population</th>\n    </tr>\n  </thead>\n  <tbody>\n    <tr>\n      <th>0</th>\n      <td>Ang Mo Kio</td>\n      <td>13.94</td>\n      <td>10500.0</td>\n      <td>174770.0</td>\n    </tr>\n    <tr>\n      <th>1</th>\n      <td>Bedok</td>\n      <td>21.69</td>\n      <td>19200.0</td>\n      <td>289750.0</td>\n    </tr>\n    <tr>\n      <th>2</th>\n      <td>Bishan</td>\n      <td>7.62</td>\n      <td>5600.0</td>\n      <td>90700.0</td>\n    </tr>\n    <tr>\n      <th>3</th>\n      <td>Bukit Batok</td>\n      <td>11.13</td>\n      <td>10400.0</td>\n      <td>139270.0</td>\n    </tr>\n    <tr>\n      <th>4</th>\n      <td>Bukit Merah</td>\n      <td>14.34</td>\n      <td>7600.0</td>\n      <td>155840.0</td>\n    </tr>\n  </tbody>\n</table>\n</div>",
                        "text/plain": "  Planning Area  Area (km2)  Secondary Education  Population\n0    Ang Mo Kio       13.94              10500.0    174770.0\n1         Bedok       21.69              19200.0    289750.0\n2        Bishan        7.62               5600.0     90700.0\n3   Bukit Batok       11.13              10400.0    139270.0\n4   Bukit Merah       14.34               7600.0    155840.0"
                    },
                    "execution_count": 41,
                    "metadata": {},
                    "output_type": "execute_result"
                }
            ],
            "source": "# merge first two dataframes\nsgpad_df = pd.merge(pl_df, edu_df, on='Planning Area')\n\n# merge again\nsgpa_df = pd.merge(sgpad_df, pop_df, on='Planning Area')\n\n\n# check the dataframe\nsgpa_df.head()"
        },
        {
            "cell_type": "code",
            "execution_count": 42,
            "metadata": {
                "scrolled": true
            },
            "outputs": [
                {
                    "data": {
                        "text/plain": "(28, 4)"
                    },
                    "execution_count": 42,
                    "metadata": {},
                    "output_type": "execute_result"
                }
            ],
            "source": "# check the number of rows and columns\nsgpa_df.shape"
        },
        {
            "cell_type": "markdown",
            "metadata": {},
            "source": "**2) Adding columns**"
        },
        {
            "cell_type": "code",
            "execution_count": 43,
            "metadata": {},
            "outputs": [
                {
                    "data": {
                        "text/plain": "Planning Area           object\nArea (km2)             float64\nSecondary Education    float64\nPopulation             float64\ndtype: object"
                    },
                    "execution_count": 43,
                    "metadata": {},
                    "output_type": "execute_result"
                }
            ],
            "source": "# check the data types for futre reference\nsgpa_df.dtypes"
        },
        {
            "cell_type": "code",
            "execution_count": 44,
            "metadata": {},
            "outputs": [
                {
                    "data": {
                        "text/html": "<div>\n<style scoped>\n    .dataframe tbody tr th:only-of-type {\n        vertical-align: middle;\n    }\n\n    .dataframe tbody tr th {\n        vertical-align: top;\n    }\n\n    .dataframe thead th {\n        text-align: right;\n    }\n</style>\n<table border=\"1\" class=\"dataframe\">\n  <thead>\n    <tr style=\"text-align: right;\">\n      <th></th>\n      <th>Planning Area</th>\n      <th>Area (km2)</th>\n      <th>Secondary Education</th>\n      <th>Population</th>\n      <th>Density of Student Population(/km2)</th>\n      <th>Density of Population(/km2)</th>\n    </tr>\n  </thead>\n  <tbody>\n    <tr>\n      <th>0</th>\n      <td>Ang Mo Kio</td>\n      <td>13.94</td>\n      <td>10500.0</td>\n      <td>174770.0</td>\n      <td>753.228121</td>\n      <td>12537.302726</td>\n    </tr>\n    <tr>\n      <th>1</th>\n      <td>Bedok</td>\n      <td>21.69</td>\n      <td>19200.0</td>\n      <td>289750.0</td>\n      <td>885.200553</td>\n      <td>13358.690641</td>\n    </tr>\n    <tr>\n      <th>2</th>\n      <td>Bishan</td>\n      <td>7.62</td>\n      <td>5600.0</td>\n      <td>90700.0</td>\n      <td>734.908136</td>\n      <td>11902.887139</td>\n    </tr>\n    <tr>\n      <th>3</th>\n      <td>Bukit Batok</td>\n      <td>11.13</td>\n      <td>10400.0</td>\n      <td>139270.0</td>\n      <td>934.411500</td>\n      <td>12513.027853</td>\n    </tr>\n    <tr>\n      <th>4</th>\n      <td>Bukit Merah</td>\n      <td>14.34</td>\n      <td>7600.0</td>\n      <td>155840.0</td>\n      <td>529.986053</td>\n      <td>10867.503487</td>\n    </tr>\n  </tbody>\n</table>\n</div>",
                        "text/plain": "  Planning Area  Area (km2)  Secondary Education  Population  \\\n0    Ang Mo Kio       13.94              10500.0    174770.0   \n1         Bedok       21.69              19200.0    289750.0   \n2        Bishan        7.62               5600.0     90700.0   \n3   Bukit Batok       11.13              10400.0    139270.0   \n4   Bukit Merah       14.34               7600.0    155840.0   \n\n   Density of Student Population(/km2)  Density of Population(/km2)  \n0                           753.228121                 12537.302726  \n1                           885.200553                 13358.690641  \n2                           734.908136                 11902.887139  \n3                           934.411500                 12513.027853  \n4                           529.986053                 10867.503487  "
                    },
                    "execution_count": 44,
                    "metadata": {},
                    "output_type": "execute_result"
                }
            ],
            "source": "# add a column that calculates density of student population\nsgpa_df['Density of Student Population(/km2)'] = sgpa_df.apply(lambda x: x['Secondary Education'] / x['Area (km2)'], axis=1)\n\n# add a column that calculates density of population\nsgpa_df['Density of Population(/km2)'] = sgpa_df.apply(lambda x: x['Population'] / x['Area (km2)'], axis=1)\n\n# check the dataframe\nsgpa_df.head()"
        },
        {
            "cell_type": "markdown",
            "metadata": {},
            "source": "**3) Remove all unwanted columns again and again**"
        },
        {
            "cell_type": "code",
            "execution_count": 45,
            "metadata": {},
            "outputs": [
                {
                    "data": {
                        "text/html": "<div>\n<style scoped>\n    .dataframe tbody tr th:only-of-type {\n        vertical-align: middle;\n    }\n\n    .dataframe tbody tr th {\n        vertical-align: top;\n    }\n\n    .dataframe thead th {\n        text-align: right;\n    }\n</style>\n<table border=\"1\" class=\"dataframe\">\n  <thead>\n    <tr style=\"text-align: right;\">\n      <th></th>\n      <th>Planning Area</th>\n      <th>Density of Student Population(/km2)</th>\n      <th>Density of Population(/km2)</th>\n    </tr>\n  </thead>\n  <tbody>\n    <tr>\n      <th>0</th>\n      <td>Ang Mo Kio</td>\n      <td>753.228121</td>\n      <td>12537.302726</td>\n    </tr>\n    <tr>\n      <th>1</th>\n      <td>Bedok</td>\n      <td>885.200553</td>\n      <td>13358.690641</td>\n    </tr>\n    <tr>\n      <th>2</th>\n      <td>Bishan</td>\n      <td>734.908136</td>\n      <td>11902.887139</td>\n    </tr>\n    <tr>\n      <th>3</th>\n      <td>Bukit Batok</td>\n      <td>934.411500</td>\n      <td>12513.027853</td>\n    </tr>\n    <tr>\n      <th>4</th>\n      <td>Bukit Merah</td>\n      <td>529.986053</td>\n      <td>10867.503487</td>\n    </tr>\n  </tbody>\n</table>\n</div>",
                        "text/plain": "  Planning Area  Density of Student Population(/km2)  \\\n0    Ang Mo Kio                           753.228121   \n1         Bedok                           885.200553   \n2        Bishan                           734.908136   \n3   Bukit Batok                           934.411500   \n4   Bukit Merah                           529.986053   \n\n   Density of Population(/km2)  \n0                 12537.302726  \n1                 13358.690641  \n2                 11902.887139  \n3                 12513.027853  \n4                 10867.503487  "
                    },
                    "execution_count": 45,
                    "metadata": {},
                    "output_type": "execute_result"
                }
            ],
            "source": "# drop the columns\nsgpa2_df=sgpa_df.drop(['Area (km2)','Population','Secondary Education'], axis=1)\n\n# check \nsgpa2_df.head()"
        },
        {
            "cell_type": "code",
            "execution_count": 46,
            "metadata": {},
            "outputs": [
                {
                    "data": {
                        "text/plain": "(28, 3)"
                    },
                    "execution_count": 46,
                    "metadata": {},
                    "output_type": "execute_result"
                }
            ],
            "source": "# check\nsgpa2_df.shape"
        },
        {
            "cell_type": "markdown",
            "metadata": {},
            "source": "Now we are done with this part"
        },
        {
            "cell_type": "markdown",
            "metadata": {},
            "source": "**4) Save dataframe**"
        },
        {
            "cell_type": "code",
            "execution_count": 47,
            "metadata": {},
            "outputs": [],
            "source": "# save the dataframe as csv files for future use\nsgpa2_df.to_csv('DF4_Singapore Population Densities.csv', index=False)"
        },
        {
            "cell_type": "markdown",
            "metadata": {},
            "source": "### This is the end of Part 1: Data Preparation 1 for Planning Areas and Population\n\n------------------------------------------------------------------------\n------------------------------------------------------------------------"
        },
        {
            "cell_type": "markdown",
            "metadata": {},
            "source": "## Part 2: Data Analysis and Visualisation 1: Planning Areas and Population"
        },
        {
            "cell_type": "markdown",
            "metadata": {},
            "source": "### 2.1 Dataframe and Preparation"
        },
        {
            "cell_type": "markdown",
            "metadata": {},
            "source": "#### a. get data"
        },
        {
            "cell_type": "code",
            "execution_count": 48,
            "metadata": {},
            "outputs": [
                {
                    "data": {
                        "text/html": "<div>\n<style scoped>\n    .dataframe tbody tr th:only-of-type {\n        vertical-align: middle;\n    }\n\n    .dataframe tbody tr th {\n        vertical-align: top;\n    }\n\n    .dataframe thead th {\n        text-align: right;\n    }\n</style>\n<table border=\"1\" class=\"dataframe\">\n  <thead>\n    <tr style=\"text-align: right;\">\n      <th></th>\n      <th>Planning Area</th>\n      <th>Density of Student Population(/km2)</th>\n      <th>Density of Population(/km2)</th>\n    </tr>\n  </thead>\n  <tbody>\n    <tr>\n      <th>0</th>\n      <td>Ang Mo Kio</td>\n      <td>753.228121</td>\n      <td>12537.302726</td>\n    </tr>\n    <tr>\n      <th>1</th>\n      <td>Bedok</td>\n      <td>885.200553</td>\n      <td>13358.690641</td>\n    </tr>\n    <tr>\n      <th>2</th>\n      <td>Bishan</td>\n      <td>734.908136</td>\n      <td>11902.887139</td>\n    </tr>\n    <tr>\n      <th>3</th>\n      <td>Bukit Batok</td>\n      <td>934.411500</td>\n      <td>12513.027853</td>\n    </tr>\n    <tr>\n      <th>4</th>\n      <td>Bukit Merah</td>\n      <td>529.986053</td>\n      <td>10867.503487</td>\n    </tr>\n  </tbody>\n</table>\n</div>",
                        "text/plain": "  Planning Area  Density of Student Population(/km2)  \\\n0    Ang Mo Kio                           753.228121   \n1         Bedok                           885.200553   \n2        Bishan                           734.908136   \n3   Bukit Batok                           934.411500   \n4   Bukit Merah                           529.986053   \n\n   Density of Population(/km2)  \n0                 12537.302726  \n1                 13358.690641  \n2                 11902.887139  \n3                 12513.027853  \n4                 10867.503487  "
                    },
                    "execution_count": 48,
                    "metadata": {},
                    "output_type": "execute_result"
                }
            ],
            "source": "# read dataframe\nsgtc_df = pd.read_csv('DF4_Singapore Population Densities.csv')\n\n# display\nsgtc_df.head()"
        },
        {
            "cell_type": "markdown",
            "metadata": {},
            "source": "#### b. check and change datatypes"
        },
        {
            "cell_type": "markdown",
            "metadata": {},
            "source": "**1) check**"
        },
        {
            "cell_type": "code",
            "execution_count": 49,
            "metadata": {
                "scrolled": true
            },
            "outputs": [
                {
                    "data": {
                        "text/plain": "Planning Area                           object\nDensity of Student Population(/km2)    float64\nDensity of Population(/km2)            float64\ndtype: object"
                    },
                    "execution_count": 49,
                    "metadata": {},
                    "output_type": "execute_result"
                }
            ],
            "source": "# check datatypes\nsgtc_df.dtypes"
        },
        {
            "cell_type": "markdown",
            "metadata": {},
            "source": "**1) change**"
        },
        {
            "cell_type": "markdown",
            "metadata": {},
            "source": "#### c. import packages"
        },
        {
            "cell_type": "code",
            "execution_count": 50,
            "metadata": {
                "scrolled": true
            },
            "outputs": [
                {
                    "name": "stdout",
                    "output_type": "stream",
                    "text": "Matplotlib version:  3.0.2\n"
                }
            ],
            "source": "%matplotlib inline\n\n# Matplotlib and associated plotting modules\nimport matplotlib as mpl\nimport matplotlib.pyplot as plt\nimport matplotlib.cm as cm\nimport matplotlib.colors as colors\n\nmpl.style.use('ggplot')\n\nprint('Matplotlib version: ', mpl.__version__)"
        },
        {
            "cell_type": "markdown",
            "metadata": {},
            "source": " \n ---------------------------------------------------------------\n        \n        \n        \n        \n        "
        },
        {
            "cell_type": "markdown",
            "metadata": {},
            "source": "### 2.2 Overview of Population Density and Student Population Density"
        },
        {
            "cell_type": "markdown",
            "metadata": {},
            "source": "#### a. population density"
        },
        {
            "cell_type": "markdown",
            "metadata": {},
            "source": "**1) prepare the data**"
        },
        {
            "cell_type": "code",
            "execution_count": 51,
            "metadata": {},
            "outputs": [
                {
                    "data": {
                        "text/plain": "0    12537.302726\n1    13358.690641\n2    11902.887139\n3    12513.027853\n4    10867.503487\nName: Density of Population(/km2), dtype: float64"
                    },
                    "execution_count": 51,
                    "metadata": {},
                    "output_type": "execute_result"
                }
            ],
            "source": "# slice the table \ndf_density = sgtc_df.loc[0:27, 'Density of Population(/km2)']\n\n# display the column\ndf_density.head()"
        },
        {
            "cell_type": "markdown",
            "metadata": {},
            "source": "**2) plot data**"
        },
        {
            "cell_type": "code",
            "execution_count": 52,
            "metadata": {},
            "outputs": [
                {
                    "data": {
                        "text/plain": "<function matplotlib.pyplot.show(*args, **kw)>"
                    },
                    "execution_count": 52,
                    "metadata": {},
                    "output_type": "execute_result"
                },
                {
                    "data": {
                        "image/png": "[encoded data removed]",
                        "text/plain": "<Figure size 720x432 with 1 Axes>"
                    },
                    "metadata": {
                        "needs_background": "light"
                    },
                    "output_type": "display_data"
                }
            ],
            "source": "# plot style\ndf_density.plot(kind='bar', figsize=(10, 6), color='lightblue')\n\n# add to x-label to the plot\nplt.xlabel('Index of Planning Area') \n# add to y-label to the plot\nplt.ylabel('Density of Population per Square Meter')\n# add title to the plot\nplt.title('Density of Population by Planning Area')\n\n# display\nplt.show"
        },
        {
            "cell_type": "markdown",
            "metadata": {},
            "source": "#### b. Student population density"
        },
        {
            "cell_type": "markdown",
            "metadata": {},
            "source": "**1) prepare the data**"
        },
        {
            "cell_type": "code",
            "execution_count": 53,
            "metadata": {},
            "outputs": [
                {
                    "data": {
                        "text/plain": "0    753.228121\n1    885.200553\n2    734.908136\n3    934.411500\n4    529.986053\nName: Density of Student Population(/km2), dtype: float64"
                    },
                    "execution_count": 53,
                    "metadata": {},
                    "output_type": "execute_result"
                }
            ],
            "source": "# slice the table \ndf_stdensity = sgtc_df.loc[0:27, 'Density of Student Population(/km2)']\n\n# display the column\ndf_stdensity.head()"
        },
        {
            "cell_type": "markdown",
            "metadata": {},
            "source": "**2) plot data**"
        },
        {
            "cell_type": "code",
            "execution_count": 54,
            "metadata": {
                "scrolled": true
            },
            "outputs": [
                {
                    "data": {
                        "text/plain": "<function matplotlib.pyplot.show(*args, **kw)>"
                    },
                    "execution_count": 54,
                    "metadata": {},
                    "output_type": "execute_result"
                },
                {
                    "data": {
                        "image/png": "[encoded data removed]",
                        "text/plain": "<Figure size 720x432 with 1 Axes>"
                    },
                    "metadata": {
                        "needs_background": "light"
                    },
                    "output_type": "display_data"
                }
            ],
            "source": "\n\n# plot style\ndf_stdensity.plot(kind='bar', figsize=(10, 6), color='steelblue')\n\n# add to x-label to the plot\nplt.xlabel('Index of Planning Area') \n# add to y-label to the plot\nplt.ylabel('Density of Student Population per Square Meter')\n# add title to the plot\nplt.title('Density of Student Population by Planning Area')\n# add \n\n# display\nplt.show"
        },
        {
            "cell_type": "markdown",
            "metadata": {},
            "source": " \n ---------------------------------------------------------------\n        \n        \n        \n        \n        "
        },
        {
            "cell_type": "markdown",
            "metadata": {},
            "source": "### 2.3 The Top 10  "
        },
        {
            "cell_type": "markdown",
            "metadata": {},
            "source": "#### a. Top 10 Planning Areas with the highest population density"
        },
        {
            "cell_type": "markdown",
            "metadata": {},
            "source": "**1) sorting data**"
        },
        {
            "cell_type": "code",
            "execution_count": 55,
            "metadata": {
                "scrolled": true
            },
            "outputs": [
                {
                    "data": {
                        "text/html": "<div>\n<style scoped>\n    .dataframe tbody tr th:only-of-type {\n        vertical-align: middle;\n    }\n\n    .dataframe tbody tr th {\n        vertical-align: top;\n    }\n\n    .dataframe thead th {\n        text-align: right;\n    }\n</style>\n<table border=\"1\" class=\"dataframe\">\n  <thead>\n    <tr style=\"text-align: right;\">\n      <th></th>\n      <th>Planning Area</th>\n      <th>Density of Student Population(/km2)</th>\n      <th>Density of Population(/km2)</th>\n    </tr>\n  </thead>\n  <tbody>\n    <tr>\n      <th>24</th>\n      <td>Tanglin</td>\n      <td>131.061599</td>\n      <td>2490.170380</td>\n    </tr>\n    <tr>\n      <th>6</th>\n      <td>Bukit Timah</td>\n      <td>330.861380</td>\n      <td>4248.146035</td>\n    </tr>\n    <tr>\n      <th>11</th>\n      <td>Jurong East</td>\n      <td>274.817723</td>\n      <td>4766.124509</td>\n    </tr>\n    <tr>\n      <th>19</th>\n      <td>Queenstown</td>\n      <td>230.053842</td>\n      <td>4799.314733</td>\n    </tr>\n    <tr>\n      <th>15</th>\n      <td>Novena</td>\n      <td>278.396437</td>\n      <td>5344.097996</td>\n    </tr>\n  </tbody>\n</table>\n</div>",
                        "text/plain": "   Planning Area  Density of Student Population(/km2)  \\\n24       Tanglin                           131.061599   \n6    Bukit Timah                           330.861380   \n11   Jurong East                           274.817723   \n19    Queenstown                           230.053842   \n15        Novena                           278.396437   \n\n    Density of Population(/km2)  \n24                  2490.170380  \n6                   4248.146035  \n11                  4766.124509  \n19                  4799.314733  \n15                  5344.097996  "
                    },
                    "execution_count": 55,
                    "metadata": {},
                    "output_type": "execute_result"
                }
            ],
            "source": "# storing sgtc in another dataframe to avoid confusion and interaction\nsgtcsorted_df = sgtc_df\n\n# sorting the data\nsgtcsorted_df.sort_values(by='Density of Population(/km2)', ascending=True, axis=0, inplace=True)\n\n# display\nsgtcsorted_df.head()"
        },
        {
            "cell_type": "markdown",
            "metadata": {},
            "source": "**2) Get the top 10**"
        },
        {
            "cell_type": "code",
            "execution_count": 56,
            "metadata": {},
            "outputs": [
                {
                    "data": {
                        "text/plain": "0     12537.302726\n1     13358.690641\n25    15292.533660\n5     15464.961068\n10    15959.081120\n16    16116.788321\n26    18417.218543\n12    18560.925800\n21    19516.525024\n7     28531.914894\nName: Density of Population(/km2), dtype: float64"
                    },
                    "execution_count": 56,
                    "metadata": {},
                    "output_type": "execute_result"
                }
            ],
            "source": "# get the bottom 10 rows\nsgtcsorted_top10 = sgtcsorted_df['Density of Population(/km2)'].tail(10)\n\n# display\nsgtcsorted_top10"
        },
        {
            "cell_type": "code",
            "execution_count": 57,
            "metadata": {},
            "outputs": [
                {
                    "data": {
                        "text/plain": "0        Ang Mo Kio\n1             Bedok\n25        Toa Payoh\n5     Bukit Panjang\n10          Hougang\n16           Outram\n26        Woodlands\n12      Jurong West\n21         Sengkang\n7     Choa Chu Kang\nName: Planning Area, dtype: object"
                    },
                    "execution_count": 57,
                    "metadata": {},
                    "output_type": "execute_result"
                }
            ],
            "source": "# get the bottom 10 rows\nsgtcsorted2_top10 = sgtcsorted_df['Planning Area'].tail(10)\n\n# display\nsgtcsorted2_top10"
        },
        {
            "cell_type": "markdown",
            "metadata": {},
            "source": "**3) plot data**"
        },
        {
            "cell_type": "code",
            "execution_count": 58,
            "metadata": {},
            "outputs": [
                {
                    "data": {
                        "image/png": "[encoded data removed]",
                        "text/plain": "<Figure size 1008x720 with 1 Axes>"
                    },
                    "metadata": {
                        "needs_background": "light"
                    },
                    "output_type": "display_data"
                }
            ],
            "source": "# plot kind and stypl, this time using horizontal bar\nsgtcsorted_top10.plot(kind='barh', figsize=(14, 10), color='lightblue')\n\n# add x-label\nplt.xlabel('Density of Population per Square Kilometer')\n# add y-label\nplt.ylabel('Index of Planning Area')\n# add title\nplt.title('Top 10 planning areas with highest density of population')\n\n# format int with commas (it doesn't work it seems....)\nfor index, value in enumerate(sgtcsorted_top10): \n    label = format(int(value), ',')\n    \n# display\nplt.show()"
        },
        {
            "cell_type": "code",
            "execution_count": 59,
            "metadata": {},
            "outputs": [
                {
                    "data": {
                        "image/png": "[encoded data removed]",
                        "text/plain": "<Figure size 1008x720 with 1 Axes>"
                    },
                    "metadata": {
                        "needs_background": "light"
                    },
                    "output_type": "display_data"
                }
            ],
            "source": "planning_area = [0,1,2,3,4,5,6,7,8,9]\nlabels= [\"Ang Mo Kio\", \"Bedok\",  \"Toa Payoh\", \"Bukit Panjang\", \"Hougang\", \"Outram\", \"Woodlands\", \"Jurong West\", \"Sengkang\", \"Choa Chu Kang\"]\n\n# plot kind and stypl, this time using horizontal bar\nsgtcsorted_top10.plot(kind='barh', figsize=(14, 10), color='lightblue')\n\n# add x-label\nplt.xlabel('Density of Population per Square Kilometer')\n# add y-label\nplt.ylabel('Planning Area')\n# add title\nplt.title('Top 10 planning areas with highest density of population')\n# add labels\nplt.yticks(planning_area, labels)\n\n    \n# display\nplt.show()"
        },
        {
            "cell_type": "markdown",
            "metadata": {},
            "source": "#### b. Top 10 Planning Areas with the highest student population density"
        },
        {
            "cell_type": "markdown",
            "metadata": {},
            "source": "**1) sorting data**"
        },
        {
            "cell_type": "code",
            "execution_count": 60,
            "metadata": {
                "scrolled": true
            },
            "outputs": [
                {
                    "data": {
                        "text/html": "<div>\n<style scoped>\n    .dataframe tbody tr th:only-of-type {\n        vertical-align: middle;\n    }\n\n    .dataframe tbody tr th {\n        vertical-align: top;\n    }\n\n    .dataframe thead th {\n        text-align: right;\n    }\n</style>\n<table border=\"1\" class=\"dataframe\">\n  <thead>\n    <tr style=\"text-align: right;\">\n      <th></th>\n      <th>Planning Area</th>\n      <th>Density of Student Population(/km2)</th>\n      <th>Density of Population(/km2)</th>\n    </tr>\n  </thead>\n  <tbody>\n    <tr>\n      <th>24</th>\n      <td>Tanglin</td>\n      <td>131.061599</td>\n      <td>2490.170380</td>\n    </tr>\n    <tr>\n      <th>19</th>\n      <td>Queenstown</td>\n      <td>230.053842</td>\n      <td>4799.314733</td>\n    </tr>\n    <tr>\n      <th>11</th>\n      <td>Jurong East</td>\n      <td>274.817723</td>\n      <td>4766.124509</td>\n    </tr>\n    <tr>\n      <th>15</th>\n      <td>Novena</td>\n      <td>278.396437</td>\n      <td>5344.097996</td>\n    </tr>\n    <tr>\n      <th>6</th>\n      <td>Bukit Timah</td>\n      <td>330.861380</td>\n      <td>4248.146035</td>\n    </tr>\n  </tbody>\n</table>\n</div>",
                        "text/plain": "   Planning Area  Density of Student Population(/km2)  \\\n24       Tanglin                           131.061599   \n19    Queenstown                           230.053842   \n11   Jurong East                           274.817723   \n15        Novena                           278.396437   \n6    Bukit Timah                           330.861380   \n\n    Density of Population(/km2)  \n24                  2490.170380  \n19                  4799.314733  \n11                  4766.124509  \n15                  5344.097996  \n6                   4248.146035  "
                    },
                    "execution_count": 60,
                    "metadata": {},
                    "output_type": "execute_result"
                }
            ],
            "source": "# storing sgtc in another dataframe to avoid confusion and interaction\nsgtcstsorted_df = sgtc_df\n\n# sorting the data\nsgtcstsorted_df.sort_values(by='Density of Student Population(/km2)', ascending=True, axis=0, inplace=True)\n\n# display\nsgtcstsorted_df.head()"
        },
        {
            "cell_type": "markdown",
            "metadata": {},
            "source": "**2) Get the top 10**"
        },
        {
            "cell_type": "code",
            "execution_count": 61,
            "metadata": {
                "scrolled": true
            },
            "outputs": [
                {
                    "data": {
                        "text/plain": "17     812.250333\n23     861.656295\n1      885.200553\n3      934.411500\n10    1148.600144\n5     1179.087875\n12    1497.617427\n21    1558.073654\n26    1736.571008\n7     2536.824877\nName: Density of Student Population(/km2), dtype: float64"
                    },
                    "execution_count": 61,
                    "metadata": {},
                    "output_type": "execute_result"
                }
            ],
            "source": "# get the bottom 10 rows\nsgtcstsorted_top10 = sgtcsorted_df['Density of Student Population(/km2)'].tail(10)\n\n# display\nsgtcstsorted_top10"
        },
        {
            "cell_type": "markdown",
            "metadata": {},
            "source": "**3) plot data**"
        },
        {
            "cell_type": "code",
            "execution_count": 62,
            "metadata": {
                "scrolled": true
            },
            "outputs": [
                {
                    "data": {
                        "image/png": "[encoded data removed]",
                        "text/plain": "<Figure size 1008x720 with 1 Axes>"
                    },
                    "metadata": {
                        "needs_background": "light"
                    },
                    "output_type": "display_data"
                }
            ],
            "source": "# plot kind and style, this time using horizontal bar\nsgtcstsorted_top10.plot(kind='barh', figsize=(14, 10), color='steelblue')\n\n# add x-label\nplt.xlabel('Density of Student Population per Square Kilometer')\n# add y-label\nplt.ylabel('Planning Area')\n# add title\nplt.title('Top 10 planning areas with highest density of population')\n\n\n# format int with commas (it doesn't work it seems....)\nfor index, value in enumerate(sgtcstsorted_top10): \n    label = format(int(value), ',')\n    \n# display\nplt.show()"
        },
        {
            "cell_type": "code",
            "execution_count": 63,
            "metadata": {
                "scrolled": true
            },
            "outputs": [
                {
                    "data": {
                        "image/png": "[encoded data removed]",
                        "text/plain": "<Figure size 1008x720 with 1 Axes>"
                    },
                    "metadata": {
                        "needs_background": "light"
                    },
                    "output_type": "display_data"
                }
            ],
            "source": "# define variables\nplanning_area = [0,1,2,3,4,5,6,7,8,9]\nlabels= [\"Pasir Ris\", \"Tampines\", \"Bedok\", \"Bukit Batok\", \"Hougang\", \"Bukit Panjang\", \"Jurong West\", \"Sengkang\", \"Woodlands\", \"Choa Chu Kang\"]\n\n\n# plot kind and style, this time using horizontal bar\nsgtcstsorted_top10.plot(kind='barh', figsize=(14, 10), color='steelblue')\n\n# add x-label\nplt.xlabel('Density of Student Population per Square Kilometer')\n# add y-label\nplt.ylabel('Planning Area')\n# add title\nplt.title('Top 10 planning areas with highest density of population')\n# add labels\nplt.yticks(planning_area, labels)\n\n# format int with commas (it doesn't work it seems....)\nfor index, value in enumerate(sgtcstsorted_top10): \n    label = format(int(value), ',')\n    \n# display\nplt.show()"
        },
        {
            "cell_type": "markdown",
            "metadata": {},
            "source": " \n ---------------------------------------------------------------\n        \n        \n        \n        \n        "
        },
        {
            "cell_type": "markdown",
            "metadata": {},
            "source": "### 2.4 Combined Plot with Planning Area"
        },
        {
            "cell_type": "markdown",
            "metadata": {},
            "source": "#### a. by Student Population"
        },
        {
            "cell_type": "markdown",
            "metadata": {},
            "source": "**1) get data**"
        },
        {
            "cell_type": "code",
            "execution_count": 64,
            "metadata": {
                "scrolled": true
            },
            "outputs": [
                {
                    "data": {
                        "text/html": "<div>\n<style scoped>\n    .dataframe tbody tr th:only-of-type {\n        vertical-align: middle;\n    }\n\n    .dataframe tbody tr th {\n        vertical-align: top;\n    }\n\n    .dataframe thead th {\n        text-align: right;\n    }\n</style>\n<table border=\"1\" class=\"dataframe\">\n  <thead>\n    <tr style=\"text-align: right;\">\n      <th></th>\n      <th>Planning Area</th>\n      <th>Density of Student Population(/km2)</th>\n      <th>Density of Population(/km2)</th>\n    </tr>\n  </thead>\n  <tbody>\n    <tr>\n      <th>17</th>\n      <td>Pasir Ris</td>\n      <td>812.250333</td>\n      <td>9313.581891</td>\n    </tr>\n    <tr>\n      <th>23</th>\n      <td>Tampines</td>\n      <td>861.656295</td>\n      <td>12505.026328</td>\n    </tr>\n    <tr>\n      <th>1</th>\n      <td>Bedok</td>\n      <td>885.200553</td>\n      <td>13358.690641</td>\n    </tr>\n    <tr>\n      <th>3</th>\n      <td>Bukit Batok</td>\n      <td>934.411500</td>\n      <td>12513.027853</td>\n    </tr>\n    <tr>\n      <th>10</th>\n      <td>Hougang</td>\n      <td>1148.600144</td>\n      <td>15959.081120</td>\n    </tr>\n    <tr>\n      <th>5</th>\n      <td>Bukit Panjang</td>\n      <td>1179.087875</td>\n      <td>15464.961068</td>\n    </tr>\n    <tr>\n      <th>12</th>\n      <td>Jurong West</td>\n      <td>1497.617427</td>\n      <td>18560.925800</td>\n    </tr>\n    <tr>\n      <th>21</th>\n      <td>Sengkang</td>\n      <td>1558.073654</td>\n      <td>19516.525024</td>\n    </tr>\n    <tr>\n      <th>26</th>\n      <td>Woodlands</td>\n      <td>1736.571008</td>\n      <td>18417.218543</td>\n    </tr>\n    <tr>\n      <th>7</th>\n      <td>Choa Chu Kang</td>\n      <td>2536.824877</td>\n      <td>28531.914894</td>\n    </tr>\n  </tbody>\n</table>\n</div>",
                        "text/plain": "    Planning Area  Density of Student Population(/km2)  \\\n17      Pasir Ris                           812.250333   \n23       Tampines                           861.656295   \n1           Bedok                           885.200553   \n3     Bukit Batok                           934.411500   \n10        Hougang                          1148.600144   \n5   Bukit Panjang                          1179.087875   \n12    Jurong West                          1497.617427   \n21       Sengkang                          1558.073654   \n26      Woodlands                          1736.571008   \n7   Choa Chu Kang                          2536.824877   \n\n    Density of Population(/km2)  \n17                  9313.581891  \n23                 12505.026328  \n1                  13358.690641  \n3                  12513.027853  \n10                 15959.081120  \n5                  15464.961068  \n12                 18560.925800  \n21                 19516.525024  \n26                 18417.218543  \n7                  28531.914894  "
                    },
                    "execution_count": 64,
                    "metadata": {},
                    "output_type": "execute_result"
                }
            ],
            "source": "# get the top 10 planning areas with the highest density of student population\nsgtc3_top10 = sgtcstsorted_df.tail(10)\n\n# display\nsgtc3_top10"
        },
        {
            "cell_type": "markdown",
            "metadata": {},
            "source": "**2) data plot**"
        },
        {
            "cell_type": "code",
            "execution_count": 65,
            "metadata": {},
            "outputs": [
                {
                    "data": {
                        "image/png": "[encoded data removed]",
                        "text/plain": "<Figure size 432x288 with 1 Axes>"
                    },
                    "metadata": {
                        "needs_background": "light"
                    },
                    "output_type": "display_data"
                }
            ],
            "source": "planning_area = [1,2,3,4,5,6,7,8,9,10]\ndensity_of_student_population = sgtc3_top10['Density of Student Population(/km2)']\nlabels= sgtc3_top10['Planning Area']\n\nplt.bar(planning_area, density_of_student_population, align='center', width=0.25, color='steelblue')\nplt.xticks(planning_area, labels)\n\n# add x-label\nplt.xlabel('Planning Area')\n# add y-label\nplt.ylabel('Density of Student Population per Square Kilometer')\n# add title\nplt.title('Top 10 planning areas with highest density of population')\n\nplt.show()"
        },
        {
            "cell_type": "code",
            "execution_count": 66,
            "metadata": {
                "scrolled": true
            },
            "outputs": [
                {
                    "data": {
                        "image/png": "[encoded data removed]",
                        "text/plain": "<Figure size 432x288 with 1 Axes>"
                    },
                    "metadata": {
                        "needs_background": "light"
                    },
                    "output_type": "display_data"
                }
            ],
            "source": "# define variables \ndensity_of_population = sgtc3_top10['Density of Population(/km2)']\ndensity_of_student_population = sgtc3_top10['Density of Student Population(/km2)']\nlabels= sgtc3_top10['Planning Area']\n\n#\nx = np.arange(len(labels))\nwidth = 0.25\n\nfig, ax = plt.subplots()\nrects1 = ax.bar(x - width/2, density_of_population, width, label='Population')\nrects2 = ax.bar(x + width/2, density_of_student_population, width, label='Student Population')\n\nax.set_ylabel('Density per Square Kilometer')\nax.set_xlabel('Planning Area')\nax.set_title('Density per Square Kilometer by Planning Area')\nax.set_xticks(x)\nax.set_xticklabels(labels, rotation=90)\nax.legend()\n\n\n\nplt.show()"
        },
        {
            "cell_type": "markdown",
            "metadata": {},
            "source": "#### b by Population"
        },
        {
            "cell_type": "markdown",
            "metadata": {},
            "source": "**1) get data**"
        },
        {
            "cell_type": "code",
            "execution_count": 67,
            "metadata": {
                "scrolled": true
            },
            "outputs": [
                {
                    "data": {
                        "text/html": "<div>\n<style scoped>\n    .dataframe tbody tr th:only-of-type {\n        vertical-align: middle;\n    }\n\n    .dataframe tbody tr th {\n        vertical-align: top;\n    }\n\n    .dataframe thead th {\n        text-align: right;\n    }\n</style>\n<table border=\"1\" class=\"dataframe\">\n  <thead>\n    <tr style=\"text-align: right;\">\n      <th></th>\n      <th>Planning Area</th>\n      <th>Density of Student Population(/km2)</th>\n      <th>Density of Population(/km2)</th>\n    </tr>\n  </thead>\n  <tbody>\n    <tr>\n      <th>24</th>\n      <td>Tanglin</td>\n      <td>131.061599</td>\n      <td>2490.170380</td>\n    </tr>\n    <tr>\n      <th>6</th>\n      <td>Bukit Timah</td>\n      <td>330.861380</td>\n      <td>4248.146035</td>\n    </tr>\n    <tr>\n      <th>11</th>\n      <td>Jurong East</td>\n      <td>274.817723</td>\n      <td>4766.124509</td>\n    </tr>\n    <tr>\n      <th>19</th>\n      <td>Queenstown</td>\n      <td>230.053842</td>\n      <td>4799.314733</td>\n    </tr>\n    <tr>\n      <th>15</th>\n      <td>Novena</td>\n      <td>278.396437</td>\n      <td>5344.097996</td>\n    </tr>\n  </tbody>\n</table>\n</div>",
                        "text/plain": "   Planning Area  Density of Student Population(/km2)  \\\n24       Tanglin                           131.061599   \n6    Bukit Timah                           330.861380   \n11   Jurong East                           274.817723   \n19    Queenstown                           230.053842   \n15        Novena                           278.396437   \n\n    Density of Population(/km2)  \n24                  2490.170380  \n6                   4248.146035  \n11                  4766.124509  \n19                  4799.314733  \n15                  5344.097996  "
                    },
                    "execution_count": 67,
                    "metadata": {},
                    "output_type": "execute_result"
                }
            ],
            "source": "# storing sgtc in another dataframe to avoid confusion and interaction\nsgtcsorted2_df = sgtc_df\n\n# sorting the data\nsgtcsorted2_df.sort_values(by='Density of Population(/km2)', ascending=True, axis=0, inplace=True)\n\n# display\nsgtcsorted2_df.head()"
        },
        {
            "cell_type": "code",
            "execution_count": 68,
            "metadata": {
                "scrolled": true
            },
            "outputs": [
                {
                    "data": {
                        "text/html": "<div>\n<style scoped>\n    .dataframe tbody tr th:only-of-type {\n        vertical-align: middle;\n    }\n\n    .dataframe tbody tr th {\n        vertical-align: top;\n    }\n\n    .dataframe thead th {\n        text-align: right;\n    }\n</style>\n<table border=\"1\" class=\"dataframe\">\n  <thead>\n    <tr style=\"text-align: right;\">\n      <th></th>\n      <th>Planning Area</th>\n      <th>Density of Student Population(/km2)</th>\n      <th>Density of Population(/km2)</th>\n    </tr>\n  </thead>\n  <tbody>\n    <tr>\n      <th>0</th>\n      <td>Ang Mo Kio</td>\n      <td>753.228121</td>\n      <td>12537.302726</td>\n    </tr>\n    <tr>\n      <th>1</th>\n      <td>Bedok</td>\n      <td>885.200553</td>\n      <td>13358.690641</td>\n    </tr>\n    <tr>\n      <th>25</th>\n      <td>Toa Payoh</td>\n      <td>807.833537</td>\n      <td>15292.533660</td>\n    </tr>\n    <tr>\n      <th>5</th>\n      <td>Bukit Panjang</td>\n      <td>1179.087875</td>\n      <td>15464.961068</td>\n    </tr>\n    <tr>\n      <th>10</th>\n      <td>Hougang</td>\n      <td>1148.600144</td>\n      <td>15959.081120</td>\n    </tr>\n    <tr>\n      <th>16</th>\n      <td>Outram</td>\n      <td>364.963504</td>\n      <td>16116.788321</td>\n    </tr>\n    <tr>\n      <th>26</th>\n      <td>Woodlands</td>\n      <td>1736.571008</td>\n      <td>18417.218543</td>\n    </tr>\n    <tr>\n      <th>12</th>\n      <td>Jurong West</td>\n      <td>1497.617427</td>\n      <td>18560.925800</td>\n    </tr>\n    <tr>\n      <th>21</th>\n      <td>Sengkang</td>\n      <td>1558.073654</td>\n      <td>19516.525024</td>\n    </tr>\n    <tr>\n      <th>7</th>\n      <td>Choa Chu Kang</td>\n      <td>2536.824877</td>\n      <td>28531.914894</td>\n    </tr>\n  </tbody>\n</table>\n</div>",
                        "text/plain": "    Planning Area  Density of Student Population(/km2)  \\\n0      Ang Mo Kio                           753.228121   \n1           Bedok                           885.200553   \n25      Toa Payoh                           807.833537   \n5   Bukit Panjang                          1179.087875   \n10        Hougang                          1148.600144   \n16         Outram                           364.963504   \n26      Woodlands                          1736.571008   \n12    Jurong West                          1497.617427   \n21       Sengkang                          1558.073654   \n7   Choa Chu Kang                          2536.824877   \n\n    Density of Population(/km2)  \n0                  12537.302726  \n1                  13358.690641  \n25                 15292.533660  \n5                  15464.961068  \n10                 15959.081120  \n16                 16116.788321  \n26                 18417.218543  \n12                 18560.925800  \n21                 19516.525024  \n7                  28531.914894  "
                    },
                    "execution_count": 68,
                    "metadata": {},
                    "output_type": "execute_result"
                }
            ],
            "source": "# get the top 10 planning areas with the highest density of student population\nsgtc4_top10 = sgtcsorted2_df.tail(10)\n\n# display\nsgtc4_top10"
        },
        {
            "cell_type": "markdown",
            "metadata": {},
            "source": "**2) data plot**"
        },
        {
            "cell_type": "code",
            "execution_count": 69,
            "metadata": {},
            "outputs": [
                {
                    "data": {
                        "image/png": "[encoded data removed]",
                        "text/plain": "<Figure size 432x288 with 1 Axes>"
                    },
                    "metadata": {
                        "needs_background": "light"
                    },
                    "output_type": "display_data"
                }
            ],
            "source": "planning_area = [1,2,3,4,5,6,7,8,9,10]\ndensity_of_student_population = sgtc4_top10['Density of Population(/km2)']\nlabels= sgtc4_top10['Planning Area']\n\nplt.bar(planning_area, density_of_student_population, align='center', width=0.25, color='lightblue')\nplt.xticks(planning_area, labels)\n\n# add x-label\nplt.xlabel('Planning Area')\n# add y-label\nplt.ylabel('Density of Student Population per Square Kilometer')\n# add title\nplt.title('Top 10 planning areas with highest density of population')\n\nplt.show()"
        },
        {
            "cell_type": "code",
            "execution_count": 70,
            "metadata": {
                "scrolled": false
            },
            "outputs": [
                {
                    "data": {
                        "image/png": "[encoded data removed]",
                        "text/plain": "<Figure size 432x288 with 1 Axes>"
                    },
                    "metadata": {
                        "needs_background": "light"
                    },
                    "output_type": "display_data"
                }
            ],
            "source": "# define variables \ndensity_of_population = sgtc4_top10['Density of Population(/km2)']\ndensity_of_student_population = sgtc4_top10['Density of Student Population(/km2)']\nlabels= sgtc4_top10['Planning Area']\n\n#\nx = np.arange(len(labels))\nwidth = 0.25\n\nfig, ax = plt.subplots()\nrects1 = ax.bar(x - width/2, density_of_population, width, label='Population')\nrects2 = ax.bar(x + width/2, density_of_student_population, width, label='Student Population')\n\nax.set_ylabel('Density per Square Kilometer')\nax.set_xlabel('Planning Area')\nax.set_title('Density per Square Kilometer by Planning Area')\nax.set_xticks(x)\nax.set_xticklabels(labels, rotation=90)\nax.legend()\n\n\n\nplt.show()"
        },
        {
            "cell_type": "markdown",
            "metadata": {},
            "source": "**3) Regression Plots with seaborn**"
        },
        {
            "cell_type": "code",
            "execution_count": 119,
            "metadata": {},
            "outputs": [
                {
                    "data": {
                        "image/png": "[encoded data removed]",
                        "text/plain": "<Figure size 432x288 with 1 Axes>"
                    },
                    "metadata": {
                        "needs_background": "light"
                    },
                    "output_type": "display_data"
                }
            ],
            "source": "# import seaborn\nimport seaborn as sns\n\n# plot graph Density of Student Population vs. Density of Population\nax = sns.regplot(x='Density of Population(/km2)', y='Density of Student Population(/km2)', data=sgtcsorted_df, color='blue', marker='+')"
        },
        {
            "cell_type": "markdown",
            "metadata": {},
            "source": " \n ---------------------------------------------------------------\n        \n        \n        \n        \n        "
        },
        {
            "cell_type": "markdown",
            "metadata": {},
            "source": "### 2.5 Insight from Analysis"
        },
        {
            "cell_type": "markdown",
            "metadata": {},
            "source": "From the above bar chart we could see that the planning areas with highest density of student population does not necessarily mean that they also have the highest population density. That means:for planning areas like Bukit Panjang, Jurong West, and Woodlands, the percentage of students in secondary education is higher. Whereas for planning areas like Toa Payoh, and Outram Park, the percentage of students in secondary education is lower."
        },
        {
            "cell_type": "markdown",
            "metadata": {},
            "source": "A conjecture thus arises: does the mismatch the result of number of schools in the specific planning areas? Let's explore!"
        },
        {
            "cell_type": "markdown",
            "metadata": {},
            "source": "### This is the end of Part 2: Data Analysis and Visualisation for Planning Areas and Population\n\n------------------------------------------------------------------------\n------------------------------------------------------------------------"
        },
        {
            "cell_type": "markdown",
            "metadata": {},
            "source": "## Part 3: Data Preparation 2: Schools by Planning Areas"
        },
        {
            "cell_type": "code",
            "execution_count": 71,
            "metadata": {
                "scrolled": true
            },
            "outputs": [
                {
                    "name": "stdout",
                    "output_type": "stream",
                    "text": "all libraries have been imported\n"
                }
            ],
            "source": "import pandas as pd\npd.set_option('display.max_columns', None)\npd.set_option('display.max_rows', None)\n\nimport numpy as np\n\nimport requests\nimport json\nfrom bs4 import BeautifulSoup\n\nfrom pandas.io.json import json_normalize\nprint(\"all libraries have been imported\");"
        },
        {
            "cell_type": "markdown",
            "metadata": {},
            "source": " \n ---------------------------------------------------------------\n        \n        \n        \n        \n        "
        },
        {
            "cell_type": "markdown",
            "metadata": {},
            "source": "### 3.1 Dataset: Secondary Schools"
        },
        {
            "cell_type": "markdown",
            "metadata": {},
            "source": "#### a. Data acquirement"
        },
        {
            "cell_type": "code",
            "execution_count": 72,
            "metadata": {},
            "outputs": [],
            "source": "# use request.get to send a GET request to the specified url\nurl = \"https://en.wikipedia.org/wiki/List_of_secondary_schools_in_Singapore\"\n\nr = requests.get(url)\n\n# get content from website and store in a variable\nsingapore_html = BeautifulSoup(r.content)\n\n# store all the strings in the html page in variable \"soup\"\nsoup = BeautifulSoup(str(singapore_html))"
        },
        {
            "cell_type": "markdown",
            "metadata": {},
            "source": "**1) The first table**"
        },
        {
            "cell_type": "code",
            "execution_count": 73,
            "metadata": {
                "scrolled": true
            },
            "outputs": [
                {
                    "data": {
                        "text/html": "<div>\n<style scoped>\n    .dataframe tbody tr th:only-of-type {\n        vertical-align: middle;\n    }\n\n    .dataframe tbody tr th {\n        vertical-align: top;\n    }\n\n    .dataframe thead th {\n        text-align: right;\n    }\n</style>\n<table border=\"1\" class=\"dataframe\">\n  <thead>\n    <tr style=\"text-align: right;\">\n      <th></th>\n      <th>Name</th>\n      <th>Type</th>\n      <th>SchoolCode</th>\n      <th>Area[4]</th>\n      <th>Notes / Affiliations (Admissions / Academic Programmes)</th>\n      <th>Website</th>\n    </tr>\n  </thead>\n  <tbody>\n    <tr>\n      <th>0</th>\n      <td>Admiralty Secondary School</td>\n      <td>Government</td>\n      <td>3072</td>\n      <td>Woodlands</td>\n      <td>NaN</td>\n      <td>[1]</td>\n    </tr>\n    <tr>\n      <th>1</th>\n      <td>Ahmad Ibrahim Secondary School</td>\n      <td>Government</td>\n      <td>3201</td>\n      <td>Yishun</td>\n      <td>NaN</td>\n      <td>[2]</td>\n    </tr>\n    <tr>\n      <th>2</th>\n      <td>Anderson Secondary School</td>\n      <td>GovernmentAutonomous</td>\n      <td>3001</td>\n      <td>Ang Mo Kio</td>\n      <td>NaN</td>\n      <td>[3]</td>\n    </tr>\n    <tr>\n      <th>3</th>\n      <td>Anglican High School</td>\n      <td>Government-aidedAutonomousSAP</td>\n      <td>7101</td>\n      <td>Bedok</td>\n      <td>NaN</td>\n      <td>[4]</td>\n    </tr>\n    <tr>\n      <th>4</th>\n      <td>Anglo-Chinese School (Barker Road)</td>\n      <td>Government-aided</td>\n      <td>7032</td>\n      <td>Newton</td>\n      <td>Affiliated to: Methodist Girls' School (Second...</td>\n      <td>[5]</td>\n    </tr>\n  </tbody>\n</table>\n</div>",
                        "text/plain": "                                 Name                           Type  \\\n0          Admiralty Secondary School                     Government   \n1      Ahmad Ibrahim Secondary School                     Government   \n2           Anderson Secondary School           GovernmentAutonomous   \n3                Anglican High School  Government-aidedAutonomousSAP   \n4  Anglo-Chinese School (Barker Road)               Government-aided   \n\n  SchoolCode     Area[4]  \\\n0       3072   Woodlands   \n1       3201      Yishun   \n2       3001  Ang Mo Kio   \n3       7101       Bedok   \n4       7032      Newton   \n\n  Notes / Affiliations (Admissions / Academic Programmes) Website  \n0                                                NaN          [1]  \n1                                                NaN          [2]  \n2                                                NaN          [3]  \n3                                                NaN          [4]  \n4  Affiliated to: Methodist Girls' School (Second...          [5]  "
                    },
                    "execution_count": 73,
                    "metadata": {},
                    "output_type": "execute_result"
                }
            ],
            "source": "# use find \"table\", the second table on the website\nplarea_tb = soup.find('table')\n\n# extract the charaters from the table\ntable_str = str(plarea_tb.extract())\n\n# read the table into panda dataframe\nsecms_df = pd.read_html(table_str)[0]\n\n# display the first five rows of table \nsecms_df.head()"
        },
        {
            "cell_type": "code",
            "execution_count": 74,
            "metadata": {
                "scrolled": true
            },
            "outputs": [
                {
                    "data": {
                        "text/plain": "(150, 6)"
                    },
                    "execution_count": 74,
                    "metadata": {},
                    "output_type": "execute_result"
                }
            ],
            "source": "# get the number of rows and columns in the table\nsecms_df.shape"
        },
        {
            "cell_type": "markdown",
            "metadata": {},
            "source": "**2) The second table**"
        },
        {
            "cell_type": "code",
            "execution_count": 75,
            "metadata": {
                "scrolled": false
            },
            "outputs": [
                {
                    "data": {
                        "text/html": "<div>\n<style scoped>\n    .dataframe tbody tr th:only-of-type {\n        vertical-align: middle;\n    }\n\n    .dataframe tbody tr th {\n        vertical-align: top;\n    }\n\n    .dataframe thead th {\n        text-align: right;\n    }\n</style>\n<table border=\"1\" class=\"dataframe\">\n  <thead>\n    <tr style=\"text-align: right;\">\n      <th></th>\n      <th>Name</th>\n      <th>Type</th>\n      <th>Area</th>\n      <th>Notes</th>\n      <th>Website</th>\n    </tr>\n  </thead>\n  <tbody>\n    <tr>\n      <th>0</th>\n      <td>Madrasah Aljunied Al-Islamiah</td>\n      <td>Independent</td>\n      <td>Rochor</td>\n      <td>NaN</td>\n      <td>NaN</td>\n    </tr>\n    <tr>\n      <th>1</th>\n      <td>Madrasah Al-Irsyad Al-Islamiah</td>\n      <td>Independent</td>\n      <td>Braddell</td>\n      <td>NaN</td>\n      <td>NaN</td>\n    </tr>\n    <tr>\n      <th>2</th>\n      <td>Madrasah Al-Arabiah Al-Islamiah</td>\n      <td>Independent</td>\n      <td>Toa Payoh</td>\n      <td>NaN</td>\n      <td>NaN</td>\n    </tr>\n    <tr>\n      <th>3</th>\n      <td>Madrasah Al-Maarif Al-Islamiah</td>\n      <td>Independent</td>\n      <td>Geylang</td>\n      <td>NaN</td>\n      <td>NaN</td>\n    </tr>\n    <tr>\n      <th>4</th>\n      <td>Madrasah Alsagoff Al-Arabiah</td>\n      <td>Independent</td>\n      <td>Rochor</td>\n      <td>NaN</td>\n      <td>NaN</td>\n    </tr>\n  </tbody>\n</table>\n</div>",
                        "text/plain": "                              Name         Type       Area  Notes  Website\n0    Madrasah Aljunied Al-Islamiah  Independent     Rochor    NaN      NaN\n1   Madrasah Al-Irsyad Al-Islamiah  Independent   Braddell    NaN      NaN\n2  Madrasah Al-Arabiah Al-Islamiah  Independent  Toa Payoh    NaN      NaN\n3   Madrasah Al-Maarif Al-Islamiah  Independent    Geylang    NaN      NaN\n4     Madrasah Alsagoff Al-Arabiah  Independent     Rochor    NaN      NaN"
                    },
                    "execution_count": 75,
                    "metadata": {},
                    "output_type": "execute_result"
                }
            ],
            "source": "# use find \"table\", the second table on the website\nplarea_tb = soup.find_all('table')[1]\n\n# extract the charaters from the table\ntable_str = str(plarea_tb.extract())\n\n# read the table into panda dataframe\nsecrs1_df = pd.read_html(table_str)[0]\n\n# display the first five rows of table \nsecrs1_df.head()"
        },
        {
            "cell_type": "code",
            "execution_count": 76,
            "metadata": {},
            "outputs": [
                {
                    "data": {
                        "text/plain": "(6, 5)"
                    },
                    "execution_count": 76,
                    "metadata": {},
                    "output_type": "execute_result"
                }
            ],
            "source": "# get the number of rows and columns in the table\nsecrs1_df.shape"
        },
        {
            "cell_type": "markdown",
            "metadata": {},
            "source": "**3) The third table**"
        },
        {
            "cell_type": "code",
            "execution_count": 77,
            "metadata": {
                "scrolled": false
            },
            "outputs": [
                {
                    "data": {
                        "text/html": "<div>\n<style scoped>\n    .dataframe tbody tr th:only-of-type {\n        vertical-align: middle;\n    }\n\n    .dataframe tbody tr th {\n        vertical-align: top;\n    }\n\n    .dataframe thead th {\n        text-align: right;\n    }\n</style>\n<table border=\"1\" class=\"dataframe\">\n  <thead>\n    <tr style=\"text-align: right;\">\n      <th></th>\n      <th>Name</th>\n      <th>Type</th>\n      <th>Area</th>\n      <th>Affiliated Denomination</th>\n      <th>Notes</th>\n      <th>Website</th>\n    </tr>\n  </thead>\n  <tbody>\n    <tr>\n      <th>0</th>\n      <td>San Yu Adventist School</td>\n      <td>Private</td>\n      <td>Novena</td>\n      <td>Seventh-day Adventist Church</td>\n      <td>NaN</td>\n      <td>[151]</td>\n    </tr>\n  </tbody>\n</table>\n</div>",
                        "text/plain": "                      Name     Type    Area       Affiliated Denomination  \\\n0  San Yu Adventist School  Private  Novena  Seventh-day Adventist Church   \n\n   Notes Website  \n0    NaN   [151]  "
                    },
                    "execution_count": 77,
                    "metadata": {},
                    "output_type": "execute_result"
                }
            ],
            "source": "# use find \"table\", the second table on the website\nplarea_tb = soup.find_all('table')[0]\n\n# extract the charaters from the table\ntable_str = str(plarea_tb.extract())\n\n# read the table into panda dataframe\nsecrs2_df = pd.read_html(table_str)[0]\n\n# display the first five rows of table \nsecrs2_df.head()"
        },
        {
            "cell_type": "code",
            "execution_count": 78,
            "metadata": {},
            "outputs": [
                {
                    "data": {
                        "text/plain": "(1, 6)"
                    },
                    "execution_count": 78,
                    "metadata": {},
                    "output_type": "execute_result"
                }
            ],
            "source": "# get the number of rows and columns in the table\nsecrs2_df.shape"
        },
        {
            "cell_type": "markdown",
            "metadata": {},
            "source": "**4) The fourth table**"
        },
        {
            "cell_type": "code",
            "execution_count": 79,
            "metadata": {
                "scrolled": false
            },
            "outputs": [
                {
                    "data": {
                        "text/html": "<div>\n<style scoped>\n    .dataframe tbody tr th:only-of-type {\n        vertical-align: middle;\n    }\n\n    .dataframe tbody tr th {\n        vertical-align: top;\n    }\n\n    .dataframe thead th {\n        text-align: right;\n    }\n</style>\n<table border=\"1\" class=\"dataframe\">\n  <thead>\n    <tr style=\"text-align: right;\">\n      <th></th>\n      <th>Name</th>\n      <th>Type</th>\n      <th>Area</th>\n      <th>Notes</th>\n      <th>Website</th>\n    </tr>\n  </thead>\n  <tbody>\n    <tr>\n      <th>0</th>\n      <td>Crest Secondary School</td>\n      <td>Government</td>\n      <td>Jurong East</td>\n      <td>NaN</td>\n      <td>[152]</td>\n    </tr>\n    <tr>\n      <th>1</th>\n      <td>Spectra Secondary School</td>\n      <td>Government</td>\n      <td>Woodlands</td>\n      <td>NaN</td>\n      <td>[153]</td>\n    </tr>\n  </tbody>\n</table>\n</div>",
                        "text/plain": "                       Name        Type         Area  Notes Website\n0    Crest Secondary School  Government  Jurong East    NaN   [152]\n1  Spectra Secondary School  Government    Woodlands    NaN   [153]"
                    },
                    "execution_count": 79,
                    "metadata": {},
                    "output_type": "execute_result"
                }
            ],
            "source": "# use find \"table\", the second table on the website\nplarea_tb = soup.find_all('table')[0]\n\n# extract the charaters from the table\ntable_str = str(plarea_tb.extract())\n\n# read the table into panda dataframe\nsecrs3_df = pd.read_html(table_str)[0]\n\n# display the first five rows of table \nsecrs3_df.head()"
        },
        {
            "cell_type": "code",
            "execution_count": 80,
            "metadata": {},
            "outputs": [
                {
                    "data": {
                        "text/plain": "(2, 5)"
                    },
                    "execution_count": 80,
                    "metadata": {},
                    "output_type": "execute_result"
                }
            ],
            "source": "# get the number of rows and columns in the table\nsecrs3_df.shape"
        },
        {
            "cell_type": "markdown",
            "metadata": {},
            "source": "#### b. Data Cleaning and Modification"
        },
        {
            "cell_type": "markdown",
            "metadata": {},
            "source": "**1) change name**"
        },
        {
            "cell_type": "code",
            "execution_count": 81,
            "metadata": {
                "scrolled": true
            },
            "outputs": [
                {
                    "data": {
                        "text/html": "<div>\n<style scoped>\n    .dataframe tbody tr th:only-of-type {\n        vertical-align: middle;\n    }\n\n    .dataframe tbody tr th {\n        vertical-align: top;\n    }\n\n    .dataframe thead th {\n        text-align: right;\n    }\n</style>\n<table border=\"1\" class=\"dataframe\">\n  <thead>\n    <tr style=\"text-align: right;\">\n      <th></th>\n      <th>Name</th>\n      <th>Type</th>\n      <th>SchoolCode</th>\n      <th>Area</th>\n      <th>Notes / Affiliations (Admissions / Academic Programmes)</th>\n      <th>Website</th>\n    </tr>\n  </thead>\n  <tbody>\n    <tr>\n      <th>0</th>\n      <td>Admiralty Secondary School</td>\n      <td>Government</td>\n      <td>3072</td>\n      <td>Woodlands</td>\n      <td>NaN</td>\n      <td>[1]</td>\n    </tr>\n    <tr>\n      <th>1</th>\n      <td>Ahmad Ibrahim Secondary School</td>\n      <td>Government</td>\n      <td>3201</td>\n      <td>Yishun</td>\n      <td>NaN</td>\n      <td>[2]</td>\n    </tr>\n    <tr>\n      <th>2</th>\n      <td>Anderson Secondary School</td>\n      <td>GovernmentAutonomous</td>\n      <td>3001</td>\n      <td>Ang Mo Kio</td>\n      <td>NaN</td>\n      <td>[3]</td>\n    </tr>\n    <tr>\n      <th>3</th>\n      <td>Anglican High School</td>\n      <td>Government-aidedAutonomousSAP</td>\n      <td>7101</td>\n      <td>Bedok</td>\n      <td>NaN</td>\n      <td>[4]</td>\n    </tr>\n    <tr>\n      <th>4</th>\n      <td>Anglo-Chinese School (Barker Road)</td>\n      <td>Government-aided</td>\n      <td>7032</td>\n      <td>Newton</td>\n      <td>Affiliated to: Methodist Girls' School (Second...</td>\n      <td>[5]</td>\n    </tr>\n  </tbody>\n</table>\n</div>",
                        "text/plain": "                                 Name                           Type  \\\n0          Admiralty Secondary School                     Government   \n1      Ahmad Ibrahim Secondary School                     Government   \n2           Anderson Secondary School           GovernmentAutonomous   \n3                Anglican High School  Government-aidedAutonomousSAP   \n4  Anglo-Chinese School (Barker Road)               Government-aided   \n\n  SchoolCode        Area  \\\n0       3072   Woodlands   \n1       3201      Yishun   \n2       3001  Ang Mo Kio   \n3       7101       Bedok   \n4       7032      Newton   \n\n  Notes / Affiliations (Admissions / Academic Programmes) Website  \n0                                                NaN          [1]  \n1                                                NaN          [2]  \n2                                                NaN          [3]  \n3                                                NaN          [4]  \n4  Affiliated to: Methodist Girls' School (Second...          [5]  "
                    },
                    "execution_count": 81,
                    "metadata": {},
                    "output_type": "execute_result"
                }
            ],
            "source": "# change name\nsecms1_df = secms_df.rename(columns={\"Area[4]\": \"Area\"})\n\n# display\nsecms1_df.head()"
        },
        {
            "cell_type": "markdown",
            "metadata": {},
            "source": "**2) Concatenate Tables**"
        },
        {
            "cell_type": "code",
            "execution_count": 82,
            "metadata": {},
            "outputs": [
                {
                    "name": "stderr",
                    "output_type": "stream",
                    "text": "/opt/conda/envs/Python36/lib/python3.6/site-packages/ipykernel/__main__.py:5: FutureWarning: Sorting because non-concatenation axis is not aligned. A future version\nof pandas will change to not sort by default.\n\nTo accept the future behavior, pass 'sort=False'.\n\nTo retain the current behavior and silence the warning, pass 'sort=True'.\n\n"
                },
                {
                    "data": {
                        "text/plain": "(159, 8)"
                    },
                    "execution_count": 82,
                    "metadata": {},
                    "output_type": "execute_result"
                }
            ],
            "source": "# define frame\nframes = [secms1_df, secrs1_df, secrs2_df, secrs3_df]\n\n# concatenate\nsec_df = pd.concat(frames)\n\n# check\nsec_df.shape"
        },
        {
            "cell_type": "markdown",
            "metadata": {},
            "source": "**4) remove unwanted columns from all dataframes**"
        },
        {
            "cell_type": "code",
            "execution_count": 83,
            "metadata": {},
            "outputs": [
                {
                    "data": {
                        "text/plain": "Index(['Affiliated Denomination', 'Area', 'Name', 'Notes',\n       'Notes / Affiliations (Admissions / Academic Programmes)', 'SchoolCode',\n       'Type', 'Website'],\n      dtype='object')"
                    },
                    "execution_count": 83,
                    "metadata": {},
                    "output_type": "execute_result"
                }
            ],
            "source": "# check the column names\nsec_df.columns"
        },
        {
            "cell_type": "code",
            "execution_count": 84,
            "metadata": {
                "scrolled": false
            },
            "outputs": [
                {
                    "data": {
                        "text/html": "<div>\n<style scoped>\n    .dataframe tbody tr th:only-of-type {\n        vertical-align: middle;\n    }\n\n    .dataframe tbody tr th {\n        vertical-align: top;\n    }\n\n    .dataframe thead th {\n        text-align: right;\n    }\n</style>\n<table border=\"1\" class=\"dataframe\">\n  <thead>\n    <tr style=\"text-align: right;\">\n      <th></th>\n      <th>Planning Area</th>\n      <th>Name</th>\n    </tr>\n  </thead>\n  <tbody>\n    <tr>\n      <th>0</th>\n      <td>Woodlands</td>\n      <td>Admiralty Secondary School</td>\n    </tr>\n    <tr>\n      <th>1</th>\n      <td>Yishun</td>\n      <td>Ahmad Ibrahim Secondary School</td>\n    </tr>\n    <tr>\n      <th>2</th>\n      <td>Ang Mo Kio</td>\n      <td>Anderson Secondary School</td>\n    </tr>\n    <tr>\n      <th>3</th>\n      <td>Bedok</td>\n      <td>Anglican High School</td>\n    </tr>\n    <tr>\n      <th>4</th>\n      <td>Newton</td>\n      <td>Anglo-Chinese School (Barker Road)</td>\n    </tr>\n  </tbody>\n</table>\n</div>",
                        "text/plain": "  Planning Area                                Name\n0     Woodlands          Admiralty Secondary School\n1        Yishun      Ahmad Ibrahim Secondary School\n2    Ang Mo Kio           Anderson Secondary School\n3         Bedok                Anglican High School\n4        Newton  Anglo-Chinese School (Barker Road)"
                    },
                    "execution_count": 84,
                    "metadata": {},
                    "output_type": "execute_result"
                }
            ],
            "source": "# drop\nsec1_df = sec_df.drop([\"Type\", \"Affiliated Denomination\", \"Notes\", \"Notes / Affiliations (Admissions / Academic Programmes)\", \"SchoolCode\", \"Website\"], axis=1)\n\n# change name\nsec2_df = sec1_df.rename(columns={'Area': 'Planning Area'})\n\n# display\nsec2_df.head()"
        },
        {
            "cell_type": "markdown",
            "metadata": {},
            "source": "**5) save dataframe**"
        },
        {
            "cell_type": "code",
            "execution_count": 85,
            "metadata": {},
            "outputs": [],
            "source": "sec2_df.to_csv('DF5_Secondary Schools.csv', index=False)"
        },
        {
            "cell_type": "markdown",
            "metadata": {},
            "source": " \n ---------------------------------------------------------------\n        \n        \n        \n        \n        "
        },
        {
            "cell_type": "markdown",
            "metadata": {},
            "source": "### 3.2 Dataset: JCs"
        },
        {
            "cell_type": "markdown",
            "metadata": {},
            "source": "#### a. Data acquirement"
        },
        {
            "cell_type": "code",
            "execution_count": 86,
            "metadata": {},
            "outputs": [],
            "source": "# use request.get to send a GET request to the specified url\nurl = \"https://en.wikipedia.org/wiki/List_of_schools_in_Singapore\"\n\nr = requests.get(url)\n\n# get content from website and store in a variable\nsingapore_html = BeautifulSoup(r.content)\n\n# store all the strings in the html page in variable \"soup\"\nsoup = BeautifulSoup(str(singapore_html))"
        },
        {
            "cell_type": "code",
            "execution_count": 87,
            "metadata": {
                "scrolled": true
            },
            "outputs": [
                {
                    "data": {
                        "text/html": "<div>\n<style scoped>\n    .dataframe tbody tr th:only-of-type {\n        vertical-align: middle;\n    }\n\n    .dataframe tbody tr th {\n        vertical-align: top;\n    }\n\n    .dataframe thead tr th {\n        text-align: left;\n    }\n</style>\n<table border=\"1\" class=\"dataframe\">\n  <thead>\n    <tr>\n      <th></th>\n      <th>Code</th>\n      <th>Planning Area</th>\n      <th>Planning Subzone</th>\n      <th colspan=\"3\" halign=\"left\">College name</th>\n      <th>Established</th>\n      <th>Address</th>\n      <th>Type</th>\n      <th>Special programmes</th>\n      <th>Remarks</th>\n    </tr>\n    <tr>\n      <th></th>\n      <th>Code</th>\n      <th>Planning Area</th>\n      <th>Planning Subzone</th>\n      <th>English</th>\n      <th>Chinese</th>\n      <th>Abb.</th>\n      <th>Established</th>\n      <th>Address</th>\n      <th>Type</th>\n      <th>Special programmes</th>\n      <th>Remarks</th>\n    </tr>\n  </thead>\n  <tbody>\n    <tr>\n      <th>0</th>\n      <td>715</td>\n      <td>Ang Mo Kio</td>\n      <td>Yio Chu Kang</td>\n      <td>Anderson Serangoon Junior College</td>\n      <td>\u5b89\u5fb7\u900a\u5b9e\u9f99\u5c97\u521d\u7ea7\u5b66\u9662</td>\n      <td>ASRJC</td>\n      <td>1984 (AJC) 1988 (SRJC) 2019 (ASRJC)</td>\n      <td>4500 Ang Mo Kio Avenue 6</td>\n      <td>Government</td>\n      <td>TLEP</td>\n      <td>Formed from the merger of Anderson JC and Sera...</td>\n    </tr>\n    <tr>\n      <th>1</th>\n      <td>803</td>\n      <td>Queenstown</td>\n      <td>Dover</td>\n      <td>Anglo-Chinese Junior College</td>\n      <td>\u82f1\u534e\u521d\u7ea7\u5b66\u9662</td>\n      <td>ACJC</td>\n      <td>1977</td>\n      <td>25 Dover Close East</td>\n      <td>Government-aided</td>\n      <td>ELEP, HSP, MEP, DEP</td>\n      <td>NaN</td>\n    </tr>\n    <tr>\n      <th>2</th>\n      <td>7001</td>\n      <td>Queenstown</td>\n      <td>Dover</td>\n      <td>Anglo-Chinese IB Junior College</td>\n      <td>\u82f1\u534e\u81ea\u4e3b\u4e2d\u5b66</td>\n      <td>ACS(I)</td>\n      <td>1886</td>\n      <td>121 Dover Road</td>\n      <td>Independent</td>\n      <td>MEP, HSP, RSP</td>\n      <td>International Baccalaureate Diploma Programme</td>\n    </tr>\n    <tr>\n      <th>3</th>\n      <td>802</td>\n      <td>Novena</td>\n      <td>Malcolm</td>\n      <td>Catholic Junior College</td>\n      <td>\u516c\u6559\u521d\u7ea7\u5b66\u9662</td>\n      <td>CJC</td>\n      <td>1975</td>\n      <td>129 Whitley Road</td>\n      <td>Government-aided</td>\n      <td>ELEP</td>\n      <td>NaN</td>\n    </tr>\n    <tr>\n      <th>4</th>\n      <td>3101</td>\n      <td>Kallang</td>\n      <td>Tanjong Rhu</td>\n      <td>Dunman High School</td>\n      <td>\u5fb7\u660e\u653f\u5e9c\u4e2d\u5b66</td>\n      <td>DHS</td>\n      <td>1956 2005 \u2013 IP</td>\n      <td>10 Tanjong Rhu Road</td>\n      <td>Autonomous</td>\n      <td>BSP, CLEP, MEP</td>\n      <td>Accepting first batch of JAE students from 2019</td>\n    </tr>\n  </tbody>\n</table>\n</div>",
                        "text/plain": "   Code Planning Area Planning Subzone                       College name  \\\n   Code Planning Area Planning Subzone                            English   \n0   715    Ang Mo Kio     Yio Chu Kang  Anderson Serangoon Junior College   \n1   803    Queenstown            Dover       Anglo-Chinese Junior College   \n2  7001    Queenstown            Dover    Anglo-Chinese IB Junior College   \n3   802        Novena          Malcolm            Catholic Junior College   \n4  3101       Kallang      Tanjong Rhu                 Dunman High School   \n\n                                               Established  \\\n      Chinese    Abb.                          Established   \n0  \u5b89\u5fb7\u900a\u5b9e\u9f99\u5c97\u521d\u7ea7\u5b66\u9662   ASRJC  1984 (AJC) 1988 (SRJC) 2019 (ASRJC)   \n1      \u82f1\u534e\u521d\u7ea7\u5b66\u9662    ACJC                                 1977   \n2      \u82f1\u534e\u81ea\u4e3b\u4e2d\u5b66  ACS(I)                                 1886   \n3      \u516c\u6559\u521d\u7ea7\u5b66\u9662     CJC                                 1975   \n4      \u5fb7\u660e\u653f\u5e9c\u4e2d\u5b66     DHS                       1956 2005 \u2013 IP   \n\n                    Address              Type   Special programmes  \\\n                    Address              Type   Special programmes   \n0  4500 Ang Mo Kio Avenue 6        Government                 TLEP   \n1       25 Dover Close East  Government-aided  ELEP, HSP, MEP, DEP   \n2            121 Dover Road       Independent        MEP, HSP, RSP   \n3          129 Whitley Road  Government-aided                 ELEP   \n4       10 Tanjong Rhu Road        Autonomous       BSP, CLEP, MEP   \n\n                                             Remarks  \n                                             Remarks  \n0  Formed from the merger of Anderson JC and Sera...  \n1                                                NaN  \n2      International Baccalaureate Diploma Programme  \n3                                                NaN  \n4    Accepting first batch of JAE students from 2019  "
                    },
                    "execution_count": 87,
                    "metadata": {},
                    "output_type": "execute_result"
                }
            ],
            "source": "# use find \"table\"\nplarea_tb = soup.find('table')\n\n# extract the charaters from the table\ntable_str = str(plarea_tb.extract())\n\n# read the table into panda dataframe\njc1_df = pd.read_html(table_str)[0]\n\n# display the first five rows of table \njc1_df.head()"
        },
        {
            "cell_type": "code",
            "execution_count": 88,
            "metadata": {},
            "outputs": [
                {
                    "data": {
                        "text/plain": "(18, 11)"
                    },
                    "execution_count": 88,
                    "metadata": {},
                    "output_type": "execute_result"
                }
            ],
            "source": "# check\njc1_df.shape"
        },
        {
            "cell_type": "markdown",
            "metadata": {},
            "source": "#### b. Data Cleaning and Modification"
        },
        {
            "cell_type": "markdown",
            "metadata": {},
            "source": "**1) remove unwanted columns**"
        },
        {
            "cell_type": "code",
            "execution_count": 89,
            "metadata": {
                "scrolled": true
            },
            "outputs": [
                {
                    "data": {
                        "text/plain": "MultiIndex(levels=[['Address', 'Code', 'College name', 'Established', 'Planning Area', 'Planning Subzone', 'Remarks', 'Special programmes', 'Type'], ['Abb.', 'Address', 'Chinese', 'Code', 'English', 'Established', 'Planning Area', 'Planning Subzone', 'Remarks', 'Special programmes', 'Type']],\n           codes=[[1, 4, 5, 2, 2, 2, 3, 0, 8, 7, 6], [3, 6, 7, 4, 2, 0, 5, 1, 10, 9, 8]])"
                    },
                    "execution_count": 89,
                    "metadata": {},
                    "output_type": "execute_result"
                }
            ],
            "source": "# column names\njc1_df.columns"
        },
        {
            "cell_type": "code",
            "execution_count": 90,
            "metadata": {},
            "outputs": [
                {
                    "data": {
                        "text/plain": "Index(['Code', 'Planning Area', 'Planning Subzone', 'English', 'Chinese',\n       'Abb.', 'Established', 'Address', 'Type', 'Special programmes',\n       'Remarks'],\n      dtype='object')"
                    },
                    "execution_count": 90,
                    "metadata": {},
                    "output_type": "execute_result"
                }
            ],
            "source": "# drop level\njc1_df.columns = jc1_df.columns.droplevel()\n\n# check\njc1_df.columns"
        },
        {
            "cell_type": "code",
            "execution_count": 91,
            "metadata": {},
            "outputs": [
                {
                    "data": {
                        "text/html": "<div>\n<style scoped>\n    .dataframe tbody tr th:only-of-type {\n        vertical-align: middle;\n    }\n\n    .dataframe tbody tr th {\n        vertical-align: top;\n    }\n\n    .dataframe thead th {\n        text-align: right;\n    }\n</style>\n<table border=\"1\" class=\"dataframe\">\n  <thead>\n    <tr style=\"text-align: right;\">\n      <th></th>\n      <th>Planning Area</th>\n      <th>Planning Subzone</th>\n      <th>English</th>\n    </tr>\n  </thead>\n  <tbody>\n    <tr>\n      <th>0</th>\n      <td>Ang Mo Kio</td>\n      <td>Yio Chu Kang</td>\n      <td>Anderson Serangoon Junior College</td>\n    </tr>\n    <tr>\n      <th>1</th>\n      <td>Queenstown</td>\n      <td>Dover</td>\n      <td>Anglo-Chinese Junior College</td>\n    </tr>\n    <tr>\n      <th>2</th>\n      <td>Queenstown</td>\n      <td>Dover</td>\n      <td>Anglo-Chinese IB Junior College</td>\n    </tr>\n    <tr>\n      <th>3</th>\n      <td>Novena</td>\n      <td>Malcolm</td>\n      <td>Catholic Junior College</td>\n    </tr>\n    <tr>\n      <th>4</th>\n      <td>Kallang</td>\n      <td>Tanjong Rhu</td>\n      <td>Dunman High School</td>\n    </tr>\n  </tbody>\n</table>\n</div>",
                        "text/plain": "  Planning Area Planning Subzone                            English\n0    Ang Mo Kio     Yio Chu Kang  Anderson Serangoon Junior College\n1    Queenstown            Dover       Anglo-Chinese Junior College\n2    Queenstown            Dover    Anglo-Chinese IB Junior College\n3        Novena          Malcolm            Catholic Junior College\n4       Kallang      Tanjong Rhu                 Dunman High School"
                    },
                    "execution_count": 91,
                    "metadata": {},
                    "output_type": "execute_result"
                }
            ],
            "source": "# remove columns\njc2_df = jc1_df.drop([\"Code\", \"Chinese\", \"Abb.\", \"Established\", \"Address\", \"Type\", \"Special programmes\", \"Remarks\" ], axis=1)\n\n# check\njc2_df.head()"
        },
        {
            "cell_type": "code",
            "execution_count": 92,
            "metadata": {},
            "outputs": [
                {
                    "data": {
                        "text/plain": "(18, 3)"
                    },
                    "execution_count": 92,
                    "metadata": {},
                    "output_type": "execute_result"
                }
            ],
            "source": "# check\njc2_df.shape"
        },
        {
            "cell_type": "markdown",
            "metadata": {},
            "source": "**2) change column name**"
        },
        {
            "cell_type": "code",
            "execution_count": 93,
            "metadata": {},
            "outputs": [
                {
                    "data": {
                        "text/html": "<div>\n<style scoped>\n    .dataframe tbody tr th:only-of-type {\n        vertical-align: middle;\n    }\n\n    .dataframe tbody tr th {\n        vertical-align: top;\n    }\n\n    .dataframe thead th {\n        text-align: right;\n    }\n</style>\n<table border=\"1\" class=\"dataframe\">\n  <thead>\n    <tr style=\"text-align: right;\">\n      <th></th>\n      <th>Planning Area</th>\n      <th>Planning Subzone</th>\n      <th>Name</th>\n    </tr>\n  </thead>\n  <tbody>\n    <tr>\n      <th>0</th>\n      <td>Ang Mo Kio</td>\n      <td>Yio Chu Kang</td>\n      <td>Anderson Serangoon Junior College</td>\n    </tr>\n    <tr>\n      <th>1</th>\n      <td>Queenstown</td>\n      <td>Dover</td>\n      <td>Anglo-Chinese Junior College</td>\n    </tr>\n    <tr>\n      <th>2</th>\n      <td>Queenstown</td>\n      <td>Dover</td>\n      <td>Anglo-Chinese IB Junior College</td>\n    </tr>\n    <tr>\n      <th>3</th>\n      <td>Novena</td>\n      <td>Malcolm</td>\n      <td>Catholic Junior College</td>\n    </tr>\n    <tr>\n      <th>4</th>\n      <td>Kallang</td>\n      <td>Tanjong Rhu</td>\n      <td>Dunman High School</td>\n    </tr>\n  </tbody>\n</table>\n</div>",
                        "text/plain": "  Planning Area Planning Subzone                               Name\n0    Ang Mo Kio     Yio Chu Kang  Anderson Serangoon Junior College\n1    Queenstown            Dover       Anglo-Chinese Junior College\n2    Queenstown            Dover    Anglo-Chinese IB Junior College\n3        Novena          Malcolm            Catholic Junior College\n4       Kallang      Tanjong Rhu                 Dunman High School"
                    },
                    "execution_count": 93,
                    "metadata": {},
                    "output_type": "execute_result"
                }
            ],
            "source": "# rename\njc3_df = jc2_df.rename(columns = {'English' : 'Name'})\n\n# display\njc3_df.head()"
        },
        {
            "cell_type": "markdown",
            "metadata": {},
            "source": "#### c. Save Dataframe"
        },
        {
            "cell_type": "code",
            "execution_count": 94,
            "metadata": {},
            "outputs": [],
            "source": "# save to csv\njc3_df.to_csv('DF6_Junior Colleges.csv', index=False)"
        },
        {
            "cell_type": "markdown",
            "metadata": {},
            "source": " \n ---------------------------------------------------------------\n        \n        \n        \n        \n        "
        },
        {
            "cell_type": "markdown",
            "metadata": {},
            "source": "### 3.3 Combine Dataframes"
        },
        {
            "cell_type": "markdown",
            "metadata": {},
            "source": "#### a. access Dataframes"
        },
        {
            "cell_type": "code",
            "execution_count": 95,
            "metadata": {
                "scrolled": true
            },
            "outputs": [
                {
                    "data": {
                        "text/html": "<div>\n<style scoped>\n    .dataframe tbody tr th:only-of-type {\n        vertical-align: middle;\n    }\n\n    .dataframe tbody tr th {\n        vertical-align: top;\n    }\n\n    .dataframe thead th {\n        text-align: right;\n    }\n</style>\n<table border=\"1\" class=\"dataframe\">\n  <thead>\n    <tr style=\"text-align: right;\">\n      <th></th>\n      <th>Planning Area</th>\n      <th>Density of Student Population(/km2)</th>\n      <th>Density of Population(/km2)</th>\n    </tr>\n  </thead>\n  <tbody>\n    <tr>\n      <th>0</th>\n      <td>Ang Mo Kio</td>\n      <td>753.228121</td>\n      <td>12537.302726</td>\n    </tr>\n    <tr>\n      <th>1</th>\n      <td>Bedok</td>\n      <td>885.200553</td>\n      <td>13358.690641</td>\n    </tr>\n    <tr>\n      <th>2</th>\n      <td>Bishan</td>\n      <td>734.908136</td>\n      <td>11902.887139</td>\n    </tr>\n    <tr>\n      <th>3</th>\n      <td>Bukit Batok</td>\n      <td>934.411500</td>\n      <td>12513.027853</td>\n    </tr>\n    <tr>\n      <th>4</th>\n      <td>Bukit Merah</td>\n      <td>529.986053</td>\n      <td>10867.503487</td>\n    </tr>\n  </tbody>\n</table>\n</div>",
                        "text/plain": "  Planning Area  Density of Student Population(/km2)  \\\n0    Ang Mo Kio                           753.228121   \n1         Bedok                           885.200553   \n2        Bishan                           734.908136   \n3   Bukit Batok                           934.411500   \n4   Bukit Merah                           529.986053   \n\n   Density of Population(/km2)  \n0                 12537.302726  \n1                 13358.690641  \n2                 11902.887139  \n3                 12513.027853  \n4                 10867.503487  "
                    },
                    "execution_count": 95,
                    "metadata": {},
                    "output_type": "execute_result"
                }
            ],
            "source": "# get first dataframe\npp_df = pd.read_csv('DF4_Singapore Population Densities.csv')\n\n# display\npp_df.head()"
        },
        {
            "cell_type": "code",
            "execution_count": 96,
            "metadata": {
                "scrolled": true
            },
            "outputs": [
                {
                    "data": {
                        "text/html": "<div>\n<style scoped>\n    .dataframe tbody tr th:only-of-type {\n        vertical-align: middle;\n    }\n\n    .dataframe tbody tr th {\n        vertical-align: top;\n    }\n\n    .dataframe thead th {\n        text-align: right;\n    }\n</style>\n<table border=\"1\" class=\"dataframe\">\n  <thead>\n    <tr style=\"text-align: right;\">\n      <th></th>\n      <th>Planning Area</th>\n      <th>Name</th>\n    </tr>\n  </thead>\n  <tbody>\n    <tr>\n      <th>0</th>\n      <td>Woodlands</td>\n      <td>Admiralty Secondary School</td>\n    </tr>\n    <tr>\n      <th>1</th>\n      <td>Yishun</td>\n      <td>Ahmad Ibrahim Secondary School</td>\n    </tr>\n    <tr>\n      <th>2</th>\n      <td>Ang Mo Kio</td>\n      <td>Anderson Secondary School</td>\n    </tr>\n    <tr>\n      <th>3</th>\n      <td>Bedok</td>\n      <td>Anglican High School</td>\n    </tr>\n    <tr>\n      <th>4</th>\n      <td>Newton</td>\n      <td>Anglo-Chinese School (Barker Road)</td>\n    </tr>\n  </tbody>\n</table>\n</div>",
                        "text/plain": "  Planning Area                                Name\n0     Woodlands          Admiralty Secondary School\n1        Yishun      Ahmad Ibrahim Secondary School\n2    Ang Mo Kio           Anderson Secondary School\n3         Bedok                Anglican High School\n4        Newton  Anglo-Chinese School (Barker Road)"
                    },
                    "execution_count": 96,
                    "metadata": {},
                    "output_type": "execute_result"
                }
            ],
            "source": "# get second dataframe\nss_df = pd.read_csv('DF5_Secondary Schools.csv')\n\n# display\nss_df.head()"
        },
        {
            "cell_type": "code",
            "execution_count": 97,
            "metadata": {},
            "outputs": [
                {
                    "data": {
                        "text/html": "<div>\n<style scoped>\n    .dataframe tbody tr th:only-of-type {\n        vertical-align: middle;\n    }\n\n    .dataframe tbody tr th {\n        vertical-align: top;\n    }\n\n    .dataframe thead th {\n        text-align: right;\n    }\n</style>\n<table border=\"1\" class=\"dataframe\">\n  <thead>\n    <tr style=\"text-align: right;\">\n      <th></th>\n      <th>Planning Area</th>\n      <th>Planning Subzone</th>\n      <th>Name</th>\n    </tr>\n  </thead>\n  <tbody>\n    <tr>\n      <th>0</th>\n      <td>Ang Mo Kio</td>\n      <td>Yio Chu Kang</td>\n      <td>Anderson Serangoon Junior College</td>\n    </tr>\n    <tr>\n      <th>1</th>\n      <td>Queenstown</td>\n      <td>Dover</td>\n      <td>Anglo-Chinese Junior College</td>\n    </tr>\n    <tr>\n      <th>2</th>\n      <td>Queenstown</td>\n      <td>Dover</td>\n      <td>Anglo-Chinese IB Junior College</td>\n    </tr>\n    <tr>\n      <th>3</th>\n      <td>Novena</td>\n      <td>Malcolm</td>\n      <td>Catholic Junior College</td>\n    </tr>\n    <tr>\n      <th>4</th>\n      <td>Kallang</td>\n      <td>Tanjong Rhu</td>\n      <td>Dunman High School</td>\n    </tr>\n  </tbody>\n</table>\n</div>",
                        "text/plain": "  Planning Area Planning Subzone                               Name\n0    Ang Mo Kio     Yio Chu Kang  Anderson Serangoon Junior College\n1    Queenstown            Dover       Anglo-Chinese Junior College\n2    Queenstown            Dover    Anglo-Chinese IB Junior College\n3        Novena          Malcolm            Catholic Junior College\n4       Kallang      Tanjong Rhu                 Dunman High School"
                    },
                    "execution_count": 97,
                    "metadata": {},
                    "output_type": "execute_result"
                }
            ],
            "source": "# get third dataframe\njj_df = pd.read_csv('DF6_Junior Colleges.csv')\n\n# display\njj_df.head()"
        },
        {
            "cell_type": "markdown",
            "metadata": {},
            "source": "#### b. Merge and Modification"
        },
        {
            "cell_type": "markdown",
            "metadata": {},
            "source": "**1) Concatenate Tables**"
        },
        {
            "cell_type": "code",
            "execution_count": 98,
            "metadata": {
                "scrolled": false
            },
            "outputs": [
                {
                    "name": "stderr",
                    "output_type": "stream",
                    "text": "/opt/conda/envs/Python36/lib/python3.6/site-packages/ipykernel/__main__.py:5: FutureWarning: Sorting because non-concatenation axis is not aligned. A future version\nof pandas will change to not sort by default.\n\nTo accept the future behavior, pass 'sort=False'.\n\nTo retain the current behavior and silence the warning, pass 'sort=True'.\n\n"
                },
                {
                    "data": {
                        "text/plain": "(177, 3)"
                    },
                    "execution_count": 98,
                    "metadata": {},
                    "output_type": "execute_result"
                }
            ],
            "source": "# define frame\nframes = [ss_df, jj_df]\n\n# concatenate\nsschool_df = pd.concat(frames)\n\n# check\nsschool_df.shape"
        },
        {
            "cell_type": "code",
            "execution_count": 99,
            "metadata": {},
            "outputs": [
                {
                    "data": {
                        "text/html": "<div>\n<style scoped>\n    .dataframe tbody tr th:only-of-type {\n        vertical-align: middle;\n    }\n\n    .dataframe tbody tr th {\n        vertical-align: top;\n    }\n\n    .dataframe thead th {\n        text-align: right;\n    }\n</style>\n<table border=\"1\" class=\"dataframe\">\n  <thead>\n    <tr style=\"text-align: right;\">\n      <th></th>\n      <th>Name</th>\n      <th>Planning Area</th>\n      <th>Planning Subzone</th>\n    </tr>\n  </thead>\n  <tbody>\n    <tr>\n      <th>0</th>\n      <td>Admiralty Secondary School</td>\n      <td>Woodlands</td>\n      <td>NaN</td>\n    </tr>\n    <tr>\n      <th>1</th>\n      <td>Ahmad Ibrahim Secondary School</td>\n      <td>Yishun</td>\n      <td>NaN</td>\n    </tr>\n    <tr>\n      <th>2</th>\n      <td>Anderson Secondary School</td>\n      <td>Ang Mo Kio</td>\n      <td>NaN</td>\n    </tr>\n    <tr>\n      <th>3</th>\n      <td>Anglican High School</td>\n      <td>Bedok</td>\n      <td>NaN</td>\n    </tr>\n    <tr>\n      <th>4</th>\n      <td>Anglo-Chinese School (Barker Road)</td>\n      <td>Newton</td>\n      <td>NaN</td>\n    </tr>\n  </tbody>\n</table>\n</div>",
                        "text/plain": "                                 Name Planning Area Planning Subzone\n0          Admiralty Secondary School     Woodlands              NaN\n1      Ahmad Ibrahim Secondary School        Yishun              NaN\n2           Anderson Secondary School    Ang Mo Kio              NaN\n3                Anglican High School         Bedok              NaN\n4  Anglo-Chinese School (Barker Road)        Newton              NaN"
                    },
                    "execution_count": 99,
                    "metadata": {},
                    "output_type": "execute_result"
                }
            ],
            "source": "# reset index\nsschool_df.reset_index()\n\n# display\nsschool_df.head()"
        },
        {
            "cell_type": "markdown",
            "metadata": {},
            "source": "**2) Remove Column**"
        },
        {
            "cell_type": "code",
            "execution_count": 100,
            "metadata": {
                "scrolled": true
            },
            "outputs": [
                {
                    "data": {
                        "text/html": "<div>\n<style scoped>\n    .dataframe tbody tr th:only-of-type {\n        vertical-align: middle;\n    }\n\n    .dataframe tbody tr th {\n        vertical-align: top;\n    }\n\n    .dataframe thead th {\n        text-align: right;\n    }\n</style>\n<table border=\"1\" class=\"dataframe\">\n  <thead>\n    <tr style=\"text-align: right;\">\n      <th></th>\n      <th>Name</th>\n      <th>Planning Area</th>\n    </tr>\n  </thead>\n  <tbody>\n    <tr>\n      <th>0</th>\n      <td>Admiralty Secondary School</td>\n      <td>Woodlands</td>\n    </tr>\n    <tr>\n      <th>1</th>\n      <td>Ahmad Ibrahim Secondary School</td>\n      <td>Yishun</td>\n    </tr>\n    <tr>\n      <th>2</th>\n      <td>Anderson Secondary School</td>\n      <td>Ang Mo Kio</td>\n    </tr>\n    <tr>\n      <th>3</th>\n      <td>Anglican High School</td>\n      <td>Bedok</td>\n    </tr>\n    <tr>\n      <th>4</th>\n      <td>Anglo-Chinese School (Barker Road)</td>\n      <td>Newton</td>\n    </tr>\n  </tbody>\n</table>\n</div>",
                        "text/plain": "                                 Name Planning Area\n0          Admiralty Secondary School     Woodlands\n1      Ahmad Ibrahim Secondary School        Yishun\n2           Anderson Secondary School    Ang Mo Kio\n3                Anglican High School         Bedok\n4  Anglo-Chinese School (Barker Road)        Newton"
                    },
                    "execution_count": 100,
                    "metadata": {},
                    "output_type": "execute_result"
                }
            ],
            "source": "# drop\nssch_df = sschool_df.drop([\"Planning Subzone\"], axis=1)\n\n# display\nssch_df.head()"
        },
        {
            "cell_type": "markdown",
            "metadata": {},
            "source": "**3) change areas to planning areas**"
        },
        {
            "cell_type": "code",
            "execution_count": 101,
            "metadata": {
                "scrolled": true
            },
            "outputs": [
                {
                    "data": {
                        "text/html": "<div>\n<style scoped>\n    .dataframe tbody tr th:only-of-type {\n        vertical-align: middle;\n    }\n\n    .dataframe tbody tr th {\n        vertical-align: top;\n    }\n\n    .dataframe thead th {\n        text-align: right;\n    }\n</style>\n<table border=\"1\" class=\"dataframe\">\n  <thead>\n    <tr style=\"text-align: right;\">\n      <th></th>\n      <th>Name</th>\n      <th>Planning Area</th>\n    </tr>\n  </thead>\n  <tbody>\n    <tr>\n      <th>5</th>\n      <td>Anglo-Chinese School (Independent)</td>\n      <td>Dover</td>\n    </tr>\n    <tr>\n      <th>24</th>\n      <td>Changkat Changi Secondary School</td>\n      <td>Simei</td>\n    </tr>\n    <tr>\n      <th>90</th>\n      <td>Outram Secondary School</td>\n      <td>Central</td>\n    </tr>\n    <tr>\n      <th>102</th>\n      <td>Raffles Girls' School (Secondary)</td>\n      <td>Central</td>\n    </tr>\n    <tr>\n      <th>107</th>\n      <td>St. Andrew's Secondary School</td>\n      <td>Potong Pasir</td>\n    </tr>\n    <tr>\n      <th>109</th>\n      <td>School of Science and Technology, Singapore</td>\n      <td>Commonwealth West</td>\n    </tr>\n    <tr>\n      <th>110</th>\n      <td>School of the Arts, Singapore</td>\n      <td>Dhoby Ghaut</td>\n    </tr>\n    <tr>\n      <th>125</th>\n      <td>Tanglin Secondary School</td>\n      <td>West Coast Road</td>\n    </tr>\n    <tr>\n      <th>151</th>\n      <td>Madrasah Al-Irsyad Al-Islamiah</td>\n      <td>Braddell</td>\n    </tr>\n  </tbody>\n</table>\n</div>",
                        "text/plain": "                                            Name      Planning Area\n5             Anglo-Chinese School (Independent)              Dover\n24              Changkat Changi Secondary School              Simei\n90                       Outram Secondary School            Central\n102            Raffles Girls' School (Secondary)            Central\n107                St. Andrew's Secondary School       Potong Pasir\n109  School of Science and Technology, Singapore  Commonwealth West\n110                School of the Arts, Singapore        Dhoby Ghaut\n125                     Tanglin Secondary School    West Coast Road\n151               Madrasah Al-Irsyad Al-Islamiah           Braddell"
                    },
                    "execution_count": 101,
                    "metadata": {},
                    "output_type": "execute_result"
                }
            ],
            "source": "# remove those rows with planning Area in the listed planning areas\nssch1_df = ssch_df[~ssch_df['Planning Area'].isin(sg_df[\"Planning Area\"])]\n\n# display\nssch1_df"
        },
        {
            "cell_type": "code",
            "execution_count": 102,
            "metadata": {
                "scrolled": true
            },
            "outputs": [
                {
                    "data": {
                        "text/plain": "(9, 2)"
                    },
                    "execution_count": 102,
                    "metadata": {},
                    "output_type": "execute_result"
                }
            ],
            "source": "# check how many rows\nssch1_df.shape"
        },
        {
            "cell_type": "code",
            "execution_count": 103,
            "metadata": {
                "scrolled": true
            },
            "outputs": [
                {
                    "data": {
                        "text/plain": "0          Woodlands\n1             Yishun\n2         Ang Mo Kio\n3              Bedok\n4             Newton\n5         Queenstown\n6         Ang Mo Kio\n7      Bukit Panjang\n8          Toa Payoh\n9          Toa Payoh\n10             Bedok\n11             Bedok\n12             Bedok\n13           Kallang\n14       Jurong West\n15           Hougang\n16           Geylang\n17       Bukit Batok\n18       Bukit Merah\n19     Choa Chu Kang\n20       Bukit Batok\n21            Bishan\n22         Sembawang\n23         Toa Payoh\n24          Tampines\n25     Marine Parade\n26         Toa Payoh\n27          Sengkang\n28        Ang Mo Kio\n29       Bukit Merah\n30     Choa Chu Kang\n31         Woodlands\n32     Marine Parade\n33            Yishun\n34          Clementi\n35       Jurong East\n36          Sengkang\n37       Bukit Merah\n38             Bedok\n39        Ang Mo Kio\n40       Jurong West\n41           Kallang\n42          Tampines\n43          Tampines\n44           Punggol\n45         Woodlands\n46        Queenstown\n47     Bukit Panjang\n48         Woodlands\n49       Jurong West\n50       Bukit Merah\n51           Geylang\n52           Punggol\n53     Bukit Panjang\n54            Bishan\n55         Pasir Ris\n56       Bukit Batok\n57           Hougang\n58       Jurong West\n59           Hougang\n60       Jurong West\n61       Bukit Timah\n62          Tampines\n63       Jurong West\n64       Jurong West\n65       Jurong East\n66       Jurong West\n67          Clementi\n68     Choa Chu Kang\n69            Bishan\n70         Pasir Ris\n71           Geylang\n72         Toa Payoh\n73         Woodlands\n74        Ang Mo Kio\n75         Pasir Ris\n76       Bukit Timah\n77           Hougang\n78          Sengkang\n79          Clementi\n80       Bukit Timah\n81       Bukit Timah\n82            Yishun\n83        Queenstown\n84          Tampines\n85          Sengkang\n86            Yishun\n87            Yishun\n88          Clementi\n89            Yishun\n90            Outram\n91         Pasir Ris\n92          Tampines\n93           Hougang\n94          Sengkang\n95         Serangoon\n96            Bishan\n97             Bedok\n98        Ang Mo Kio\n99           Punggol\n100       Queenstown\n101       Queenstown\n102           Outram\n103           Bishan\n104    Choa Chu Kang\n105        Woodlands\n106         Boon Lay\n107        Toa Payoh\n108            Bedok\n109       Queenstown\n110           Museum\n111        Sembawang\n112         Sengkang\n113        Serangoon\n114          Hougang\n115      Jurong East\n116           Novena\n117        Woodlands\n118         Tampines\n119            Bedok\n120        Serangoon\n121         Tampines\n122      Bukit Timah\n123           Novena\n124      Bukit Batok\n125         Clementi\n126         Tampines\n127    Marine Parade\n128    Marine Parade\n129    Choa Chu Kang\n130            Bedok\n131            Bedok\n132    Choa Chu Kang\n133    Marine Parade\n134    Bukit Panjang\n135      Jurong West\n136           Bishan\n137        Woodlands\n138        Woodlands\n139        Woodlands\n140          Hougang\n141       Ang Mo Kio\n142           Yishun\n143           Yishun\n144      Jurong West\n145      Jurong West\n146      Bukit Batok\n147          Hougang\n148    Bukit Panjang\n149        Serangoon\n150           Rochor\n151        Toa Payoh\n152        Toa Payoh\n153          Geylang\n154           Rochor\n155       Paya Lebar\n156           Novena\n157      Jurong East\n158        Woodlands\n0         Ang Mo Kio\n1         Queenstown\n2         Queenstown\n3             Novena\n4            Kallang\n5         Queenstown\n6        Bukit Timah\n7      Choa Chu Kang\n8          Serangoon\n9        Bukit Timah\n10            Bishan\n11       Jurong West\n12         Toa Payoh\n13            Novena\n14         Pasir Ris\n15             Bedok\n16             Bedok\n17            Yishun\nName: Planning Area, dtype: object"
                    },
                    "execution_count": 103,
                    "metadata": {},
                    "output_type": "execute_result"
                }
            ],
            "source": "# create sets \nold = [\"Dover\", \"Commonwealth West\", \"Potong Pasir\", \"Braddell\", \"Simei\", \"Dhoby Ghaut\", \"West Coast Road\", \"Central\" ]\nnew = [\"Queenstown\", \"Queenstown\", \"Toa Payoh\", \"Toa Payoh\", \"Tampines\", \"Museum\", \"Clementi\", \"Outram\"]\n\n# change their values names to listed planning areas\nssch_df[\"Planning Area\"] = ssch_df[\"Planning Area\"].replace(old, new)\n\n\n# display:\nssch_df[\"Planning Area\"]"
        },
        {
            "cell_type": "code",
            "execution_count": 104,
            "metadata": {},
            "outputs": [
                {
                    "data": {
                        "text/plain": "(177, 2)"
                    },
                    "execution_count": 104,
                    "metadata": {},
                    "output_type": "execute_result"
                }
            ],
            "source": "# check\nssch_df.shape"
        },
        {
            "cell_type": "markdown",
            "metadata": {},
            "source": "**3\uff09save dataframe for future use**"
        },
        {
            "cell_type": "code",
            "execution_count": 105,
            "metadata": {},
            "outputs": [],
            "source": "# save\nssch_df.to_csv(\"DF7_Singapore Schools.csv\", index=False)"
        },
        {
            "cell_type": "markdown",
            "metadata": {},
            "source": "**4) Group Data**"
        },
        {
            "cell_type": "code",
            "execution_count": 106,
            "metadata": {},
            "outputs": [
                {
                    "data": {
                        "text/html": "<div>\n<style scoped>\n    .dataframe tbody tr th:only-of-type {\n        vertical-align: middle;\n    }\n\n    .dataframe tbody tr th {\n        vertical-align: top;\n    }\n\n    .dataframe thead th {\n        text-align: right;\n    }\n</style>\n<table border=\"1\" class=\"dataframe\">\n  <thead>\n    <tr style=\"text-align: right;\">\n      <th></th>\n      <th>Planning Area</th>\n      <th>Name</th>\n    </tr>\n  </thead>\n  <tbody>\n    <tr>\n      <th>0</th>\n      <td>Ang Mo Kio</td>\n      <td>Anderson Secondary School,Ang Mo Kio Secondary...</td>\n    </tr>\n    <tr>\n      <th>1</th>\n      <td>Bedok</td>\n      <td>Anglican High School,Bedok Green Secondary Sch...</td>\n    </tr>\n    <tr>\n      <th>2</th>\n      <td>Bishan</td>\n      <td>Catholic High School,Guangyang Secondary Schoo...</td>\n    </tr>\n    <tr>\n      <th>3</th>\n      <td>Boon Lay</td>\n      <td>River Valley High School</td>\n    </tr>\n    <tr>\n      <th>4</th>\n      <td>Bukit Batok</td>\n      <td>Bukit Batok Secondary School,Bukit View Second...</td>\n    </tr>\n  </tbody>\n</table>\n</div>",
                        "text/plain": "  Planning Area                                               Name\n0    Ang Mo Kio  Anderson Secondary School,Ang Mo Kio Secondary...\n1         Bedok  Anglican High School,Bedok Green Secondary Sch...\n2        Bishan  Catholic High School,Guangyang Secondary Schoo...\n3      Boon Lay                           River Valley High School\n4   Bukit Batok  Bukit Batok Secondary School,Bukit View Second..."
                    },
                    "execution_count": 106,
                    "metadata": {},
                    "output_type": "execute_result"
                }
            ],
            "source": "# group schools from same planning area together\nsch_df = ssch_df.groupby(['Planning Area'])['Name'].apply(lambda x: ','.join(x)).to_frame()\n\n# reset the index numbers following the grouping\nsch_df.reset_index(inplace=True)\n\n# display\nsch_df.head()"
        },
        {
            "cell_type": "code",
            "execution_count": 107,
            "metadata": {
                "scrolled": true
            },
            "outputs": [
                {
                    "data": {
                        "text/plain": "(32, 2)"
                    },
                    "execution_count": 107,
                    "metadata": {},
                    "output_type": "execute_result"
                }
            ],
            "source": "# check the shape\nsch_df.shape"
        },
        {
            "cell_type": "markdown",
            "metadata": {},
            "source": "**5) Count number of schools in each planning area**"
        },
        {
            "cell_type": "code",
            "execution_count": 108,
            "metadata": {},
            "outputs": [
                {
                    "name": "stdout",
                    "output_type": "stream",
                    "text": "8\n12\n7\n1\n5\n4\n5\n7\n7\n5\n4\n8\n4\n12\n3\n5\n1\n1\n5\n2\n5\n1\n3\n9\n2\n2\n6\n5\n9\n9\n11\n9\n"
                }
            ],
            "source": "\n# a function to count number of schools for a specific planning area by accessing to \"sch_df\" through index\ndef getCounts(i):\n    \n    x = sch_df.loc[i,'Planning Area']\n    y = ssch_df[\"Planning Area\"].value_counts()[[str(x)]].sum()\n    print(y)\n\n# a for loop to get all the counts\ndef loop(m):\n    for n in range(m):\n        getCounts(n)\n    \n# get number of rows in sch_df (number of unique planning areas)\nz = len(sch_df.index)\n\n# start the functons\nloop(z)\n        "
        },
        {
            "cell_type": "code",
            "execution_count": 109,
            "metadata": {},
            "outputs": [
                {
                    "data": {
                        "text/html": "<div>\n<style scoped>\n    .dataframe tbody tr th:only-of-type {\n        vertical-align: middle;\n    }\n\n    .dataframe tbody tr th {\n        vertical-align: top;\n    }\n\n    .dataframe thead th {\n        text-align: right;\n    }\n</style>\n<table border=\"1\" class=\"dataframe\">\n  <thead>\n    <tr style=\"text-align: right;\">\n      <th></th>\n      <th>Planning Area</th>\n      <th>Name</th>\n      <th>Number of Schools</th>\n    </tr>\n  </thead>\n  <tbody>\n    <tr>\n      <th>0</th>\n      <td>Ang Mo Kio</td>\n      <td>Anderson Secondary School,Ang Mo Kio Secondary...</td>\n      <td>8</td>\n    </tr>\n    <tr>\n      <th>1</th>\n      <td>Bedok</td>\n      <td>Anglican High School,Bedok Green Secondary Sch...</td>\n      <td>12</td>\n    </tr>\n    <tr>\n      <th>2</th>\n      <td>Bishan</td>\n      <td>Catholic High School,Guangyang Secondary Schoo...</td>\n      <td>7</td>\n    </tr>\n    <tr>\n      <th>3</th>\n      <td>Boon Lay</td>\n      <td>River Valley High School</td>\n      <td>1</td>\n    </tr>\n    <tr>\n      <th>4</th>\n      <td>Bukit Batok</td>\n      <td>Bukit Batok Secondary School,Bukit View Second...</td>\n      <td>5</td>\n    </tr>\n  </tbody>\n</table>\n</div>",
                        "text/plain": "  Planning Area                                               Name  \\\n0    Ang Mo Kio  Anderson Secondary School,Ang Mo Kio Secondary...   \n1         Bedok  Anglican High School,Bedok Green Secondary Sch...   \n2        Bishan  Catholic High School,Guangyang Secondary Schoo...   \n3      Boon Lay                           River Valley High School   \n4   Bukit Batok  Bukit Batok Secondary School,Bukit View Second...   \n\n   Number of Schools  \n0                  8  \n1                 12  \n2                  7  \n3                  1  \n4                  5  "
                    },
                    "execution_count": 109,
                    "metadata": {},
                    "output_type": "execute_result"
                }
            ],
            "source": "# create a set for the numbers\nschoolCounts = [8, 12, 7, 1, 5, 4, 5, 7, 7, 5, 4, 8, 4, 12,3, 5, 1, 1, 5, 2, 5, 1, 3, 9, 2, 2, 6, 5, 9, 9, 11, 9]\n\n# add column to sch_df\nsch_df[\"Number of Schools\"] = schoolCounts\n\n# display\nsch_df.head()"
        },
        {
            "cell_type": "code",
            "execution_count": 110,
            "metadata": {},
            "outputs": [
                {
                    "data": {
                        "text/plain": "(32, 3)"
                    },
                    "execution_count": 110,
                    "metadata": {},
                    "output_type": "execute_result"
                }
            ],
            "source": "# check\nsch_df.shape"
        },
        {
            "cell_type": "markdown",
            "metadata": {},
            "source": "#### c. Merge tables with planning areas"
        },
        {
            "cell_type": "markdown",
            "metadata": {},
            "source": "**1) data access**"
        },
        {
            "cell_type": "code",
            "execution_count": 111,
            "metadata": {},
            "outputs": [
                {
                    "data": {
                        "text/html": "<div>\n<style scoped>\n    .dataframe tbody tr th:only-of-type {\n        vertical-align: middle;\n    }\n\n    .dataframe tbody tr th {\n        vertical-align: top;\n    }\n\n    .dataframe thead th {\n        text-align: right;\n    }\n</style>\n<table border=\"1\" class=\"dataframe\">\n  <thead>\n    <tr style=\"text-align: right;\">\n      <th></th>\n      <th>Planning Area</th>\n      <th>Density of Student Population(/km2)</th>\n      <th>Density of Population(/km2)</th>\n    </tr>\n  </thead>\n  <tbody>\n    <tr>\n      <th>0</th>\n      <td>Ang Mo Kio</td>\n      <td>753.228121</td>\n      <td>12537.302726</td>\n    </tr>\n    <tr>\n      <th>1</th>\n      <td>Bedok</td>\n      <td>885.200553</td>\n      <td>13358.690641</td>\n    </tr>\n    <tr>\n      <th>2</th>\n      <td>Bishan</td>\n      <td>734.908136</td>\n      <td>11902.887139</td>\n    </tr>\n    <tr>\n      <th>3</th>\n      <td>Bukit Batok</td>\n      <td>934.411500</td>\n      <td>12513.027853</td>\n    </tr>\n    <tr>\n      <th>4</th>\n      <td>Bukit Merah</td>\n      <td>529.986053</td>\n      <td>10867.503487</td>\n    </tr>\n  </tbody>\n</table>\n</div>",
                        "text/plain": "  Planning Area  Density of Student Population(/km2)  \\\n0    Ang Mo Kio                           753.228121   \n1         Bedok                           885.200553   \n2        Bishan                           734.908136   \n3   Bukit Batok                           934.411500   \n4   Bukit Merah                           529.986053   \n\n   Density of Population(/km2)  \n0                 12537.302726  \n1                 13358.690641  \n2                 11902.887139  \n3                 12513.027853  \n4                 10867.503487  "
                    },
                    "execution_count": 111,
                    "metadata": {},
                    "output_type": "execute_result"
                }
            ],
            "source": "# read dataframe\nsgtc_df = pd.read_csv('DF4_Singapore Population Densities.csv')\n\n# display\nsgtc_df.head()"
        },
        {
            "cell_type": "markdown",
            "metadata": {},
            "source": "**2) merge**"
        },
        {
            "cell_type": "code",
            "execution_count": 112,
            "metadata": {
                "scrolled": true
            },
            "outputs": [
                {
                    "data": {
                        "text/html": "<div>\n<style scoped>\n    .dataframe tbody tr th:only-of-type {\n        vertical-align: middle;\n    }\n\n    .dataframe tbody tr th {\n        vertical-align: top;\n    }\n\n    .dataframe thead th {\n        text-align: right;\n    }\n</style>\n<table border=\"1\" class=\"dataframe\">\n  <thead>\n    <tr style=\"text-align: right;\">\n      <th></th>\n      <th>Planning Area</th>\n      <th>Density of Student Population(/km2)</th>\n      <th>Density of Population(/km2)</th>\n      <th>Name</th>\n      <th>Number of Schools</th>\n    </tr>\n  </thead>\n  <tbody>\n    <tr>\n      <th>0</th>\n      <td>Ang Mo Kio</td>\n      <td>753.228121</td>\n      <td>12537.302726</td>\n      <td>Anderson Secondary School,Ang Mo Kio Secondary...</td>\n      <td>8</td>\n    </tr>\n    <tr>\n      <th>1</th>\n      <td>Bedok</td>\n      <td>885.200553</td>\n      <td>13358.690641</td>\n      <td>Anglican High School,Bedok Green Secondary Sch...</td>\n      <td>12</td>\n    </tr>\n    <tr>\n      <th>2</th>\n      <td>Bishan</td>\n      <td>734.908136</td>\n      <td>11902.887139</td>\n      <td>Catholic High School,Guangyang Secondary Schoo...</td>\n      <td>7</td>\n    </tr>\n    <tr>\n      <th>3</th>\n      <td>Bukit Batok</td>\n      <td>934.411500</td>\n      <td>12513.027853</td>\n      <td>Bukit Batok Secondary School,Bukit View Second...</td>\n      <td>5</td>\n    </tr>\n    <tr>\n      <th>4</th>\n      <td>Bukit Merah</td>\n      <td>529.986053</td>\n      <td>10867.503487</td>\n      <td>Bukit Merah Secondary School,CHIJ St. Theresa'...</td>\n      <td>4</td>\n    </tr>\n  </tbody>\n</table>\n</div>",
                        "text/plain": "  Planning Area  Density of Student Population(/km2)  \\\n0    Ang Mo Kio                           753.228121   \n1         Bedok                           885.200553   \n2        Bishan                           734.908136   \n3   Bukit Batok                           934.411500   \n4   Bukit Merah                           529.986053   \n\n   Density of Population(/km2)  \\\n0                 12537.302726   \n1                 13358.690641   \n2                 11902.887139   \n3                 12513.027853   \n4                 10867.503487   \n\n                                                Name  Number of Schools  \n0  Anderson Secondary School,Ang Mo Kio Secondary...                  8  \n1  Anglican High School,Bedok Green Secondary Sch...                 12  \n2  Catholic High School,Guangyang Secondary Schoo...                  7  \n3  Bukit Batok Secondary School,Bukit View Second...                  5  \n4  Bukit Merah Secondary School,CHIJ St. Theresa'...                  4  "
                    },
                    "execution_count": 112,
                    "metadata": {},
                    "output_type": "execute_result"
                }
            ],
            "source": "# merge first two dataframes\nsgsc_df = pd.merge(sgtc_df, sch_df, on='Planning Area')\n\n# check the dataframe\nsgsc_df.head()"
        },
        {
            "cell_type": "code",
            "execution_count": 113,
            "metadata": {
                "scrolled": false
            },
            "outputs": [
                {
                    "data": {
                        "text/plain": "(27, 5)"
                    },
                    "execution_count": 113,
                    "metadata": {},
                    "output_type": "execute_result"
                }
            ],
            "source": "# check the number of rows and columns\nsgsc_df.shape"
        },
        {
            "cell_type": "markdown",
            "metadata": {},
            "source": "**3) save**"
        },
        {
            "cell_type": "code",
            "execution_count": 115,
            "metadata": {},
            "outputs": [],
            "source": "# save dataframe to csv\nsgsc_df.to_csv(\"DF8_Number of Schools.csv\", index=False)"
        },
        {
            "cell_type": "markdown",
            "metadata": {},
            "source": "### This is the end of Part 3: Data Preparation for Singapore Schools\n------------------------------------------------------------------------\n------------------------------------------------------------------------"
        },
        {
            "cell_type": "markdown",
            "metadata": {},
            "source": "## Part 4: Data Analysis and Visualisation 1: Singapore Schools"
        },
        {
            "cell_type": "markdown",
            "metadata": {},
            "source": "### 2.1 Dataframe and Preparation"
        },
        {
            "cell_type": "markdown",
            "metadata": {},
            "source": "#### a. get data"
        },
        {
            "cell_type": "code",
            "execution_count": 94,
            "metadata": {
                "scrolled": true
            },
            "outputs": [
                {
                    "data": {
                        "text/html": "<div>\n<style scoped>\n    .dataframe tbody tr th:only-of-type {\n        vertical-align: middle;\n    }\n\n    .dataframe tbody tr th {\n        vertical-align: top;\n    }\n\n    .dataframe thead th {\n        text-align: right;\n    }\n</style>\n<table border=\"1\" class=\"dataframe\">\n  <thead>\n    <tr style=\"text-align: right;\">\n      <th></th>\n      <th>Planning Area</th>\n      <th>Density of Student Population(/km2)</th>\n      <th>Density of Population(/km2)</th>\n      <th>Name</th>\n      <th>Number of Schools</th>\n    </tr>\n  </thead>\n  <tbody>\n    <tr>\n      <th>0</th>\n      <td>Ang Mo Kio</td>\n      <td>753.228121</td>\n      <td>12537.302726</td>\n      <td>Anderson Secondary School,Ang Mo Kio Secondary...</td>\n      <td>8</td>\n    </tr>\n    <tr>\n      <th>1</th>\n      <td>Bedok</td>\n      <td>885.200553</td>\n      <td>13358.690641</td>\n      <td>Anglican High School,Bedok Green Secondary Sch...</td>\n      <td>12</td>\n    </tr>\n    <tr>\n      <th>2</th>\n      <td>Bishan</td>\n      <td>734.908136</td>\n      <td>11902.887139</td>\n      <td>Catholic High School,Guangyang Secondary Schoo...</td>\n      <td>7</td>\n    </tr>\n    <tr>\n      <th>3</th>\n      <td>Bukit Batok</td>\n      <td>934.411500</td>\n      <td>12513.027853</td>\n      <td>Bukit Batok Secondary School,Bukit View Second...</td>\n      <td>5</td>\n    </tr>\n    <tr>\n      <th>4</th>\n      <td>Bukit Merah</td>\n      <td>529.986053</td>\n      <td>10867.503487</td>\n      <td>Bukit Merah Secondary School,CHIJ St. Theresa'...</td>\n      <td>4</td>\n    </tr>\n  </tbody>\n</table>\n</div>",
                        "text/plain": "  Planning Area  Density of Student Population(/km2)  \\\n0    Ang Mo Kio                           753.228121   \n1         Bedok                           885.200553   \n2        Bishan                           734.908136   \n3   Bukit Batok                           934.411500   \n4   Bukit Merah                           529.986053   \n\n   Density of Population(/km2)  \\\n0                 12537.302726   \n1                 13358.690641   \n2                 11902.887139   \n3                 12513.027853   \n4                 10867.503487   \n\n                                                Name  Number of Schools  \n0  Anderson Secondary School,Ang Mo Kio Secondary...                  8  \n1  Anglican High School,Bedok Green Secondary Sch...                 12  \n2  Catholic High School,Guangyang Secondary Schoo...                  7  \n3  Bukit Batok Secondary School,Bukit View Second...                  5  \n4  Bukit Merah Secondary School,CHIJ St. Theresa'...                  4  "
                    },
                    "execution_count": 94,
                    "metadata": {},
                    "output_type": "execute_result"
                }
            ],
            "source": "# retrieve dataframe\nns_df = pd.read_csv(\"DF8_Number of Schools.csv\")\n\n# check\nns_df.head()"
        },
        {
            "cell_type": "markdown",
            "metadata": {},
            "source": "#### b. sort data"
        },
        {
            "cell_type": "code",
            "execution_count": 95,
            "metadata": {},
            "outputs": [
                {
                    "data": {
                        "text/html": "<div>\n<style scoped>\n    .dataframe tbody tr th:only-of-type {\n        vertical-align: middle;\n    }\n\n    .dataframe tbody tr th {\n        vertical-align: top;\n    }\n\n    .dataframe thead th {\n        text-align: right;\n    }\n</style>\n<table border=\"1\" class=\"dataframe\">\n  <thead>\n    <tr style=\"text-align: right;\">\n      <th></th>\n      <th>Planning Area</th>\n      <th>Density of Student Population(/km2)</th>\n      <th>Density of Population(/km2)</th>\n      <th>Name</th>\n      <th>Number of Schools</th>\n    </tr>\n  </thead>\n  <tbody>\n    <tr>\n      <th>20</th>\n      <td>Sembawang</td>\n      <td>405.186386</td>\n      <td>6201.782820</td>\n      <td>Canberra Secondary School,Sembawang Secondary ...</td>\n      <td>2</td>\n    </tr>\n    <tr>\n      <th>16</th>\n      <td>Outram</td>\n      <td>364.963504</td>\n      <td>16116.788321</td>\n      <td>Outram Secondary School,Raffles Girls' School ...</td>\n      <td>2</td>\n    </tr>\n    <tr>\n      <th>13</th>\n      <td>Kallang</td>\n      <td>610.687023</td>\n      <td>11037.077426</td>\n      <td>Bendemeer Secondary School,Dunman High School,...</td>\n      <td>3</td>\n    </tr>\n    <tr>\n      <th>18</th>\n      <td>Punggol</td>\n      <td>546.038544</td>\n      <td>11750.535332</td>\n      <td>Edgefield Secondary School,Greendale Secondary...</td>\n      <td>3</td>\n    </tr>\n    <tr>\n      <th>4</th>\n      <td>Bukit Merah</td>\n      <td>529.986053</td>\n      <td>10867.503487</td>\n      <td>Bukit Merah Secondary School,CHIJ St. Theresa'...</td>\n      <td>4</td>\n    </tr>\n  </tbody>\n</table>\n</div>",
                        "text/plain": "   Planning Area  Density of Student Population(/km2)  \\\n20     Sembawang                           405.186386   \n16        Outram                           364.963504   \n13       Kallang                           610.687023   \n18       Punggol                           546.038544   \n4    Bukit Merah                           529.986053   \n\n    Density of Population(/km2)  \\\n20                  6201.782820   \n16                 16116.788321   \n13                 11037.077426   \n18                 11750.535332   \n4                  10867.503487   \n\n                                                 Name  Number of Schools  \n20  Canberra Secondary School,Sembawang Secondary ...                  2  \n16  Outram Secondary School,Raffles Girls' School ...                  2  \n13  Bendemeer Secondary School,Dunman High School,...                  3  \n18  Edgefield Secondary School,Greendale Secondary...                  3  \n4   Bukit Merah Secondary School,CHIJ St. Theresa'...                  4  "
                    },
                    "execution_count": 95,
                    "metadata": {},
                    "output_type": "execute_result"
                }
            ],
            "source": "# sorting\nnssorted = ns_df.sort_values('Number of Schools')\n\n# display\nnssorted.head()"
        },
        {
            "cell_type": "code",
            "execution_count": 96,
            "metadata": {
                "scrolled": true
            },
            "outputs": [
                {
                    "data": {
                        "text/plain": "7      7\n0      8\n10     8\n19     9\n23     9\n24     9\n26     9\n25    11\n12    12\n1     12\nName: Number of Schools, dtype: int64"
                    },
                    "execution_count": 96,
                    "metadata": {},
                    "output_type": "execute_result"
                }
            ],
            "source": "# get the top 10 values\nns_top10 = nssorted['Number of Schools'].tail(10)\n\n# display\nns_top10"
        },
        {
            "cell_type": "markdown",
            "metadata": {},
            "source": "#### c. Plot Data"
        },
        {
            "cell_type": "markdown",
            "metadata": {},
            "source": "**1) horizontal bar chart with index**"
        },
        {
            "cell_type": "code",
            "execution_count": 116,
            "metadata": {
                "scrolled": false
            },
            "outputs": [
                {
                    "data": {
                        "image/png": "[encoded data removed]",
                        "text/plain": "<Figure size 1008x720 with 1 Axes>"
                    },
                    "metadata": {
                        "needs_background": "light"
                    },
                    "output_type": "display_data"
                }
            ],
            "source": "# plot kind and style\nns_top10.plot(kind='barh', figsize=(14, 10), color='darkgrey')\n\n# add x,y labels and title\nplt.xlabel('Number of Schools')\nplt.ylabel('Planning Area by Index')\nplt.title('Top 10 planning areas with most number of schools')\n\n\n# format int with commas\nfor index, value in enumerate(ns_top10): \n    label = format(int(value), ',') \n    \n# display\nplt.show()"
        },
        {
            "cell_type": "markdown",
            "metadata": {},
            "source": "**2) bar chart with Planning Area**"
        },
        {
            "cell_type": "code",
            "execution_count": 97,
            "metadata": {},
            "outputs": [
                {
                    "data": {
                        "text/html": "<div>\n<style scoped>\n    .dataframe tbody tr th:only-of-type {\n        vertical-align: middle;\n    }\n\n    .dataframe tbody tr th {\n        vertical-align: top;\n    }\n\n    .dataframe thead th {\n        text-align: right;\n    }\n</style>\n<table border=\"1\" class=\"dataframe\">\n  <thead>\n    <tr style=\"text-align: right;\">\n      <th></th>\n      <th>Planning Area</th>\n      <th>Density of Student Population(/km2)</th>\n      <th>Density of Population(/km2)</th>\n      <th>Name</th>\n      <th>Number of Schools</th>\n    </tr>\n  </thead>\n  <tbody>\n    <tr>\n      <th>7</th>\n      <td>Choa Chu Kang</td>\n      <td>2536.824877</td>\n      <td>28531.914894</td>\n      <td>Bukit Panjang Government High School,Chua Chu ...</td>\n      <td>7</td>\n    </tr>\n    <tr>\n      <th>0</th>\n      <td>Ang Mo Kio</td>\n      <td>753.228121</td>\n      <td>12537.302726</td>\n      <td>Anderson Secondary School,Ang Mo Kio Secondary...</td>\n      <td>8</td>\n    </tr>\n    <tr>\n      <th>10</th>\n      <td>Hougang</td>\n      <td>1148.600144</td>\n      <td>15959.081120</td>\n      <td>Bowen Secondary School,Holy Innocents' High Sc...</td>\n      <td>8</td>\n    </tr>\n    <tr>\n      <th>19</th>\n      <td>Queenstown</td>\n      <td>230.053842</td>\n      <td>4799.314733</td>\n      <td>Anglo-Chinese School (Independent),Fairfield M...</td>\n      <td>9</td>\n    </tr>\n    <tr>\n      <th>23</th>\n      <td>Tampines</td>\n      <td>861.656295</td>\n      <td>12505.026328</td>\n      <td>Changkat Changi Secondary School,Dunman Second...</td>\n      <td>9</td>\n    </tr>\n    <tr>\n      <th>24</th>\n      <td>Toa Payoh</td>\n      <td>807.833537</td>\n      <td>15292.533660</td>\n      <td>Bartley Secondary School,Beatty Secondary Scho...</td>\n      <td>9</td>\n    </tr>\n    <tr>\n      <th>26</th>\n      <td>Yishun</td>\n      <td>616.760829</td>\n      <td>9508.945386</td>\n      <td>Ahmad Ibrahim Secondary School,Chung Cheng Hig...</td>\n      <td>9</td>\n    </tr>\n    <tr>\n      <th>25</th>\n      <td>Woodlands</td>\n      <td>1736.571008</td>\n      <td>18417.218543</td>\n      <td>Admiralty Secondary School,Christ Church Secon...</td>\n      <td>11</td>\n    </tr>\n    <tr>\n      <th>12</th>\n      <td>Jurong West</td>\n      <td>1497.617427</td>\n      <td>18560.925800</td>\n      <td>Boon Lay Secondary School,Dunearn Secondary Sc...</td>\n      <td>12</td>\n    </tr>\n    <tr>\n      <th>1</th>\n      <td>Bedok</td>\n      <td>885.200553</td>\n      <td>13358.690641</td>\n      <td>Anglican High School,Bedok Green Secondary Sch...</td>\n      <td>12</td>\n    </tr>\n  </tbody>\n</table>\n</div>",
                        "text/plain": "    Planning Area  Density of Student Population(/km2)  \\\n7   Choa Chu Kang                          2536.824877   \n0      Ang Mo Kio                           753.228121   \n10        Hougang                          1148.600144   \n19     Queenstown                           230.053842   \n23       Tampines                           861.656295   \n24      Toa Payoh                           807.833537   \n26         Yishun                           616.760829   \n25      Woodlands                          1736.571008   \n12    Jurong West                          1497.617427   \n1           Bedok                           885.200553   \n\n    Density of Population(/km2)  \\\n7                  28531.914894   \n0                  12537.302726   \n10                 15959.081120   \n19                  4799.314733   \n23                 12505.026328   \n24                 15292.533660   \n26                  9508.945386   \n25                 18417.218543   \n12                 18560.925800   \n1                  13358.690641   \n\n                                                 Name  Number of Schools  \n7   Bukit Panjang Government High School,Chua Chu ...                  7  \n0   Anderson Secondary School,Ang Mo Kio Secondary...                  8  \n10  Bowen Secondary School,Holy Innocents' High Sc...                  8  \n19  Anglo-Chinese School (Independent),Fairfield M...                  9  \n23  Changkat Changi Secondary School,Dunman Second...                  9  \n24  Bartley Secondary School,Beatty Secondary Scho...                  9  \n26  Ahmad Ibrahim Secondary School,Chung Cheng Hig...                  9  \n25  Admiralty Secondary School,Christ Church Secon...                 11  \n12  Boon Lay Secondary School,Dunearn Secondary Sc...                 12  \n1   Anglican High School,Bedok Green Secondary Sch...                 12  "
                    },
                    "execution_count": 97,
                    "metadata": {},
                    "output_type": "execute_result"
                }
            ],
            "source": "# get the top 10 values\nns2_top10 = nssorted.tail(10)\n\n# display\nns2_top10"
        },
        {
            "cell_type": "code",
            "execution_count": 120,
            "metadata": {
                "scrolled": true
            },
            "outputs": [
                {
                    "data": {
                        "image/png": "[encoded data removed]",
                        "text/plain": "<Figure size 432x288 with 1 Axes>"
                    },
                    "metadata": {
                        "needs_background": "light"
                    },
                    "output_type": "display_data"
                }
            ],
            "source": "planning_area = [1,2,3,4,5,6,7,8,9,10]\nnumber_of_schools = ns2_top10['Number of Schools']\nlabels= ns2_top10['Planning Area']\n\nplt.bar(planning_area, number_of_schools, align='center', width=0.25, color='darkgrey')\nplt.xticks(planning_area, labels, rotation=90)\n\n# add x-label\nplt.xlabel('Planning Area')\n# add y-label\nplt.ylabel('Number of Schools')\n# add title\nplt.title('Top 10 planning areas with highest number of schools')\n\nplt.show()"
        },
        {
            "cell_type": "markdown",
            "metadata": {},
            "source": "#### c. Combined bar chart with population densities"
        },
        {
            "cell_type": "markdown",
            "metadata": {},
            "source": "**1) normalize data**"
        },
        {
            "cell_type": "code",
            "execution_count": 121,
            "metadata": {},
            "outputs": [
                {
                    "data": {
                        "text/html": "<div>\n<style scoped>\n    .dataframe tbody tr th:only-of-type {\n        vertical-align: middle;\n    }\n\n    .dataframe tbody tr th {\n        vertical-align: top;\n    }\n\n    .dataframe thead th {\n        text-align: right;\n    }\n</style>\n<table border=\"1\" class=\"dataframe\">\n  <thead>\n    <tr style=\"text-align: right;\">\n      <th></th>\n      <th>0</th>\n      <th>1</th>\n      <th>2</th>\n    </tr>\n  </thead>\n  <tbody>\n    <tr>\n      <th>0</th>\n      <td>0.226799</td>\n      <td>0.6</td>\n      <td>0.341346</td>\n    </tr>\n    <tr>\n      <th>1</th>\n      <td>0.284010</td>\n      <td>1.0</td>\n      <td>0.375170</td>\n    </tr>\n    <tr>\n      <th>2</th>\n      <td>0.218858</td>\n      <td>0.5</td>\n      <td>0.315220</td>\n    </tr>\n    <tr>\n      <th>3</th>\n      <td>0.305344</td>\n      <td>0.3</td>\n      <td>0.340346</td>\n    </tr>\n    <tr>\n      <th>4</th>\n      <td>0.130023</td>\n      <td>0.2</td>\n      <td>0.272584</td>\n    </tr>\n  </tbody>\n</table>\n</div>",
                        "text/plain": "          0    1         2\n0  0.226799  0.6  0.341346\n1  0.284010  1.0  0.375170\n2  0.218858  0.5  0.315220\n3  0.305344  0.3  0.340346\n4  0.130023  0.2  0.272584"
                    },
                    "execution_count": 121,
                    "metadata": {},
                    "output_type": "execute_result"
                }
            ],
            "source": "# import\nfrom sklearn import preprocessing\n\n# Create x, where x the 'scores' column's values as floats\nx = ns_df[['Density of Student Population(/km2)','Number of Schools', 'Density of Population(/km2)']].values.astype(float)\n\n# Create a minimum and maximum processor object\nmin_max_scaler = preprocessing.MinMaxScaler()\n\n# Create an object to transform the data to fit minmax processor\nx_scaled = min_max_scaler.fit_transform(x)\n\n\n# Run the normalizer on the dataframe\nns_normalized = pd.DataFrame(x_scaled)\n\n# display\nns_normalized.head()"
        },
        {
            "cell_type": "code",
            "execution_count": 122,
            "metadata": {},
            "outputs": [
                {
                    "data": {
                        "text/plain": "(27, 3)"
                    },
                    "execution_count": 122,
                    "metadata": {},
                    "output_type": "execute_result"
                }
            ],
            "source": "#check\nns_normalized.shape"
        },
        {
            "cell_type": "code",
            "execution_count": 123,
            "metadata": {
                "scrolled": false
            },
            "outputs": [
                {
                    "data": {
                        "text/plain": "0    float64\n1    float64\n2    float64\ndtype: object"
                    },
                    "execution_count": 123,
                    "metadata": {},
                    "output_type": "execute_result"
                }
            ],
            "source": "# check\nns_normalized.dtypes"
        },
        {
            "cell_type": "code",
            "execution_count": 124,
            "metadata": {},
            "outputs": [
                {
                    "data": {
                        "text/plain": "RangeIndex(start=0, stop=3, step=1)"
                    },
                    "execution_count": 124,
                    "metadata": {},
                    "output_type": "execute_result"
                }
            ],
            "source": "# check columns \nns_normalized.columns"
        },
        {
            "cell_type": "code",
            "execution_count": 125,
            "metadata": {
                "scrolled": true
            },
            "outputs": [
                {
                    "data": {
                        "text/html": "<div>\n<style scoped>\n    .dataframe tbody tr th:only-of-type {\n        vertical-align: middle;\n    }\n\n    .dataframe tbody tr th {\n        vertical-align: top;\n    }\n\n    .dataframe thead th {\n        text-align: right;\n    }\n</style>\n<table border=\"1\" class=\"dataframe\">\n  <thead>\n    <tr style=\"text-align: right;\">\n      <th></th>\n      <th>Student Population(Nom)</th>\n      <th>Number of Schools(Nom)</th>\n      <th>Population(Nom)</th>\n    </tr>\n  </thead>\n  <tbody>\n    <tr>\n      <th>0</th>\n      <td>0.226799</td>\n      <td>0.6</td>\n      <td>0.341346</td>\n    </tr>\n    <tr>\n      <th>1</th>\n      <td>0.284010</td>\n      <td>1.0</td>\n      <td>0.375170</td>\n    </tr>\n    <tr>\n      <th>2</th>\n      <td>0.218858</td>\n      <td>0.5</td>\n      <td>0.315220</td>\n    </tr>\n    <tr>\n      <th>3</th>\n      <td>0.305344</td>\n      <td>0.3</td>\n      <td>0.340346</td>\n    </tr>\n    <tr>\n      <th>4</th>\n      <td>0.130023</td>\n      <td>0.2</td>\n      <td>0.272584</td>\n    </tr>\n  </tbody>\n</table>\n</div>",
                        "text/plain": "   Student Population(Nom)  Number of Schools(Nom)  Population(Nom)\n0                 0.226799                     0.6         0.341346\n1                 0.284010                     1.0         0.375170\n2                 0.218858                     0.5         0.315220\n3                 0.305344                     0.3         0.340346\n4                 0.130023                     0.2         0.272584"
                    },
                    "execution_count": 125,
                    "metadata": {},
                    "output_type": "execute_result"
                }
            ],
            "source": "# rename columns\nns_normalized.columns = ['Student Population(Nom)', 'Number of Schools(Nom)', 'Population(Nom)']\n\n# view\nns_normalized.head()"
        },
        {
            "cell_type": "markdown",
            "metadata": {},
            "source": "**2) plot data**"
        },
        {
            "cell_type": "code",
            "execution_count": 129,
            "metadata": {
                "scrolled": false
            },
            "outputs": [
                {
                    "data": {
                        "text/plain": "'planning_area = [1, 2, ..., 27]\\n        number_of_schools = ns_normalized[\\'Number of Schools(Nom)\\']\\n        density_of_population = ns_normalized[\\'Population(Nom)\\']\\n        density_of_student_population = ns_normalized[\\'Student Population(Nom)\\']\\n        labels = nssorted[\"Planning Area\"]\\n\\n        #\\n        X = np.arange(4)\\n\\n        plt.bar(X + 0.00, number_of_schools, color = \\'lightgrey\\', width = 0.25)\\n        plt.bar(X + 0.25, density_of_student_population, color = \\'steelblue\\', width = 0.25)\\n        plt.bar(X + 0.50, density_of_population, color = \\'lightblue\\', width = 0.25)\\n\\n        plt.ylabel(\\'Density per Square Kilometer\\')\\n        plt.xlabel(\\'Planning Area\\')\\n        plt.title(\\'Density per Square Kilometer by Planning Area\\')\\n        plt.xticks(planning_area, labels, rotation=90)\\n\\n        plt.legend()\\n\\n\\n\\n        plt.show() '"
                    },
                    "execution_count": 129,
                    "metadata": {},
                    "output_type": "execute_result"
                }
            ],
            "source": "# define variables \n \"\"\"planning_area = [1, 2, ..., 27]\nnumber_of_schools = ns_normalized['Number of Schools(Nom)']\ndensity_of_population = ns_normalized['Population(Nom)']\ndensity_of_student_population = ns_normalized['Student Population(Nom)']\nlabels = nssorted[\"Planning Area\"]\n\n#\nX = np.arange(4)\n\nplt.bar(X + 0.00, number_of_schools, color = 'lightgrey', width = 0.25)\nplt.bar(X + 0.25, density_of_student_population, color = 'steelblue', width = 0.25)\nplt.bar(X + 0.50, density_of_population, color = 'lightblue', width = 0.25)\n\nplt.ylabel('Density per Square Kilometer')\nplt.xlabel('Planning Area')\nplt.title('Density per Square Kilometer by Planning Area')\nplt.xticks(planning_area, labels, rotation=90)\n\nplt.legend()\n\n\n\nplt.show() \"\"\""
        },
        {
            "cell_type": "markdown",
            "metadata": {},
            "source": "**3) Find planning zones with both top 10 density of student population and number of schools**"
        },
        {
            "cell_type": "code",
            "execution_count": 98,
            "metadata": {
                "scrolled": false
            },
            "outputs": [
                {
                    "data": {
                        "text/html": "<div>\n<style scoped>\n    .dataframe tbody tr th:only-of-type {\n        vertical-align: middle;\n    }\n\n    .dataframe tbody tr th {\n        vertical-align: top;\n    }\n\n    .dataframe thead th {\n        text-align: right;\n    }\n</style>\n<table border=\"1\" class=\"dataframe\">\n  <thead>\n    <tr style=\"text-align: right;\">\n      <th></th>\n      <th>Planning Area</th>\n      <th>Density of Student Population(/km2)_x</th>\n      <th>Density of Population(/km2)_x</th>\n      <th>Name</th>\n      <th>Number of Schools</th>\n      <th>Density of Student Population(/km2)_y</th>\n      <th>Density of Population(/km2)_y</th>\n    </tr>\n  </thead>\n  <tbody>\n    <tr>\n      <th>0</th>\n      <td>Choa Chu Kang</td>\n      <td>2536.824877</td>\n      <td>28531.914894</td>\n      <td>Bukit Panjang Government High School,Chua Chu ...</td>\n      <td>7</td>\n      <td>2536.824877</td>\n      <td>28531.914894</td>\n    </tr>\n    <tr>\n      <th>1</th>\n      <td>Hougang</td>\n      <td>1148.600144</td>\n      <td>15959.081120</td>\n      <td>Bowen Secondary School,Holy Innocents' High Sc...</td>\n      <td>8</td>\n      <td>1148.600144</td>\n      <td>15959.081120</td>\n    </tr>\n    <tr>\n      <th>2</th>\n      <td>Tampines</td>\n      <td>861.656295</td>\n      <td>12505.026328</td>\n      <td>Changkat Changi Secondary School,Dunman Second...</td>\n      <td>9</td>\n      <td>861.656295</td>\n      <td>12505.026328</td>\n    </tr>\n    <tr>\n      <th>3</th>\n      <td>Woodlands</td>\n      <td>1736.571008</td>\n      <td>18417.218543</td>\n      <td>Admiralty Secondary School,Christ Church Secon...</td>\n      <td>11</td>\n      <td>1736.571008</td>\n      <td>18417.218543</td>\n    </tr>\n    <tr>\n      <th>4</th>\n      <td>Jurong West</td>\n      <td>1497.617427</td>\n      <td>18560.925800</td>\n      <td>Boon Lay Secondary School,Dunearn Secondary Sc...</td>\n      <td>12</td>\n      <td>1497.617427</td>\n      <td>18560.925800</td>\n    </tr>\n    <tr>\n      <th>5</th>\n      <td>Bedok</td>\n      <td>885.200553</td>\n      <td>13358.690641</td>\n      <td>Anglican High School,Bedok Green Secondary Sch...</td>\n      <td>12</td>\n      <td>885.200553</td>\n      <td>13358.690641</td>\n    </tr>\n  </tbody>\n</table>\n</div>",
                        "text/plain": "   Planning Area  Density of Student Population(/km2)_x  \\\n0  Choa Chu Kang                            2536.824877   \n1        Hougang                            1148.600144   \n2       Tampines                             861.656295   \n3      Woodlands                            1736.571008   \n4    Jurong West                            1497.617427   \n5          Bedok                             885.200553   \n\n   Density of Population(/km2)_x  \\\n0                   28531.914894   \n1                   15959.081120   \n2                   12505.026328   \n3                   18417.218543   \n4                   18560.925800   \n5                   13358.690641   \n\n                                                Name  Number of Schools  \\\n0  Bukit Panjang Government High School,Chua Chu ...                  7   \n1  Bowen Secondary School,Holy Innocents' High Sc...                  8   \n2  Changkat Changi Secondary School,Dunman Second...                  9   \n3  Admiralty Secondary School,Christ Church Secon...                 11   \n4  Boon Lay Secondary School,Dunearn Secondary Sc...                 12   \n5  Anglican High School,Bedok Green Secondary Sch...                 12   \n\n   Density of Student Population(/km2)_y  Density of Population(/km2)_y  \n0                            2536.824877                   28531.914894  \n1                            1148.600144                   15959.081120  \n2                             861.656295                   12505.026328  \n3                            1736.571008                   18417.218543  \n4                            1497.617427                   18560.925800  \n5                             885.200553                   13358.690641  "
                    },
                    "execution_count": 98,
                    "metadata": {},
                    "output_type": "execute_result"
                }
            ],
            "source": "# Combine dataframes \ncombinedsorted = pd.merge(ns2_top10, sgtc3_top10, on=\"Planning Area\")\n\n# view\ncombinedsorted"
        },
        {
            "cell_type": "code",
            "execution_count": 133,
            "metadata": {},
            "outputs": [
                {
                    "data": {
                        "text/plain": "(6, 7)"
                    },
                    "execution_count": 133,
                    "metadata": {},
                    "output_type": "execute_result"
                }
            ],
            "source": "# check\ncombinedsorted.shape"
        },
        {
            "cell_type": "markdown",
            "metadata": {},
            "source": "**4) Modify dataframes**"
        },
        {
            "cell_type": "code",
            "execution_count": 100,
            "metadata": {
                "scrolled": false
            },
            "outputs": [
                {
                    "data": {
                        "text/html": "<div>\n<style scoped>\n    .dataframe tbody tr th:only-of-type {\n        vertical-align: middle;\n    }\n\n    .dataframe tbody tr th {\n        vertical-align: top;\n    }\n\n    .dataframe thead th {\n        text-align: right;\n    }\n</style>\n<table border=\"1\" class=\"dataframe\">\n  <thead>\n    <tr style=\"text-align: right;\">\n      <th></th>\n      <th>Planning Area</th>\n      <th>Density of Student Population(/km2)_x</th>\n      <th>Density of Population(/km2)_x</th>\n      <th>Name</th>\n      <th>Number of Schools</th>\n    </tr>\n  </thead>\n  <tbody>\n    <tr>\n      <th>0</th>\n      <td>Choa Chu Kang</td>\n      <td>25.368249</td>\n      <td>28531.914894</td>\n      <td>Bukit Panjang Government High School,Chua Chu ...</td>\n      <td>7</td>\n    </tr>\n    <tr>\n      <th>1</th>\n      <td>Hougang</td>\n      <td>11.486001</td>\n      <td>15959.081120</td>\n      <td>Bowen Secondary School,Holy Innocents' High Sc...</td>\n      <td>8</td>\n    </tr>\n    <tr>\n      <th>2</th>\n      <td>Tampines</td>\n      <td>8.616563</td>\n      <td>12505.026328</td>\n      <td>Changkat Changi Secondary School,Dunman Second...</td>\n      <td>9</td>\n    </tr>\n    <tr>\n      <th>3</th>\n      <td>Woodlands</td>\n      <td>17.365710</td>\n      <td>18417.218543</td>\n      <td>Admiralty Secondary School,Christ Church Secon...</td>\n      <td>11</td>\n    </tr>\n    <tr>\n      <th>4</th>\n      <td>Jurong West</td>\n      <td>14.976174</td>\n      <td>18560.925800</td>\n      <td>Boon Lay Secondary School,Dunearn Secondary Sc...</td>\n      <td>12</td>\n    </tr>\n    <tr>\n      <th>5</th>\n      <td>Bedok</td>\n      <td>8.852006</td>\n      <td>13358.690641</td>\n      <td>Anglican High School,Bedok Green Secondary Sch...</td>\n      <td>12</td>\n    </tr>\n  </tbody>\n</table>\n</div>",
                        "text/plain": "   Planning Area  Density of Student Population(/km2)_x  \\\n0  Choa Chu Kang                              25.368249   \n1        Hougang                              11.486001   \n2       Tampines                               8.616563   \n3      Woodlands                              17.365710   \n4    Jurong West                              14.976174   \n5          Bedok                               8.852006   \n\n   Density of Population(/km2)_x  \\\n0                   28531.914894   \n1                   15959.081120   \n2                   12505.026328   \n3                   18417.218543   \n4                   18560.925800   \n5                   13358.690641   \n\n                                                Name  Number of Schools  \n0  Bukit Panjang Government High School,Chua Chu ...                  7  \n1  Bowen Secondary School,Holy Innocents' High Sc...                  8  \n2  Changkat Changi Secondary School,Dunman Second...                  9  \n3  Admiralty Secondary School,Christ Church Secon...                 11  \n4  Boon Lay Secondary School,Dunearn Secondary Sc...                 12  \n5  Anglican High School,Bedok Green Secondary Sch...                 12  "
                    },
                    "execution_count": 100,
                    "metadata": {},
                    "output_type": "execute_result"
                }
            ],
            "source": "# check\ncombinedsorted1 = combinedsorted.drop([\"Density of Student Population(/km2)_y\", \"Density of Population(/km2)_y\"], axis=1)\n\n# \ncombinedsorted1[\"Density of Student Population(/km2)_x\"] = combinedsorted1[\"Density of Student Population(/km2)_x\"]*0.01\n\ncombinedsorted1"
        },
        {
            "cell_type": "markdown",
            "metadata": {},
            "source": "**5) Plot bar chart**"
        },
        {
            "cell_type": "code",
            "execution_count": 145,
            "metadata": {
                "scrolled": true
            },
            "outputs": [
                {
                    "data": {
                        "image/png": "[encoded data removed]",
                        "text/plain": "<Figure size 432x288 with 1 Axes>"
                    },
                    "metadata": {
                        "needs_background": "light"
                    },
                    "output_type": "display_data"
                }
            ],
            "source": "# define variables \nnumber_of_schools = combinedsorted1['Number of Schools']\ndensity_of_student_population = combinedsorted1['Density of Student Population(/km2)_x']\nlabels= combinedsorted1['Planning Area']\n\n#\nx = np.arange(len(labels))\nwidth = 0.25\n\nfig, ax = plt.subplots()\nrects1 = ax.bar(x - width/2, number_of_schools, width, label='Name of Schools')\nrects2 = ax.bar(x + width/2, density_of_student_population, width, label='Student Population')\n\nax.set_ylabel('Density per Square Kilometer')\nax.set_xlabel('Planning Area')\nax.set_title('Density per Square Kilometer by Planning Area')\nax.set_xticks(x)\nax.set_xticklabels(labels, rotation=90)\nax.legend()\n\n\n\nplt.show()"
        },
        {
            "cell_type": "markdown",
            "metadata": {},
            "source": "**6) Get School Names**"
        },
        {
            "cell_type": "code",
            "execution_count": 107,
            "metadata": {
                "scrolled": true
            },
            "outputs": [
                {
                    "data": {
                        "text/html": "<div>\n<style scoped>\n    .dataframe tbody tr th:only-of-type {\n        vertical-align: middle;\n    }\n\n    .dataframe tbody tr th {\n        vertical-align: top;\n    }\n\n    .dataframe thead th {\n        text-align: right;\n    }\n</style>\n<table border=\"1\" class=\"dataframe\">\n  <thead>\n    <tr style=\"text-align: right;\">\n      <th></th>\n      <th>Name</th>\n      <th>Planning Area</th>\n    </tr>\n  </thead>\n  <tbody>\n    <tr>\n      <th>0</th>\n      <td>Admiralty Secondary School</td>\n      <td>Woodlands</td>\n    </tr>\n    <tr>\n      <th>1</th>\n      <td>Anglican High School</td>\n      <td>Bedok</td>\n    </tr>\n    <tr>\n      <th>2</th>\n      <td>Bedok Green Secondary School</td>\n      <td>Bedok</td>\n    </tr>\n    <tr>\n      <th>3</th>\n      <td>Bedok South Secondary School</td>\n      <td>Bedok</td>\n    </tr>\n    <tr>\n      <th>4</th>\n      <td>Bedok View Secondary School</td>\n      <td>Bedok</td>\n    </tr>\n    <tr>\n      <th>5</th>\n      <td>Boon Lay Secondary School</td>\n      <td>Jurong West</td>\n    </tr>\n    <tr>\n      <th>6</th>\n      <td>Bowen Secondary School</td>\n      <td>Hougang</td>\n    </tr>\n    <tr>\n      <th>7</th>\n      <td>Bukit Panjang Government High School</td>\n      <td>Choa Chu Kang</td>\n    </tr>\n    <tr>\n      <th>8</th>\n      <td>Changkat Changi Secondary School</td>\n      <td>Tampines</td>\n    </tr>\n    <tr>\n      <th>9</th>\n      <td>Chua Chu Kang Secondary School</td>\n      <td>Choa Chu Kang</td>\n    </tr>\n    <tr>\n      <th>10</th>\n      <td>Christ Church Secondary School</td>\n      <td>Woodlands</td>\n    </tr>\n    <tr>\n      <th>11</th>\n      <td>Damai Secondary School</td>\n      <td>Bedok</td>\n    </tr>\n    <tr>\n      <th>12</th>\n      <td>Dunearn Secondary School</td>\n      <td>Jurong West</td>\n    </tr>\n    <tr>\n      <th>13</th>\n      <td>Dunman Secondary School</td>\n      <td>Tampines</td>\n    </tr>\n    <tr>\n      <th>14</th>\n      <td>East Spring Secondary School</td>\n      <td>Tampines</td>\n    </tr>\n    <tr>\n      <th>15</th>\n      <td>Evergreen Secondary School</td>\n      <td>Woodlands</td>\n    </tr>\n    <tr>\n      <th>16</th>\n      <td>Fuchun Secondary School</td>\n      <td>Woodlands</td>\n    </tr>\n    <tr>\n      <th>17</th>\n      <td>Fuhua Secondary School</td>\n      <td>Jurong West</td>\n    </tr>\n    <tr>\n      <th>18</th>\n      <td>Holy Innocents' High School</td>\n      <td>Hougang</td>\n    </tr>\n    <tr>\n      <th>19</th>\n      <td>Hong Kah Secondary School</td>\n      <td>Jurong West</td>\n    </tr>\n    <tr>\n      <th>20</th>\n      <td>Hougang Secondary School</td>\n      <td>Hougang</td>\n    </tr>\n    <tr>\n      <th>21</th>\n      <td>Hua Yi Secondary School</td>\n      <td>Jurong West</td>\n    </tr>\n    <tr>\n      <th>22</th>\n      <td>Junyuan Secondary School</td>\n      <td>Tampines</td>\n    </tr>\n    <tr>\n      <th>23</th>\n      <td>Jurong Secondary School</td>\n      <td>Jurong West</td>\n    </tr>\n    <tr>\n      <th>24</th>\n      <td>Jurong West Secondary School</td>\n      <td>Jurong West</td>\n    </tr>\n    <tr>\n      <th>25</th>\n      <td>Juying Secondary School</td>\n      <td>Jurong West</td>\n    </tr>\n    <tr>\n      <th>26</th>\n      <td>Kranji Secondary School</td>\n      <td>Choa Chu Kang</td>\n    </tr>\n    <tr>\n      <th>27</th>\n      <td>Marsiling Secondary School</td>\n      <td>Woodlands</td>\n    </tr>\n    <tr>\n      <th>28</th>\n      <td>Montfort Secondary School</td>\n      <td>Hougang</td>\n    </tr>\n    <tr>\n      <th>29</th>\n      <td>Ngee Ann Secondary School</td>\n      <td>Tampines</td>\n    </tr>\n    <tr>\n      <th>30</th>\n      <td>Pasir Ris Secondary School</td>\n      <td>Tampines</td>\n    </tr>\n    <tr>\n      <th>31</th>\n      <td>Paya Lebar Methodist Girls' School (Secondary)</td>\n      <td>Hougang</td>\n    </tr>\n    <tr>\n      <th>32</th>\n      <td>Ping Yi Secondary School</td>\n      <td>Bedok</td>\n    </tr>\n    <tr>\n      <th>33</th>\n      <td>Regent Secondary School</td>\n      <td>Choa Chu Kang</td>\n    </tr>\n    <tr>\n      <th>34</th>\n      <td>Riverside Secondary School</td>\n      <td>Woodlands</td>\n    </tr>\n    <tr>\n      <th>35</th>\n      <td>St. Patrick's School</td>\n      <td>Bedok</td>\n    </tr>\n    <tr>\n      <th>36</th>\n      <td>Serangoon Secondary School</td>\n      <td>Hougang</td>\n    </tr>\n    <tr>\n      <th>37</th>\n      <td>Singapore Sports School</td>\n      <td>Woodlands</td>\n    </tr>\n    <tr>\n      <th>38</th>\n      <td>Springfield Secondary School</td>\n      <td>Tampines</td>\n    </tr>\n    <tr>\n      <th>39</th>\n      <td>St. Anthony's Canossian Secondary School</td>\n      <td>Bedok</td>\n    </tr>\n    <tr>\n      <th>40</th>\n      <td>St. Hilda's Secondary School</td>\n      <td>Tampines</td>\n    </tr>\n    <tr>\n      <th>41</th>\n      <td>Tampines Secondary School</td>\n      <td>Tampines</td>\n    </tr>\n    <tr>\n      <th>42</th>\n      <td>Teck Whye Secondary School</td>\n      <td>Choa Chu Kang</td>\n    </tr>\n    <tr>\n      <th>43</th>\n      <td>Temasek Junior College</td>\n      <td>Bedok</td>\n    </tr>\n    <tr>\n      <th>44</th>\n      <td>Temasek Secondary School</td>\n      <td>Bedok</td>\n    </tr>\n    <tr>\n      <th>45</th>\n      <td>Unity Secondary School</td>\n      <td>Choa Chu Kang</td>\n    </tr>\n    <tr>\n      <th>46</th>\n      <td>Westwood Secondary School</td>\n      <td>Jurong West</td>\n    </tr>\n    <tr>\n      <th>47</th>\n      <td>Woodgrove Secondary School</td>\n      <td>Woodlands</td>\n    </tr>\n    <tr>\n      <th>48</th>\n      <td>Woodlands Ring Secondary School</td>\n      <td>Woodlands</td>\n    </tr>\n    <tr>\n      <th>49</th>\n      <td>Woodlands Secondary School</td>\n      <td>Woodlands</td>\n    </tr>\n    <tr>\n      <th>50</th>\n      <td>Xinmin Secondary School</td>\n      <td>Hougang</td>\n    </tr>\n    <tr>\n      <th>51</th>\n      <td>Yuan Ching Secondary School</td>\n      <td>Jurong West</td>\n    </tr>\n    <tr>\n      <th>52</th>\n      <td>Yuhua Secondary School</td>\n      <td>Jurong West</td>\n    </tr>\n    <tr>\n      <th>53</th>\n      <td>Yuying Secondary School</td>\n      <td>Hougang</td>\n    </tr>\n    <tr>\n      <th>54</th>\n      <td>Spectra Secondary School</td>\n      <td>Woodlands</td>\n    </tr>\n    <tr>\n      <th>55</th>\n      <td>Jurong Pioneer Junior College</td>\n      <td>Choa Chu Kang</td>\n    </tr>\n    <tr>\n      <th>56</th>\n      <td>River Valley Junior College</td>\n      <td>Jurong West</td>\n    </tr>\n    <tr>\n      <th>57</th>\n      <td>Temasek Junior College</td>\n      <td>Bedok</td>\n    </tr>\n    <tr>\n      <th>58</th>\n      <td>Victoria Junior College</td>\n      <td>Bedok</td>\n    </tr>\n  </tbody>\n</table>\n</div>",
                        "text/plain": "                                              Name  Planning Area\n0                       Admiralty Secondary School      Woodlands\n1                             Anglican High School          Bedok\n2                     Bedok Green Secondary School          Bedok\n3                     Bedok South Secondary School          Bedok\n4                      Bedok View Secondary School          Bedok\n5                        Boon Lay Secondary School    Jurong West\n6                           Bowen Secondary School        Hougang\n7             Bukit Panjang Government High School  Choa Chu Kang\n8                 Changkat Changi Secondary School       Tampines\n9                   Chua Chu Kang Secondary School  Choa Chu Kang\n10                  Christ Church Secondary School      Woodlands\n11                          Damai Secondary School          Bedok\n12                        Dunearn Secondary School    Jurong West\n13                         Dunman Secondary School       Tampines\n14                    East Spring Secondary School       Tampines\n15                      Evergreen Secondary School      Woodlands\n16                         Fuchun Secondary School      Woodlands\n17                          Fuhua Secondary School    Jurong West\n18                     Holy Innocents' High School        Hougang\n19                       Hong Kah Secondary School    Jurong West\n20                        Hougang Secondary School        Hougang\n21                         Hua Yi Secondary School    Jurong West\n22                        Junyuan Secondary School       Tampines\n23                         Jurong Secondary School    Jurong West\n24                    Jurong West Secondary School    Jurong West\n25                         Juying Secondary School    Jurong West\n26                         Kranji Secondary School  Choa Chu Kang\n27                      Marsiling Secondary School      Woodlands\n28                       Montfort Secondary School        Hougang\n29                       Ngee Ann Secondary School       Tampines\n30                      Pasir Ris Secondary School       Tampines\n31  Paya Lebar Methodist Girls' School (Secondary)        Hougang\n32                        Ping Yi Secondary School          Bedok\n33                         Regent Secondary School  Choa Chu Kang\n34                      Riverside Secondary School      Woodlands\n35                            St. Patrick's School          Bedok\n36                      Serangoon Secondary School        Hougang\n37                         Singapore Sports School      Woodlands\n38                    Springfield Secondary School       Tampines\n39        St. Anthony's Canossian Secondary School          Bedok\n40                    St. Hilda's Secondary School       Tampines\n41                       Tampines Secondary School       Tampines\n42                      Teck Whye Secondary School  Choa Chu Kang\n43                          Temasek Junior College          Bedok\n44                        Temasek Secondary School          Bedok\n45                          Unity Secondary School  Choa Chu Kang\n46                       Westwood Secondary School    Jurong West\n47                      Woodgrove Secondary School      Woodlands\n48                 Woodlands Ring Secondary School      Woodlands\n49                      Woodlands Secondary School      Woodlands\n50                         Xinmin Secondary School        Hougang\n51                     Yuan Ching Secondary School    Jurong West\n52                          Yuhua Secondary School    Jurong West\n53                         Yuying Secondary School        Hougang\n54                        Spectra Secondary School      Woodlands\n55                   Jurong Pioneer Junior College  Choa Chu Kang\n56                     River Valley Junior College    Jurong West\n57                          Temasek Junior College          Bedok\n58                         Victoria Junior College          Bedok"
                    },
                    "execution_count": 107,
                    "metadata": {},
                    "output_type": "execute_result"
                }
            ],
            "source": "# Get all the school names that are in the planning areas in \"combinedsorted1\"\n# These are the schools with both top 10 density of student population and number of schools\nschool_list = ssch_df.loc[ssch_df['Planning Area'].isin( combinedsorted1[\"Planning Area\"])]\n\n# reset index\nschool_list.reset_index(drop=True, inplace=True)\n\n# view\nschool_list"
        },
        {
            "cell_type": "code",
            "execution_count": 108,
            "metadata": {},
            "outputs": [
                {
                    "data": {
                        "text/plain": "(59, 2)"
                    },
                    "execution_count": 108,
                    "metadata": {},
                    "output_type": "execute_result"
                }
            ],
            "source": "# check\nschool_list.shape"
        },
        {
            "cell_type": "markdown",
            "metadata": {},
            "source": "**7) Save dataframe**"
        },
        {
            "cell_type": "code",
            "execution_count": 163,
            "metadata": {},
            "outputs": [],
            "source": "# save\nschool_list.to_csv(\"DF9_List of Schools.csv\", index=False)"
        },
        {
            "cell_type": "markdown",
            "metadata": {},
            "source": "#### d. Consclusion"
        },
        {
            "cell_type": "markdown",
            "metadata": {},
            "source": "#### The list of schools contains the schools located in an area that has the highest density of student population and also the highest number of schools\n#### Combined with Foursquare and One Hot analysis,  it is going to inform us where the best place to set up a book-gym cafe ist."
        },
        {
            "cell_type": "markdown",
            "metadata": {},
            "source": "### This is the end of Part 4: Data Analysis and Visualization 2 for Schools"
        },
        {
            "cell_type": "code",
            "execution_count": null,
            "metadata": {},
            "outputs": [],
            "source": ""
        }
    ],
    "metadata": {
        "kernelspec": {
            "display_name": "Python 3.6",
            "language": "python",
            "name": "python3"
        },
        "language_info": {
            "codemirror_mode": {
                "name": "ipython",
                "version": 3
            },
            "file_extension": ".py",
            "mimetype": "text/x-python",
            "name": "python",
            "nbconvert_exporter": "python",
            "pygments_lexer": "ipython3",
            "version": "3.6.9"
        }
    },
    "nbformat": 4,
    "nbformat_minor": 1
}