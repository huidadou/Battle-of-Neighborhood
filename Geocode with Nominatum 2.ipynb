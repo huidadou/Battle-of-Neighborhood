{
    "cells": [
        {
            "cell_type": "code",
            "execution_count": 1,
            "metadata": {},
            "outputs": [
                {
                    "name": "stdout",
                    "output_type": "stream",
                    "text": "Requirement already satisfied: folium in /opt/conda/envs/Python36/lib/python3.6/site-packages (0.11.0)\nRequirement already satisfied: requests in /opt/conda/envs/Python36/lib/python3.6/site-packages (from folium) (2.21.0)\nRequirement already satisfied: jinja2>=2.9 in /opt/conda/envs/Python36/lib/python3.6/site-packages (from folium) (2.10)\nRequirement already satisfied: numpy in /opt/conda/envs/Python36/lib/python3.6/site-packages (from folium) (1.15.4)\nRequirement already satisfied: branca>=0.3.0 in /opt/conda/envs/Python36/lib/python3.6/site-packages (from folium) (0.4.1)\nRequirement already satisfied: certifi>=2017.4.17 in /opt/conda/envs/Python36/lib/python3.6/site-packages (from requests->folium) (2020.4.5.1)\nRequirement already satisfied: chardet<3.1.0,>=3.0.2 in /opt/conda/envs/Python36/lib/python3.6/site-packages (from requests->folium) (3.0.4)\nRequirement already satisfied: urllib3<1.25,>=1.21.1 in /opt/conda/envs/Python36/lib/python3.6/site-packages (from requests->folium) (1.24.1)\nRequirement already satisfied: idna<2.9,>=2.5 in /opt/conda/envs/Python36/lib/python3.6/site-packages (from requests->folium) (2.8)\nRequirement already satisfied: MarkupSafe>=0.23 in /opt/conda/envs/Python36/lib/python3.6/site-packages (from jinja2>=2.9->folium) (1.1.0)\n"
                }
            ],
            "source": "# intalling folium\n!pip install folium"
        },
        {
            "cell_type": "code",
            "execution_count": 2,
            "metadata": {},
            "outputs": [
                {
                    "name": "stdout",
                    "output_type": "stream",
                    "text": "all libraries have been imported\n"
                }
            ],
            "source": "# import pandas, numpy, matplotlib, seaborn, folium, requests, json, BeautifulSoup\n\n# library for data analysis\nimport pandas as pd\npd.set_option('display.max_columns', None)\npd.set_option('display.max_rows', None)\n\n# library to handle data in a vectorized manner\nimport numpy as np\n\n\n# Matplotlib and associated plotting modules\nimport matplotlib.pyplot as plt\nimport matplotlib.cm as cm\nimport matplotlib.colors as colors\n\nimport seaborn as sns\nimport folium \nimport requests\nimport json\nfrom bs4 import BeautifulSoup\n\n# Nominatim converts an address into latitude and langitude values\nfrom geopy.geocoders import Nominatim\n\n# tranform JSON file into a pandas dataframe\nfrom pandas.io.json import json_normalize\n\n# import k-means from clustering stage\nfrom sklearn.cluster import KMeans\n\nprint(\"all libraries have been imported\");"
        },
        {
            "cell_type": "code",
            "execution_count": 8,
            "metadata": {},
            "outputs": [],
            "source": "Sgsz_df = pd.read_csv('Singapore Subzones.csv')"
        },
        {
            "cell_type": "code",
            "execution_count": 9,
            "metadata": {},
            "outputs": [
                {
                    "data": {
                        "text/html": "<div>\n<style scoped>\n    .dataframe tbody tr th:only-of-type {\n        vertical-align: middle;\n    }\n\n    .dataframe tbody tr th {\n        vertical-align: top;\n    }\n\n    .dataframe thead th {\n        text-align: right;\n    }\n</style>\n<table border=\"1\" class=\"dataframe\">\n  <thead>\n    <tr style=\"text-align: right;\">\n      <th></th>\n      <th>Subzone</th>\n      <th>Planning Area</th>\n      <th>2000</th>\n      <th>2010</th>\n      <th>2015</th>\n      <th>2019</th>\n    </tr>\n  </thead>\n  <tbody>\n    <tr>\n      <th>0</th>\n      <td>Flora Drive</td>\n      <td>Pasir Ris</td>\n      <td>...</td>\n      <td>...</td>\n      <td>12950</td>\n      <td>14610</td>\n    </tr>\n    <tr>\n      <th>1</th>\n      <td>Loyang East</td>\n      <td>Pasir Ris</td>\n      <td>...</td>\n      <td>...</td>\n      <td>2190</td>\n      <td>2160</td>\n    </tr>\n    <tr>\n      <th>2</th>\n      <td>Loyang West</td>\n      <td>Pasir Ris</td>\n      <td>...</td>\n      <td>...</td>\n      <td>200</td>\n      <td>190</td>\n    </tr>\n    <tr>\n      <th>3</th>\n      <td>Pasir Ris Central (Town)</td>\n      <td>Pasir Ris</td>\n      <td>20223</td>\n      <td>20808</td>\n      <td>25730</td>\n      <td>32190</td>\n    </tr>\n    <tr>\n      <th>4</th>\n      <td>Pasir Ris Drive</td>\n      <td>Pasir Ris</td>\n      <td>58458</td>\n      <td>61489</td>\n      <td>59480</td>\n      <td>55260</td>\n    </tr>\n  </tbody>\n</table>\n</div>",
                        "text/plain": "                    Subzone Planning Area   2000   2010   2015   2019\n0               Flora Drive     Pasir Ris    ...    ...  12950  14610\n1               Loyang East     Pasir Ris    ...    ...   2190   2160\n2               Loyang West     Pasir Ris    ...    ...    200    190\n3  Pasir Ris Central (Town)     Pasir Ris  20223  20808  25730  32190\n4           Pasir Ris Drive     Pasir Ris  58458  61489  59480  55260"
                    },
                    "execution_count": 9,
                    "metadata": {},
                    "output_type": "execute_result"
                }
            ],
            "source": "Sgsz_df.head()"
        },
        {
            "cell_type": "code",
            "execution_count": 25,
            "metadata": {},
            "outputs": [
                {
                    "data": {
                        "text/html": "<div>\n<style scoped>\n    .dataframe tbody tr th:only-of-type {\n        vertical-align: middle;\n    }\n\n    .dataframe tbody tr th {\n        vertical-align: top;\n    }\n\n    .dataframe thead th {\n        text-align: right;\n    }\n</style>\n<table border=\"1\" class=\"dataframe\">\n  <thead>\n    <tr style=\"text-align: right;\">\n      <th></th>\n      <th>Subzone</th>\n      <th>Planning Area</th>\n    </tr>\n  </thead>\n  <tbody>\n    <tr>\n      <th>0</th>\n      <td>Flora Drive, SG</td>\n      <td>Pasir Ris</td>\n    </tr>\n    <tr>\n      <th>1</th>\n      <td>Loyang East, SG</td>\n      <td>Pasir Ris</td>\n    </tr>\n    <tr>\n      <th>2</th>\n      <td>Loyang West, SG</td>\n      <td>Pasir Ris</td>\n    </tr>\n    <tr>\n      <th>3</th>\n      <td>Pasir Ris Central, SG</td>\n      <td>Pasir Ris</td>\n    </tr>\n    <tr>\n      <th>4</th>\n      <td>Pasir Ris Drive, SG</td>\n      <td>Pasir Ris</td>\n    </tr>\n  </tbody>\n</table>\n</div>",
                        "text/plain": "                 Subzone Planning Area\n0        Flora Drive, SG     Pasir Ris\n1        Loyang East, SG     Pasir Ris\n2        Loyang West, SG     Pasir Ris\n3  Pasir Ris Central, SG     Pasir Ris\n4    Pasir Ris Drive, SG     Pasir Ris"
                    },
                    "execution_count": 25,
                    "metadata": {},
                    "output_type": "execute_result"
                }
            ],
            "source": "Sgsz2_df = Sgsz_df.drop(['2000','2010','2015', '2019'], axis=1)\nSgsz2_df.head()"
        },
        {
            "cell_type": "code",
            "execution_count": 36,
            "metadata": {},
            "outputs": [
                {
                    "data": {
                        "text/html": "<div>\n<style scoped>\n    .dataframe tbody tr th:only-of-type {\n        vertical-align: middle;\n    }\n\n    .dataframe tbody tr th {\n        vertical-align: top;\n    }\n\n    .dataframe thead th {\n        text-align: right;\n    }\n</style>\n<table border=\"1\" class=\"dataframe\">\n  <thead>\n    <tr style=\"text-align: right;\">\n      <th></th>\n      <th>Subzone</th>\n      <th>Planning Area</th>\n    </tr>\n  </thead>\n  <tbody>\n    <tr>\n      <th>0</th>\n      <td>Flora Drive</td>\n      <td>Pasir Ris</td>\n    </tr>\n    <tr>\n      <th>1</th>\n      <td>Loyang East</td>\n      <td>Pasir Ris</td>\n    </tr>\n    <tr>\n      <th>2</th>\n      <td>Loyang West</td>\n      <td>Pasir Ris</td>\n    </tr>\n    <tr>\n      <th>3</th>\n      <td>Pasir Ris Central</td>\n      <td>Pasir Ris</td>\n    </tr>\n    <tr>\n      <th>4</th>\n      <td>Pasir Ris Drive</td>\n      <td>Pasir Ris</td>\n    </tr>\n  </tbody>\n</table>\n</div>",
                        "text/plain": "             Subzone Planning Area\n0        Flora Drive     Pasir Ris\n1        Loyang East     Pasir Ris\n2        Loyang West     Pasir Ris\n3  Pasir Ris Central     Pasir Ris\n4    Pasir Ris Drive     Pasir Ris"
                    },
                    "execution_count": 36,
                    "metadata": {},
                    "output_type": "execute_result"
                }
            ],
            "source": "Sgsz2_df['Subzone'] = Sgsz2_df['Subzone'].astype(str).str.rstrip(', SG')\nSgsz2_df.head()"
        },
        {
            "cell_type": "code",
            "execution_count": 39,
            "metadata": {},
            "outputs": [
                {
                    "data": {
                        "text/plain": "(78, 2)"
                    },
                    "execution_count": 39,
                    "metadata": {},
                    "output_type": "execute_result"
                }
            ],
            "source": "Sgsz2_df.shape"
        },
        {
            "cell_type": "code",
            "execution_count": 41,
            "metadata": {},
            "outputs": [],
            "source": "Sgsz2_df.to_csv('Cleaned up Sobzones and Planning Area.csv', index=False)"
        },
        {
            "cell_type": "code",
            "execution_count": 12,
            "metadata": {},
            "outputs": [
                {
                    "name": "stderr",
                    "output_type": "stream",
                    "text": "/opt/conda/envs/Python36/lib/python3.6/site-packages/ipykernel/__main__.py:1: FutureWarning: set_value is deprecated and will be removed in a future release. Please use .at[] or .iat[] accessors instead\n  if __name__ == '__main__':\n/opt/conda/envs/Python36/lib/python3.6/site-packages/ipykernel/__main__.py:2: FutureWarning: set_value is deprecated and will be removed in a future release. Please use .at[] or .iat[] accessors instead\n  from ipykernel import kernelapp as app\n/opt/conda/envs/Python36/lib/python3.6/site-packages/ipykernel/__main__.py:3: FutureWarning: set_value is deprecated and will be removed in a future release. Please use .at[] or .iat[] accessors instead\n  app.launch_new_instance()\n/opt/conda/envs/Python36/lib/python3.6/site-packages/ipykernel/__main__.py:4: FutureWarning: set_value is deprecated and will be removed in a future release. Please use .at[] or .iat[] accessors instead\n/opt/conda/envs/Python36/lib/python3.6/site-packages/ipykernel/__main__.py:5: FutureWarning: set_value is deprecated and will be removed in a future release. Please use .at[] or .iat[] accessors instead\n/opt/conda/envs/Python36/lib/python3.6/site-packages/ipykernel/__main__.py:6: FutureWarning: set_value is deprecated and will be removed in a future release. Please use .at[] or .iat[] accessors instead\n/opt/conda/envs/Python36/lib/python3.6/site-packages/ipykernel/__main__.py:7: FutureWarning: set_value is deprecated and will be removed in a future release. Please use .at[] or .iat[] accessors instead\n/opt/conda/envs/Python36/lib/python3.6/site-packages/ipykernel/__main__.py:8: FutureWarning: set_value is deprecated and will be removed in a future release. Please use .at[] or .iat[] accessors instead\n/opt/conda/envs/Python36/lib/python3.6/site-packages/ipykernel/__main__.py:9: FutureWarning: set_value is deprecated and will be removed in a future release. Please use .at[] or .iat[] accessors instead\n/opt/conda/envs/Python36/lib/python3.6/site-packages/ipykernel/__main__.py:10: FutureWarning: set_value is deprecated and will be removed in a future release. Please use .at[] or .iat[] accessors instead\n/opt/conda/envs/Python36/lib/python3.6/site-packages/ipykernel/__main__.py:11: FutureWarning: set_value is deprecated and will be removed in a future release. Please use .at[] or .iat[] accessors instead\n/opt/conda/envs/Python36/lib/python3.6/site-packages/ipykernel/__main__.py:12: FutureWarning: set_value is deprecated and will be removed in a future release. Please use .at[] or .iat[] accessors instead\n/opt/conda/envs/Python36/lib/python3.6/site-packages/ipykernel/__main__.py:13: FutureWarning: set_value is deprecated and will be removed in a future release. Please use .at[] or .iat[] accessors instead\n"
                },
                {
                    "data": {
                        "text/html": "<div>\n<style scoped>\n    .dataframe tbody tr th:only-of-type {\n        vertical-align: middle;\n    }\n\n    .dataframe tbody tr th {\n        vertical-align: top;\n    }\n\n    .dataframe thead th {\n        text-align: right;\n    }\n</style>\n<table border=\"1\" class=\"dataframe\">\n  <thead>\n    <tr style=\"text-align: right;\">\n      <th></th>\n      <th>Subzone</th>\n      <th>Planning Area</th>\n      <th>2000</th>\n      <th>2010</th>\n      <th>2015</th>\n      <th>2019</th>\n    </tr>\n  </thead>\n  <tbody>\n    <tr>\n      <th>0</th>\n      <td>Flora Drive</td>\n      <td>Pasir Ris</td>\n      <td>...</td>\n      <td>...</td>\n      <td>12950</td>\n      <td>14610</td>\n    </tr>\n    <tr>\n      <th>1</th>\n      <td>Loyang East</td>\n      <td>Pasir Ris</td>\n      <td>...</td>\n      <td>...</td>\n      <td>2190</td>\n      <td>2160</td>\n    </tr>\n    <tr>\n      <th>2</th>\n      <td>Loyang West</td>\n      <td>Pasir Ris</td>\n      <td>...</td>\n      <td>...</td>\n      <td>200</td>\n      <td>190</td>\n    </tr>\n    <tr>\n      <th>3</th>\n      <td>Pasir Ris Central</td>\n      <td>Pasir Ris</td>\n      <td>20223</td>\n      <td>20808</td>\n      <td>25730</td>\n      <td>32190</td>\n    </tr>\n    <tr>\n      <th>4</th>\n      <td>Pasir Ris Drive</td>\n      <td>Pasir Ris</td>\n      <td>58458</td>\n      <td>61489</td>\n      <td>59480</td>\n      <td>55260</td>\n    </tr>\n    <tr>\n      <th>5</th>\n      <td>Pasir Ris Park</td>\n      <td>Pasir Ris</td>\n      <td>...</td>\n      <td>1294</td>\n      <td>2980</td>\n      <td>7510</td>\n    </tr>\n    <tr>\n      <th>6</th>\n      <td>Pasir Ris West</td>\n      <td>Pasir Ris</td>\n      <td>...</td>\n      <td>...</td>\n      <td>20</td>\n      <td>20</td>\n    </tr>\n    <tr>\n      <th>7</th>\n      <td>Elias</td>\n      <td>Pasir Ris</td>\n      <td>28938</td>\n      <td>36305</td>\n      <td>36330</td>\n      <td>36080</td>\n    </tr>\n    <tr>\n      <th>8</th>\n      <td>Simei</td>\n      <td>Tampines</td>\n      <td>...</td>\n      <td>42860</td>\n      <td>42710</td>\n      <td>40040</td>\n    </tr>\n    <tr>\n      <th>9</th>\n      <td>Tampines East</td>\n      <td>Tampines</td>\n      <td>137152</td>\n      <td>138807</td>\n      <td>138500</td>\n      <td>132840</td>\n    </tr>\n    <tr>\n      <th>10</th>\n      <td>Tampines North</td>\n      <td>Tampines</td>\n      <td>...</td>\n      <td>...</td>\n      <td>...</td>\n      <td>2460</td>\n    </tr>\n    <tr>\n      <th>11</th>\n      <td>Tampines West</td>\n      <td>Tampines</td>\n      <td>75761</td>\n      <td>77956</td>\n      <td>78110</td>\n      <td>79670</td>\n    </tr>\n    <tr>\n      <th>12</th>\n      <td>Xilin</td>\n      <td>Tampines</td>\n      <td>...</td>\n      <td>2120</td>\n      <td>1920</td>\n      <td>1730</td>\n    </tr>\n    <tr>\n      <th>13</th>\n      <td>Bayshore</td>\n      <td>Bedok</td>\n      <td>3414</td>\n      <td>6497</td>\n      <td>7480</td>\n      <td>7330</td>\n    </tr>\n    <tr>\n      <th>14</th>\n      <td>Bedok North</td>\n      <td>Bedok</td>\n      <td>87199</td>\n      <td>91139</td>\n      <td>85930</td>\n      <td>82530</td>\n    </tr>\n    <tr>\n      <th>15</th>\n      <td>Bedok Reservoir</td>\n      <td>Bedok</td>\n      <td>19999</td>\n      <td>23076</td>\n      <td>25400</td>\n      <td>25640</td>\n    </tr>\n    <tr>\n      <th>16</th>\n      <td>Bedok South</td>\n      <td>Bedok</td>\n      <td>54324</td>\n      <td>52313</td>\n      <td>51190</td>\n      <td>47420</td>\n    </tr>\n    <tr>\n      <th>17</th>\n      <td>Frankel</td>\n      <td>Bedok</td>\n      <td>30828</td>\n      <td>31536</td>\n      <td>33570</td>\n      <td>34330</td>\n    </tr>\n    <tr>\n      <th>18</th>\n      <td>Kaki Bukit</td>\n      <td>Bedok</td>\n      <td>43310</td>\n      <td>43781</td>\n      <td>40820</td>\n      <td>37670</td>\n    </tr>\n    <tr>\n      <th>19</th>\n      <td>Kembangan</td>\n      <td>Bedok</td>\n      <td>37219</td>\n      <td>38722</td>\n      <td>38440</td>\n      <td>37950</td>\n    </tr>\n    <tr>\n      <th>20</th>\n      <td>Siglap</td>\n      <td>Bedok</td>\n      <td>8025</td>\n      <td>7455</td>\n      <td>6930</td>\n      <td>6520</td>\n    </tr>\n    <tr>\n      <th>21</th>\n      <td>Brickworks</td>\n      <td>Bukit Batok</td>\n      <td>...</td>\n      <td>...</td>\n      <td>...</td>\n      <td>15060</td>\n    </tr>\n    <tr>\n      <th>22</th>\n      <td>Bukit Batok Central</td>\n      <td>Bukit Batok</td>\n      <td>24293</td>\n      <td>26553</td>\n      <td>26060</td>\n      <td>27260</td>\n    </tr>\n    <tr>\n      <th>23</th>\n      <td>Bukit Batok East</td>\n      <td>Bukit Batok</td>\n      <td>15626</td>\n      <td>15921</td>\n      <td>14570</td>\n      <td>12830</td>\n    </tr>\n    <tr>\n      <th>24</th>\n      <td>Bukit Batok South</td>\n      <td>Bukit Batok</td>\n      <td>13590</td>\n      <td>14651</td>\n      <td>13940</td>\n      <td>14990</td>\n    </tr>\n    <tr>\n      <th>25</th>\n      <td>Bukit Batok West</td>\n      <td>Bukit Batok</td>\n      <td>16134</td>\n      <td>16286</td>\n      <td>15190</td>\n      <td>15030</td>\n    </tr>\n    <tr>\n      <th>26</th>\n      <td>Gombak</td>\n      <td>Bukit Batok</td>\n      <td>...</td>\n      <td>8866</td>\n      <td>9820</td>\n      <td>10000</td>\n    </tr>\n    <tr>\n      <th>27</th>\n      <td>Guilin</td>\n      <td>Bukit Batok</td>\n      <td>...</td>\n      <td>13911</td>\n      <td>13130</td>\n      <td>13020</td>\n    </tr>\n    <tr>\n      <th>28</th>\n      <td>Hillview</td>\n      <td>Bukit Batok</td>\n      <td>15652</td>\n      <td>17942</td>\n      <td>18220</td>\n      <td>19120</td>\n    </tr>\n    <tr>\n      <th>29</th>\n      <td>Hong Kah North</td>\n      <td>Bukit Batok</td>\n      <td>28788</td>\n      <td>30067</td>\n      <td>28340</td>\n      <td>26450</td>\n    </tr>\n    <tr>\n      <th>30</th>\n      <td>Defu Industrial Park</td>\n      <td>Hougang</td>\n      <td>...</td>\n      <td>...</td>\n      <td>20</td>\n      <td>20</td>\n    </tr>\n    <tr>\n      <th>31</th>\n      <td>Hougang Central</td>\n      <td>Hougang</td>\n      <td>...</td>\n      <td>...</td>\n      <td>4830</td>\n      <td>4730</td>\n    </tr>\n    <tr>\n      <th>32</th>\n      <td>Hougang East</td>\n      <td>Hougang</td>\n      <td>...</td>\n      <td>...</td>\n      <td>21940</td>\n      <td>25060</td>\n    </tr>\n    <tr>\n      <th>33</th>\n      <td>Hougang West</td>\n      <td>Hougang</td>\n      <td>...</td>\n      <td>...</td>\n      <td>50120</td>\n      <td>45400</td>\n    </tr>\n    <tr>\n      <th>34</th>\n      <td>Kangkar</td>\n      <td>Hougang</td>\n      <td>...</td>\n      <td>...</td>\n      <td>26080</td>\n      <td>31670</td>\n    </tr>\n    <tr>\n      <th>35</th>\n      <td>Kovan</td>\n      <td>Hougang</td>\n      <td>20894</td>\n      <td>23068</td>\n      <td>25640</td>\n      <td>24850</td>\n    </tr>\n    <tr>\n      <th>36</th>\n      <td>Lorong Ah Soo</td>\n      <td>Hougang</td>\n      <td>36640</td>\n      <td>34457</td>\n      <td>34180</td>\n      <td>32530</td>\n    </tr>\n    <tr>\n      <th>37</th>\n      <td>Lorong Halus</td>\n      <td>Hougang</td>\n      <td>...</td>\n      <td>...</td>\n      <td>...</td>\n      <td>...</td>\n    </tr>\n    <tr>\n      <th>38</th>\n      <td>Tai Seng</td>\n      <td>Hougang</td>\n      <td>...</td>\n      <td>12908</td>\n      <td>14700</td>\n      <td>14060</td>\n    </tr>\n    <tr>\n      <th>39</th>\n      <td>Trafalgar</td>\n      <td>Hougang</td>\n      <td>...</td>\n      <td>...</td>\n      <td>44800</td>\n      <td>47940</td>\n    </tr>\n    <tr>\n      <th>40</th>\n      <td>Bangkit</td>\n      <td>Bukit Panjang</td>\n      <td>25837</td>\n      <td>25286</td>\n      <td>23800</td>\n      <td>22490</td>\n    </tr>\n    <tr>\n      <th>41</th>\n      <td>Dairy Farm</td>\n      <td>Bukit Panjang</td>\n      <td>...</td>\n      <td>3750</td>\n      <td>5390</td>\n      <td>6780</td>\n    </tr>\n    <tr>\n      <th>42</th>\n      <td>Fajar</td>\n      <td>Bukit Panjang</td>\n      <td>16711</td>\n      <td>22991</td>\n      <td>26770</td>\n      <td>28160</td>\n    </tr>\n    <tr>\n      <th>43</th>\n      <td>Jelebu</td>\n      <td>Bukit Panjang</td>\n      <td>27487</td>\n      <td>34963</td>\n      <td>33470</td>\n      <td>31550</td>\n    </tr>\n    <tr>\n      <th>44</th>\n      <td>Nature Reserve</td>\n      <td>Bukit Panjang</td>\n      <td>...</td>\n      <td>3601</td>\n      <td>3870</td>\n      <td>3810</td>\n    </tr>\n    <tr>\n      <th>45</th>\n      <td>Saujana</td>\n      <td>Bukit Panjang</td>\n      <td>17707</td>\n      <td>21957</td>\n      <td>25530</td>\n      <td>26100</td>\n    </tr>\n    <tr>\n      <th>46</th>\n      <td>Senja</td>\n      <td>Bukit Panjang</td>\n      <td>...</td>\n      <td>16186</td>\n      <td>20200</td>\n      <td>20390</td>\n    </tr>\n    <tr>\n      <th>47</th>\n      <td>Boon Lay Place</td>\n      <td>Jurong West</td>\n      <td>...</td>\n      <td>24384</td>\n      <td>31100</td>\n      <td>29630</td>\n    </tr>\n    <tr>\n      <th>48</th>\n      <td>Chin Bee</td>\n      <td>Jurong West</td>\n      <td>...</td>\n      <td>...</td>\n      <td>...</td>\n      <td>10</td>\n    </tr>\n    <tr>\n      <th>49</th>\n      <td>Hong Kah</td>\n      <td>Jurong West</td>\n      <td>57421</td>\n      <td>59658</td>\n      <td>56870</td>\n      <td>54060</td>\n    </tr>\n    <tr>\n      <th>50</th>\n      <td>Jurong West Central</td>\n      <td>Jurong West</td>\n      <td>28916</td>\n      <td>69324</td>\n      <td>68200</td>\n      <td>64650</td>\n    </tr>\n    <tr>\n      <th>51</th>\n      <td>Kian Teck</td>\n      <td>Jurong West</td>\n      <td>...</td>\n      <td>...</td>\n      <td>50</td>\n      <td>50</td>\n    </tr>\n    <tr>\n      <th>52</th>\n      <td>Safti</td>\n      <td>Jurong West</td>\n      <td>...</td>\n      <td>...</td>\n      <td>...</td>\n      <td>...</td>\n    </tr>\n    <tr>\n      <th>53</th>\n      <td>Taman Jurong</td>\n      <td>Jurong West</td>\n      <td>29296</td>\n      <td>32338</td>\n      <td>36940</td>\n      <td>39980</td>\n    </tr>\n    <tr>\n      <th>54</th>\n      <td>Wenya</td>\n      <td>Jurong West</td>\n      <td>...</td>\n      <td>8190</td>\n      <td>8610</td>\n      <td>8310</td>\n    </tr>\n    <tr>\n      <th>55</th>\n      <td>Yunnan</td>\n      <td>Jurong West</td>\n      <td>62600</td>\n      <td>73587</td>\n      <td>70890</td>\n      <td>68170</td>\n    </tr>\n    <tr>\n      <th>56</th>\n      <td>Anchorvale</td>\n      <td>Sengkang</td>\n      <td>...</td>\n      <td>30751</td>\n      <td>38040</td>\n      <td>46550</td>\n    </tr>\n    <tr>\n      <th>57</th>\n      <td>Compassvale</td>\n      <td>Sengkang</td>\n      <td>...</td>\n      <td>13624</td>\n      <td>18510</td>\n      <td>21170</td>\n    </tr>\n    <tr>\n      <th>58</th>\n      <td>Fernvale</td>\n      <td>Sengkang</td>\n      <td>...</td>\n      <td>12786</td>\n      <td>35590</td>\n      <td>55110</td>\n    </tr>\n    <tr>\n      <th>59</th>\n      <td>Sungei Serangoon East</td>\n      <td>Sengkang</td>\n      <td>...</td>\n      <td>...</td>\n      <td>...</td>\n      <td>...</td>\n    </tr>\n    <tr>\n      <th>60</th>\n      <td>Sungei Serangoon West</td>\n      <td>Sengkang</td>\n      <td>...</td>\n      <td>...</td>\n      <td>59860</td>\n      <td>60160</td>\n    </tr>\n    <tr>\n      <th>61</th>\n      <td>Sengkang Town Centre</td>\n      <td>Sengkang</td>\n      <td>...</td>\n      <td>52148</td>\n      <td>54680</td>\n      <td>61600</td>\n    </tr>\n    <tr>\n      <th>62</th>\n      <td>Jalan Kayu West</td>\n      <td>Sengkang</td>\n      <td>...</td>\n      <td>...</td>\n      <td>10</td>\n      <td>10</td>\n    </tr>\n    <tr>\n      <th>63</th>\n      <td>Greenwood Park</td>\n      <td>Woodlands</td>\n      <td>...</td>\n      <td>...</td>\n      <td>70</td>\n      <td>40</td>\n    </tr>\n    <tr>\n      <th>64</th>\n      <td>Midview</td>\n      <td>Woodlands</td>\n      <td>28977</td>\n      <td>34629</td>\n      <td>35510</td>\n      <td>35510</td>\n    </tr>\n    <tr>\n      <th>65</th>\n      <td>North Coast</td>\n      <td>Woodlands</td>\n      <td>...</td>\n      <td>15271</td>\n      <td>14610</td>\n      <td>12350</td>\n    </tr>\n    <tr>\n      <th>66</th>\n      <td>Senoko West</td>\n      <td>Woodlands</td>\n      <td>...</td>\n      <td>...</td>\n      <td>20</td>\n      <td>10</td>\n    </tr>\n    <tr>\n      <th>67</th>\n      <td>Woodgrove</td>\n      <td>Woodlands</td>\n      <td>28587</td>\n      <td>35508</td>\n      <td>35850</td>\n      <td>34110</td>\n    </tr>\n    <tr>\n      <th>68</th>\n      <td>Woodlands East</td>\n      <td>Woodlands</td>\n      <td>64824</td>\n      <td>95401</td>\n      <td>95510</td>\n      <td>98510</td>\n    </tr>\n    <tr>\n      <th>69</th>\n      <td>Woodlands Regional Centre</td>\n      <td>Woodlands</td>\n      <td>...</td>\n      <td>...</td>\n      <td>...</td>\n      <td>10</td>\n    </tr>\n    <tr>\n      <th>70</th>\n      <td>Woodlands South</td>\n      <td>Woodlands</td>\n      <td>21095</td>\n      <td>32698</td>\n      <td>35840</td>\n      <td>41040</td>\n    </tr>\n    <tr>\n      <th>71</th>\n      <td>Woodlands West</td>\n      <td>Woodlands</td>\n      <td>27972</td>\n      <td>31549</td>\n      <td>32890</td>\n      <td>33140</td>\n    </tr>\n    <tr>\n      <th>72</th>\n      <td>Choa Chu Kang Central</td>\n      <td>Choa Chu Kang</td>\n      <td>18082</td>\n      <td>20282</td>\n      <td>21400</td>\n      <td>22530</td>\n    </tr>\n    <tr>\n      <th>73</th>\n      <td>Choa Chu Kang North</td>\n      <td>Choa Chu Kang</td>\n      <td>25830</td>\n      <td>33209</td>\n      <td>34380</td>\n      <td>32390</td>\n    </tr>\n    <tr>\n      <th>74</th>\n      <td>Keat Hong</td>\n      <td>Choa Chu Kang</td>\n      <td>13722</td>\n      <td>16399</td>\n      <td>15660</td>\n      <td>36950</td>\n    </tr>\n    <tr>\n      <th>75</th>\n      <td>Peng Siang</td>\n      <td>Choa Chu Kang</td>\n      <td>28146</td>\n      <td>31257</td>\n      <td>32130</td>\n      <td>33380</td>\n    </tr>\n    <tr>\n      <th>76</th>\n      <td>Teck Whye</td>\n      <td>Choa Chu Kang</td>\n      <td>26391</td>\n      <td>26887</td>\n      <td>27040</td>\n      <td>24720</td>\n    </tr>\n    <tr>\n      <th>77</th>\n      <td>Yew Tee</td>\n      <td>Choa Chu Kang</td>\n      <td>23934</td>\n      <td>45257</td>\n      <td>43710</td>\n      <td>40910</td>\n    </tr>\n  </tbody>\n</table>\n</div>",
                        "text/plain": "                      Subzone  Planning Area    2000    2010    2015    2019\n0                 Flora Drive      Pasir Ris     ...     ...   12950   14610\n1                 Loyang East      Pasir Ris     ...     ...    2190    2160\n2                 Loyang West      Pasir Ris     ...     ...     200     190\n3           Pasir Ris Central      Pasir Ris   20223   20808   25730   32190\n4             Pasir Ris Drive      Pasir Ris   58458   61489   59480   55260\n5              Pasir Ris Park      Pasir Ris     ...    1294    2980    7510\n6              Pasir Ris West      Pasir Ris     ...     ...      20      20\n7                       Elias      Pasir Ris   28938   36305   36330   36080\n8                       Simei       Tampines     ...   42860   42710   40040\n9               Tampines East       Tampines  137152  138807  138500  132840\n10             Tampines North       Tampines     ...     ...     ...    2460\n11              Tampines West       Tampines   75761   77956   78110   79670\n12                      Xilin       Tampines     ...    2120    1920    1730\n13                   Bayshore          Bedok    3414    6497    7480    7330\n14                Bedok North          Bedok   87199   91139   85930   82530\n15            Bedok Reservoir          Bedok   19999   23076   25400   25640\n16                Bedok South          Bedok   54324   52313   51190   47420\n17                    Frankel          Bedok   30828   31536   33570   34330\n18                 Kaki Bukit          Bedok   43310   43781   40820   37670\n19                  Kembangan          Bedok   37219   38722   38440   37950\n20                     Siglap          Bedok    8025    7455    6930    6520\n21                 Brickworks    Bukit Batok     ...     ...     ...   15060\n22        Bukit Batok Central    Bukit Batok   24293   26553   26060   27260\n23           Bukit Batok East    Bukit Batok   15626   15921   14570   12830\n24          Bukit Batok South    Bukit Batok   13590   14651   13940   14990\n25           Bukit Batok West    Bukit Batok   16134   16286   15190   15030\n26                     Gombak    Bukit Batok     ...    8866    9820   10000\n27                     Guilin    Bukit Batok     ...   13911   13130   13020\n28                   Hillview    Bukit Batok   15652   17942   18220   19120\n29             Hong Kah North    Bukit Batok   28788   30067   28340   26450\n30       Defu Industrial Park        Hougang     ...     ...      20      20\n31            Hougang Central        Hougang     ...     ...    4830    4730\n32               Hougang East        Hougang     ...     ...   21940   25060\n33               Hougang West        Hougang     ...     ...   50120   45400\n34                    Kangkar        Hougang     ...     ...   26080   31670\n35                      Kovan        Hougang   20894   23068   25640   24850\n36              Lorong Ah Soo        Hougang   36640   34457   34180   32530\n37               Lorong Halus        Hougang     ...     ...     ...     ...\n38                   Tai Seng        Hougang     ...   12908   14700   14060\n39                  Trafalgar        Hougang     ...     ...   44800   47940\n40                    Bangkit  Bukit Panjang   25837   25286   23800   22490\n41                 Dairy Farm  Bukit Panjang     ...    3750    5390    6780\n42                      Fajar  Bukit Panjang   16711   22991   26770   28160\n43                     Jelebu  Bukit Panjang   27487   34963   33470   31550\n44             Nature Reserve  Bukit Panjang     ...    3601    3870    3810\n45                    Saujana  Bukit Panjang   17707   21957   25530   26100\n46                      Senja  Bukit Panjang     ...   16186   20200   20390\n47             Boon Lay Place    Jurong West     ...   24384   31100   29630\n48                   Chin Bee    Jurong West     ...     ...     ...      10\n49                   Hong Kah    Jurong West   57421   59658   56870   54060\n50        Jurong West Central    Jurong West   28916   69324   68200   64650\n51                  Kian Teck    Jurong West     ...     ...      50      50\n52                      Safti    Jurong West     ...     ...     ...     ...\n53               Taman Jurong    Jurong West   29296   32338   36940   39980\n54                      Wenya    Jurong West     ...    8190    8610    8310\n55                     Yunnan    Jurong West   62600   73587   70890   68170\n56                 Anchorvale       Sengkang     ...   30751   38040   46550\n57                Compassvale       Sengkang     ...   13624   18510   21170\n58                   Fernvale       Sengkang     ...   12786   35590   55110\n59      Sungei Serangoon East       Sengkang     ...     ...     ...     ...\n60      Sungei Serangoon West       Sengkang     ...     ...   59860   60160\n61       Sengkang Town Centre       Sengkang     ...   52148   54680   61600\n62            Jalan Kayu West       Sengkang     ...     ...      10      10\n63             Greenwood Park      Woodlands     ...     ...      70      40\n64                    Midview      Woodlands   28977   34629   35510   35510\n65                North Coast      Woodlands     ...   15271   14610   12350\n66                Senoko West      Woodlands     ...     ...      20      10\n67                  Woodgrove      Woodlands   28587   35508   35850   34110\n68             Woodlands East      Woodlands   64824   95401   95510   98510\n69  Woodlands Regional Centre      Woodlands     ...     ...     ...      10\n70            Woodlands South      Woodlands   21095   32698   35840   41040\n71             Woodlands West      Woodlands   27972   31549   32890   33140\n72      Choa Chu Kang Central  Choa Chu Kang   18082   20282   21400   22530\n73        Choa Chu Kang North  Choa Chu Kang   25830   33209   34380   32390\n74                  Keat Hong  Choa Chu Kang   13722   16399   15660   36950\n75                 Peng Siang  Choa Chu Kang   28146   31257   32130   33380\n76                  Teck Whye  Choa Chu Kang   26391   26887   27040   24720\n77                    Yew Tee  Choa Chu Kang   23934   45257   43710   40910"
                    },
                    "execution_count": 12,
                    "metadata": {},
                    "output_type": "execute_result"
                }
            ],
            "source": "Sgsz_df.set_value(3, 'Subzone', 'Pasir Ris Central')\nSgsz_df.set_value(6, 'Subzone', 'Pasir Ris West')\nSgsz_df.set_value(7, 'Subzone', 'Elias')\nSgsz_df.set_value(35, 'Subzone', 'Kovan')\nSgsz_df.set_value(37, 'Subzone', 'Lorong Halus')\nSgsz_df.set_value(38, 'Subzone', 'Tai Seng')\nSgsz_df.set_value(56, 'Subzone', 'Anchorvale')\nSgsz_df.set_value(57, 'Subzone', 'Compassvale')\nSgsz_df.set_value(58, 'Subzone', 'Fernvale')\nSgsz_df.set_value(59, 'Subzone', 'Sungei Serangoon East')\nSgsz_df.set_value(60, 'Subzone', 'Sungei Serangoon West')\nSgsz_df.set_value(62, 'Subzone', 'Jalan Kayu West')\nSgsz_df.set_value(73, 'Subzone', 'Choa Chu Kang North')"
        },
        {
            "cell_type": "code",
            "execution_count": 13,
            "metadata": {},
            "outputs": [
                {
                    "data": {
                        "text/html": "<div>\n<style scoped>\n    .dataframe tbody tr th:only-of-type {\n        vertical-align: middle;\n    }\n\n    .dataframe tbody tr th {\n        vertical-align: top;\n    }\n\n    .dataframe thead th {\n        text-align: right;\n    }\n</style>\n<table border=\"1\" class=\"dataframe\">\n  <thead>\n    <tr style=\"text-align: right;\">\n      <th></th>\n      <th>Subzone</th>\n      <th>Planning Area</th>\n      <th>2000</th>\n      <th>2010</th>\n      <th>2015</th>\n      <th>2019</th>\n    </tr>\n  </thead>\n  <tbody>\n    <tr>\n      <th>0</th>\n      <td>Flora Drive, SG</td>\n      <td>Pasir Ris</td>\n      <td>...</td>\n      <td>...</td>\n      <td>12950</td>\n      <td>14610</td>\n    </tr>\n    <tr>\n      <th>1</th>\n      <td>Loyang East, SG</td>\n      <td>Pasir Ris</td>\n      <td>...</td>\n      <td>...</td>\n      <td>2190</td>\n      <td>2160</td>\n    </tr>\n    <tr>\n      <th>2</th>\n      <td>Loyang West, SG</td>\n      <td>Pasir Ris</td>\n      <td>...</td>\n      <td>...</td>\n      <td>200</td>\n      <td>190</td>\n    </tr>\n    <tr>\n      <th>3</th>\n      <td>Pasir Ris Central, SG</td>\n      <td>Pasir Ris</td>\n      <td>20223</td>\n      <td>20808</td>\n      <td>25730</td>\n      <td>32190</td>\n    </tr>\n    <tr>\n      <th>4</th>\n      <td>Pasir Ris Drive, SG</td>\n      <td>Pasir Ris</td>\n      <td>58458</td>\n      <td>61489</td>\n      <td>59480</td>\n      <td>55260</td>\n    </tr>\n  </tbody>\n</table>\n</div>",
                        "text/plain": "                 Subzone Planning Area   2000   2010   2015   2019\n0        Flora Drive, SG     Pasir Ris    ...    ...  12950  14610\n1        Loyang East, SG     Pasir Ris    ...    ...   2190   2160\n2        Loyang West, SG     Pasir Ris    ...    ...    200    190\n3  Pasir Ris Central, SG     Pasir Ris  20223  20808  25730  32190\n4    Pasir Ris Drive, SG     Pasir Ris  58458  61489  59480  55260"
                    },
                    "execution_count": 13,
                    "metadata": {},
                    "output_type": "execute_result"
                }
            ],
            "source": "Sgsz_df['Subzone'] = Sgsz_df['Subzone'].astype(str) + ', SG'\nSgsz_df.head()"
        },
        {
            "cell_type": "code",
            "execution_count": 14,
            "metadata": {},
            "outputs": [
                {
                    "name": "stdout",
                    "output_type": "stream",
                    "text": " 1.3535817\n 1.3753678\n 1.3753678\n 1.3719931\n 1.3730307\n 1.37898635\n 1.3730307\n 1.3769513\n 1.3431881\n 1.3560492499999999\n 1.3690124\n 1.3458660999999998\n 1.32928175\n 1.3128118\n 1.3324018\n 1.3425058\n 1.3171997\n 1.3146796\n 1.3360277\n 1.3210321\n 1.3169991\n 1.2869332\n 1.3497278499999998\n 1.3490572\n 1.3490572\n 1.3455305\n 1.3588929\n 1.3539591999999998\n 1.3624042\n 1.3553973\n 1.35161105\n 1.3710492\n 1.3706821\n 1.3706821\n 1.3839286\n 1.3599863\n 1.3520481\n 1.384578\n 1.3354599\n 13.7804133\n 1.3800554\n 1.3651581\n 1.3845503\n 1.3807653\n 47.4161423\n 1.3824196\n 1.3826836\n 1.34640455\n 1.3369879\n 1.3553973\n 1.3396365\n 1.3285109\n 1.3304504\n 1.33488355\n"
                },
                {
                    "ename": "AttributeError",
                    "evalue": "'NoneType' object has no attribute 'latitude'",
                    "output_type": "error",
                    "traceback": [
                        "\u001b[0;31m---------------------------------------------------------------------------\u001b[0m",
                        "\u001b[0;31mAttributeError\u001b[0m                            Traceback (most recent call last)",
                        "\u001b[0;32m<ipython-input-14-14c7215d0b6d>\u001b[0m in \u001b[0;36m<module>\u001b[0;34m\u001b[0m\n\u001b[1;32m      9\u001b[0m \u001b[0;34m\u001b[0m\u001b[0m\n\u001b[1;32m     10\u001b[0m \u001b[0;32mfor\u001b[0m \u001b[0mx\u001b[0m \u001b[0;32min\u001b[0m \u001b[0mrange\u001b[0m\u001b[0;34m(\u001b[0m\u001b[0;36m78\u001b[0m\u001b[0;34m)\u001b[0m\u001b[0;34m:\u001b[0m\u001b[0;34m\u001b[0m\u001b[0;34m\u001b[0m\u001b[0m\n\u001b[0;32m---> 11\u001b[0;31m     \u001b[0mgetLanlong\u001b[0m\u001b[0;34m(\u001b[0m\u001b[0mx\u001b[0m\u001b[0;34m)\u001b[0m\u001b[0;34m\u001b[0m\u001b[0;34m\u001b[0m\u001b[0m\n\u001b[0m",
                        "\u001b[0;32m<ipython-input-14-14c7215d0b6d>\u001b[0m in \u001b[0;36mgetLanlong\u001b[0;34m(i)\u001b[0m\n\u001b[1;32m      4\u001b[0m     \u001b[0mgeolocator\u001b[0m \u001b[0;34m=\u001b[0m \u001b[0mNominatim\u001b[0m\u001b[0;34m(\u001b[0m\u001b[0muser_agent\u001b[0m\u001b[0;34m=\u001b[0m\u001b[0;34m\"sg_explorer\"\u001b[0m\u001b[0;34m)\u001b[0m\u001b[0;34m\u001b[0m\u001b[0;34m\u001b[0m\u001b[0m\n\u001b[1;32m      5\u001b[0m     \u001b[0mlocation\u001b[0m \u001b[0;34m=\u001b[0m \u001b[0mgeolocator\u001b[0m\u001b[0;34m.\u001b[0m\u001b[0mgeocode\u001b[0m\u001b[0;34m(\u001b[0m\u001b[0maddress\u001b[0m\u001b[0;34m)\u001b[0m\u001b[0;34m\u001b[0m\u001b[0;34m\u001b[0m\u001b[0m\n\u001b[0;32m----> 6\u001b[0;31m     \u001b[0mlatitude\u001b[0m \u001b[0;34m=\u001b[0m \u001b[0mlocation\u001b[0m\u001b[0;34m.\u001b[0m\u001b[0mlatitude\u001b[0m\u001b[0;34m\u001b[0m\u001b[0;34m\u001b[0m\u001b[0m\n\u001b[0m\u001b[1;32m      7\u001b[0m     \u001b[0mlongitude\u001b[0m \u001b[0;34m=\u001b[0m \u001b[0mlocation\u001b[0m\u001b[0;34m.\u001b[0m\u001b[0mlongitude\u001b[0m\u001b[0;34m\u001b[0m\u001b[0;34m\u001b[0m\u001b[0m\n\u001b[1;32m      8\u001b[0m     \u001b[0mprint\u001b[0m\u001b[0;34m(\u001b[0m\u001b[0;34m' {}'\u001b[0m\u001b[0;34m.\u001b[0m\u001b[0mformat\u001b[0m\u001b[0;34m(\u001b[0m\u001b[0mlatitude\u001b[0m\u001b[0;34m)\u001b[0m\u001b[0;34m)\u001b[0m\u001b[0;34m\u001b[0m\u001b[0;34m\u001b[0m\u001b[0m\n",
                        "\u001b[0;31mAttributeError\u001b[0m: 'NoneType' object has no attribute 'latitude'"
                    ]
                }
            ],
            "source": "def getLanlong(i):\n    subzone = Sgsz_df.loc[i, 'Subzone']\n    address = subzone\n    geolocator = Nominatim(user_agent=\"sg_explorer\")\n    location = geolocator.geocode(address)\n    latitude = location.latitude\n    longitude = location.longitude\n    print(' {}'.format(latitude))\n    \nfor x in range(78):\n    getLanlong(x)"
        },
        {
            "cell_type": "code",
            "execution_count": 15,
            "metadata": {},
            "outputs": [
                {
                    "name": "stdout",
                    "output_type": "stream",
                    "text": " 1.33828435\n 1.3935589\n 1.394518\n 1.3904635\n 1.3835814499999999\n 1.3796737\n 1.3909487\n 1.3991059\n 1.3555198499999999\n 1.359286\n 5.1056295\n 1.4602965\n 1.42913595\n 1.436897\n 1.436897\n 1.4271409\n 1.436897\n 1.3823894\n 1.3892601\n 1.3786034\n"
                }
            ],
            "source": "for x in range(55,75):\n    getLanlong(x)"
        },
        {
            "cell_type": "code",
            "execution_count": 16,
            "metadata": {},
            "outputs": [
                {
                    "name": "stdout",
                    "output_type": "stream",
                    "text": " 1.3766705\n 1.3974608\n"
                }
            ],
            "source": "for x in range(76,78):\n    getLanlong(x)"
        },
        {
            "cell_type": "code",
            "execution_count": 17,
            "metadata": {},
            "outputs": [
                {
                    "name": "stdout",
                    "output_type": "stream",
                    "text": " 103.967412\n 103.9772924\n 103.9772924\n 103.9493766\n 103.949255\n 103.95037978854626\n 103.949255\n 103.94195645826582\n 103.953371\n 103.95513588323088\n 103.93809295626107\n 103.93846350820903\n 103.96463587079418\n 103.93903291761592\n 103.9193052\n 103.92522980731215\n 103.95000550811523\n 103.9191432\n 103.9018509\n 103.9129269\n 103.9195871\n 103.80756011310467\n 103.75102058137736\n 103.7495906\n 103.7495906\n 103.7397329\n 103.7518249\n 103.75245291425546\n 103.76742729372796\n 103.7214297\n 103.89204505000001\n 103.89435758379814\n 103.8925450111407\n 103.8925450111407\n 103.9022055\n 103.8848589\n 103.8845867\n 103.9228952\n 103.8883024\n 121.05223275706865\n 103.7726443\n 103.7740781\n 103.7708003\n 103.7634292\n 9.291761295120672\n 103.766833\n 103.7623963\n 103.7122848123319\n 103.7128045\n 103.7214297\n 103.7073387\n 103.6947962748651\n 103.6834422\n 103.72078867428404\n"
                }
            ],
            "source": "def getLanlong(i):\n    subzone = Sgsz_df.loc[i, 'Subzone']\n    address = subzone\n    geolocator = Nominatim(user_agent=\"sg_explorer\")\n    location = geolocator.geocode(address)\n    latitude = location.latitude\n    longitude = location.longitude\n    print(' {}'.format(longitude))\n    \nfor x in range(54):\n    getLanlong(x)"
        },
        {
            "cell_type": "code",
            "execution_count": 18,
            "metadata": {},
            "outputs": [
                {
                    "name": "stdout",
                    "output_type": "stream",
                    "text": " 103.69108941866651\n 103.88510756452612\n 103.9004349\n 103.8770826\n 103.90428028946238\n 103.9037271\n 103.8951748\n 103.8725982\n 103.93278040127177\n 103.83403591176392\n -1.2411473\n 103.8052452\n 103.78125034810185\n 103.786216\n 103.786216\n 103.79429763815054\n 103.786216\n 103.7446238\n 103.743728\n 103.7490207\n"
                }
            ],
            "source": "\nfor x in range(55,75):\n    getLanlong(x)"
        },
        {
            "cell_type": "code",
            "execution_count": 19,
            "metadata": {},
            "outputs": [
                {
                    "name": "stdout",
                    "output_type": "stream",
                    "text": " 103.7536471\n 103.7474009\n"
                }
            ],
            "source": "for x in range(76,78):\n    getLanlong(x)"
        },
        {
            "cell_type": "code",
            "execution_count": 23,
            "metadata": {},
            "outputs": [
                {
                    "data": {
                        "text/html": "<div>\n<style scoped>\n    .dataframe tbody tr th:only-of-type {\n        vertical-align: middle;\n    }\n\n    .dataframe tbody tr th {\n        vertical-align: top;\n    }\n\n    .dataframe thead th {\n        text-align: right;\n    }\n</style>\n<table border=\"1\" class=\"dataframe\">\n  <thead>\n    <tr style=\"text-align: right;\">\n      <th></th>\n      <th>Subzone</th>\n      <th>Latitude</th>\n      <th>Longitude</th>\n    </tr>\n  </thead>\n  <tbody>\n    <tr>\n      <th>0</th>\n      <td>Flora Drive</td>\n      <td>1.353582</td>\n      <td>103.967412</td>\n    </tr>\n    <tr>\n      <th>1</th>\n      <td>Loyang East</td>\n      <td>1.375368</td>\n      <td>103.977292</td>\n    </tr>\n    <tr>\n      <th>2</th>\n      <td>Loyang West</td>\n      <td>1.375368</td>\n      <td>103.977292</td>\n    </tr>\n    <tr>\n      <th>3</th>\n      <td>Pasir Ris Central (Town)</td>\n      <td>1.371993</td>\n      <td>103.949377</td>\n    </tr>\n    <tr>\n      <th>4</th>\n      <td>Pasir Ris Drive</td>\n      <td>1.373031</td>\n      <td>103.949255</td>\n    </tr>\n  </tbody>\n</table>\n</div>",
                        "text/plain": "                    Subzone  Latitude   Longitude\n0               Flora Drive  1.353582  103.967412\n1               Loyang East  1.375368  103.977292\n2               Loyang West  1.375368  103.977292\n3  Pasir Ris Central (Town)  1.371993  103.949377\n4           Pasir Ris Drive  1.373031  103.949255"
                    },
                    "execution_count": 23,
                    "metadata": {},
                    "output_type": "execute_result"
                }
            ],
            "source": "# The code was removed by Watson Studio for sharing."
        },
        {
            "cell_type": "code",
            "execution_count": 38,
            "metadata": {},
            "outputs": [
                {
                    "data": {
                        "text/html": "<div>\n<style scoped>\n    .dataframe tbody tr th:only-of-type {\n        vertical-align: middle;\n    }\n\n    .dataframe tbody tr th {\n        vertical-align: top;\n    }\n\n    .dataframe thead th {\n        text-align: right;\n    }\n</style>\n<table border=\"1\" class=\"dataframe\">\n  <thead>\n    <tr style=\"text-align: right;\">\n      <th></th>\n      <th>Subzone</th>\n      <th>Latitude</th>\n      <th>Longitude</th>\n      <th>Planning Area</th>\n    </tr>\n  </thead>\n  <tbody>\n    <tr>\n      <th>0</th>\n      <td>Flora Drive</td>\n      <td>1.353582</td>\n      <td>103.967412</td>\n      <td>Pasir Ris</td>\n    </tr>\n    <tr>\n      <th>1</th>\n      <td>Loyang East</td>\n      <td>1.375368</td>\n      <td>103.977292</td>\n      <td>Pasir Ris</td>\n    </tr>\n    <tr>\n      <th>2</th>\n      <td>Loyang West</td>\n      <td>1.375368</td>\n      <td>103.977292</td>\n      <td>Pasir Ris</td>\n    </tr>\n    <tr>\n      <th>3</th>\n      <td>Pasir Ris Drive</td>\n      <td>1.373031</td>\n      <td>103.949255</td>\n      <td>Pasir Ris</td>\n    </tr>\n    <tr>\n      <th>4</th>\n      <td>Pasir Ris Park</td>\n      <td>1.378986</td>\n      <td>103.950380</td>\n      <td>Pasir Ris</td>\n    </tr>\n  </tbody>\n</table>\n</div>",
                        "text/plain": "           Subzone  Latitude   Longitude Planning Area\n0      Flora Drive  1.353582  103.967412     Pasir Ris\n1      Loyang East  1.375368  103.977292     Pasir Ris\n2      Loyang West  1.375368  103.977292     Pasir Ris\n3  Pasir Ris Drive  1.373031  103.949255     Pasir Ris\n4   Pasir Ris Park  1.378986  103.950380     Pasir Ris"
                    },
                    "execution_count": 38,
                    "metadata": {},
                    "output_type": "execute_result"
                }
            ],
            "source": "Sgtc_f = pd.merge(szlatlong, Sgsz2_df, on='Subzone')\nSgtc_f.head()"
        },
        {
            "cell_type": "code",
            "execution_count": null,
            "metadata": {},
            "outputs": [],
            "source": ""
        }
    ],
    "metadata": {
        "kernelspec": {
            "display_name": "Python 3.6",
            "language": "python",
            "name": "python3"
        },
        "language_info": {
            "codemirror_mode": {
                "name": "ipython",
                "version": 3
            },
            "file_extension": ".py",
            "mimetype": "text/x-python",
            "name": "python",
            "nbconvert_exporter": "python",
            "pygments_lexer": "ipython3",
            "version": "3.6.9"
        }
    },
    "nbformat": 4,
    "nbformat_minor": 1
}