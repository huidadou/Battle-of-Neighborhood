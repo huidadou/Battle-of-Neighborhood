{
    "cells": [
        {
            "cell_type": "code",
            "execution_count": 1,
            "metadata": {},
            "outputs": [
                {
                    "name": "stdout",
                    "output_type": "stream",
                    "text": "Requirement already satisfied: folium in /opt/conda/envs/Python36/lib/python3.6/site-packages (0.11.0)\nRequirement already satisfied: requests in /opt/conda/envs/Python36/lib/python3.6/site-packages (from folium) (2.21.0)\nRequirement already satisfied: numpy in /opt/conda/envs/Python36/lib/python3.6/site-packages (from folium) (1.15.4)\nRequirement already satisfied: branca>=0.3.0 in /opt/conda/envs/Python36/lib/python3.6/site-packages (from folium) (0.4.1)\nRequirement already satisfied: jinja2>=2.9 in /opt/conda/envs/Python36/lib/python3.6/site-packages (from folium) (2.10)\nRequirement already satisfied: certifi>=2017.4.17 in /opt/conda/envs/Python36/lib/python3.6/site-packages (from requests->folium) (2020.4.5.1)\nRequirement already satisfied: idna<2.9,>=2.5 in /opt/conda/envs/Python36/lib/python3.6/site-packages (from requests->folium) (2.8)\nRequirement already satisfied: urllib3<1.25,>=1.21.1 in /opt/conda/envs/Python36/lib/python3.6/site-packages (from requests->folium) (1.24.1)\nRequirement already satisfied: chardet<3.1.0,>=3.0.2 in /opt/conda/envs/Python36/lib/python3.6/site-packages (from requests->folium) (3.0.4)\nRequirement already satisfied: MarkupSafe>=0.23 in /opt/conda/envs/Python36/lib/python3.6/site-packages (from jinja2>=2.9->folium) (1.1.0)\n"
                }
            ],
            "source": "# intalling folium\n!pip install folium"
        },
        {
            "cell_type": "code",
            "execution_count": 2,
            "metadata": {},
            "outputs": [
                {
                    "name": "stdout",
                    "output_type": "stream",
                    "text": "all libraries have been imported\n"
                }
            ],
            "source": "# import pandas, numpy, matplotlib, seaborn, folium, requests, json, BeautifulSoup\n\n# library for data analysis\nimport pandas as pd\npd.set_option('display.max_columns', None)\npd.set_option('display.max_rows', None)\n\n# library to handle data in a vectorized manner\nimport numpy as np\n\n\n# Matplotlib and associated plotting modules\nimport matplotlib.pyplot as plt\nimport matplotlib.cm as cm\nimport matplotlib.colors as colors\n\nimport seaborn as sns\nimport folium \nimport requests\nimport json\nfrom bs4 import BeautifulSoup\n\n# Nominatim converts an address into latitude and langitude values\nfrom geopy.geocoders import Nominatim\n\n# tranform JSON file into a pandas dataframe\nfrom pandas.io.json import json_normalize\n\n# import k-means from clustering stage\nfrom sklearn.cluster import KMeans\n\nprint(\"all libraries have been imported\");"
        },
        {
            "cell_type": "code",
            "execution_count": 3,
            "metadata": {
                "scrolled": true
            },
            "outputs": [
                {
                    "data": {
                        "text/html": "<div>\n<style scoped>\n    .dataframe tbody tr th:only-of-type {\n        vertical-align: middle;\n    }\n\n    .dataframe tbody tr th {\n        vertical-align: top;\n    }\n\n    .dataframe thead th {\n        text-align: right;\n    }\n</style>\n<table border=\"1\" class=\"dataframe\">\n  <thead>\n    <tr style=\"text-align: right;\">\n      <th></th>\n      <th>Planning Area</th>\n      <th>Total</th>\n      <th>Pre-Primary</th>\n      <th>Primary</th>\n      <th>Secondary</th>\n      <th>Post-Secondary (Non-Tertiary)</th>\n      <th>Polytechnic</th>\n      <th>Professional Qualification and Other Diploma</th>\n      <th>University</th>\n    </tr>\n  </thead>\n  <tbody>\n    <tr>\n      <th>0</th>\n      <td>Total</td>\n      <td>765.3</td>\n      <td>57.4</td>\n      <td>262.3</td>\n      <td>205.7</td>\n      <td>58.7</td>\n      <td>79.8</td>\n      <td>10.4</td>\n      <td>90.9</td>\n    </tr>\n    <tr>\n      <th>1</th>\n      <td>Ang Mo Kio</td>\n      <td>31.8</td>\n      <td>3.0</td>\n      <td>11.7</td>\n      <td>8.2</td>\n      <td>2.3</td>\n      <td>3</td>\n      <td>0.2</td>\n      <td>3.4</td>\n    </tr>\n    <tr>\n      <th>2</th>\n      <td>Bedok</td>\n      <td>54.4</td>\n      <td>3.2</td>\n      <td>18.4</td>\n      <td>15.0</td>\n      <td>4.2</td>\n      <td>5.5</td>\n      <td>0.7</td>\n      <td>7.5</td>\n    </tr>\n    <tr>\n      <th>3</th>\n      <td>Bishan</td>\n      <td>17.5</td>\n      <td>1.3</td>\n      <td>5.8</td>\n      <td>4.1</td>\n      <td>1.5</td>\n      <td>1.4</td>\n      <td>0.4</td>\n      <td>3.1</td>\n    </tr>\n    <tr>\n      <th>4</th>\n      <td>Bukit Batok</td>\n      <td>29.3</td>\n      <td>1.8</td>\n      <td>8.4</td>\n      <td>8.1</td>\n      <td>2.3</td>\n      <td>3.6</td>\n      <td>0.7</td>\n      <td>4.4</td>\n    </tr>\n  </tbody>\n</table>\n</div>",
                        "text/plain": "  Planning Area  Total  Pre-Primary  Primary  Secondary  \\\n0         Total  765.3         57.4    262.3      205.7   \n1    Ang Mo Kio   31.8          3.0     11.7        8.2   \n2         Bedok   54.4          3.2     18.4       15.0   \n3        Bishan   17.5          1.3      5.8        4.1   \n4   Bukit Batok   29.3          1.8      8.4        8.1   \n\n   Post-Secondary (Non-Tertiary) Polytechnic  \\\n0                           58.7        79.8   \n1                            2.3           3   \n2                            4.2         5.5   \n3                            1.5         1.4   \n4                            2.3         3.6   \n\n  Professional Qualification and Other Diploma  University  \n0                                         10.4        90.9  \n1                                          0.2         3.4  \n2                                          0.7         7.5  \n3                                          0.4         3.1  \n4                                          0.7         4.4  "
                    },
                    "execution_count": 3,
                    "metadata": {},
                    "output_type": "execute_result"
                }
            ],
            "source": "# The code was removed by Watson Studio for sharing."
        },
        {
            "cell_type": "code",
            "execution_count": 4,
            "metadata": {},
            "outputs": [
                {
                    "data": {
                        "text/plain": "0             Total\n1        Ang Mo Kio\n2             Bedok\n3            Bishan\n4       Bukit Batok\n5       Bukit Merah\n6     Bukit Panjang\n7       Bukit Timah\n8     Choa Chu Kang\n9          Clementi\n10          Geylang\n11          Hougang\n12      Jurong East\n13      Jurong West\n14          Kallang\n15    Marine Parade\n16           Novena\n17           Outram\n18        Pasir Ris\n19          Punggol\n20       Queenstown\n21        Sembawang\n22         Sengkang\n23        Serangoon\n24         Tampines\n25          Tanglin\n26        Toa Payoh\n27        Woodlands\n28           Yishun\n29           Others\nName: Planning Area, dtype: object"
                    },
                    "execution_count": 4,
                    "metadata": {},
                    "output_type": "execute_result"
                }
            ],
            "source": "sgedu['Planning Area']"
        },
        {
            "cell_type": "code",
            "execution_count": 28,
            "metadata": {},
            "outputs": [
                {
                    "name": "stdout",
                    "output_type": "stream",
                    "text": "The geographical coordinate of Ang Mo Kio are 1.3700733. 103.8495157.\n"
                }
            ],
            "source": "# 1\naddress = 'Ang Mo Kio, SG'\n\ngeolocator = Nominatim(user_agent=\"sg_explorer\")\nlocation = geolocator.geocode(address)\nlatitude = location.latitude\nlongitude = location.longitude\nprint('The geographical coordinate of Ang Mo Kio are {}. {}.'.format(latitude, longitude))"
        },
        {
            "cell_type": "code",
            "execution_count": 29,
            "metadata": {},
            "outputs": [
                {
                    "name": "stdout",
                    "output_type": "stream",
                    "text": "The geographical coordinate of Bedok are 1.3239765. 103.930216.\n"
                }
            ],
            "source": "# 2\n\naddress = 'Bedok, SG'\n\ngeolocator = Nominatim(user_agent=\"sg_explorer\")\nlocation = geolocator.geocode(address)\nlatitude = location.latitude\nlongitude = location.longitude\nprint('The geographical coordinate of Bedok are {}. {}.'.format(latitude, longitude))"
        },
        {
            "cell_type": "code",
            "execution_count": 30,
            "metadata": {},
            "outputs": [
                {
                    "name": "stdout",
                    "output_type": "stream",
                    "text": "The geographical coordinate of Bishan are 1.3509859. 103.84825507492937.\n"
                }
            ],
            "source": "# 3\n\naddress = 'Bishan, SG'\n\ngeolocator = Nominatim(user_agent=\"sg_explorer\")\nlocation = geolocator.geocode(address)\nlatitude = location.latitude\nlongitude = location.longitude\nprint('The geographical coordinate of Bishan are {}. {}.'.format(latitude, longitude))"
        },
        {
            "cell_type": "code",
            "execution_count": 11,
            "metadata": {},
            "outputs": [
                {
                    "name": "stdout",
                    "output_type": "stream",
                    "text": "The geographical coordinate of Bukit Batok are 1.3490572. 103.7495906.\n"
                }
            ],
            "source": "# 4\n\naddress = 'Bukit Batok, SG'\n\ngeolocator = Nominatim(user_agent=\"amk_explorer\")\nlocation = geolocator.geocode(address)\nlatitude = location.latitude\nlongitude = location.longitude\nprint('The geographical coordinate of Bukit Batok are {}. {}.'.format(latitude, longitude))"
        },
        {
            "cell_type": "code",
            "execution_count": 31,
            "metadata": {},
            "outputs": [
                {
                    "name": "stdout",
                    "output_type": "stream",
                    "text": "The geographical coordinate of Bukit Merah are 1.2704395. 103.82831840176755.\n"
                }
            ],
            "source": "# 5\n\naddress = 'Bukit Merah, SG'\n\ngeolocator = Nominatim(user_agent=\"sg_explorer\")\nlocation = geolocator.geocode(address)\nlatitude = location.latitude\nlongitude = location.longitude\nprint('The geographical coordinate of Bukit Merah are {}. {}.'.format(latitude, longitude))"
        },
        {
            "cell_type": "code",
            "execution_count": 32,
            "metadata": {},
            "outputs": [
                {
                    "name": "stdout",
                    "output_type": "stream",
                    "text": "The geographical coordinate of Bukit Panjang are 1.378629. 103.7621358.\n"
                }
            ],
            "source": "# 6\n\naddress = 'Bukit Panjang, SG'\n\ngeolocator = Nominatim(user_agent=\"sg_explorer\")\nlocation = geolocator.geocode(address)\nlatitude = location.latitude\nlongitude = location.longitude\nprint('The geographical coordinate of Bukit Panjang are {}. {}.'.format(latitude, longitude))"
        },
        {
            "cell_type": "code",
            "execution_count": 33,
            "metadata": {},
            "outputs": [
                {
                    "name": "stdout",
                    "output_type": "stream",
                    "text": "The geographical coordinate of Bukit Timah are 1.3546901. 103.7763724.\n"
                }
            ],
            "source": "# 7\n\naddress = 'Bukit Timah, SG'\n\ngeolocator = Nominatim(user_agent=\"sg_explorer\")\nlocation = geolocator.geocode(address)\nlatitude = location.latitude\nlongitude = location.longitude\nprint('The geographical coordinate of Bukit Timah are {}. {}.'.format(latitude, longitude))"
        },
        {
            "cell_type": "code",
            "execution_count": 5,
            "metadata": {},
            "outputs": [
                {
                    "name": "stdout",
                    "output_type": "stream",
                    "text": "The geographical coordinate of Choa Chu Kang are 1.3847493. 103.7445341.\n"
                }
            ],
            "source": "# 8\n\naddress = 'Choa Chu Kang, SG'\n\ngeolocator = Nominatim(user_agent=\"sg_explorer\")\nlocation = geolocator.geocode(address)\nlatitude = location.latitude\nlongitude = location.longitude\nprint('The geographical coordinate of Choa Chu Kang are {}. {}.'.format(latitude, longitude))"
        },
        {
            "cell_type": "code",
            "execution_count": 6,
            "metadata": {},
            "outputs": [
                {
                    "name": "stdout",
                    "output_type": "stream",
                    "text": "The geographical coordinate of  Clementi are 1.3151003. 103.7652311.\n"
                }
            ],
            "source": "# 9\n\naddress = 'Clementi, SG'\n\ngeolocator = Nominatim(user_agent=\"sg_explorer\")\nlocation = geolocator.geocode(address)\nlatitude = location.latitude\nlongitude = location.longitude\nprint('The geographical coordinate of  Clementi are {}. {}.'.format(latitude, longitude))"
        },
        {
            "cell_type": "code",
            "execution_count": 7,
            "metadata": {},
            "outputs": [
                {
                    "name": "stdout",
                    "output_type": "stream",
                    "text": "The geographical coordinate of Geylang are 1.3181862. 103.8870563.\n"
                }
            ],
            "source": "# 10\n\naddress = 'Geylang, SG'\n\ngeolocator = Nominatim(user_agent=\"sg_explorer\")\nlocation = geolocator.geocode(address)\nlatitude = location.latitude\nlongitude = location.longitude\nprint('The geographical coordinate of Geylang are {}. {}.'.format(latitude, longitude))"
        },
        {
            "cell_type": "code",
            "execution_count": 8,
            "metadata": {},
            "outputs": [
                {
                    "name": "stdout",
                    "output_type": "stream",
                    "text": "The geographical coordinate of Hougang are 1.3706821. 103.8925450111407.\n"
                }
            ],
            "source": "# 11\n\naddress = 'Hougang, SG'\n\ngeolocator = Nominatim(user_agent=\"sg_explorer\")\nlocation = geolocator.geocode(address)\nlatitude = location.latitude\nlongitude = location.longitude\nprint('The geographical coordinate of Hougang are {}. {}.'.format(latitude, longitude))"
        },
        {
            "cell_type": "code",
            "execution_count": 9,
            "metadata": {},
            "outputs": [
                {
                    "name": "stdout",
                    "output_type": "stream",
                    "text": "The geographical coordinate of Jurong East are 1.333115. 103.7422968.\n"
                }
            ],
            "source": "# 12\n\naddress = 'Jurong East, SG'\n\ngeolocator = Nominatim(user_agent=\"sg_explorer\")\nlocation = geolocator.geocode(address)\nlatitude = location.latitude\nlongitude = location.longitude\nprint('The geographical coordinate of Jurong East are {}. {}.'.format(latitude, longitude))"
        },
        {
            "cell_type": "code",
            "execution_count": 10,
            "metadata": {},
            "outputs": [
                {
                    "name": "stdout",
                    "output_type": "stream",
                    "text": "The geographical coordinate of Jurong West are 1.3396365. 103.7073387.\n"
                }
            ],
            "source": "# 13\n\naddress = 'Jurong West, SG'\n\ngeolocator = Nominatim(user_agent=\"sg_explorer\")\nlocation = geolocator.geocode(address)\nlatitude = location.latitude\nlongitude = location.longitude\nprint('The geographical coordinate of Jurong West are {}. {}.'.format(latitude, longitude))"
        },
        {
            "cell_type": "code",
            "execution_count": 11,
            "metadata": {},
            "outputs": [
                {
                    "name": "stdout",
                    "output_type": "stream",
                    "text": "The geographical coordinate of Kallang are 1.310759. 103.866262.\n"
                }
            ],
            "source": "# 14\n\naddress = 'Kallang, SG'\n\ngeolocator = Nominatim(user_agent=\"sg_explorer\")\nlocation = geolocator.geocode(address)\nlatitude = location.latitude\nlongitude = location.longitude\nprint('The geographical coordinate of Kallang are {}. {}.'.format(latitude, longitude))"
        },
        {
            "cell_type": "code",
            "execution_count": 14,
            "metadata": {},
            "outputs": [
                {
                    "name": "stdout",
                    "output_type": "stream",
                    "text": "The geographical coordinate of Marine Parade are 1.3026889. 103.9073952.\n"
                }
            ],
            "source": "# 15\n\naddress = 'Marine Parade, SG'\n\ngeolocator = Nominatim(user_agent=\"sg_explorer\")\nlocation = geolocator.geocode(address)\nlatitude = location.latitude\nlongitude = location.longitude\nprint('The geographical coordinate of Marine Parade are {}. {}.'.format(latitude, longitude))"
        },
        {
            "cell_type": "code",
            "execution_count": 15,
            "metadata": {},
            "outputs": [
                {
                    "name": "stdout",
                    "output_type": "stream",
                    "text": "The geographical coordinate of Novena are 1.3205257000000001. 103.84388133927948.\n"
                }
            ],
            "source": "# 16\n\naddress = 'Novena, SG'\n\ngeolocator = Nominatim(user_agent=\"sg_explorer\")\nlocation = geolocator.geocode(address)\nlatitude = location.latitude\nlongitude = location.longitude\nprint('The geographical coordinate of Novena are {}. {}.'.format(latitude, longitude))"
        },
        {
            "cell_type": "code",
            "execution_count": 16,
            "metadata": {},
            "outputs": [
                {
                    "name": "stdout",
                    "output_type": "stream",
                    "text": "The geographical coordinate of Outram are 1.2828695. 103.8378603.\n"
                }
            ],
            "source": "# 17\n\naddress = 'Outram, SG'\n\ngeolocator = Nominatim(user_agent=\"sg_explorer\")\nlocation = geolocator.geocode(address)\nlatitude = location.latitude\nlongitude = location.longitude\nprint('The geographical coordinate of Outram are {}. {}.'.format(latitude, longitude))"
        },
        {
            "cell_type": "code",
            "execution_count": 17,
            "metadata": {},
            "outputs": [
                {
                    "name": "stdout",
                    "output_type": "stream",
                    "text": "The geographical coordinate of Pasir Ris are 1.3730307. 103.949255.\n"
                }
            ],
            "source": "# 18\n\naddress = 'Pasir Ris, SG'\n\ngeolocator = Nominatim(user_agent=\"sg_explorer\")\nlocation = geolocator.geocode(address)\nlatitude = location.latitude\nlongitude = location.longitude\nprint('The geographical coordinate of Pasir Ris are {}. {}.'.format(latitude, longitude))"
        },
        {
            "cell_type": "code",
            "execution_count": 18,
            "metadata": {},
            "outputs": [
                {
                    "name": "stdout",
                    "output_type": "stream",
                    "text": "The geographical coordinate of Punggol are 1.4052585. 103.9023302.\n"
                }
            ],
            "source": "# 19\n\naddress = 'Punggol, SG'\n\ngeolocator = Nominatim(user_agent=\"sg_explorer\")\nlocation = geolocator.geocode(address)\nlatitude = location.latitude\nlongitude = location.longitude\nprint('The geographical coordinate of Punggol are {}. {}.'.format(latitude, longitude))"
        },
        {
            "cell_type": "code",
            "execution_count": 19,
            "metadata": {},
            "outputs": [
                {
                    "name": "stdout",
                    "output_type": "stream",
                    "text": "The geographical coordinate of Queenstown are 1.2946235. 103.8060454.\n"
                }
            ],
            "source": "# 20\n\naddress = 'Queenstown, SG'\n\ngeolocator = Nominatim(user_agent=\"sg_explorer\")\nlocation = geolocator.geocode(address)\nlatitude = location.latitude\nlongitude = location.longitude\nprint('The geographical coordinate of Queenstown are {}. {}.'.format(latitude, longitude))"
        },
        {
            "cell_type": "code",
            "execution_count": 20,
            "metadata": {},
            "outputs": [
                {
                    "name": "stdout",
                    "output_type": "stream",
                    "text": "The geographical coordinate of Sembawang are 1.4490928. 103.8200555.\n"
                }
            ],
            "source": "# 21\n\naddress = 'Sembawang, SG'\n\ngeolocator = Nominatim(user_agent=\"sg_explorer\")\nlocation = geolocator.geocode(address)\nlatitude = location.latitude\nlongitude = location.longitude\nprint('The geographical coordinate of Sembawang are {}. {}.'.format(latitude, longitude))"
        },
        {
            "cell_type": "code",
            "execution_count": 21,
            "metadata": {},
            "outputs": [
                {
                    "name": "stdout",
                    "output_type": "stream",
                    "text": "The geographical coordinate of Sengkang are 1.3916536000000002. 103.89536361089395.\n"
                }
            ],
            "source": "# 22\n\naddress = 'Sengkang, SG'\n\ngeolocator = Nominatim(user_agent=\"sg_explorer\")\nlocation = geolocator.geocode(address)\nlatitude = location.latitude\nlongitude = location.longitude\nprint('The geographical coordinate of Sengkang are {}. {}.'.format(latitude, longitude))"
        },
        {
            "cell_type": "code",
            "execution_count": 22,
            "metadata": {},
            "outputs": [
                {
                    "name": "stdout",
                    "output_type": "stream",
                    "text": "The geographical coordinate of Serangoon are 1.3498624. 103.8737292.\n"
                }
            ],
            "source": "# 23\n\naddress = 'Serangoon, SG'\n\ngeolocator = Nominatim(user_agent=\"sg_explorer\")\nlocation = geolocator.geocode(address)\nlatitude = location.latitude\nlongitude = location.longitude\nprint('The geographical coordinate of Serangoon are {}. {}.'.format(latitude, longitude))"
        },
        {
            "cell_type": "code",
            "execution_count": 23,
            "metadata": {},
            "outputs": [
                {
                    "name": "stdout",
                    "output_type": "stream",
                    "text": "The geographical coordinate of Tampines are 1.3546528. 103.9435712.\n"
                }
            ],
            "source": "# 24\n\naddress = 'Tampines, SG'\n\ngeolocator = Nominatim(user_agent=\"sg_explorer\")\nlocation = geolocator.geocode(address)\nlatitude = location.latitude\nlongitude = location.longitude\nprint('The geographical coordinate of Tampines are {}. {}.'.format(latitude, longitude))"
        },
        {
            "cell_type": "code",
            "execution_count": 24,
            "metadata": {},
            "outputs": [
                {
                    "name": "stdout",
                    "output_type": "stream",
                    "text": "The geographical coordinate of Tanglin are 1.3060443. 103.8152804.\n"
                }
            ],
            "source": "# 25\n\naddress = 'Tanglin, SG'\n\ngeolocator = Nominatim(user_agent=\"sg_explorer\")\nlocation = geolocator.geocode(address)\nlatitude = location.latitude\nlongitude = location.longitude\nprint('The geographical coordinate of Tanglin are {}. {}.'.format(latitude, longitude))"
        },
        {
            "cell_type": "code",
            "execution_count": 25,
            "metadata": {},
            "outputs": [
                {
                    "name": "stdout",
                    "output_type": "stream",
                    "text": "The geographical coordinate of Toa Payoh are 1.3353906. 103.8497414.\n"
                }
            ],
            "source": "# 26\n\naddress = 'Toa Payoh, SG'\n\ngeolocator = Nominatim(user_agent=\"sg_explorer\")\nlocation = geolocator.geocode(address)\nlatitude = location.latitude\nlongitude = location.longitude\nprint('The geographical coordinate of Toa Payoh are {}. {}.'.format(latitude, longitude))"
        },
        {
            "cell_type": "code",
            "execution_count": 26,
            "metadata": {},
            "outputs": [
                {
                    "name": "stdout",
                    "output_type": "stream",
                    "text": "The geographical coordinate of Woodlands are 1.436897. 103.786216.\n"
                }
            ],
            "source": "# 27\n\naddress = 'Woodlands, SG'\n\ngeolocator = Nominatim(user_agent=\"sg_explorer\")\nlocation = geolocator.geocode(address)\nlatitude = location.latitude\nlongitude = location.longitude\nprint('The geographical coordinate of Woodlands are {}. {}.'.format(latitude, longitude))"
        },
        {
            "cell_type": "code",
            "execution_count": 27,
            "metadata": {},
            "outputs": [
                {
                    "name": "stdout",
                    "output_type": "stream",
                    "text": "The geographical coordinate of Yishun are 1.4293839. 103.8350282.\n"
                }
            ],
            "source": "# 28\n\naddress = 'Yishun, SG'\n\ngeolocator = Nominatim(user_agent=\"sg_explorer\")\nlocation = geolocator.geocode(address)\nlatitude = location.latitude\nlongitude = location.longitude\nprint('The geographical coordinate of Yishun are {}. {}.'.format(latitude, longitude))"
        },
        {
            "cell_type": "code",
            "execution_count": 63,
            "metadata": {
                "scrolled": false
            },
            "outputs": [
                {
                    "data": {
                        "text/html": "<div>\n<style scoped>\n    .dataframe tbody tr th:only-of-type {\n        vertical-align: middle;\n    }\n\n    .dataframe tbody tr th {\n        vertical-align: top;\n    }\n\n    .dataframe thead th {\n        text-align: right;\n    }\n</style>\n<table border=\"1\" class=\"dataframe\">\n  <thead>\n    <tr style=\"text-align: right;\">\n      <th></th>\n      <th>Subzone</th>\n      <th>Planning Area</th>\n      <th>2000</th>\n      <th>2010</th>\n      <th>2015</th>\n      <th>2019</th>\n    </tr>\n  </thead>\n  <tbody>\n    <tr>\n      <th>0</th>\n      <td>Flora Drive</td>\n      <td>Pasir Ris</td>\n      <td>...</td>\n      <td>...</td>\n      <td>12950</td>\n      <td>14610</td>\n    </tr>\n    <tr>\n      <th>1</th>\n      <td>Loyang East</td>\n      <td>Pasir Ris</td>\n      <td>...</td>\n      <td>...</td>\n      <td>2190</td>\n      <td>2160</td>\n    </tr>\n    <tr>\n      <th>2</th>\n      <td>Loyang West</td>\n      <td>Pasir Ris</td>\n      <td>...</td>\n      <td>...</td>\n      <td>200</td>\n      <td>190</td>\n    </tr>\n    <tr>\n      <th>3</th>\n      <td>Pasir Ris Central (Town)</td>\n      <td>Pasir Ris</td>\n      <td>20223</td>\n      <td>20808</td>\n      <td>25730</td>\n      <td>32190</td>\n    </tr>\n    <tr>\n      <th>4</th>\n      <td>Pasir Ris Drive</td>\n      <td>Pasir Ris</td>\n      <td>58458</td>\n      <td>61489</td>\n      <td>59480</td>\n      <td>55260</td>\n    </tr>\n  </tbody>\n</table>\n</div>",
                        "text/plain": "                    Subzone Planning Area   2000   2010   2015   2019\n0               Flora Drive     Pasir Ris    ...    ...  12950  14610\n1               Loyang East     Pasir Ris    ...    ...   2190   2160\n2               Loyang West     Pasir Ris    ...    ...    200    190\n3  Pasir Ris Central (Town)     Pasir Ris  20223  20808  25730  32190\n4           Pasir Ris Drive     Pasir Ris  58458  61489  59480  55260"
                    },
                    "execution_count": 63,
                    "metadata": {},
                    "output_type": "execute_result"
                }
            ],
            "source": "Sgsz_df = pd.read_csv('Singapore Subzones in Planning Area With Top Density of Student Population.csv')\nSgsz_df.head()"
        },
        {
            "cell_type": "code",
            "execution_count": 65,
            "metadata": {},
            "outputs": [],
            "source": "Sgsz_df.to_csv('Singapore Subzones.csv', index = False)"
        },
        {
            "cell_type": "code",
            "execution_count": 6,
            "metadata": {
                "scrolled": true
            },
            "outputs": [
                {
                    "data": {
                        "text/html": "<div>\n<style scoped>\n    .dataframe tbody tr th:only-of-type {\n        vertical-align: middle;\n    }\n\n    .dataframe tbody tr th {\n        vertical-align: top;\n    }\n\n    .dataframe thead th {\n        text-align: right;\n    }\n</style>\n<table border=\"1\" class=\"dataframe\">\n  <thead>\n    <tr style=\"text-align: right;\">\n      <th></th>\n      <th>Subzone</th>\n      <th>Planning Area</th>\n      <th>2000</th>\n      <th>2010</th>\n      <th>2015</th>\n      <th>2019</th>\n    </tr>\n  </thead>\n  <tbody>\n    <tr>\n      <th>0</th>\n      <td>Flora Drive,SG</td>\n      <td>Pasir Ris</td>\n      <td>...</td>\n      <td>...</td>\n      <td>12950</td>\n      <td>14610</td>\n    </tr>\n    <tr>\n      <th>1</th>\n      <td>Loyang East,SG</td>\n      <td>Pasir Ris</td>\n      <td>...</td>\n      <td>...</td>\n      <td>2190</td>\n      <td>2160</td>\n    </tr>\n    <tr>\n      <th>2</th>\n      <td>Loyang West,SG</td>\n      <td>Pasir Ris</td>\n      <td>...</td>\n      <td>...</td>\n      <td>200</td>\n      <td>190</td>\n    </tr>\n    <tr>\n      <th>3</th>\n      <td>Pasir Ris Central (Town),SG</td>\n      <td>Pasir Ris</td>\n      <td>20223</td>\n      <td>20808</td>\n      <td>25730</td>\n      <td>32190</td>\n    </tr>\n    <tr>\n      <th>4</th>\n      <td>Pasir Ris Drive,SG</td>\n      <td>Pasir Ris</td>\n      <td>58458</td>\n      <td>61489</td>\n      <td>59480</td>\n      <td>55260</td>\n    </tr>\n  </tbody>\n</table>\n</div>",
                        "text/plain": "                       Subzone Planning Area   2000   2010   2015   2019\n0               Flora Drive,SG     Pasir Ris    ...    ...  12950  14610\n1               Loyang East,SG     Pasir Ris    ...    ...   2190   2160\n2               Loyang West,SG     Pasir Ris    ...    ...    200    190\n3  Pasir Ris Central (Town),SG     Pasir Ris  20223  20808  25730  32190\n4           Pasir Ris Drive,SG     Pasir Ris  58458  61489  59480  55260"
                    },
                    "execution_count": 6,
                    "metadata": {},
                    "output_type": "execute_result"
                }
            ],
            "source": "Sgsz_df['Subzone'] = Sgsz_df['Subzone'].astype(str) + ',SG'\nSgsz_df.head()"
        },
        {
            "cell_type": "code",
            "execution_count": 61,
            "metadata": {
                "scrolled": true
            },
            "outputs": [
                {
                    "data": {
                        "text/html": "<div>\n<style scoped>\n    .dataframe tbody tr th:only-of-type {\n        vertical-align: middle;\n    }\n\n    .dataframe tbody tr th {\n        vertical-align: top;\n    }\n\n    .dataframe thead th {\n        text-align: right;\n    }\n</style>\n<table border=\"1\" class=\"dataframe\">\n  <thead>\n    <tr style=\"text-align: right;\">\n      <th></th>\n      <th>Subzone</th>\n      <th>Planning Area</th>\n      <th>2000</th>\n      <th>2010</th>\n      <th>2015</th>\n      <th>2019</th>\n    </tr>\n  </thead>\n  <tbody>\n    <tr>\n      <th>0</th>\n      <td>Flora Drive, SG,</td>\n      <td>Pasir Ris</td>\n      <td>...</td>\n      <td>...</td>\n      <td>12950</td>\n      <td>14610</td>\n    </tr>\n    <tr>\n      <th>1</th>\n      <td>Loyang East, SG,</td>\n      <td>Pasir Ris</td>\n      <td>...</td>\n      <td>...</td>\n      <td>2190</td>\n      <td>2160</td>\n    </tr>\n    <tr>\n      <th>2</th>\n      <td>Loyang West, SG,</td>\n      <td>Pasir Ris</td>\n      <td>...</td>\n      <td>...</td>\n      <td>200</td>\n      <td>190</td>\n    </tr>\n    <tr>\n      <th>3</th>\n      <td>Pasir Ris Central (Town), SG,</td>\n      <td>Pasir Ris</td>\n      <td>20223</td>\n      <td>20808</td>\n      <td>25730</td>\n      <td>32190</td>\n    </tr>\n    <tr>\n      <th>4</th>\n      <td>Pasir Ris Drive, SG,</td>\n      <td>Pasir Ris</td>\n      <td>58458</td>\n      <td>61489</td>\n      <td>59480</td>\n      <td>55260</td>\n    </tr>\n  </tbody>\n</table>\n</div>",
                        "text/plain": "                          Subzone Planning Area   2000   2010   2015   2019\n0               Flora Drive, SG,      Pasir Ris    ...    ...  12950  14610\n1               Loyang East, SG,      Pasir Ris    ...    ...   2190   2160\n2               Loyang West, SG,      Pasir Ris    ...    ...    200    190\n3  Pasir Ris Central (Town), SG,      Pasir Ris  20223  20808  25730  32190\n4           Pasir Ris Drive, SG,      Pasir Ris  58458  61489  59480  55260"
                    },
                    "execution_count": 61,
                    "metadata": {},
                    "output_type": "execute_result"
                }
            ],
            "source": "Sgsz_df['Subzone'] = Sgsz_df['Subzone'].astype(str).str.rstrip(',SG')\nSgsz_df.head()"
        },
        {
            "cell_type": "code",
            "execution_count": null,
            "metadata": {},
            "outputs": [],
            "source": ""
        },
        {
            "cell_type": "code",
            "execution_count": 62,
            "metadata": {},
            "outputs": [
                {
                    "data": {
                        "text/html": "<div>\n<style scoped>\n    .dataframe tbody tr th:only-of-type {\n        vertical-align: middle;\n    }\n\n    .dataframe tbody tr th {\n        vertical-align: top;\n    }\n\n    .dataframe thead th {\n        text-align: right;\n    }\n</style>\n<table border=\"1\" class=\"dataframe\">\n  <thead>\n    <tr style=\"text-align: right;\">\n      <th></th>\n      <th>Subzone</th>\n      <th>Planning Area</th>\n      <th>2000</th>\n      <th>2010</th>\n      <th>2015</th>\n      <th>2019</th>\n    </tr>\n  </thead>\n  <tbody>\n    <tr>\n      <th>0</th>\n      <td>Flora Drive, SG,</td>\n      <td>Pasir Ris</td>\n      <td>...</td>\n      <td>...</td>\n      <td>12950</td>\n      <td>14610</td>\n    </tr>\n    <tr>\n      <th>1</th>\n      <td>Loyang East, SG,</td>\n      <td>Pasir Ris</td>\n      <td>...</td>\n      <td>...</td>\n      <td>2190</td>\n      <td>2160</td>\n    </tr>\n    <tr>\n      <th>2</th>\n      <td>Loyang West, SG,</td>\n      <td>Pasir Ris</td>\n      <td>...</td>\n      <td>...</td>\n      <td>200</td>\n      <td>190</td>\n    </tr>\n    <tr>\n      <th>3</th>\n      <td>Pasir Ris Central (Town), SG,</td>\n      <td>Pasir Ris</td>\n      <td>20223</td>\n      <td>20808</td>\n      <td>25730</td>\n      <td>32190</td>\n    </tr>\n    <tr>\n      <th>4</th>\n      <td>Pasir Ris Drive, SG,</td>\n      <td>Pasir Ris</td>\n      <td>58458</td>\n      <td>61489</td>\n      <td>59480</td>\n      <td>55260</td>\n    </tr>\n  </tbody>\n</table>\n</div>",
                        "text/plain": "                          Subzone Planning Area   2000   2010   2015   2019\n0               Flora Drive, SG,      Pasir Ris    ...    ...  12950  14610\n1               Loyang East, SG,      Pasir Ris    ...    ...   2190   2160\n2               Loyang West, SG,      Pasir Ris    ...    ...    200    190\n3  Pasir Ris Central (Town), SG,      Pasir Ris  20223  20808  25730  32190\n4           Pasir Ris Drive, SG,      Pasir Ris  58458  61489  59480  55260"
                    },
                    "execution_count": 62,
                    "metadata": {},
                    "output_type": "execute_result"
                }
            ],
            "source": "Sgsz_df['Subzone'] = Sgsz_df['Subzone'].astype(str).str.rstrip(',SG')\nSgsz_df.head()"
        },
        {
            "cell_type": "code",
            "execution_count": 23,
            "metadata": {
                "scrolled": true
            },
            "outputs": [
                {
                    "data": {
                        "text/html": "<div>\n<style scoped>\n    .dataframe tbody tr th:only-of-type {\n        vertical-align: middle;\n    }\n\n    .dataframe tbody tr th {\n        vertical-align: top;\n    }\n\n    .dataframe thead th {\n        text-align: right;\n    }\n</style>\n<table border=\"1\" class=\"dataframe\">\n  <thead>\n    <tr style=\"text-align: right;\">\n      <th></th>\n      <th>Subzone</th>\n      <th>Planning Area</th>\n      <th>2000</th>\n      <th>2010</th>\n      <th>2015</th>\n      <th>2019</th>\n    </tr>\n  </thead>\n  <tbody>\n    <tr>\n      <th>0</th>\n      <td>Flora Drive, SG</td>\n      <td>Pasir Ris</td>\n      <td>...</td>\n      <td>...</td>\n      <td>12950</td>\n      <td>14610</td>\n    </tr>\n    <tr>\n      <th>1</th>\n      <td>Loyang East, SG</td>\n      <td>Pasir Ris</td>\n      <td>...</td>\n      <td>...</td>\n      <td>2190</td>\n      <td>2160</td>\n    </tr>\n    <tr>\n      <th>2</th>\n      <td>Loyang West, SG</td>\n      <td>Pasir Ris</td>\n      <td>...</td>\n      <td>...</td>\n      <td>200</td>\n      <td>190</td>\n    </tr>\n    <tr>\n      <th>3</th>\n      <td>Pasir Ris Central (Town), SG</td>\n      <td>Pasir Ris</td>\n      <td>20223</td>\n      <td>20808</td>\n      <td>25730</td>\n      <td>32190</td>\n    </tr>\n    <tr>\n      <th>4</th>\n      <td>Pasir Ris Drive, SG</td>\n      <td>Pasir Ris</td>\n      <td>58458</td>\n      <td>61489</td>\n      <td>59480</td>\n      <td>55260</td>\n    </tr>\n  </tbody>\n</table>\n</div>",
                        "text/plain": "                        Subzone Planning Area   2000   2010   2015   2019\n0               Flora Drive, SG     Pasir Ris    ...    ...  12950  14610\n1               Loyang East, SG     Pasir Ris    ...    ...   2190   2160\n2               Loyang West, SG     Pasir Ris    ...    ...    200    190\n3  Pasir Ris Central (Town), SG     Pasir Ris  20223  20808  25730  32190\n4           Pasir Ris Drive, SG     Pasir Ris  58458  61489  59480  55260"
                    },
                    "execution_count": 23,
                    "metadata": {},
                    "output_type": "execute_result"
                }
            ],
            "source": "Sgsz_df['Subzone'] = Sgsz_df['Subzone'].astype(str) + ', SG'\nSgsz_df.head()"
        },
        {
            "cell_type": "code",
            "execution_count": 53,
            "metadata": {},
            "outputs": [
                {
                    "data": {
                        "text/plain": "['Flora Drive',\n 'Loyang East',\n 'Loyang West',\n 'Pasir Ris Central (Town)',\n 'Pasir Ris Drive',\n 'Pasir Ris Park',\n 'Pasir Ris Wafer Fab Park (Pasir Ris West)',\n 'Pasir Ris West (Elias)',\n 'Simei',\n 'Tampines East',\n 'Tampines North',\n 'Tampines West',\n 'Xilin',\n 'Bayshore',\n 'Bedok North',\n 'Bedok Reservoir',\n 'Bedok South',\n 'Frankel',\n 'Kaki Bukit',\n 'Kembangan',\n 'Siglap',\n 'Brickworks',\n 'Bukit Batok Central',\n 'Bukit Batok East',\n 'Bukit Batok South',\n 'Bukit Batok West',\n 'Gombak',\n 'Guilin',\n 'Hillview',\n 'Hong Kah North',\n 'Defu Industrial Park',\n 'Hougang Central',\n 'Hougang East',\n 'Hougang West',\n 'Kangkar',\n 'Kovan (Rosyth)',\n 'Lorong Ah Soo',\n 'Lorong Halus (Sungei Serangoon)',\n 'Tai Seng (Tai Keng)',\n 'Trafalgar',\n 'Bangkit',\n 'Dairy Farm',\n 'Fajar',\n 'Jelebu',\n 'Nature Reserve',\n 'Saujana',\n 'Senja',\n 'Boon Lay Place',\n 'Chin Bee',\n 'Hong Kah',\n 'Jurong West Central',\n 'Kian Teck',\n 'Safti',\n 'Taman Jurong',\n 'Wenya',\n 'Yunnan',\n 'Anchorvale (Buangkok)',\n 'Compassvale (Trafalgar)',\n 'Fernvale (Jalan Kayu East)',\n 'Lorong Halus North (Sungei Serangoon East)',\n 'Rivervale (Sungei Serangoon West)',\n 'Sengkang Town Centre',\n 'Sengkang West (Jalan Kayu West)',\n 'Greenwood Park',\n 'Midview',\n 'North Coast',\n 'Senoko West',\n 'Woodgrove',\n 'Woodlands East',\n 'Woodlands Regional Centre',\n 'Woodlands South',\n 'Woodlands West',\n 'Choa Chu Kang Central',\n 'Choa Chu Kang North (Kranji North & Pang Sua)',\n 'Keat Hong',\n 'Peng Siang',\n 'Teck Whye',\n 'Yew Tee']"
                    },
                    "execution_count": 53,
                    "metadata": {},
                    "output_type": "execute_result"
                }
            ],
            "source": "values = list(x for x in Sgsz_df[\"Subzone\"])\nvalues"
        },
        {
            "cell_type": "code",
            "execution_count": 24,
            "metadata": {
                "scrolled": true
            },
            "outputs": [
                {
                    "data": {
                        "text/plain": "(78, 6)"
                    },
                    "execution_count": 24,
                    "metadata": {},
                    "output_type": "execute_result"
                }
            ],
            "source": "Sgsz_df.shape"
        },
        {
            "cell_type": "code",
            "execution_count": 25,
            "metadata": {},
            "outputs": [
                {
                    "data": {
                        "text/plain": "'Flora Drive, SG'"
                    },
                    "execution_count": 25,
                    "metadata": {},
                    "output_type": "execute_result"
                }
            ],
            "source": "subzone = Sgsz_df.loc[0, 'Subzone']\nsubzone"
        },
        {
            "cell_type": "code",
            "execution_count": 41,
            "metadata": {},
            "outputs": [
                {
                    "name": "stderr",
                    "output_type": "stream",
                    "text": "/opt/conda/envs/Python36/lib/python3.6/site-packages/ipykernel/__main__.py:1: FutureWarning: set_value is deprecated and will be removed in a future release. Please use .at[] or .iat[] accessors instead\n  if __name__ == '__main__':\n/opt/conda/envs/Python36/lib/python3.6/site-packages/ipykernel/__main__.py:2: FutureWarning: set_value is deprecated and will be removed in a future release. Please use .at[] or .iat[] accessors instead\n  from ipykernel import kernelapp as app\n/opt/conda/envs/Python36/lib/python3.6/site-packages/ipykernel/__main__.py:3: FutureWarning: set_value is deprecated and will be removed in a future release. Please use .at[] or .iat[] accessors instead\n  app.launch_new_instance()\n/opt/conda/envs/Python36/lib/python3.6/site-packages/ipykernel/__main__.py:4: FutureWarning: set_value is deprecated and will be removed in a future release. Please use .at[] or .iat[] accessors instead\n/opt/conda/envs/Python36/lib/python3.6/site-packages/ipykernel/__main__.py:5: FutureWarning: set_value is deprecated and will be removed in a future release. Please use .at[] or .iat[] accessors instead\n/opt/conda/envs/Python36/lib/python3.6/site-packages/ipykernel/__main__.py:6: FutureWarning: set_value is deprecated and will be removed in a future release. Please use .at[] or .iat[] accessors instead\n/opt/conda/envs/Python36/lib/python3.6/site-packages/ipykernel/__main__.py:7: FutureWarning: set_value is deprecated and will be removed in a future release. Please use .at[] or .iat[] accessors instead\n/opt/conda/envs/Python36/lib/python3.6/site-packages/ipykernel/__main__.py:8: FutureWarning: set_value is deprecated and will be removed in a future release. Please use .at[] or .iat[] accessors instead\n/opt/conda/envs/Python36/lib/python3.6/site-packages/ipykernel/__main__.py:9: FutureWarning: set_value is deprecated and will be removed in a future release. Please use .at[] or .iat[] accessors instead\n/opt/conda/envs/Python36/lib/python3.6/site-packages/ipykernel/__main__.py:10: FutureWarning: set_value is deprecated and will be removed in a future release. Please use .at[] or .iat[] accessors instead\n/opt/conda/envs/Python36/lib/python3.6/site-packages/ipykernel/__main__.py:11: FutureWarning: set_value is deprecated and will be removed in a future release. Please use .at[] or .iat[] accessors instead\n/opt/conda/envs/Python36/lib/python3.6/site-packages/ipykernel/__main__.py:12: FutureWarning: set_value is deprecated and will be removed in a future release. Please use .at[] or .iat[] accessors instead\n/opt/conda/envs/Python36/lib/python3.6/site-packages/ipykernel/__main__.py:13: FutureWarning: set_value is deprecated and will be removed in a future release. Please use .at[] or .iat[] accessors instead\n"
                },
                {
                    "data": {
                        "text/html": "<div>\n<style scoped>\n    .dataframe tbody tr th:only-of-type {\n        vertical-align: middle;\n    }\n\n    .dataframe tbody tr th {\n        vertical-align: top;\n    }\n\n    .dataframe thead th {\n        text-align: right;\n    }\n</style>\n<table border=\"1\" class=\"dataframe\">\n  <thead>\n    <tr style=\"text-align: right;\">\n      <th></th>\n      <th>Subzone</th>\n      <th>Planning Area</th>\n      <th>2000</th>\n      <th>2010</th>\n      <th>2015</th>\n      <th>2019</th>\n    </tr>\n  </thead>\n  <tbody>\n    <tr>\n      <th>0</th>\n      <td>Flora Drive, SG</td>\n      <td>Pasir Ris</td>\n      <td>...</td>\n      <td>...</td>\n      <td>12950</td>\n      <td>14610</td>\n    </tr>\n    <tr>\n      <th>1</th>\n      <td>Loyang East, SG</td>\n      <td>Pasir Ris</td>\n      <td>...</td>\n      <td>...</td>\n      <td>2190</td>\n      <td>2160</td>\n    </tr>\n    <tr>\n      <th>2</th>\n      <td>Loyang West, SG</td>\n      <td>Pasir Ris</td>\n      <td>...</td>\n      <td>...</td>\n      <td>200</td>\n      <td>190</td>\n    </tr>\n    <tr>\n      <th>3</th>\n      <td>Pasir Ris Central, SG</td>\n      <td>Pasir Ris</td>\n      <td>20223</td>\n      <td>20808</td>\n      <td>25730</td>\n      <td>32190</td>\n    </tr>\n    <tr>\n      <th>4</th>\n      <td>Pasir Ris Drive, SG</td>\n      <td>Pasir Ris</td>\n      <td>58458</td>\n      <td>61489</td>\n      <td>59480</td>\n      <td>55260</td>\n    </tr>\n    <tr>\n      <th>5</th>\n      <td>Pasir Ris Park, SG</td>\n      <td>Pasir Ris</td>\n      <td>...</td>\n      <td>1294</td>\n      <td>2980</td>\n      <td>7510</td>\n    </tr>\n    <tr>\n      <th>6</th>\n      <td>Pasir Ris West, SG</td>\n      <td>Pasir Ris</td>\n      <td>...</td>\n      <td>...</td>\n      <td>20</td>\n      <td>20</td>\n    </tr>\n    <tr>\n      <th>7</th>\n      <td>Elias, SG</td>\n      <td>Pasir Ris</td>\n      <td>28938</td>\n      <td>36305</td>\n      <td>36330</td>\n      <td>36080</td>\n    </tr>\n    <tr>\n      <th>8</th>\n      <td>Simei, SG</td>\n      <td>Tampines</td>\n      <td>...</td>\n      <td>42860</td>\n      <td>42710</td>\n      <td>40040</td>\n    </tr>\n    <tr>\n      <th>9</th>\n      <td>Tampines East, SG</td>\n      <td>Tampines</td>\n      <td>137152</td>\n      <td>138807</td>\n      <td>138500</td>\n      <td>132840</td>\n    </tr>\n    <tr>\n      <th>10</th>\n      <td>Tampines North, SG</td>\n      <td>Tampines</td>\n      <td>...</td>\n      <td>...</td>\n      <td>...</td>\n      <td>2460</td>\n    </tr>\n    <tr>\n      <th>11</th>\n      <td>Tampines West, SG</td>\n      <td>Tampines</td>\n      <td>75761</td>\n      <td>77956</td>\n      <td>78110</td>\n      <td>79670</td>\n    </tr>\n    <tr>\n      <th>12</th>\n      <td>Xilin, SG</td>\n      <td>Tampines</td>\n      <td>...</td>\n      <td>2120</td>\n      <td>1920</td>\n      <td>1730</td>\n    </tr>\n    <tr>\n      <th>13</th>\n      <td>Bayshore, SG</td>\n      <td>Bedok</td>\n      <td>3414</td>\n      <td>6497</td>\n      <td>7480</td>\n      <td>7330</td>\n    </tr>\n    <tr>\n      <th>14</th>\n      <td>Bedok North, SG</td>\n      <td>Bedok</td>\n      <td>87199</td>\n      <td>91139</td>\n      <td>85930</td>\n      <td>82530</td>\n    </tr>\n    <tr>\n      <th>15</th>\n      <td>Bedok Reservoir, SG</td>\n      <td>Bedok</td>\n      <td>19999</td>\n      <td>23076</td>\n      <td>25400</td>\n      <td>25640</td>\n    </tr>\n    <tr>\n      <th>16</th>\n      <td>Bedok South, SG</td>\n      <td>Bedok</td>\n      <td>54324</td>\n      <td>52313</td>\n      <td>51190</td>\n      <td>47420</td>\n    </tr>\n    <tr>\n      <th>17</th>\n      <td>Frankel, SG</td>\n      <td>Bedok</td>\n      <td>30828</td>\n      <td>31536</td>\n      <td>33570</td>\n      <td>34330</td>\n    </tr>\n    <tr>\n      <th>18</th>\n      <td>Kaki Bukit, SG</td>\n      <td>Bedok</td>\n      <td>43310</td>\n      <td>43781</td>\n      <td>40820</td>\n      <td>37670</td>\n    </tr>\n    <tr>\n      <th>19</th>\n      <td>Kembangan, SG</td>\n      <td>Bedok</td>\n      <td>37219</td>\n      <td>38722</td>\n      <td>38440</td>\n      <td>37950</td>\n    </tr>\n    <tr>\n      <th>20</th>\n      <td>Siglap, SG</td>\n      <td>Bedok</td>\n      <td>8025</td>\n      <td>7455</td>\n      <td>6930</td>\n      <td>6520</td>\n    </tr>\n    <tr>\n      <th>21</th>\n      <td>Brickworks, SG</td>\n      <td>Bukit Batok</td>\n      <td>...</td>\n      <td>...</td>\n      <td>...</td>\n      <td>15060</td>\n    </tr>\n    <tr>\n      <th>22</th>\n      <td>Bukit Batok Central, SG</td>\n      <td>Bukit Batok</td>\n      <td>24293</td>\n      <td>26553</td>\n      <td>26060</td>\n      <td>27260</td>\n    </tr>\n    <tr>\n      <th>23</th>\n      <td>Bukit Batok East, SG</td>\n      <td>Bukit Batok</td>\n      <td>15626</td>\n      <td>15921</td>\n      <td>14570</td>\n      <td>12830</td>\n    </tr>\n    <tr>\n      <th>24</th>\n      <td>Bukit Batok South, SG</td>\n      <td>Bukit Batok</td>\n      <td>13590</td>\n      <td>14651</td>\n      <td>13940</td>\n      <td>14990</td>\n    </tr>\n    <tr>\n      <th>25</th>\n      <td>Bukit Batok West, SG</td>\n      <td>Bukit Batok</td>\n      <td>16134</td>\n      <td>16286</td>\n      <td>15190</td>\n      <td>15030</td>\n    </tr>\n    <tr>\n      <th>26</th>\n      <td>Gombak, SG</td>\n      <td>Bukit Batok</td>\n      <td>...</td>\n      <td>8866</td>\n      <td>9820</td>\n      <td>10000</td>\n    </tr>\n    <tr>\n      <th>27</th>\n      <td>Guilin, SG</td>\n      <td>Bukit Batok</td>\n      <td>...</td>\n      <td>13911</td>\n      <td>13130</td>\n      <td>13020</td>\n    </tr>\n    <tr>\n      <th>28</th>\n      <td>Hillview, SG</td>\n      <td>Bukit Batok</td>\n      <td>15652</td>\n      <td>17942</td>\n      <td>18220</td>\n      <td>19120</td>\n    </tr>\n    <tr>\n      <th>29</th>\n      <td>Hong Kah North, SG</td>\n      <td>Bukit Batok</td>\n      <td>28788</td>\n      <td>30067</td>\n      <td>28340</td>\n      <td>26450</td>\n    </tr>\n    <tr>\n      <th>30</th>\n      <td>Defu Industrial Park, SG</td>\n      <td>Hougang</td>\n      <td>...</td>\n      <td>...</td>\n      <td>20</td>\n      <td>20</td>\n    </tr>\n    <tr>\n      <th>31</th>\n      <td>Hougang Central, SG</td>\n      <td>Hougang</td>\n      <td>...</td>\n      <td>...</td>\n      <td>4830</td>\n      <td>4730</td>\n    </tr>\n    <tr>\n      <th>32</th>\n      <td>Hougang East, SG</td>\n      <td>Hougang</td>\n      <td>...</td>\n      <td>...</td>\n      <td>21940</td>\n      <td>25060</td>\n    </tr>\n    <tr>\n      <th>33</th>\n      <td>Hougang West, SG</td>\n      <td>Hougang</td>\n      <td>...</td>\n      <td>...</td>\n      <td>50120</td>\n      <td>45400</td>\n    </tr>\n    <tr>\n      <th>34</th>\n      <td>Kangkar, SG</td>\n      <td>Hougang</td>\n      <td>...</td>\n      <td>...</td>\n      <td>26080</td>\n      <td>31670</td>\n    </tr>\n    <tr>\n      <th>35</th>\n      <td>Kovan, SG</td>\n      <td>Hougang</td>\n      <td>20894</td>\n      <td>23068</td>\n      <td>25640</td>\n      <td>24850</td>\n    </tr>\n    <tr>\n      <th>36</th>\n      <td>Lorong Ah Soo, SG</td>\n      <td>Hougang</td>\n      <td>36640</td>\n      <td>34457</td>\n      <td>34180</td>\n      <td>32530</td>\n    </tr>\n    <tr>\n      <th>37</th>\n      <td>Lorong Halus, SG</td>\n      <td>Hougang</td>\n      <td>...</td>\n      <td>...</td>\n      <td>...</td>\n      <td>...</td>\n    </tr>\n    <tr>\n      <th>38</th>\n      <td>Tai Seng, SG</td>\n      <td>Hougang</td>\n      <td>...</td>\n      <td>12908</td>\n      <td>14700</td>\n      <td>14060</td>\n    </tr>\n    <tr>\n      <th>39</th>\n      <td>Trafalgar, SG</td>\n      <td>Hougang</td>\n      <td>...</td>\n      <td>...</td>\n      <td>44800</td>\n      <td>47940</td>\n    </tr>\n    <tr>\n      <th>40</th>\n      <td>Bangkit, SG</td>\n      <td>Bukit Panjang</td>\n      <td>25837</td>\n      <td>25286</td>\n      <td>23800</td>\n      <td>22490</td>\n    </tr>\n    <tr>\n      <th>41</th>\n      <td>Dairy Farm, SG</td>\n      <td>Bukit Panjang</td>\n      <td>...</td>\n      <td>3750</td>\n      <td>5390</td>\n      <td>6780</td>\n    </tr>\n    <tr>\n      <th>42</th>\n      <td>Fajar, SG</td>\n      <td>Bukit Panjang</td>\n      <td>16711</td>\n      <td>22991</td>\n      <td>26770</td>\n      <td>28160</td>\n    </tr>\n    <tr>\n      <th>43</th>\n      <td>Jelebu, SG</td>\n      <td>Bukit Panjang</td>\n      <td>27487</td>\n      <td>34963</td>\n      <td>33470</td>\n      <td>31550</td>\n    </tr>\n    <tr>\n      <th>44</th>\n      <td>Nature Reserve, SG</td>\n      <td>Bukit Panjang</td>\n      <td>...</td>\n      <td>3601</td>\n      <td>3870</td>\n      <td>3810</td>\n    </tr>\n    <tr>\n      <th>45</th>\n      <td>Saujana, SG</td>\n      <td>Bukit Panjang</td>\n      <td>17707</td>\n      <td>21957</td>\n      <td>25530</td>\n      <td>26100</td>\n    </tr>\n    <tr>\n      <th>46</th>\n      <td>Senja, SG</td>\n      <td>Bukit Panjang</td>\n      <td>...</td>\n      <td>16186</td>\n      <td>20200</td>\n      <td>20390</td>\n    </tr>\n    <tr>\n      <th>47</th>\n      <td>Boon Lay Place, SG</td>\n      <td>Jurong West</td>\n      <td>...</td>\n      <td>24384</td>\n      <td>31100</td>\n      <td>29630</td>\n    </tr>\n    <tr>\n      <th>48</th>\n      <td>Chin Bee, SG</td>\n      <td>Jurong West</td>\n      <td>...</td>\n      <td>...</td>\n      <td>...</td>\n      <td>10</td>\n    </tr>\n    <tr>\n      <th>49</th>\n      <td>Hong Kah, SG</td>\n      <td>Jurong West</td>\n      <td>57421</td>\n      <td>59658</td>\n      <td>56870</td>\n      <td>54060</td>\n    </tr>\n    <tr>\n      <th>50</th>\n      <td>Jurong West Central, SG</td>\n      <td>Jurong West</td>\n      <td>28916</td>\n      <td>69324</td>\n      <td>68200</td>\n      <td>64650</td>\n    </tr>\n    <tr>\n      <th>51</th>\n      <td>Kian Teck, SG</td>\n      <td>Jurong West</td>\n      <td>...</td>\n      <td>...</td>\n      <td>50</td>\n      <td>50</td>\n    </tr>\n    <tr>\n      <th>52</th>\n      <td>Safti, SG</td>\n      <td>Jurong West</td>\n      <td>...</td>\n      <td>...</td>\n      <td>...</td>\n      <td>...</td>\n    </tr>\n    <tr>\n      <th>53</th>\n      <td>Taman Jurong, SG</td>\n      <td>Jurong West</td>\n      <td>29296</td>\n      <td>32338</td>\n      <td>36940</td>\n      <td>39980</td>\n    </tr>\n    <tr>\n      <th>54</th>\n      <td>Wenya, SG</td>\n      <td>Jurong West</td>\n      <td>...</td>\n      <td>8190</td>\n      <td>8610</td>\n      <td>8310</td>\n    </tr>\n    <tr>\n      <th>55</th>\n      <td>Yunnan, SG</td>\n      <td>Jurong West</td>\n      <td>62600</td>\n      <td>73587</td>\n      <td>70890</td>\n      <td>68170</td>\n    </tr>\n    <tr>\n      <th>56</th>\n      <td>Anchorvale, SG</td>\n      <td>Sengkang</td>\n      <td>...</td>\n      <td>30751</td>\n      <td>38040</td>\n      <td>46550</td>\n    </tr>\n    <tr>\n      <th>57</th>\n      <td>Compassvale, SG</td>\n      <td>Sengkang</td>\n      <td>...</td>\n      <td>13624</td>\n      <td>18510</td>\n      <td>21170</td>\n    </tr>\n    <tr>\n      <th>58</th>\n      <td>Fernvale, SG</td>\n      <td>Sengkang</td>\n      <td>...</td>\n      <td>12786</td>\n      <td>35590</td>\n      <td>55110</td>\n    </tr>\n    <tr>\n      <th>59</th>\n      <td>Sungei Serangoon East, SG</td>\n      <td>Sengkang</td>\n      <td>...</td>\n      <td>...</td>\n      <td>...</td>\n      <td>...</td>\n    </tr>\n    <tr>\n      <th>60</th>\n      <td>Sungei Serangoon West, SG</td>\n      <td>Sengkang</td>\n      <td>...</td>\n      <td>...</td>\n      <td>59860</td>\n      <td>60160</td>\n    </tr>\n    <tr>\n      <th>61</th>\n      <td>Sengkang Town Centre, SG</td>\n      <td>Sengkang</td>\n      <td>...</td>\n      <td>52148</td>\n      <td>54680</td>\n      <td>61600</td>\n    </tr>\n    <tr>\n      <th>62</th>\n      <td>Jalan Kayu West, SG</td>\n      <td>Sengkang</td>\n      <td>...</td>\n      <td>...</td>\n      <td>10</td>\n      <td>10</td>\n    </tr>\n    <tr>\n      <th>63</th>\n      <td>Greenwood Park, SG</td>\n      <td>Woodlands</td>\n      <td>...</td>\n      <td>...</td>\n      <td>70</td>\n      <td>40</td>\n    </tr>\n    <tr>\n      <th>64</th>\n      <td>Midview, SG</td>\n      <td>Woodlands</td>\n      <td>28977</td>\n      <td>34629</td>\n      <td>35510</td>\n      <td>35510</td>\n    </tr>\n    <tr>\n      <th>65</th>\n      <td>North Coast, SG</td>\n      <td>Woodlands</td>\n      <td>...</td>\n      <td>15271</td>\n      <td>14610</td>\n      <td>12350</td>\n    </tr>\n    <tr>\n      <th>66</th>\n      <td>Senoko West, SG</td>\n      <td>Woodlands</td>\n      <td>...</td>\n      <td>...</td>\n      <td>20</td>\n      <td>10</td>\n    </tr>\n    <tr>\n      <th>67</th>\n      <td>Woodgrove, SG</td>\n      <td>Woodlands</td>\n      <td>28587</td>\n      <td>35508</td>\n      <td>35850</td>\n      <td>34110</td>\n    </tr>\n    <tr>\n      <th>68</th>\n      <td>Woodlands East, SG</td>\n      <td>Woodlands</td>\n      <td>64824</td>\n      <td>95401</td>\n      <td>95510</td>\n      <td>98510</td>\n    </tr>\n    <tr>\n      <th>69</th>\n      <td>Woodlands Regional Centre, SG</td>\n      <td>Woodlands</td>\n      <td>...</td>\n      <td>...</td>\n      <td>...</td>\n      <td>10</td>\n    </tr>\n    <tr>\n      <th>70</th>\n      <td>Woodlands South, SG</td>\n      <td>Woodlands</td>\n      <td>21095</td>\n      <td>32698</td>\n      <td>35840</td>\n      <td>41040</td>\n    </tr>\n    <tr>\n      <th>71</th>\n      <td>Woodlands West, SG</td>\n      <td>Woodlands</td>\n      <td>27972</td>\n      <td>31549</td>\n      <td>32890</td>\n      <td>33140</td>\n    </tr>\n    <tr>\n      <th>72</th>\n      <td>Choa Chu Kang Central, SG</td>\n      <td>Choa Chu Kang</td>\n      <td>18082</td>\n      <td>20282</td>\n      <td>21400</td>\n      <td>22530</td>\n    </tr>\n    <tr>\n      <th>73</th>\n      <td>Choa Chu Kang North, SG</td>\n      <td>Choa Chu Kang</td>\n      <td>25830</td>\n      <td>33209</td>\n      <td>34380</td>\n      <td>32390</td>\n    </tr>\n    <tr>\n      <th>74</th>\n      <td>Keat Hong, SG</td>\n      <td>Choa Chu Kang</td>\n      <td>13722</td>\n      <td>16399</td>\n      <td>15660</td>\n      <td>36950</td>\n    </tr>\n    <tr>\n      <th>75</th>\n      <td>Peng Siang, SG</td>\n      <td>Choa Chu Kang</td>\n      <td>28146</td>\n      <td>31257</td>\n      <td>32130</td>\n      <td>33380</td>\n    </tr>\n    <tr>\n      <th>76</th>\n      <td>Teck Whye, SG</td>\n      <td>Choa Chu Kang</td>\n      <td>26391</td>\n      <td>26887</td>\n      <td>27040</td>\n      <td>24720</td>\n    </tr>\n    <tr>\n      <th>77</th>\n      <td>Yew Tee, SG</td>\n      <td>Choa Chu Kang</td>\n      <td>23934</td>\n      <td>45257</td>\n      <td>43710</td>\n      <td>40910</td>\n    </tr>\n  </tbody>\n</table>\n</div>",
                        "text/plain": "                          Subzone  Planning Area    2000    2010    2015  \\\n0                 Flora Drive, SG      Pasir Ris     ...     ...   12950   \n1                 Loyang East, SG      Pasir Ris     ...     ...    2190   \n2                 Loyang West, SG      Pasir Ris     ...     ...     200   \n3           Pasir Ris Central, SG      Pasir Ris   20223   20808   25730   \n4             Pasir Ris Drive, SG      Pasir Ris   58458   61489   59480   \n5              Pasir Ris Park, SG      Pasir Ris     ...    1294    2980   \n6              Pasir Ris West, SG      Pasir Ris     ...     ...      20   \n7                       Elias, SG      Pasir Ris   28938   36305   36330   \n8                       Simei, SG       Tampines     ...   42860   42710   \n9               Tampines East, SG       Tampines  137152  138807  138500   \n10             Tampines North, SG       Tampines     ...     ...     ...   \n11              Tampines West, SG       Tampines   75761   77956   78110   \n12                      Xilin, SG       Tampines     ...    2120    1920   \n13                   Bayshore, SG          Bedok    3414    6497    7480   \n14                Bedok North, SG          Bedok   87199   91139   85930   \n15            Bedok Reservoir, SG          Bedok   19999   23076   25400   \n16                Bedok South, SG          Bedok   54324   52313   51190   \n17                    Frankel, SG          Bedok   30828   31536   33570   \n18                 Kaki Bukit, SG          Bedok   43310   43781   40820   \n19                  Kembangan, SG          Bedok   37219   38722   38440   \n20                     Siglap, SG          Bedok    8025    7455    6930   \n21                 Brickworks, SG    Bukit Batok     ...     ...     ...   \n22        Bukit Batok Central, SG    Bukit Batok   24293   26553   26060   \n23           Bukit Batok East, SG    Bukit Batok   15626   15921   14570   \n24          Bukit Batok South, SG    Bukit Batok   13590   14651   13940   \n25           Bukit Batok West, SG    Bukit Batok   16134   16286   15190   \n26                     Gombak, SG    Bukit Batok     ...    8866    9820   \n27                     Guilin, SG    Bukit Batok     ...   13911   13130   \n28                   Hillview, SG    Bukit Batok   15652   17942   18220   \n29             Hong Kah North, SG    Bukit Batok   28788   30067   28340   \n30       Defu Industrial Park, SG        Hougang     ...     ...      20   \n31            Hougang Central, SG        Hougang     ...     ...    4830   \n32               Hougang East, SG        Hougang     ...     ...   21940   \n33               Hougang West, SG        Hougang     ...     ...   50120   \n34                    Kangkar, SG        Hougang     ...     ...   26080   \n35                      Kovan, SG        Hougang   20894   23068   25640   \n36              Lorong Ah Soo, SG        Hougang   36640   34457   34180   \n37               Lorong Halus, SG        Hougang     ...     ...     ...   \n38                   Tai Seng, SG        Hougang     ...   12908   14700   \n39                  Trafalgar, SG        Hougang     ...     ...   44800   \n40                    Bangkit, SG  Bukit Panjang   25837   25286   23800   \n41                 Dairy Farm, SG  Bukit Panjang     ...    3750    5390   \n42                      Fajar, SG  Bukit Panjang   16711   22991   26770   \n43                     Jelebu, SG  Bukit Panjang   27487   34963   33470   \n44             Nature Reserve, SG  Bukit Panjang     ...    3601    3870   \n45                    Saujana, SG  Bukit Panjang   17707   21957   25530   \n46                      Senja, SG  Bukit Panjang     ...   16186   20200   \n47             Boon Lay Place, SG    Jurong West     ...   24384   31100   \n48                   Chin Bee, SG    Jurong West     ...     ...     ...   \n49                   Hong Kah, SG    Jurong West   57421   59658   56870   \n50        Jurong West Central, SG    Jurong West   28916   69324   68200   \n51                  Kian Teck, SG    Jurong West     ...     ...      50   \n52                      Safti, SG    Jurong West     ...     ...     ...   \n53               Taman Jurong, SG    Jurong West   29296   32338   36940   \n54                      Wenya, SG    Jurong West     ...    8190    8610   \n55                     Yunnan, SG    Jurong West   62600   73587   70890   \n56                 Anchorvale, SG       Sengkang     ...   30751   38040   \n57                Compassvale, SG       Sengkang     ...   13624   18510   \n58                   Fernvale, SG       Sengkang     ...   12786   35590   \n59      Sungei Serangoon East, SG       Sengkang     ...     ...     ...   \n60      Sungei Serangoon West, SG       Sengkang     ...     ...   59860   \n61       Sengkang Town Centre, SG       Sengkang     ...   52148   54680   \n62            Jalan Kayu West, SG       Sengkang     ...     ...      10   \n63             Greenwood Park, SG      Woodlands     ...     ...      70   \n64                    Midview, SG      Woodlands   28977   34629   35510   \n65                North Coast, SG      Woodlands     ...   15271   14610   \n66                Senoko West, SG      Woodlands     ...     ...      20   \n67                  Woodgrove, SG      Woodlands   28587   35508   35850   \n68             Woodlands East, SG      Woodlands   64824   95401   95510   \n69  Woodlands Regional Centre, SG      Woodlands     ...     ...     ...   \n70            Woodlands South, SG      Woodlands   21095   32698   35840   \n71             Woodlands West, SG      Woodlands   27972   31549   32890   \n72      Choa Chu Kang Central, SG  Choa Chu Kang   18082   20282   21400   \n73        Choa Chu Kang North, SG  Choa Chu Kang   25830   33209   34380   \n74                  Keat Hong, SG  Choa Chu Kang   13722   16399   15660   \n75                 Peng Siang, SG  Choa Chu Kang   28146   31257   32130   \n76                  Teck Whye, SG  Choa Chu Kang   26391   26887   27040   \n77                    Yew Tee, SG  Choa Chu Kang   23934   45257   43710   \n\n      2019  \n0    14610  \n1     2160  \n2      190  \n3    32190  \n4    55260  \n5     7510  \n6       20  \n7    36080  \n8    40040  \n9   132840  \n10    2460  \n11   79670  \n12    1730  \n13    7330  \n14   82530  \n15   25640  \n16   47420  \n17   34330  \n18   37670  \n19   37950  \n20    6520  \n21   15060  \n22   27260  \n23   12830  \n24   14990  \n25   15030  \n26   10000  \n27   13020  \n28   19120  \n29   26450  \n30      20  \n31    4730  \n32   25060  \n33   45400  \n34   31670  \n35   24850  \n36   32530  \n37     ...  \n38   14060  \n39   47940  \n40   22490  \n41    6780  \n42   28160  \n43   31550  \n44    3810  \n45   26100  \n46   20390  \n47   29630  \n48      10  \n49   54060  \n50   64650  \n51      50  \n52     ...  \n53   39980  \n54    8310  \n55   68170  \n56   46550  \n57   21170  \n58   55110  \n59     ...  \n60   60160  \n61   61600  \n62      10  \n63      40  \n64   35510  \n65   12350  \n66      10  \n67   34110  \n68   98510  \n69      10  \n70   41040  \n71   33140  \n72   22530  \n73   32390  \n74   36950  \n75   33380  \n76   24720  \n77   40910  "
                    },
                    "execution_count": 41,
                    "metadata": {},
                    "output_type": "execute_result"
                }
            ],
            "source": "Sgsz_df.set_value(3, 'Subzone', 'Pasir Ris Central, SG')\nSgsz_df.set_value(6, 'Subzone', 'Pasir Ris West, SG')\nSgsz_df.set_value(7, 'Subzone', 'Elias, SG')\nSgsz_df.set_value(35, 'Subzone', 'Kovan, SG')\nSgsz_df.set_value(37, 'Subzone', 'Lorong Halus, SG')\nSgsz_df.set_value(38, 'Subzone', 'Tai Seng, SG')\nSgsz_df.set_value(56, 'Subzone', 'Anchorvale, SG')\nSgsz_df.set_value(57, 'Subzone', 'Compassvale, SG')\nSgsz_df.set_value(58, 'Subzone', 'Fernvale, SG')\nSgsz_df.set_value(59, 'Subzone', 'Sungei Serangoon East, SG')\nSgsz_df.set_value(60, 'Subzone', 'Sungei Serangoon West, SG')\nSgsz_df.set_value(62, 'Subzone', 'Jalan Kayu West, SG')\nSgsz_df.set_value(73, 'Subzone', 'Choa Chu Kang North, SG')"
        },
        {
            "cell_type": "code",
            "execution_count": 42,
            "metadata": {},
            "outputs": [
                {
                    "name": "stdout",
                    "output_type": "stream",
                    "text": " 0. 1.3535817. 103.967412.\n 1. 1.3753678. 103.9772924.\n 2. 1.3753678. 103.9772924.\n 3. 1.3719931. 103.9493766.\n 4. 1.3730307. 103.949255.\n 5. 1.37898635. 103.95037978854626.\n 6. 1.3730307. 103.949255.\n 7. 1.3769513. 103.94195645826582.\n 8. 1.3431881. 103.953371.\n 9. 1.3560492499999999. 103.95513588323088.\n 10. 1.3690124. 103.93809295626107.\n 11. 1.3458660999999998. 103.93846350820903.\n 12. 1.32928175. 103.96463587079418.\n 13. 1.3128118. 103.93903291761592.\n 14. 1.3324018. 103.9193052.\n 15. 1.3425058. 103.92522980731215.\n 16. 1.3171997. 103.95000550811523.\n 17. 1.3146796. 103.9191432.\n 18. 1.3360277. 103.9018509.\n 19. 1.3210321. 103.9129269.\n 20. 1.3169991. 103.9195871.\n 21. 1.2869332. 103.80756011310467.\n 22. 1.3497278499999998. 103.75102058137736.\n 23. 1.3490572. 103.7495906.\n 24. 1.3490572. 103.7495906.\n 25. 1.3455305. 103.7397329.\n 26. 1.3588929. 103.7518249.\n 27. 1.3539591999999998. 103.75245291425546.\n 28. 1.3624042. 103.76742729372796.\n 29. 1.3553973. 103.7214297.\n 30. 1.35161105. 103.89204505000001.\n 31. 1.3710492. 103.89435758379814.\n 32. 1.3706821. 103.8925450111407.\n 33. 1.3706821. 103.8925450111407.\n 34. 1.3839286. 103.9022055.\n 35. 1.3599863. 103.8848589.\n 36. 1.3520481. 103.8845867.\n 37. 1.384578. 103.9228952.\n 38. 1.3354599. 103.8883024.\n 39. 13.7804133. 121.05223275706865.\n"
                },
                {
                    "ename": "GeocoderUnavailable",
                    "evalue": "Service not available",
                    "output_type": "error",
                    "traceback": [
                        "\u001b[0;31m---------------------------------------------------------------------------\u001b[0m",
                        "\u001b[0;31mOSError\u001b[0m                                   Traceback (most recent call last)",
                        "\u001b[0;32m/opt/conda/envs/Python36/lib/python3.6/urllib/request.py\u001b[0m in \u001b[0;36mdo_open\u001b[0;34m(self, http_class, req, **http_conn_args)\u001b[0m\n\u001b[1;32m   1317\u001b[0m                 h.request(req.get_method(), req.selector, req.data, headers,\n\u001b[0;32m-> 1318\u001b[0;31m                           encode_chunked=req.has_header('Transfer-encoding'))\n\u001b[0m\u001b[1;32m   1319\u001b[0m             \u001b[0;32mexcept\u001b[0m \u001b[0mOSError\u001b[0m \u001b[0;32mas\u001b[0m \u001b[0merr\u001b[0m\u001b[0;34m:\u001b[0m \u001b[0;31m# timeout error\u001b[0m\u001b[0;34m\u001b[0m\u001b[0;34m\u001b[0m\u001b[0m\n",
                        "\u001b[0;32m/opt/conda/envs/Python36/lib/python3.6/http/client.py\u001b[0m in \u001b[0;36mrequest\u001b[0;34m(self, method, url, body, headers, encode_chunked)\u001b[0m\n\u001b[1;32m   1253\u001b[0m         \u001b[0;34m\"\"\"Send a complete request to the server.\"\"\"\u001b[0m\u001b[0;34m\u001b[0m\u001b[0;34m\u001b[0m\u001b[0m\n\u001b[0;32m-> 1254\u001b[0;31m         \u001b[0mself\u001b[0m\u001b[0;34m.\u001b[0m\u001b[0m_send_request\u001b[0m\u001b[0;34m(\u001b[0m\u001b[0mmethod\u001b[0m\u001b[0;34m,\u001b[0m \u001b[0murl\u001b[0m\u001b[0;34m,\u001b[0m \u001b[0mbody\u001b[0m\u001b[0;34m,\u001b[0m \u001b[0mheaders\u001b[0m\u001b[0;34m,\u001b[0m \u001b[0mencode_chunked\u001b[0m\u001b[0;34m)\u001b[0m\u001b[0;34m\u001b[0m\u001b[0;34m\u001b[0m\u001b[0m\n\u001b[0m\u001b[1;32m   1255\u001b[0m \u001b[0;34m\u001b[0m\u001b[0m\n",
                        "\u001b[0;32m/opt/conda/envs/Python36/lib/python3.6/http/client.py\u001b[0m in \u001b[0;36m_send_request\u001b[0;34m(self, method, url, body, headers, encode_chunked)\u001b[0m\n\u001b[1;32m   1299\u001b[0m             \u001b[0mbody\u001b[0m \u001b[0;34m=\u001b[0m \u001b[0m_encode\u001b[0m\u001b[0;34m(\u001b[0m\u001b[0mbody\u001b[0m\u001b[0;34m,\u001b[0m \u001b[0;34m'body'\u001b[0m\u001b[0;34m)\u001b[0m\u001b[0;34m\u001b[0m\u001b[0;34m\u001b[0m\u001b[0m\n\u001b[0;32m-> 1300\u001b[0;31m         \u001b[0mself\u001b[0m\u001b[0;34m.\u001b[0m\u001b[0mendheaders\u001b[0m\u001b[0;34m(\u001b[0m\u001b[0mbody\u001b[0m\u001b[0;34m,\u001b[0m \u001b[0mencode_chunked\u001b[0m\u001b[0;34m=\u001b[0m\u001b[0mencode_chunked\u001b[0m\u001b[0;34m)\u001b[0m\u001b[0;34m\u001b[0m\u001b[0;34m\u001b[0m\u001b[0m\n\u001b[0m\u001b[1;32m   1301\u001b[0m \u001b[0;34m\u001b[0m\u001b[0m\n",
                        "\u001b[0;32m/opt/conda/envs/Python36/lib/python3.6/http/client.py\u001b[0m in \u001b[0;36mendheaders\u001b[0;34m(self, message_body, encode_chunked)\u001b[0m\n\u001b[1;32m   1248\u001b[0m             \u001b[0;32mraise\u001b[0m \u001b[0mCannotSendHeader\u001b[0m\u001b[0;34m(\u001b[0m\u001b[0;34m)\u001b[0m\u001b[0;34m\u001b[0m\u001b[0;34m\u001b[0m\u001b[0m\n\u001b[0;32m-> 1249\u001b[0;31m         \u001b[0mself\u001b[0m\u001b[0;34m.\u001b[0m\u001b[0m_send_output\u001b[0m\u001b[0;34m(\u001b[0m\u001b[0mmessage_body\u001b[0m\u001b[0;34m,\u001b[0m \u001b[0mencode_chunked\u001b[0m\u001b[0;34m=\u001b[0m\u001b[0mencode_chunked\u001b[0m\u001b[0;34m)\u001b[0m\u001b[0;34m\u001b[0m\u001b[0;34m\u001b[0m\u001b[0m\n\u001b[0m\u001b[1;32m   1250\u001b[0m \u001b[0;34m\u001b[0m\u001b[0m\n",
                        "\u001b[0;32m/opt/conda/envs/Python36/lib/python3.6/http/client.py\u001b[0m in \u001b[0;36m_send_output\u001b[0;34m(self, message_body, encode_chunked)\u001b[0m\n\u001b[1;32m   1035\u001b[0m         \u001b[0;32mdel\u001b[0m \u001b[0mself\u001b[0m\u001b[0;34m.\u001b[0m\u001b[0m_buffer\u001b[0m\u001b[0;34m[\u001b[0m\u001b[0;34m:\u001b[0m\u001b[0;34m]\u001b[0m\u001b[0;34m\u001b[0m\u001b[0;34m\u001b[0m\u001b[0m\n\u001b[0;32m-> 1036\u001b[0;31m         \u001b[0mself\u001b[0m\u001b[0;34m.\u001b[0m\u001b[0msend\u001b[0m\u001b[0;34m(\u001b[0m\u001b[0mmsg\u001b[0m\u001b[0;34m)\u001b[0m\u001b[0;34m\u001b[0m\u001b[0;34m\u001b[0m\u001b[0m\n\u001b[0m\u001b[1;32m   1037\u001b[0m \u001b[0;34m\u001b[0m\u001b[0m\n",
                        "\u001b[0;32m/opt/conda/envs/Python36/lib/python3.6/http/client.py\u001b[0m in \u001b[0;36msend\u001b[0;34m(self, data)\u001b[0m\n\u001b[1;32m    973\u001b[0m             \u001b[0;32mif\u001b[0m \u001b[0mself\u001b[0m\u001b[0;34m.\u001b[0m\u001b[0mauto_open\u001b[0m\u001b[0;34m:\u001b[0m\u001b[0;34m\u001b[0m\u001b[0;34m\u001b[0m\u001b[0m\n\u001b[0;32m--> 974\u001b[0;31m                 \u001b[0mself\u001b[0m\u001b[0;34m.\u001b[0m\u001b[0mconnect\u001b[0m\u001b[0;34m(\u001b[0m\u001b[0;34m)\u001b[0m\u001b[0;34m\u001b[0m\u001b[0;34m\u001b[0m\u001b[0m\n\u001b[0m\u001b[1;32m    975\u001b[0m             \u001b[0;32melse\u001b[0m\u001b[0;34m:\u001b[0m\u001b[0;34m\u001b[0m\u001b[0;34m\u001b[0m\u001b[0m\n",
                        "\u001b[0;32m/opt/conda/envs/Python36/lib/python3.6/http/client.py\u001b[0m in \u001b[0;36mconnect\u001b[0;34m(self)\u001b[0m\n\u001b[1;32m   1406\u001b[0m \u001b[0;34m\u001b[0m\u001b[0m\n\u001b[0;32m-> 1407\u001b[0;31m             \u001b[0msuper\u001b[0m\u001b[0;34m(\u001b[0m\u001b[0;34m)\u001b[0m\u001b[0;34m.\u001b[0m\u001b[0mconnect\u001b[0m\u001b[0;34m(\u001b[0m\u001b[0;34m)\u001b[0m\u001b[0;34m\u001b[0m\u001b[0;34m\u001b[0m\u001b[0m\n\u001b[0m\u001b[1;32m   1408\u001b[0m \u001b[0;34m\u001b[0m\u001b[0m\n",
                        "\u001b[0;32m/opt/conda/envs/Python36/lib/python3.6/http/client.py\u001b[0m in \u001b[0;36mconnect\u001b[0;34m(self)\u001b[0m\n\u001b[1;32m    945\u001b[0m         self.sock = self._create_connection(\n\u001b[0;32m--> 946\u001b[0;31m             (self.host,self.port), self.timeout, self.source_address)\n\u001b[0m\u001b[1;32m    947\u001b[0m         \u001b[0mself\u001b[0m\u001b[0;34m.\u001b[0m\u001b[0msock\u001b[0m\u001b[0;34m.\u001b[0m\u001b[0msetsockopt\u001b[0m\u001b[0;34m(\u001b[0m\u001b[0msocket\u001b[0m\u001b[0;34m.\u001b[0m\u001b[0mIPPROTO_TCP\u001b[0m\u001b[0;34m,\u001b[0m \u001b[0msocket\u001b[0m\u001b[0;34m.\u001b[0m\u001b[0mTCP_NODELAY\u001b[0m\u001b[0;34m,\u001b[0m \u001b[0;36m1\u001b[0m\u001b[0;34m)\u001b[0m\u001b[0;34m\u001b[0m\u001b[0;34m\u001b[0m\u001b[0m\n",
                        "\u001b[0;32m/opt/conda/envs/Python36/lib/python3.6/socket.py\u001b[0m in \u001b[0;36mcreate_connection\u001b[0;34m(address, timeout, source_address)\u001b[0m\n\u001b[1;32m    723\u001b[0m     \u001b[0;32mif\u001b[0m \u001b[0merr\u001b[0m \u001b[0;32mis\u001b[0m \u001b[0;32mnot\u001b[0m \u001b[0;32mNone\u001b[0m\u001b[0;34m:\u001b[0m\u001b[0;34m\u001b[0m\u001b[0;34m\u001b[0m\u001b[0m\n\u001b[0;32m--> 724\u001b[0;31m         \u001b[0;32mraise\u001b[0m \u001b[0merr\u001b[0m\u001b[0;34m\u001b[0m\u001b[0;34m\u001b[0m\u001b[0m\n\u001b[0m\u001b[1;32m    725\u001b[0m     \u001b[0;32melse\u001b[0m\u001b[0;34m:\u001b[0m\u001b[0;34m\u001b[0m\u001b[0;34m\u001b[0m\u001b[0m\n",
                        "\u001b[0;32m/opt/conda/envs/Python36/lib/python3.6/socket.py\u001b[0m in \u001b[0;36mcreate_connection\u001b[0;34m(address, timeout, source_address)\u001b[0m\n\u001b[1;32m    712\u001b[0m                 \u001b[0msock\u001b[0m\u001b[0;34m.\u001b[0m\u001b[0mbind\u001b[0m\u001b[0;34m(\u001b[0m\u001b[0msource_address\u001b[0m\u001b[0;34m)\u001b[0m\u001b[0;34m\u001b[0m\u001b[0;34m\u001b[0m\u001b[0m\n\u001b[0;32m--> 713\u001b[0;31m             \u001b[0msock\u001b[0m\u001b[0;34m.\u001b[0m\u001b[0mconnect\u001b[0m\u001b[0;34m(\u001b[0m\u001b[0msa\u001b[0m\u001b[0;34m)\u001b[0m\u001b[0;34m\u001b[0m\u001b[0;34m\u001b[0m\u001b[0m\n\u001b[0m\u001b[1;32m    714\u001b[0m             \u001b[0;31m# Break explicitly a reference cycle\u001b[0m\u001b[0;34m\u001b[0m\u001b[0;34m\u001b[0m\u001b[0;34m\u001b[0m\u001b[0m\n",
                        "\u001b[0;31mOSError\u001b[0m: [Errno 101] Network is unreachable",
                        "\nDuring handling of the above exception, another exception occurred:\n",
                        "\u001b[0;31mURLError\u001b[0m                                  Traceback (most recent call last)",
                        "\u001b[0;32m/opt/conda/envs/Python36/lib/python3.6/site-packages/geopy/geocoders/base.py\u001b[0m in \u001b[0;36m_call_geocoder\u001b[0;34m(self, url, timeout, raw, requester, deserializer, **kwargs)\u001b[0m\n\u001b[1;32m    343\u001b[0m         \u001b[0;32mtry\u001b[0m\u001b[0;34m:\u001b[0m\u001b[0;34m\u001b[0m\u001b[0;34m\u001b[0m\u001b[0m\n\u001b[0;32m--> 344\u001b[0;31m             \u001b[0mpage\u001b[0m \u001b[0;34m=\u001b[0m \u001b[0mrequester\u001b[0m\u001b[0;34m(\u001b[0m\u001b[0mreq\u001b[0m\u001b[0;34m,\u001b[0m \u001b[0mtimeout\u001b[0m\u001b[0;34m=\u001b[0m\u001b[0mtimeout\u001b[0m\u001b[0;34m,\u001b[0m \u001b[0;34m**\u001b[0m\u001b[0mkwargs\u001b[0m\u001b[0;34m)\u001b[0m\u001b[0;34m\u001b[0m\u001b[0;34m\u001b[0m\u001b[0m\n\u001b[0m\u001b[1;32m    345\u001b[0m         \u001b[0;32mexcept\u001b[0m \u001b[0mException\u001b[0m \u001b[0;32mas\u001b[0m \u001b[0merror\u001b[0m\u001b[0;34m:\u001b[0m\u001b[0;34m\u001b[0m\u001b[0;34m\u001b[0m\u001b[0m\n",
                        "\u001b[0;32m/opt/conda/envs/Python36/lib/python3.6/urllib/request.py\u001b[0m in \u001b[0;36mopen\u001b[0;34m(self, fullurl, data, timeout)\u001b[0m\n\u001b[1;32m    525\u001b[0m \u001b[0;34m\u001b[0m\u001b[0m\n\u001b[0;32m--> 526\u001b[0;31m         \u001b[0mresponse\u001b[0m \u001b[0;34m=\u001b[0m \u001b[0mself\u001b[0m\u001b[0;34m.\u001b[0m\u001b[0m_open\u001b[0m\u001b[0;34m(\u001b[0m\u001b[0mreq\u001b[0m\u001b[0;34m,\u001b[0m \u001b[0mdata\u001b[0m\u001b[0;34m)\u001b[0m\u001b[0;34m\u001b[0m\u001b[0;34m\u001b[0m\u001b[0m\n\u001b[0m\u001b[1;32m    527\u001b[0m \u001b[0;34m\u001b[0m\u001b[0m\n",
                        "\u001b[0;32m/opt/conda/envs/Python36/lib/python3.6/urllib/request.py\u001b[0m in \u001b[0;36m_open\u001b[0;34m(self, req, data)\u001b[0m\n\u001b[1;32m    543\u001b[0m         result = self._call_chain(self.handle_open, protocol, protocol +\n\u001b[0;32m--> 544\u001b[0;31m                                   '_open', req)\n\u001b[0m\u001b[1;32m    545\u001b[0m         \u001b[0;32mif\u001b[0m \u001b[0mresult\u001b[0m\u001b[0;34m:\u001b[0m\u001b[0;34m\u001b[0m\u001b[0;34m\u001b[0m\u001b[0m\n",
                        "\u001b[0;32m/opt/conda/envs/Python36/lib/python3.6/urllib/request.py\u001b[0m in \u001b[0;36m_call_chain\u001b[0;34m(self, chain, kind, meth_name, *args)\u001b[0m\n\u001b[1;32m    503\u001b[0m             \u001b[0mfunc\u001b[0m \u001b[0;34m=\u001b[0m \u001b[0mgetattr\u001b[0m\u001b[0;34m(\u001b[0m\u001b[0mhandler\u001b[0m\u001b[0;34m,\u001b[0m \u001b[0mmeth_name\u001b[0m\u001b[0;34m)\u001b[0m\u001b[0;34m\u001b[0m\u001b[0;34m\u001b[0m\u001b[0m\n\u001b[0;32m--> 504\u001b[0;31m             \u001b[0mresult\u001b[0m \u001b[0;34m=\u001b[0m \u001b[0mfunc\u001b[0m\u001b[0;34m(\u001b[0m\u001b[0;34m*\u001b[0m\u001b[0margs\u001b[0m\u001b[0;34m)\u001b[0m\u001b[0;34m\u001b[0m\u001b[0;34m\u001b[0m\u001b[0m\n\u001b[0m\u001b[1;32m    505\u001b[0m             \u001b[0;32mif\u001b[0m \u001b[0mresult\u001b[0m \u001b[0;32mis\u001b[0m \u001b[0;32mnot\u001b[0m \u001b[0;32mNone\u001b[0m\u001b[0;34m:\u001b[0m\u001b[0;34m\u001b[0m\u001b[0;34m\u001b[0m\u001b[0m\n",
                        "\u001b[0;32m/opt/conda/envs/Python36/lib/python3.6/urllib/request.py\u001b[0m in \u001b[0;36mhttps_open\u001b[0;34m(self, req)\u001b[0m\n\u001b[1;32m   1360\u001b[0m             return self.do_open(http.client.HTTPSConnection, req,\n\u001b[0;32m-> 1361\u001b[0;31m                 context=self._context, check_hostname=self._check_hostname)\n\u001b[0m\u001b[1;32m   1362\u001b[0m \u001b[0;34m\u001b[0m\u001b[0m\n",
                        "\u001b[0;32m/opt/conda/envs/Python36/lib/python3.6/urllib/request.py\u001b[0m in \u001b[0;36mdo_open\u001b[0;34m(self, http_class, req, **http_conn_args)\u001b[0m\n\u001b[1;32m   1319\u001b[0m             \u001b[0;32mexcept\u001b[0m \u001b[0mOSError\u001b[0m \u001b[0;32mas\u001b[0m \u001b[0merr\u001b[0m\u001b[0;34m:\u001b[0m \u001b[0;31m# timeout error\u001b[0m\u001b[0;34m\u001b[0m\u001b[0;34m\u001b[0m\u001b[0m\n\u001b[0;32m-> 1320\u001b[0;31m                 \u001b[0;32mraise\u001b[0m \u001b[0mURLError\u001b[0m\u001b[0;34m(\u001b[0m\u001b[0merr\u001b[0m\u001b[0;34m)\u001b[0m\u001b[0;34m\u001b[0m\u001b[0;34m\u001b[0m\u001b[0m\n\u001b[0m\u001b[1;32m   1321\u001b[0m             \u001b[0mr\u001b[0m \u001b[0;34m=\u001b[0m \u001b[0mh\u001b[0m\u001b[0;34m.\u001b[0m\u001b[0mgetresponse\u001b[0m\u001b[0;34m(\u001b[0m\u001b[0;34m)\u001b[0m\u001b[0;34m\u001b[0m\u001b[0;34m\u001b[0m\u001b[0m\n",
                        "\u001b[0;31mURLError\u001b[0m: <urlopen error [Errno 101] Network is unreachable>",
                        "\nDuring handling of the above exception, another exception occurred:\n",
                        "\u001b[0;31mGeocoderUnavailable\u001b[0m                       Traceback (most recent call last)",
                        "\u001b[0;32m<ipython-input-42-422c89b113a2>\u001b[0m in \u001b[0;36m<module>\u001b[0;34m\u001b[0m\n\u001b[1;32m      9\u001b[0m \u001b[0;34m\u001b[0m\u001b[0m\n\u001b[1;32m     10\u001b[0m \u001b[0;32mfor\u001b[0m \u001b[0mx\u001b[0m \u001b[0;32min\u001b[0m \u001b[0mrange\u001b[0m\u001b[0;34m(\u001b[0m\u001b[0;36m78\u001b[0m\u001b[0;34m)\u001b[0m\u001b[0;34m:\u001b[0m\u001b[0;34m\u001b[0m\u001b[0;34m\u001b[0m\u001b[0m\n\u001b[0;32m---> 11\u001b[0;31m     \u001b[0mgetLanlong\u001b[0m\u001b[0;34m(\u001b[0m\u001b[0mx\u001b[0m\u001b[0;34m)\u001b[0m\u001b[0;34m\u001b[0m\u001b[0;34m\u001b[0m\u001b[0m\n\u001b[0m\u001b[1;32m     12\u001b[0m \u001b[0;34m\u001b[0m\u001b[0m\n\u001b[1;32m     13\u001b[0m \u001b[0;34m\u001b[0m\u001b[0m\n",
                        "\u001b[0;32m<ipython-input-42-422c89b113a2>\u001b[0m in \u001b[0;36mgetLanlong\u001b[0;34m(i)\u001b[0m\n\u001b[1;32m      3\u001b[0m     \u001b[0maddress\u001b[0m \u001b[0;34m=\u001b[0m \u001b[0msubzone\u001b[0m\u001b[0;34m\u001b[0m\u001b[0;34m\u001b[0m\u001b[0m\n\u001b[1;32m      4\u001b[0m     \u001b[0mgeolocator\u001b[0m \u001b[0;34m=\u001b[0m \u001b[0mNominatim\u001b[0m\u001b[0;34m(\u001b[0m\u001b[0muser_agent\u001b[0m\u001b[0;34m=\u001b[0m\u001b[0;34m\"sg_explorer\"\u001b[0m\u001b[0;34m)\u001b[0m\u001b[0;34m\u001b[0m\u001b[0;34m\u001b[0m\u001b[0m\n\u001b[0;32m----> 5\u001b[0;31m     \u001b[0mlocation\u001b[0m \u001b[0;34m=\u001b[0m \u001b[0mgeolocator\u001b[0m\u001b[0;34m.\u001b[0m\u001b[0mgeocode\u001b[0m\u001b[0;34m(\u001b[0m\u001b[0maddress\u001b[0m\u001b[0;34m)\u001b[0m\u001b[0;34m\u001b[0m\u001b[0;34m\u001b[0m\u001b[0m\n\u001b[0m\u001b[1;32m      6\u001b[0m     \u001b[0mlatitude\u001b[0m \u001b[0;34m=\u001b[0m \u001b[0mlocation\u001b[0m\u001b[0;34m.\u001b[0m\u001b[0mlatitude\u001b[0m\u001b[0;34m\u001b[0m\u001b[0;34m\u001b[0m\u001b[0m\n\u001b[1;32m      7\u001b[0m     \u001b[0mlongitude\u001b[0m \u001b[0;34m=\u001b[0m \u001b[0mlocation\u001b[0m\u001b[0;34m.\u001b[0m\u001b[0mlongitude\u001b[0m\u001b[0;34m\u001b[0m\u001b[0;34m\u001b[0m\u001b[0m\n",
                        "\u001b[0;32m/opt/conda/envs/Python36/lib/python3.6/site-packages/geopy/geocoders/osm.py\u001b[0m in \u001b[0;36mgeocode\u001b[0;34m(self, query, exactly_one, timeout, limit, addressdetails, language, geometry, extratags)\u001b[0m\n\u001b[1;32m    307\u001b[0m \u001b[0;34m\u001b[0m\u001b[0m\n\u001b[1;32m    308\u001b[0m         return self._parse_json(\n\u001b[0;32m--> 309\u001b[0;31m             \u001b[0mself\u001b[0m\u001b[0;34m.\u001b[0m\u001b[0m_call_geocoder\u001b[0m\u001b[0;34m(\u001b[0m\u001b[0murl\u001b[0m\u001b[0;34m,\u001b[0m \u001b[0mtimeout\u001b[0m\u001b[0;34m=\u001b[0m\u001b[0mtimeout\u001b[0m\u001b[0;34m)\u001b[0m\u001b[0;34m,\u001b[0m \u001b[0mexactly_one\u001b[0m\u001b[0;34m\u001b[0m\u001b[0;34m\u001b[0m\u001b[0m\n\u001b[0m\u001b[1;32m    310\u001b[0m         )\n\u001b[1;32m    311\u001b[0m \u001b[0;34m\u001b[0m\u001b[0m\n",
                        "\u001b[0;32m/opt/conda/envs/Python36/lib/python3.6/site-packages/geopy/geocoders/base.py\u001b[0m in \u001b[0;36m_call_geocoder\u001b[0;34m(self, url, timeout, raw, requester, deserializer, **kwargs)\u001b[0m\n\u001b[1;32m    367\u001b[0m                     \u001b[0;32mraise\u001b[0m \u001b[0mGeocoderTimedOut\u001b[0m\u001b[0;34m(\u001b[0m\u001b[0;34m'Service timed out'\u001b[0m\u001b[0;34m)\u001b[0m\u001b[0;34m\u001b[0m\u001b[0;34m\u001b[0m\u001b[0m\n\u001b[1;32m    368\u001b[0m                 \u001b[0;32melif\u001b[0m \u001b[0;34m\"unreachable\"\u001b[0m \u001b[0;32min\u001b[0m \u001b[0mmessage\u001b[0m\u001b[0;34m:\u001b[0m\u001b[0;34m\u001b[0m\u001b[0;34m\u001b[0m\u001b[0m\n\u001b[0;32m--> 369\u001b[0;31m                     \u001b[0;32mraise\u001b[0m \u001b[0mGeocoderUnavailable\u001b[0m\u001b[0;34m(\u001b[0m\u001b[0;34m'Service not available'\u001b[0m\u001b[0;34m)\u001b[0m\u001b[0;34m\u001b[0m\u001b[0;34m\u001b[0m\u001b[0m\n\u001b[0m\u001b[1;32m    370\u001b[0m             \u001b[0;32melif\u001b[0m \u001b[0misinstance\u001b[0m\u001b[0;34m(\u001b[0m\u001b[0merror\u001b[0m\u001b[0;34m,\u001b[0m \u001b[0mSocketTimeout\u001b[0m\u001b[0;34m)\u001b[0m\u001b[0;34m:\u001b[0m\u001b[0;34m\u001b[0m\u001b[0;34m\u001b[0m\u001b[0m\n\u001b[1;32m    371\u001b[0m                 \u001b[0;32mraise\u001b[0m \u001b[0mGeocoderTimedOut\u001b[0m\u001b[0;34m(\u001b[0m\u001b[0;34m'Service timed out'\u001b[0m\u001b[0;34m)\u001b[0m\u001b[0;34m\u001b[0m\u001b[0;34m\u001b[0m\u001b[0m\n",
                        "\u001b[0;31mGeocoderUnavailable\u001b[0m: Service not available"
                    ]
                }
            ],
            "source": "def getLanlong(i):\n    subzone = Sgsz_df.loc[i, 'Subzone']\n    address = subzone\n    geolocator = Nominatim(user_agent=\"sg_explorer\")\n    location = geolocator.geocode(address)\n    latitude = location.latitude\n    longitude = location.longitude\n    print(' {}. {}. {}.'.format(i, latitude, longitude))\n    \nfor x in range(78):\n    getLanlong(x)\n    \n    "
        },
        {
            "cell_type": "code",
            "execution_count": 43,
            "metadata": {
                "scrolled": true
            },
            "outputs": [
                {
                    "name": "stdout",
                    "output_type": "stream",
                    "text": " 40. 1.3800554. 103.7726443.\n 41. 1.3651581. 103.7740781.\n 42. 1.3845503. 103.7708003.\n 43. 1.3807653. 103.7634292.\n 44. 47.4161423. 9.291761295120672.\n 45. 1.3824196. 103.766833.\n 46. 1.3826836. 103.7623963.\n 47. 1.34640455. 103.7122848123319.\n 48. 1.3369879. 103.7128045.\n 49. 1.3553973. 103.7214297.\n 50. 1.3396365. 103.7073387.\n 51. 1.3285109. 103.6947962748651.\n 52. 1.3304504. 103.6834422.\n 53. 1.33488355. 103.72078867428404.\n"
                },
                {
                    "ename": "AttributeError",
                    "evalue": "'NoneType' object has no attribute 'latitude'",
                    "output_type": "error",
                    "traceback": [
                        "\u001b[0;31m---------------------------------------------------------------------------\u001b[0m",
                        "\u001b[0;31mAttributeError\u001b[0m                            Traceback (most recent call last)",
                        "\u001b[0;32m<ipython-input-43-56e783eb5b1f>\u001b[0m in \u001b[0;36m<module>\u001b[0;34m\u001b[0m\n\u001b[1;32m      1\u001b[0m \u001b[0;32mfor\u001b[0m \u001b[0mx\u001b[0m \u001b[0;32min\u001b[0m \u001b[0mrange\u001b[0m\u001b[0;34m(\u001b[0m\u001b[0;36m40\u001b[0m\u001b[0;34m,\u001b[0m\u001b[0;36m78\u001b[0m\u001b[0;34m)\u001b[0m\u001b[0;34m:\u001b[0m\u001b[0;34m\u001b[0m\u001b[0;34m\u001b[0m\u001b[0m\n\u001b[0;32m----> 2\u001b[0;31m     \u001b[0mgetLanlong\u001b[0m\u001b[0;34m(\u001b[0m\u001b[0mx\u001b[0m\u001b[0;34m)\u001b[0m\u001b[0;34m\u001b[0m\u001b[0;34m\u001b[0m\u001b[0m\n\u001b[0m\u001b[1;32m      3\u001b[0m \u001b[0;34m\u001b[0m\u001b[0m\n",
                        "\u001b[0;32m<ipython-input-42-422c89b113a2>\u001b[0m in \u001b[0;36mgetLanlong\u001b[0;34m(i)\u001b[0m\n\u001b[1;32m      4\u001b[0m     \u001b[0mgeolocator\u001b[0m \u001b[0;34m=\u001b[0m \u001b[0mNominatim\u001b[0m\u001b[0;34m(\u001b[0m\u001b[0muser_agent\u001b[0m\u001b[0;34m=\u001b[0m\u001b[0;34m\"sg_explorer\"\u001b[0m\u001b[0;34m)\u001b[0m\u001b[0;34m\u001b[0m\u001b[0;34m\u001b[0m\u001b[0m\n\u001b[1;32m      5\u001b[0m     \u001b[0mlocation\u001b[0m \u001b[0;34m=\u001b[0m \u001b[0mgeolocator\u001b[0m\u001b[0;34m.\u001b[0m\u001b[0mgeocode\u001b[0m\u001b[0;34m(\u001b[0m\u001b[0maddress\u001b[0m\u001b[0;34m)\u001b[0m\u001b[0;34m\u001b[0m\u001b[0;34m\u001b[0m\u001b[0m\n\u001b[0;32m----> 6\u001b[0;31m     \u001b[0mlatitude\u001b[0m \u001b[0;34m=\u001b[0m \u001b[0mlocation\u001b[0m\u001b[0;34m.\u001b[0m\u001b[0mlatitude\u001b[0m\u001b[0;34m\u001b[0m\u001b[0;34m\u001b[0m\u001b[0m\n\u001b[0m\u001b[1;32m      7\u001b[0m     \u001b[0mlongitude\u001b[0m \u001b[0;34m=\u001b[0m \u001b[0mlocation\u001b[0m\u001b[0;34m.\u001b[0m\u001b[0mlongitude\u001b[0m\u001b[0;34m\u001b[0m\u001b[0;34m\u001b[0m\u001b[0m\n\u001b[1;32m      8\u001b[0m     \u001b[0mprint\u001b[0m\u001b[0;34m(\u001b[0m\u001b[0;34m' {}. {}. {}.'\u001b[0m\u001b[0;34m.\u001b[0m\u001b[0mformat\u001b[0m\u001b[0;34m(\u001b[0m\u001b[0mi\u001b[0m\u001b[0;34m,\u001b[0m \u001b[0mlatitude\u001b[0m\u001b[0;34m,\u001b[0m \u001b[0mlongitude\u001b[0m\u001b[0;34m)\u001b[0m\u001b[0;34m)\u001b[0m\u001b[0;34m\u001b[0m\u001b[0;34m\u001b[0m\u001b[0m\n",
                        "\u001b[0;31mAttributeError\u001b[0m: 'NoneType' object has no attribute 'latitude'"
                    ]
                }
            ],
            "source": "for x in range(40,78):\n    getLanlong(x)\n    "
        },
        {
            "cell_type": "markdown",
            "metadata": {},
            "source": "39. ...\n\n44. ...\n\n54. 1.3527, 103.7026\n\n75. 1.393969, 103.734496"
        },
        {
            "cell_type": "code",
            "execution_count": 44,
            "metadata": {
                "scrolled": true
            },
            "outputs": [
                {
                    "name": "stdout",
                    "output_type": "stream",
                    "text": " 55. 1.33828435. 103.69108941866651.\n 56. 1.3935589. 103.88510756452612.\n 57. 1.394518. 103.9004349.\n 58. 1.3904635. 103.8770826.\n 59. 1.3835814499999999. 103.90428028946238.\n 60. 1.3796737. 103.9037271.\n 61. 1.3909487. 103.8951748.\n 62. 1.3991059. 103.8725982.\n 63. 1.3555198499999999. 103.93278040127177.\n 64. 1.359286. 103.83403591176392.\n 65. 5.1056295. -1.2411473.\n 66. 1.4602965. 103.8052452.\n 67. 1.42913595. 103.78125034810185.\n 68. 1.436897. 103.786216.\n 69. 1.436897. 103.786216.\n 70. 1.4271409. 103.79429763815054.\n 71. 1.436897. 103.786216.\n 72. 1.3823894. 103.7446238.\n"
                },
                {
                    "ename": "GeocoderTimedOut",
                    "evalue": "Service timed out",
                    "output_type": "error",
                    "traceback": [
                        "\u001b[0;31m---------------------------------------------------------------------------\u001b[0m",
                        "\u001b[0;31mtimeout\u001b[0m                                   Traceback (most recent call last)",
                        "\u001b[0;32m/opt/conda/envs/Python36/lib/python3.6/urllib/request.py\u001b[0m in \u001b[0;36mdo_open\u001b[0;34m(self, http_class, req, **http_conn_args)\u001b[0m\n\u001b[1;32m   1317\u001b[0m                 h.request(req.get_method(), req.selector, req.data, headers,\n\u001b[0;32m-> 1318\u001b[0;31m                           encode_chunked=req.has_header('Transfer-encoding'))\n\u001b[0m\u001b[1;32m   1319\u001b[0m             \u001b[0;32mexcept\u001b[0m \u001b[0mOSError\u001b[0m \u001b[0;32mas\u001b[0m \u001b[0merr\u001b[0m\u001b[0;34m:\u001b[0m \u001b[0;31m# timeout error\u001b[0m\u001b[0;34m\u001b[0m\u001b[0;34m\u001b[0m\u001b[0m\n",
                        "\u001b[0;32m/opt/conda/envs/Python36/lib/python3.6/http/client.py\u001b[0m in \u001b[0;36mrequest\u001b[0;34m(self, method, url, body, headers, encode_chunked)\u001b[0m\n\u001b[1;32m   1253\u001b[0m         \u001b[0;34m\"\"\"Send a complete request to the server.\"\"\"\u001b[0m\u001b[0;34m\u001b[0m\u001b[0;34m\u001b[0m\u001b[0m\n\u001b[0;32m-> 1254\u001b[0;31m         \u001b[0mself\u001b[0m\u001b[0;34m.\u001b[0m\u001b[0m_send_request\u001b[0m\u001b[0;34m(\u001b[0m\u001b[0mmethod\u001b[0m\u001b[0;34m,\u001b[0m \u001b[0murl\u001b[0m\u001b[0;34m,\u001b[0m \u001b[0mbody\u001b[0m\u001b[0;34m,\u001b[0m \u001b[0mheaders\u001b[0m\u001b[0;34m,\u001b[0m \u001b[0mencode_chunked\u001b[0m\u001b[0;34m)\u001b[0m\u001b[0;34m\u001b[0m\u001b[0;34m\u001b[0m\u001b[0m\n\u001b[0m\u001b[1;32m   1255\u001b[0m \u001b[0;34m\u001b[0m\u001b[0m\n",
                        "\u001b[0;32m/opt/conda/envs/Python36/lib/python3.6/http/client.py\u001b[0m in \u001b[0;36m_send_request\u001b[0;34m(self, method, url, body, headers, encode_chunked)\u001b[0m\n\u001b[1;32m   1299\u001b[0m             \u001b[0mbody\u001b[0m \u001b[0;34m=\u001b[0m \u001b[0m_encode\u001b[0m\u001b[0;34m(\u001b[0m\u001b[0mbody\u001b[0m\u001b[0;34m,\u001b[0m \u001b[0;34m'body'\u001b[0m\u001b[0;34m)\u001b[0m\u001b[0;34m\u001b[0m\u001b[0;34m\u001b[0m\u001b[0m\n\u001b[0;32m-> 1300\u001b[0;31m         \u001b[0mself\u001b[0m\u001b[0;34m.\u001b[0m\u001b[0mendheaders\u001b[0m\u001b[0;34m(\u001b[0m\u001b[0mbody\u001b[0m\u001b[0;34m,\u001b[0m \u001b[0mencode_chunked\u001b[0m\u001b[0;34m=\u001b[0m\u001b[0mencode_chunked\u001b[0m\u001b[0;34m)\u001b[0m\u001b[0;34m\u001b[0m\u001b[0;34m\u001b[0m\u001b[0m\n\u001b[0m\u001b[1;32m   1301\u001b[0m \u001b[0;34m\u001b[0m\u001b[0m\n",
                        "\u001b[0;32m/opt/conda/envs/Python36/lib/python3.6/http/client.py\u001b[0m in \u001b[0;36mendheaders\u001b[0;34m(self, message_body, encode_chunked)\u001b[0m\n\u001b[1;32m   1248\u001b[0m             \u001b[0;32mraise\u001b[0m \u001b[0mCannotSendHeader\u001b[0m\u001b[0;34m(\u001b[0m\u001b[0;34m)\u001b[0m\u001b[0;34m\u001b[0m\u001b[0;34m\u001b[0m\u001b[0m\n\u001b[0;32m-> 1249\u001b[0;31m         \u001b[0mself\u001b[0m\u001b[0;34m.\u001b[0m\u001b[0m_send_output\u001b[0m\u001b[0;34m(\u001b[0m\u001b[0mmessage_body\u001b[0m\u001b[0;34m,\u001b[0m \u001b[0mencode_chunked\u001b[0m\u001b[0;34m=\u001b[0m\u001b[0mencode_chunked\u001b[0m\u001b[0;34m)\u001b[0m\u001b[0;34m\u001b[0m\u001b[0;34m\u001b[0m\u001b[0m\n\u001b[0m\u001b[1;32m   1250\u001b[0m \u001b[0;34m\u001b[0m\u001b[0m\n",
                        "\u001b[0;32m/opt/conda/envs/Python36/lib/python3.6/http/client.py\u001b[0m in \u001b[0;36m_send_output\u001b[0;34m(self, message_body, encode_chunked)\u001b[0m\n\u001b[1;32m   1035\u001b[0m         \u001b[0;32mdel\u001b[0m \u001b[0mself\u001b[0m\u001b[0;34m.\u001b[0m\u001b[0m_buffer\u001b[0m\u001b[0;34m[\u001b[0m\u001b[0;34m:\u001b[0m\u001b[0;34m]\u001b[0m\u001b[0;34m\u001b[0m\u001b[0;34m\u001b[0m\u001b[0m\n\u001b[0;32m-> 1036\u001b[0;31m         \u001b[0mself\u001b[0m\u001b[0;34m.\u001b[0m\u001b[0msend\u001b[0m\u001b[0;34m(\u001b[0m\u001b[0mmsg\u001b[0m\u001b[0;34m)\u001b[0m\u001b[0;34m\u001b[0m\u001b[0;34m\u001b[0m\u001b[0m\n\u001b[0m\u001b[1;32m   1037\u001b[0m \u001b[0;34m\u001b[0m\u001b[0m\n",
                        "\u001b[0;32m/opt/conda/envs/Python36/lib/python3.6/http/client.py\u001b[0m in \u001b[0;36msend\u001b[0;34m(self, data)\u001b[0m\n\u001b[1;32m    973\u001b[0m             \u001b[0;32mif\u001b[0m \u001b[0mself\u001b[0m\u001b[0;34m.\u001b[0m\u001b[0mauto_open\u001b[0m\u001b[0;34m:\u001b[0m\u001b[0;34m\u001b[0m\u001b[0;34m\u001b[0m\u001b[0m\n\u001b[0;32m--> 974\u001b[0;31m                 \u001b[0mself\u001b[0m\u001b[0;34m.\u001b[0m\u001b[0mconnect\u001b[0m\u001b[0;34m(\u001b[0m\u001b[0;34m)\u001b[0m\u001b[0;34m\u001b[0m\u001b[0;34m\u001b[0m\u001b[0m\n\u001b[0m\u001b[1;32m    975\u001b[0m             \u001b[0;32melse\u001b[0m\u001b[0;34m:\u001b[0m\u001b[0;34m\u001b[0m\u001b[0;34m\u001b[0m\u001b[0m\n",
                        "\u001b[0;32m/opt/conda/envs/Python36/lib/python3.6/http/client.py\u001b[0m in \u001b[0;36mconnect\u001b[0;34m(self)\u001b[0m\n\u001b[1;32m   1414\u001b[0m             self.sock = self._context.wrap_socket(self.sock,\n\u001b[0;32m-> 1415\u001b[0;31m                                                   server_hostname=server_hostname)\n\u001b[0m\u001b[1;32m   1416\u001b[0m             \u001b[0;32mif\u001b[0m \u001b[0;32mnot\u001b[0m \u001b[0mself\u001b[0m\u001b[0;34m.\u001b[0m\u001b[0m_context\u001b[0m\u001b[0;34m.\u001b[0m\u001b[0mcheck_hostname\u001b[0m \u001b[0;32mand\u001b[0m \u001b[0mself\u001b[0m\u001b[0;34m.\u001b[0m\u001b[0m_check_hostname\u001b[0m\u001b[0;34m:\u001b[0m\u001b[0;34m\u001b[0m\u001b[0;34m\u001b[0m\u001b[0m\n",
                        "\u001b[0;32m/opt/conda/envs/Python36/lib/python3.6/ssl.py\u001b[0m in \u001b[0;36mwrap_socket\u001b[0;34m(self, sock, server_side, do_handshake_on_connect, suppress_ragged_eofs, server_hostname, session)\u001b[0m\n\u001b[1;32m    406\u001b[0m                          \u001b[0mserver_hostname\u001b[0m\u001b[0;34m=\u001b[0m\u001b[0mserver_hostname\u001b[0m\u001b[0;34m,\u001b[0m\u001b[0;34m\u001b[0m\u001b[0;34m\u001b[0m\u001b[0m\n\u001b[0;32m--> 407\u001b[0;31m                          _context=self, _session=session)\n\u001b[0m\u001b[1;32m    408\u001b[0m \u001b[0;34m\u001b[0m\u001b[0m\n",
                        "\u001b[0;32m/opt/conda/envs/Python36/lib/python3.6/ssl.py\u001b[0m in \u001b[0;36m__init__\u001b[0;34m(self, sock, keyfile, certfile, server_side, cert_reqs, ssl_version, ca_certs, do_handshake_on_connect, family, type, proto, fileno, suppress_ragged_eofs, npn_protocols, ciphers, server_hostname, _context, _session)\u001b[0m\n\u001b[1;32m    816\u001b[0m                         \u001b[0;32mraise\u001b[0m \u001b[0mValueError\u001b[0m\u001b[0;34m(\u001b[0m\u001b[0;34m\"do_handshake_on_connect should not be specified for non-blocking sockets\"\u001b[0m\u001b[0;34m)\u001b[0m\u001b[0;34m\u001b[0m\u001b[0;34m\u001b[0m\u001b[0m\n\u001b[0;32m--> 817\u001b[0;31m                     \u001b[0mself\u001b[0m\u001b[0;34m.\u001b[0m\u001b[0mdo_handshake\u001b[0m\u001b[0;34m(\u001b[0m\u001b[0;34m)\u001b[0m\u001b[0;34m\u001b[0m\u001b[0;34m\u001b[0m\u001b[0m\n\u001b[0m\u001b[1;32m    818\u001b[0m \u001b[0;34m\u001b[0m\u001b[0m\n",
                        "\u001b[0;32m/opt/conda/envs/Python36/lib/python3.6/ssl.py\u001b[0m in \u001b[0;36mdo_handshake\u001b[0;34m(self, block)\u001b[0m\n\u001b[1;32m   1076\u001b[0m                 \u001b[0mself\u001b[0m\u001b[0;34m.\u001b[0m\u001b[0msettimeout\u001b[0m\u001b[0;34m(\u001b[0m\u001b[0;32mNone\u001b[0m\u001b[0;34m)\u001b[0m\u001b[0;34m\u001b[0m\u001b[0;34m\u001b[0m\u001b[0m\n\u001b[0;32m-> 1077\u001b[0;31m             \u001b[0mself\u001b[0m\u001b[0;34m.\u001b[0m\u001b[0m_sslobj\u001b[0m\u001b[0;34m.\u001b[0m\u001b[0mdo_handshake\u001b[0m\u001b[0;34m(\u001b[0m\u001b[0;34m)\u001b[0m\u001b[0;34m\u001b[0m\u001b[0;34m\u001b[0m\u001b[0m\n\u001b[0m\u001b[1;32m   1078\u001b[0m         \u001b[0;32mfinally\u001b[0m\u001b[0;34m:\u001b[0m\u001b[0;34m\u001b[0m\u001b[0;34m\u001b[0m\u001b[0m\n",
                        "\u001b[0;32m/opt/conda/envs/Python36/lib/python3.6/ssl.py\u001b[0m in \u001b[0;36mdo_handshake\u001b[0;34m(self)\u001b[0m\n\u001b[1;32m    688\u001b[0m         \u001b[0;34m\"\"\"Start the SSL/TLS handshake.\"\"\"\u001b[0m\u001b[0;34m\u001b[0m\u001b[0;34m\u001b[0m\u001b[0m\n\u001b[0;32m--> 689\u001b[0;31m         \u001b[0mself\u001b[0m\u001b[0;34m.\u001b[0m\u001b[0m_sslobj\u001b[0m\u001b[0;34m.\u001b[0m\u001b[0mdo_handshake\u001b[0m\u001b[0;34m(\u001b[0m\u001b[0;34m)\u001b[0m\u001b[0;34m\u001b[0m\u001b[0;34m\u001b[0m\u001b[0m\n\u001b[0m\u001b[1;32m    690\u001b[0m         \u001b[0;32mif\u001b[0m \u001b[0mself\u001b[0m\u001b[0;34m.\u001b[0m\u001b[0mcontext\u001b[0m\u001b[0;34m.\u001b[0m\u001b[0mcheck_hostname\u001b[0m\u001b[0;34m:\u001b[0m\u001b[0;34m\u001b[0m\u001b[0;34m\u001b[0m\u001b[0m\n",
                        "\u001b[0;31mtimeout\u001b[0m: _ssl.c:835: The handshake operation timed out",
                        "\nDuring handling of the above exception, another exception occurred:\n",
                        "\u001b[0;31mURLError\u001b[0m                                  Traceback (most recent call last)",
                        "\u001b[0;32m/opt/conda/envs/Python36/lib/python3.6/site-packages/geopy/geocoders/base.py\u001b[0m in \u001b[0;36m_call_geocoder\u001b[0;34m(self, url, timeout, raw, requester, deserializer, **kwargs)\u001b[0m\n\u001b[1;32m    343\u001b[0m         \u001b[0;32mtry\u001b[0m\u001b[0;34m:\u001b[0m\u001b[0;34m\u001b[0m\u001b[0;34m\u001b[0m\u001b[0m\n\u001b[0;32m--> 344\u001b[0;31m             \u001b[0mpage\u001b[0m \u001b[0;34m=\u001b[0m \u001b[0mrequester\u001b[0m\u001b[0;34m(\u001b[0m\u001b[0mreq\u001b[0m\u001b[0;34m,\u001b[0m \u001b[0mtimeout\u001b[0m\u001b[0;34m=\u001b[0m\u001b[0mtimeout\u001b[0m\u001b[0;34m,\u001b[0m \u001b[0;34m**\u001b[0m\u001b[0mkwargs\u001b[0m\u001b[0;34m)\u001b[0m\u001b[0;34m\u001b[0m\u001b[0;34m\u001b[0m\u001b[0m\n\u001b[0m\u001b[1;32m    345\u001b[0m         \u001b[0;32mexcept\u001b[0m \u001b[0mException\u001b[0m \u001b[0;32mas\u001b[0m \u001b[0merror\u001b[0m\u001b[0;34m:\u001b[0m\u001b[0;34m\u001b[0m\u001b[0;34m\u001b[0m\u001b[0m\n",
                        "\u001b[0;32m/opt/conda/envs/Python36/lib/python3.6/urllib/request.py\u001b[0m in \u001b[0;36mopen\u001b[0;34m(self, fullurl, data, timeout)\u001b[0m\n\u001b[1;32m    525\u001b[0m \u001b[0;34m\u001b[0m\u001b[0m\n\u001b[0;32m--> 526\u001b[0;31m         \u001b[0mresponse\u001b[0m \u001b[0;34m=\u001b[0m \u001b[0mself\u001b[0m\u001b[0;34m.\u001b[0m\u001b[0m_open\u001b[0m\u001b[0;34m(\u001b[0m\u001b[0mreq\u001b[0m\u001b[0;34m,\u001b[0m \u001b[0mdata\u001b[0m\u001b[0;34m)\u001b[0m\u001b[0;34m\u001b[0m\u001b[0;34m\u001b[0m\u001b[0m\n\u001b[0m\u001b[1;32m    527\u001b[0m \u001b[0;34m\u001b[0m\u001b[0m\n",
                        "\u001b[0;32m/opt/conda/envs/Python36/lib/python3.6/urllib/request.py\u001b[0m in \u001b[0;36m_open\u001b[0;34m(self, req, data)\u001b[0m\n\u001b[1;32m    543\u001b[0m         result = self._call_chain(self.handle_open, protocol, protocol +\n\u001b[0;32m--> 544\u001b[0;31m                                   '_open', req)\n\u001b[0m\u001b[1;32m    545\u001b[0m         \u001b[0;32mif\u001b[0m \u001b[0mresult\u001b[0m\u001b[0;34m:\u001b[0m\u001b[0;34m\u001b[0m\u001b[0;34m\u001b[0m\u001b[0m\n",
                        "\u001b[0;32m/opt/conda/envs/Python36/lib/python3.6/urllib/request.py\u001b[0m in \u001b[0;36m_call_chain\u001b[0;34m(self, chain, kind, meth_name, *args)\u001b[0m\n\u001b[1;32m    503\u001b[0m             \u001b[0mfunc\u001b[0m \u001b[0;34m=\u001b[0m \u001b[0mgetattr\u001b[0m\u001b[0;34m(\u001b[0m\u001b[0mhandler\u001b[0m\u001b[0;34m,\u001b[0m \u001b[0mmeth_name\u001b[0m\u001b[0;34m)\u001b[0m\u001b[0;34m\u001b[0m\u001b[0;34m\u001b[0m\u001b[0m\n\u001b[0;32m--> 504\u001b[0;31m             \u001b[0mresult\u001b[0m \u001b[0;34m=\u001b[0m \u001b[0mfunc\u001b[0m\u001b[0;34m(\u001b[0m\u001b[0;34m*\u001b[0m\u001b[0margs\u001b[0m\u001b[0;34m)\u001b[0m\u001b[0;34m\u001b[0m\u001b[0;34m\u001b[0m\u001b[0m\n\u001b[0m\u001b[1;32m    505\u001b[0m             \u001b[0;32mif\u001b[0m \u001b[0mresult\u001b[0m \u001b[0;32mis\u001b[0m \u001b[0;32mnot\u001b[0m \u001b[0;32mNone\u001b[0m\u001b[0;34m:\u001b[0m\u001b[0;34m\u001b[0m\u001b[0;34m\u001b[0m\u001b[0m\n",
                        "\u001b[0;32m/opt/conda/envs/Python36/lib/python3.6/urllib/request.py\u001b[0m in \u001b[0;36mhttps_open\u001b[0;34m(self, req)\u001b[0m\n\u001b[1;32m   1360\u001b[0m             return self.do_open(http.client.HTTPSConnection, req,\n\u001b[0;32m-> 1361\u001b[0;31m                 context=self._context, check_hostname=self._check_hostname)\n\u001b[0m\u001b[1;32m   1362\u001b[0m \u001b[0;34m\u001b[0m\u001b[0m\n",
                        "\u001b[0;32m/opt/conda/envs/Python36/lib/python3.6/urllib/request.py\u001b[0m in \u001b[0;36mdo_open\u001b[0;34m(self, http_class, req, **http_conn_args)\u001b[0m\n\u001b[1;32m   1319\u001b[0m             \u001b[0;32mexcept\u001b[0m \u001b[0mOSError\u001b[0m \u001b[0;32mas\u001b[0m \u001b[0merr\u001b[0m\u001b[0;34m:\u001b[0m \u001b[0;31m# timeout error\u001b[0m\u001b[0;34m\u001b[0m\u001b[0;34m\u001b[0m\u001b[0m\n\u001b[0;32m-> 1320\u001b[0;31m                 \u001b[0;32mraise\u001b[0m \u001b[0mURLError\u001b[0m\u001b[0;34m(\u001b[0m\u001b[0merr\u001b[0m\u001b[0;34m)\u001b[0m\u001b[0;34m\u001b[0m\u001b[0;34m\u001b[0m\u001b[0m\n\u001b[0m\u001b[1;32m   1321\u001b[0m             \u001b[0mr\u001b[0m \u001b[0;34m=\u001b[0m \u001b[0mh\u001b[0m\u001b[0;34m.\u001b[0m\u001b[0mgetresponse\u001b[0m\u001b[0;34m(\u001b[0m\u001b[0;34m)\u001b[0m\u001b[0;34m\u001b[0m\u001b[0;34m\u001b[0m\u001b[0m\n",
                        "\u001b[0;31mURLError\u001b[0m: <urlopen error _ssl.c:835: The handshake operation timed out>",
                        "\nDuring handling of the above exception, another exception occurred:\n",
                        "\u001b[0;31mGeocoderTimedOut\u001b[0m                          Traceback (most recent call last)",
                        "\u001b[0;32m<ipython-input-44-b8617e569edd>\u001b[0m in \u001b[0;36m<module>\u001b[0;34m\u001b[0m\n\u001b[1;32m      1\u001b[0m \u001b[0;32mfor\u001b[0m \u001b[0mx\u001b[0m \u001b[0;32min\u001b[0m \u001b[0mrange\u001b[0m\u001b[0;34m(\u001b[0m\u001b[0;36m55\u001b[0m\u001b[0;34m,\u001b[0m\u001b[0;36m78\u001b[0m\u001b[0;34m)\u001b[0m\u001b[0;34m:\u001b[0m\u001b[0;34m\u001b[0m\u001b[0;34m\u001b[0m\u001b[0m\n\u001b[0;32m----> 2\u001b[0;31m     \u001b[0mgetLanlong\u001b[0m\u001b[0;34m(\u001b[0m\u001b[0mx\u001b[0m\u001b[0;34m)\u001b[0m\u001b[0;34m\u001b[0m\u001b[0;34m\u001b[0m\u001b[0m\n\u001b[0m",
                        "\u001b[0;32m<ipython-input-42-422c89b113a2>\u001b[0m in \u001b[0;36mgetLanlong\u001b[0;34m(i)\u001b[0m\n\u001b[1;32m      3\u001b[0m     \u001b[0maddress\u001b[0m \u001b[0;34m=\u001b[0m \u001b[0msubzone\u001b[0m\u001b[0;34m\u001b[0m\u001b[0;34m\u001b[0m\u001b[0m\n\u001b[1;32m      4\u001b[0m     \u001b[0mgeolocator\u001b[0m \u001b[0;34m=\u001b[0m \u001b[0mNominatim\u001b[0m\u001b[0;34m(\u001b[0m\u001b[0muser_agent\u001b[0m\u001b[0;34m=\u001b[0m\u001b[0;34m\"sg_explorer\"\u001b[0m\u001b[0;34m)\u001b[0m\u001b[0;34m\u001b[0m\u001b[0;34m\u001b[0m\u001b[0m\n\u001b[0;32m----> 5\u001b[0;31m     \u001b[0mlocation\u001b[0m \u001b[0;34m=\u001b[0m \u001b[0mgeolocator\u001b[0m\u001b[0;34m.\u001b[0m\u001b[0mgeocode\u001b[0m\u001b[0;34m(\u001b[0m\u001b[0maddress\u001b[0m\u001b[0;34m)\u001b[0m\u001b[0;34m\u001b[0m\u001b[0;34m\u001b[0m\u001b[0m\n\u001b[0m\u001b[1;32m      6\u001b[0m     \u001b[0mlatitude\u001b[0m \u001b[0;34m=\u001b[0m \u001b[0mlocation\u001b[0m\u001b[0;34m.\u001b[0m\u001b[0mlatitude\u001b[0m\u001b[0;34m\u001b[0m\u001b[0;34m\u001b[0m\u001b[0m\n\u001b[1;32m      7\u001b[0m     \u001b[0mlongitude\u001b[0m \u001b[0;34m=\u001b[0m \u001b[0mlocation\u001b[0m\u001b[0;34m.\u001b[0m\u001b[0mlongitude\u001b[0m\u001b[0;34m\u001b[0m\u001b[0;34m\u001b[0m\u001b[0m\n",
                        "\u001b[0;32m/opt/conda/envs/Python36/lib/python3.6/site-packages/geopy/geocoders/osm.py\u001b[0m in \u001b[0;36mgeocode\u001b[0;34m(self, query, exactly_one, timeout, limit, addressdetails, language, geometry, extratags)\u001b[0m\n\u001b[1;32m    307\u001b[0m \u001b[0;34m\u001b[0m\u001b[0m\n\u001b[1;32m    308\u001b[0m         return self._parse_json(\n\u001b[0;32m--> 309\u001b[0;31m             \u001b[0mself\u001b[0m\u001b[0;34m.\u001b[0m\u001b[0m_call_geocoder\u001b[0m\u001b[0;34m(\u001b[0m\u001b[0murl\u001b[0m\u001b[0;34m,\u001b[0m \u001b[0mtimeout\u001b[0m\u001b[0;34m=\u001b[0m\u001b[0mtimeout\u001b[0m\u001b[0;34m)\u001b[0m\u001b[0;34m,\u001b[0m \u001b[0mexactly_one\u001b[0m\u001b[0;34m\u001b[0m\u001b[0;34m\u001b[0m\u001b[0m\n\u001b[0m\u001b[1;32m    310\u001b[0m         )\n\u001b[1;32m    311\u001b[0m \u001b[0;34m\u001b[0m\u001b[0m\n",
                        "\u001b[0;32m/opt/conda/envs/Python36/lib/python3.6/site-packages/geopy/geocoders/base.py\u001b[0m in \u001b[0;36m_call_geocoder\u001b[0;34m(self, url, timeout, raw, requester, deserializer, **kwargs)\u001b[0m\n\u001b[1;32m    365\u001b[0m             \u001b[0;32melif\u001b[0m \u001b[0misinstance\u001b[0m\u001b[0;34m(\u001b[0m\u001b[0merror\u001b[0m\u001b[0;34m,\u001b[0m \u001b[0mURLError\u001b[0m\u001b[0;34m)\u001b[0m\u001b[0;34m:\u001b[0m\u001b[0;34m\u001b[0m\u001b[0;34m\u001b[0m\u001b[0m\n\u001b[1;32m    366\u001b[0m                 \u001b[0;32mif\u001b[0m \u001b[0;34m\"timed out\"\u001b[0m \u001b[0;32min\u001b[0m \u001b[0mmessage\u001b[0m\u001b[0;34m:\u001b[0m\u001b[0;34m\u001b[0m\u001b[0;34m\u001b[0m\u001b[0m\n\u001b[0;32m--> 367\u001b[0;31m                     \u001b[0;32mraise\u001b[0m \u001b[0mGeocoderTimedOut\u001b[0m\u001b[0;34m(\u001b[0m\u001b[0;34m'Service timed out'\u001b[0m\u001b[0;34m)\u001b[0m\u001b[0;34m\u001b[0m\u001b[0;34m\u001b[0m\u001b[0m\n\u001b[0m\u001b[1;32m    368\u001b[0m                 \u001b[0;32melif\u001b[0m \u001b[0;34m\"unreachable\"\u001b[0m \u001b[0;32min\u001b[0m \u001b[0mmessage\u001b[0m\u001b[0;34m:\u001b[0m\u001b[0;34m\u001b[0m\u001b[0;34m\u001b[0m\u001b[0m\n\u001b[1;32m    369\u001b[0m                     \u001b[0;32mraise\u001b[0m \u001b[0mGeocoderUnavailable\u001b[0m\u001b[0;34m(\u001b[0m\u001b[0;34m'Service not available'\u001b[0m\u001b[0;34m)\u001b[0m\u001b[0;34m\u001b[0m\u001b[0;34m\u001b[0m\u001b[0m\n",
                        "\u001b[0;31mGeocoderTimedOut\u001b[0m: Service timed out"
                    ]
                }
            ],
            "source": "for x in range(55,78):\n    getLanlong(x)"
        },
        {
            "cell_type": "code",
            "execution_count": 45,
            "metadata": {},
            "outputs": [
                {
                    "name": "stdout",
                    "output_type": "stream",
                    "text": " 72. 1.3823894. 103.7446238.\n 73. 1.3892601. 103.743728.\n 74. 1.3786034. 103.7490207.\n"
                },
                {
                    "ename": "AttributeError",
                    "evalue": "'NoneType' object has no attribute 'latitude'",
                    "output_type": "error",
                    "traceback": [
                        "\u001b[0;31m---------------------------------------------------------------------------\u001b[0m",
                        "\u001b[0;31mAttributeError\u001b[0m                            Traceback (most recent call last)",
                        "\u001b[0;32m<ipython-input-45-4bc424d70d69>\u001b[0m in \u001b[0;36m<module>\u001b[0;34m\u001b[0m\n\u001b[1;32m      1\u001b[0m \u001b[0;32mfor\u001b[0m \u001b[0mx\u001b[0m \u001b[0;32min\u001b[0m \u001b[0mrange\u001b[0m\u001b[0;34m(\u001b[0m\u001b[0;36m72\u001b[0m\u001b[0;34m,\u001b[0m\u001b[0;36m78\u001b[0m\u001b[0;34m)\u001b[0m\u001b[0;34m:\u001b[0m\u001b[0;34m\u001b[0m\u001b[0;34m\u001b[0m\u001b[0m\n\u001b[0;32m----> 2\u001b[0;31m     \u001b[0mgetLanlong\u001b[0m\u001b[0;34m(\u001b[0m\u001b[0mx\u001b[0m\u001b[0;34m)\u001b[0m\u001b[0;34m\u001b[0m\u001b[0;34m\u001b[0m\u001b[0m\n\u001b[0m",
                        "\u001b[0;32m<ipython-input-42-422c89b113a2>\u001b[0m in \u001b[0;36mgetLanlong\u001b[0;34m(i)\u001b[0m\n\u001b[1;32m      4\u001b[0m     \u001b[0mgeolocator\u001b[0m \u001b[0;34m=\u001b[0m \u001b[0mNominatim\u001b[0m\u001b[0;34m(\u001b[0m\u001b[0muser_agent\u001b[0m\u001b[0;34m=\u001b[0m\u001b[0;34m\"sg_explorer\"\u001b[0m\u001b[0;34m)\u001b[0m\u001b[0;34m\u001b[0m\u001b[0;34m\u001b[0m\u001b[0m\n\u001b[1;32m      5\u001b[0m     \u001b[0mlocation\u001b[0m \u001b[0;34m=\u001b[0m \u001b[0mgeolocator\u001b[0m\u001b[0;34m.\u001b[0m\u001b[0mgeocode\u001b[0m\u001b[0;34m(\u001b[0m\u001b[0maddress\u001b[0m\u001b[0;34m)\u001b[0m\u001b[0;34m\u001b[0m\u001b[0;34m\u001b[0m\u001b[0m\n\u001b[0;32m----> 6\u001b[0;31m     \u001b[0mlatitude\u001b[0m \u001b[0;34m=\u001b[0m \u001b[0mlocation\u001b[0m\u001b[0;34m.\u001b[0m\u001b[0mlatitude\u001b[0m\u001b[0;34m\u001b[0m\u001b[0;34m\u001b[0m\u001b[0m\n\u001b[0m\u001b[1;32m      7\u001b[0m     \u001b[0mlongitude\u001b[0m \u001b[0;34m=\u001b[0m \u001b[0mlocation\u001b[0m\u001b[0;34m.\u001b[0m\u001b[0mlongitude\u001b[0m\u001b[0;34m\u001b[0m\u001b[0;34m\u001b[0m\u001b[0m\n\u001b[1;32m      8\u001b[0m     \u001b[0mprint\u001b[0m\u001b[0;34m(\u001b[0m\u001b[0;34m' {}. {}. {}.'\u001b[0m\u001b[0;34m.\u001b[0m\u001b[0mformat\u001b[0m\u001b[0;34m(\u001b[0m\u001b[0mi\u001b[0m\u001b[0;34m,\u001b[0m \u001b[0mlatitude\u001b[0m\u001b[0;34m,\u001b[0m \u001b[0mlongitude\u001b[0m\u001b[0;34m)\u001b[0m\u001b[0;34m)\u001b[0m\u001b[0;34m\u001b[0m\u001b[0;34m\u001b[0m\u001b[0m\n",
                        "\u001b[0;31mAttributeError\u001b[0m: 'NoneType' object has no attribute 'latitude'"
                    ]
                }
            ],
            "source": "for x in range(72,78):\n    getLanlong(x)"
        },
        {
            "cell_type": "code",
            "execution_count": 47,
            "metadata": {},
            "outputs": [
                {
                    "name": "stdout",
                    "output_type": "stream",
                    "text": " 76. 1.3766705. 103.7536471.\n 77. 1.3974608. 103.7474009.\n"
                }
            ],
            "source": "for x in range(76,78):\n    getLanlong(x)"
        },
        {
            "cell_type": "code",
            "execution_count": null,
            "metadata": {},
            "outputs": [],
            "source": ""
        }
    ],
    "metadata": {
        "kernelspec": {
            "display_name": "Python 3.6",
            "language": "python",
            "name": "python3"
        },
        "language_info": {
            "codemirror_mode": {
                "name": "ipython",
                "version": 3
            },
            "file_extension": ".py",
            "mimetype": "text/x-python",
            "name": "python",
            "nbconvert_exporter": "python",
            "pygments_lexer": "ipython3",
            "version": "3.6.9"
        }
    },
    "nbformat": 4,
    "nbformat_minor": 1
}